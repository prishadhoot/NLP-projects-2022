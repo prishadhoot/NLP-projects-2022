{
  "nbformat": 4,
  "nbformat_minor": 0,
  "metadata": {
    "colab": {
      "provenance": []
    },
    "kernelspec": {
      "name": "python3",
      "display_name": "Python 3"
    },
    "language_info": {
      "name": "python"
    }
  },
  "cells": [
    {
      "cell_type": "markdown",
      "source": [
        "#Detecting Plagiarism using ngrams"
      ],
      "metadata": {
        "id": "HKYuuxOIP6ub"
      }
    },
    {
      "cell_type": "markdown",
      "source": [
        "### Importing main libraries"
      ],
      "metadata": {
        "id": "EZ7UBj4sQfNc"
      }
    },
    {
      "cell_type": "code",
      "execution_count": null,
      "metadata": {
        "id": "AZ7j_N3VPiJj"
      },
      "outputs": [],
      "source": [
        "import numpy as np\n",
        "import pandas as pd\n",
        "import nltk\n",
        "from nltk.util import ngrams, pad_sequence, everygrams\n",
        "from nltk.tokenize import word_tokenize\n",
        "from nltk.corpus import stopwords\n",
        "import re"
      ]
    },
    {
      "cell_type": "code",
      "source": [
        "from pydrive.auth import GoogleAuth\n",
        "from pydrive.drive import GoogleDrive\n",
        "from google.colab import auth\n",
        "from oauth2client.client import GoogleCredentials"
      ],
      "metadata": {
        "id": "MIahPOxmV26W"
      },
      "execution_count": null,
      "outputs": []
    },
    {
      "cell_type": "code",
      "source": [
        "from google.colab import drive\n",
        "drive.mount('/content/gdrive')"
      ],
      "metadata": {
        "colab": {
          "base_uri": "https://localhost:8080/"
        },
        "id": "6jLtMD2PRgaL",
        "outputId": "733e034c-c9c4-4af4-b725-49c0dd81ec16"
      },
      "execution_count": null,
      "outputs": [
        {
          "output_type": "stream",
          "name": "stdout",
          "text": [
            "Drive already mounted at /content/gdrive; to attempt to forcibly remount, call drive.mount(\"/content/gdrive\", force_remount=True).\n"
          ]
        }
      ]
    },
    {
      "cell_type": "code",
      "source": [
        "pip install wikipedia"
      ],
      "metadata": {
        "colab": {
          "base_uri": "https://localhost:8080/"
        },
        "id": "-ReSJDKlZ3uB",
        "outputId": "ee04269e-9dcb-4bbb-807b-02917d307e80"
      },
      "execution_count": null,
      "outputs": [
        {
          "output_type": "stream",
          "name": "stdout",
          "text": [
            "Looking in indexes: https://pypi.org/simple, https://us-python.pkg.dev/colab-wheels/public/simple/\n",
            "Requirement already satisfied: wikipedia in /usr/local/lib/python3.7/dist-packages (1.4.0)\n",
            "Requirement already satisfied: beautifulsoup4 in /usr/local/lib/python3.7/dist-packages (from wikipedia) (4.6.3)\n",
            "Requirement already satisfied: requests<3.0.0,>=2.0.0 in /usr/local/lib/python3.7/dist-packages (from wikipedia) (2.23.0)\n",
            "Requirement already satisfied: chardet<4,>=3.0.2 in /usr/local/lib/python3.7/dist-packages (from requests<3.0.0,>=2.0.0->wikipedia) (3.0.4)\n",
            "Requirement already satisfied: idna<3,>=2.5 in /usr/local/lib/python3.7/dist-packages (from requests<3.0.0,>=2.0.0->wikipedia) (2.10)\n",
            "Requirement already satisfied: urllib3!=1.25.0,!=1.25.1,<1.26,>=1.21.1 in /usr/local/lib/python3.7/dist-packages (from requests<3.0.0,>=2.0.0->wikipedia) (1.24.3)\n",
            "Requirement already satisfied: certifi>=2017.4.17 in /usr/local/lib/python3.7/dist-packages (from requests<3.0.0,>=2.0.0->wikipedia) (2022.9.24)\n"
          ]
        }
      ]
    },
    {
      "cell_type": "markdown",
      "source": [
        "### Initializing Training data file"
      ],
      "metadata": {
        "id": "OldrksopQoQ9"
      }
    },
    {
      "cell_type": "code",
      "source": [
        "# importing the module\n",
        "import wikipedia"
      ],
      "metadata": {
        "id": "DrRgapF0ZRjg"
      },
      "execution_count": null,
      "outputs": []
    },
    {
      "cell_type": "code",
      "source": [
        "tp = input(\"Enter word string \")\n",
        "tp"
      ],
      "metadata": {
        "colab": {
          "base_uri": "https://localhost:8080/",
          "height": 53
        },
        "id": "r2sUI772aFVE",
        "outputId": "efd3ff68-7100-4824-8754-fe43d15214a4"
      },
      "execution_count": null,
      "outputs": [
        {
          "name": "stdout",
          "output_type": "stream",
          "text": [
            "Enter word string Natural language processing\n"
          ]
        },
        {
          "output_type": "execute_result",
          "data": {
            "text/plain": [
              "'Natural language processing'"
            ],
            "application/vnd.google.colaboratory.intrinsic+json": {
              "type": "string"
            }
          },
          "metadata": {},
          "execution_count": 71
        }
      ]
    },
    {
      "cell_type": "code",
      "source": [
        "result = wikipedia.search(tp)\n",
        "print(result)"
      ],
      "metadata": {
        "colab": {
          "base_uri": "https://localhost:8080/"
        },
        "id": "5o8K3l5Df6ye",
        "outputId": "c16a099e-98e1-4968-8b05-1dd466b15de9"
      },
      "execution_count": null,
      "outputs": [
        {
          "output_type": "stream",
          "name": "stdout",
          "text": [
            "['Natural language processing', 'Natural language', 'Natural-language understanding', 'Outline of natural language processing', 'Natural Language Toolkit', 'History of natural language processing', 'Natural-language user interface', 'BERT (language model)', 'Natural language generation', 'Natural-language programming']\n"
          ]
        }
      ]
    },
    {
      "cell_type": "code",
      "source": [
        "# wikipedia page object is created\n",
        "page_object = wikipedia.page(tp)\n",
        "page_object"
      ],
      "metadata": {
        "colab": {
          "base_uri": "https://localhost:8080/"
        },
        "id": "dKcgdnClZWf_",
        "outputId": "0eaebb94-e007-483b-87b1-0d1fbc8ad843"
      },
      "execution_count": null,
      "outputs": [
        {
          "output_type": "execute_result",
          "data": {
            "text/plain": [
              "<WikipediaPage 'Natural language processing'>"
            ]
          },
          "metadata": {},
          "execution_count": 73
        }
      ]
    },
    {
      "cell_type": "code",
      "source": [
        "ptrain = page_object.content\n",
        "ptrain"
      ],
      "metadata": {
        "id": "cnS_0oM5bWtG",
        "colab": {
          "base_uri": "https://localhost:8080/",
          "height": 123
        },
        "outputId": "f0fb9896-4e4e-4fba-b6b3-44583258b784"
      },
      "execution_count": null,
      "outputs": [
        {
          "output_type": "execute_result",
          "data": {
            "text/plain": [
              "'Natural language processing (NLP) is a subfield of linguistics, computer science, and artificial intelligence concerned with the interactions between computers and human language, in particular how to program computers to process and analyze large amounts of natural language data.  The goal is a computer capable of \"understanding\" the contents of documents, including the contextual nuances of the language within them. The technology can then accurately extract information and insights contained in the documents as well as categorize and organize the documents themselves.\\nChallenges in natural language processing frequently involve speech recognition, natural-language understanding, and natural-language generation.\\n\\n\\n== History ==\\n\\nNatural language processing has its roots in the 1950s. Already in 1950, Alan Turing published an article titled \"Computing Machinery and Intelligence\" which proposed what is now called the Turing test as a criterion of intelligence, though at the time that was not articulated as a problem separate from artificial intelligence. The proposed test includes a task that involves the automated interpretation and generation of natural language.\\n\\n\\n=== Symbolic NLP (1950s – early 1990s) ===\\nThe premise of symbolic NLP is well-summarized by John Searle\\'s Chinese room experiment: Given a collection of rules (e.g., a Chinese phrasebook, with questions and matching answers), the computer emulates natural language understanding (or other NLP tasks) by applying those rules to the data it confronts.\\n\\n1950s: The Georgetown experiment in 1954 involved fully automatic translation of more than sixty Russian sentences into English. The authors claimed that within three or five years, machine translation would be a solved problem.  However, real progress was much slower, and after the ALPAC report in 1966, which found that ten-year-long research had failed to fulfill the expectations, funding for machine translation was dramatically reduced.  Little further research in machine translation was conducted until the late 1980s when the first statistical machine translation systems were developed.\\n1960s: Some notably successful natural language processing systems developed in the 1960s were SHRDLU, a natural language system working in restricted \"blocks worlds\" with restricted vocabularies, and ELIZA, a simulation of a Rogerian psychotherapist, written by Joseph Weizenbaum between 1964 and 1966.  Using almost no information about human thought or emotion, ELIZA sometimes provided a startlingly human-like interaction. When the \"patient\" exceeded the very small knowledge base, ELIZA might provide a generic response, for example, responding to \"My head hurts\" with \"Why do you say your head hurts?\".\\n1970s: During the 1970s, many programmers began to write \"conceptual ontologies\", which structured real-world information into computer-understandable data.  Examples are MARGIE (Schank, 1975), SAM (Cullingford, 1978), PAM (Wilensky, 1978), TaleSpin (Meehan, 1976), QUALM (Lehnert, 1977), Politics (Carbonell, 1979), and Plot Units (Lehnert 1981).  During this time, the first chatterbots were written (e.g., PARRY).\\n1980s: The 1980s and early 1990s mark the heyday of symbolic methods in NLP. Focus areas of the time included research on rule-based parsing (e.g., the development of HPSG as a computational operationalization of generative grammar), morphology (e.g., two-level morphology), semantics (e.g., Lesk algorithm), reference (e.g., within Centering Theory) and other areas of natural language understanding (e.g., in the Rhetorical Structure Theory). Other lines of research were continued, e.g., the development of chatterbots with Racter and Jabberwacky. An important development (that eventually led to the statistical turn in the 1990s) was the rising importance of quantitative evaluation in this period.\\n\\n\\n=== Statistical NLP (1990s–2010s) ===\\nUp to the 1980s, most natural language processing systems were based on complex sets of hand-written rules.  Starting in the late 1980s, however, there was a revolution in natural language processing with the introduction of machine learning algorithms for language processing.  This was due to both the steady increase in computational power (see Moore\\'s law) and the gradual lessening of the dominance of Chomskyan theories of linguistics (e.g. transformational grammar), whose theoretical underpinnings discouraged the sort of corpus linguistics that underlies the machine-learning approach to language processing.\\n1990s: Many of the notable early successes on statistical methods in NLP occurred in the field of machine translation, due especially to work at IBM Research.  These systems were able to take advantage of existing multilingual textual corpora that had been produced by the Parliament of Canada and the European Union as a result of laws calling for the translation of all governmental proceedings into all official languages of the corresponding systems of government.  However, most other systems depended on corpora specifically developed for the tasks implemented by these systems, which was (and often continues to be) a major limitation in the success of these systems. As a result, a great deal of research has gone into methods of more effectively learning from limited amounts of data.\\n2000s: With the growth of the web, increasing amounts of raw (unannotated) language data has become available since the mid-1990s. Research has thus increasingly focused on unsupervised and semi-supervised learning algorithms.  Such algorithms can learn from data that has not been hand-annotated with the desired answers or using a combination of annotated and non-annotated data.  Generally, this task is much more difficult than supervised learning, and typically produces less accurate results for a given amount of input data.  However, there is an enormous amount of non-annotated data available (including, among other things, the entire content of the World Wide Web), which can often make up for the inferior results if the algorithm used has a low enough time complexity to be practical.\\n\\n\\n=== Neural NLP (present) ===\\nIn the 2010s, representation learning and deep neural network-style machine learning methods became widespread in natural language processing. That popularity was due partly to a flurry of results showing that such techniques can achieve state-of-the-art results in many natural language tasks, e.g., in language modeling and parsing. This is increasingly important in medicine and healthcare, where NLP helps analyze notes and text in electronic health records that would otherwise be inaccessible for study when seeking to improve care.\\n\\n\\n== Methods: Rules, statistics, neural networks ==\\nIn the early days, many language-processing systems were designed by symbolic methods, i.e., the hand-coding of a set of rules, coupled with a dictionary lookup: such as by writing grammars or devising heuristic rules for stemming.\\nMore recent systems based on machine-learning algorithms have many advantages over hand-produced rules: \\n\\nThe learning procedures used during machine learning automatically focus on the most common cases, whereas when writing rules by hand it is often not at all obvious where the effort should be directed.\\nAutomatic learning procedures can make use of statistical inference algorithms to produce models that are robust to unfamiliar input (e.g. containing words or structures that have not been seen before) and to erroneous input (e.g. with misspelled words or words accidentally omitted). Generally, handling such input gracefully with handwritten rules, or, more generally, creating systems of handwritten rules that make soft decisions, is extremely difficult, error-prone and time-consuming.\\nSystems based on automatically learning the rules can be made more accurate simply by supplying more input data. However, systems based on handwritten rules can only be made more accurate by increasing the complexity of the rules, which is a much more difficult task. In particular, there is a limit to the complexity of systems based on handwritten rules, beyond which the systems become more and more unmanageable. However, creating more data to input to machine-learning systems simply requires a corresponding increase in the number of man-hours worked, generally without significant increases in the complexity of the annotation process.Despite the popularity of machine learning in NLP research, symbolic methods are still (2020) commonly used:\\n\\nwhen the amount of training data is insufficient to successfully apply machine learning methods, e.g., for the machine translation of low-resource languages such as provided by the Apertium system,\\nfor preprocessing in NLP pipelines, e.g., tokenization, or\\nfor postprocessing and transforming the output of NLP pipelines, e.g., for knowledge extraction from syntactic parses.\\n\\n\\n=== Statistical methods ===\\nSince the so-called \"statistical revolution\" in the late 1980s and mid-1990s, much natural language processing research has relied heavily on machine learning. The machine-learning paradigm calls instead for using statistical inference to automatically learn such rules through the analysis of large corpora (the plural form of corpus, is a set of documents, possibly with human or computer annotations) of typical real-world examples.\\nMany different classes of machine-learning algorithms have been applied to natural-language-processing tasks. These algorithms take as input a large set of \"features\" that are generated from the input data. Increasingly, however, research has focused on statistical models, which make soft, probabilistic decisions based on attaching real-valued weights to each input feature (complex-valued embeddings, and neural networks in general have also been proposed, for e.g. speech). Such models have the advantage that they can express the relative certainty of many different possible answers rather than only one, producing more reliable results when such a model is included as a component of a larger system.\\nSome of the earliest-used machine learning algorithms, such as decision trees, produced systems of hard if-then rules similar to existing hand-written rules.  However, part-of-speech tagging introduced the use of hidden Markov models to natural language processing, and increasingly, research has focused on statistical models, which make soft, probabilistic decisions based on attaching real-valued weights to the features making up the input data. The cache language models upon which many speech recognition systems now rely are examples of such statistical models.  Such models are generally more robust when given unfamiliar input, especially input that contains errors (as is very common for real-world data), and produce more reliable results when integrated into a larger system comprising multiple subtasks.\\nSince the neural turn, statistical methods in NLP research have been largely replaced by neural networks. However, they continue to be relevant for contexts in which statistical interpretability and transparency is required.\\n\\n\\n=== Neural networks ===\\n\\nA major drawback of statistical methods is that they require elaborate feature engineering. Since 2015, the field has thus largely abandoned statistical methods and shifted to neural networks for machine learning. Popular techniques include the use of word embeddings to capture semantic properties of words, and an increase in end-to-end learning of a higher-level task (e.g., question answering) instead of relying on a pipeline of separate intermediate tasks (e.g., part-of-speech tagging and dependency parsing). In some areas, this shift has entailed substantial changes in how NLP systems are designed, such that deep neural network-based approaches may be viewed as a new paradigm distinct from statistical natural language processing. For instance, the term neural machine translation (NMT) emphasizes the fact that deep learning-based approaches to machine translation directly learn sequence-to-sequence transformations, obviating the need for intermediate steps such as word alignment and language modeling that was used in statistical machine translation (SMT).\\n\\n\\n== Common NLP tasks ==\\nThe following is a list of some of the most commonly researched tasks in natural language processing. Some of these tasks have direct real-world applications, while others more commonly serve as subtasks that are used to aid in solving larger tasks.\\nThough natural language processing tasks are closely intertwined, they can be subdivided into categories for convenience. A coarse division is given below.\\n\\n\\n=== Text and speech processing ===\\nOptical character recognition (OCR)\\nGiven an image representing printed text, determine the corresponding text.Speech recognition\\nGiven a sound clip of a person or people speaking, determine the textual representation of the speech.  This is the opposite of text to speech and is one of the extremely difficult problems colloquially termed \"AI-complete\" (see above).  In natural speech there are hardly any pauses between successive words, and thus speech segmentation is a necessary subtask of speech recognition (see below). In most spoken languages, the sounds representing successive letters blend into each other in a process termed coarticulation, so the conversion of the analog signal to discrete characters can be a very difficult process. Also, given that words in the same language are spoken by people with different accents, the speech recognition software must be able to recognize the wide variety of input as being identical to each other in terms of its textual equivalent.\\nSpeech segmentation\\nGiven a sound clip of a person or people speaking, separate it into words.  A subtask of speech recognition and typically grouped with it.Text-to-speech\\nGiven a text, transform those units and produce a spoken representation. Text-to-speech can be used to aid the visually impaired.Word segmentation (Tokenization)\\nSeparate a chunk of continuous text into separate words. For a language like English, this is fairly trivial, since words are usually separated by spaces. However, some written languages like Chinese, Japanese and Thai do not mark word boundaries in such a fashion, and in those languages text segmentation is a significant task requiring knowledge of the vocabulary and morphology of words in the language. Sometimes this process is also used in cases like bag of words (BOW) creation in data mining.\\n\\n\\n=== Morphological analysis ===\\nLemmatization\\nThe task of removing inflectional endings only and to return the base dictionary form of a word which is also known as a lemma. Lemmatization is another technique for reducing words to their normalized form. But in this case, the transformation actually uses a dictionary to map words to their actual form.\\nMorphological segmentation\\nSeparate words into individual morphemes and identify the class of the morphemes. The difficulty of this task depends greatly on the complexity of the morphology (i.e., the structure of words) of the language being considered. English has fairly simple morphology, especially inflectional morphology, and thus it is often possible to ignore this task entirely and simply model all possible forms of a word (e.g., \"open, opens, opened, opening\") as separate words. In languages such as Turkish or Meitei, a highly agglutinated Indian language, however, such an approach is not possible, as each dictionary entry has thousands of possible word forms.\\nPart-of-speech tagging\\nGiven a sentence, determine the part of speech (POS) for each word. Many words, especially common ones, can serve as multiple parts of speech. For example, \"book\" can be a noun (\"the book on the table\") or verb (\"to book a flight\"); \"set\" can be a noun, verb or adjective; and \"out\" can be any of at least five different parts of speech.Stemming\\nThe process of reducing inflected (or sometimes derived) words to a base form (e.g., \"close\" will be the root for \"closed\", \"closing\", \"close\", \"closer\" etc.). Stemming yields similar results as lemmatization, but does so on grounds of rules, not a dictionary.\\n\\n\\n=== Syntactic analysis ===\\nGrammar induction\\nGenerate a formal grammar that describes a language\\'s syntax.\\nSentence breaking (also known as \"sentence boundary disambiguation\")\\nGiven a chunk of text, find the sentence boundaries. Sentence boundaries are often marked by periods or other punctuation marks, but these same characters can serve other purposes (e.g., marking abbreviations).\\nParsing\\nDetermine the parse tree (grammatical analysis) of a given sentence. The grammar for natural languages is ambiguous and typical sentences have multiple possible analyses: perhaps surprisingly, for a typical sentence there may be thousands of potential parses (most of which will seem completely nonsensical to a human). There are two primary types of parsing: dependency parsing and constituency parsing. Dependency parsing focuses on the relationships between words in a sentence (marking things like primary objects and predicates), whereas constituency parsing focuses on building out the parse tree using a probabilistic context-free grammar (PCFG) (see also stochastic grammar).\\n\\n\\n=== Lexical semantics (of individual words in context) ===\\nLexical semantics\\nWhat is the computational meaning of individual words in context?\\nDistributional semantics\\nHow can we learn semantic representations from data?\\nNamed entity recognition (NER)\\nGiven a stream of text, determine which items in the text map to proper names, such as people or places, and what the type of each such name is (e.g. person, location, organization). Although capitalization can aid in recognizing named entities in languages such as English, this information cannot aid in determining the type of named entity, and in any case, is often inaccurate or insufficient.  For example, the first letter of a sentence is also capitalized, and named entities often span several words, only some of which are capitalized.  Furthermore, many other languages in non-Western scripts (e.g. Chinese or Arabic) do not have any capitalization at all, and even languages with capitalization may not consistently use it to distinguish names. For example, German capitalizes all nouns, regardless of whether they are names, and French and Spanish do not capitalize names that serve as adjectives.Sentiment analysis (see also Multimodal sentiment analysis)\\nExtract subjective information usually from a set of documents, often using online reviews to determine \"polarity\" about specific objects. It is especially useful for identifying trends of public opinion in social media, for marketing.\\nTerminology extraction\\nThe goal of terminology extraction is to automatically extract relevant terms from a given corpus.\\nWord-sense disambiguation (WSD)\\nMany words have more than one meaning; we have to select the meaning which makes the most sense in context.  For this problem, we are typically given a list of words and associated word senses, e.g. from a dictionary or an online resource such as WordNet.\\nEntity linking\\nMany words—typically proper names—refer to named entities; here we have to select the entity (a famous individual, a location, a company, etc.) which is referred to in context.\\n\\n\\n=== Relational semantics (semantics of individual sentences) ===\\nRelationship extraction\\nGiven a chunk of text, identify the relationships among named entities (e.g. who is married to whom).\\nSemantic parsing\\nGiven a piece of text (typically a sentence), produce a formal representation of its semantics, either as a graph (e.g., in AMR parsing) or in accordance with a logical formalism (e.g., in DRT parsing). This challenge typically includes aspects of several more elementary NLP tasks from semantics (e.g., semantic role labelling, word-sense disambiguation) and can be extended to include full-fledged discourse analysis (e.g., discourse analysis, coreference; see Natural language understanding below).\\nSemantic role labelling (see also implicit semantic role labelling below)\\nGiven a single sentence, identify and disambiguate semantic predicates (e.g., verbal frames), then identify and classify the frame elements (semantic roles).\\n\\n\\n=== Discourse (semantics beyond individual sentences) ===\\nCoreference resolution\\nGiven a sentence or larger chunk of text, determine which words (\"mentions\") refer to the same objects (\"entities\"). Anaphora resolution is a specific example of this task, and is specifically concerned with matching up pronouns with the nouns or names to which they refer. The more general task of coreference resolution also includes identifying so-called \"bridging relationships\" involving referring expressions. For example, in a sentence such as \"He entered John\\'s house through the front door\", \"the front door\" is a referring expression and the bridging relationship to be identified is the fact that the door being referred to is the front door of John\\'s house (rather than of some other structure that might also be referred to).\\nDiscourse analysis\\nThis rubric includes several related tasks.  One task is discourse parsing, i.e., identifying the discourse structure of a connected text, i.e. the nature of the discourse relationships between sentences (e.g. elaboration, explanation, contrast).  Another possible task is recognizing and classifying the speech acts in a chunk of text (e.g. yes-no question, content question, statement, assertion, etc.).Implicit semantic role labelling\\nGiven a single sentence, identify and disambiguate semantic predicates (e.g., verbal frames) and their explicit semantic roles in the current sentence (see Semantic role labelling above). Then, identify semantic roles that are not explicitly realized in the current sentence, classify them into arguments that are explicitly realized elsewhere in the text and those that are not specified, and resolve the former against the local text. A closely related task is zero anaphora resolution, i.e., the extension of coreference resolution to pro-drop languages.Recognizing textual entailment\\nGiven two text fragments, determine if one being true entails the other, entails the other\\'s negation, or allows the other to be either true or false.Topic segmentation and recognition\\nGiven a chunk of text, separate it into segments each of which is devoted to a topic, and identify the topic of the segment.Argument mining\\nThe goal of argument mining is the automatic extraction and identification of argumentative structures from natural language text with the aid of computer programs. Such argumentative structures include the premise, conclusions, the argument scheme and the relationship between the main and subsidiary argument, or the main and counter-argument within discourse.\\n\\n\\n=== Higher-level NLP applications ===\\nAutomatic summarization (text summarization)\\nProduce a readable summary of a chunk of text.  Often used to provide summaries of the text of a known type, such as research papers, articles in the financial section of a newspaper.\\nBook generation\\nNot an NLP task proper but an extension of natural language generation and other NLP tasks is the creation of full-fledged books. The first machine-generated book was created by a rule-based system in 1984 (Racter, The policeman\\'s beard is half-constructed). The first published work by a neural network was published in 2018, 1 the Road, marketed as a novel, contains sixty million words. Both these systems are basically elaborate but non-sensical (semantics-free) language models. The first machine-generated science book was published in 2019 (Beta Writer, Lithium-Ion Batteries, Springer, Cham). Unlike Racter and 1 the Road, this is grounded on factual knowledge and based on text summarization.\\nDialogue management\\nComputer systems intended to converse with a human.\\nDocument AI\\nA Document AI platform sits on top of the NLP technology enabling users with no prior experience of artificial intelligence, machine learning or NLP to quickly train a computer to extract the specific data they need from different document types. NLP-powered Document AI enables non-technical teams to quickly access information hidden in documents, for example, lawyers, business analysts and accountants.\\nGrammatical error correction\\nGrammatical error detection and correction involves a great band-width of problems on all levels of linguistic analysis (phonology/orthography, morphology, syntax, semantics, pragmatics). Grammatical error correction is impactful since it affects hundreds of millions of people that use or acquire English as a second language. It has thus been subject to a number of shared tasks since 2011. As far as orthography, morphology, syntax and certain aspects of semantics are concerned, and due to the development of powerful neural language models such as GPT-2, this can now (2019) be considered a largely solved problem and is being marketed in various commercial applications.\\nMachine translation\\nAutomatically translate text from one human language to another.  This is one of the most difficult problems, and is a member of a class of problems colloquially termed \"AI-complete\", i.e. requiring all of the different types of knowledge that humans possess (grammar, semantics, facts about the real world, etc.) to solve properly.\\nNatural-language generation (NLG):\\nConvert information from computer databases or semantic intents into readable human language.\\nNatural-language understanding (NLU)\\nConvert chunks of text into more formal representations such as first-order logic structures that are easier for computer programs to manipulate. Natural language understanding involves the identification of the intended semantic from the multiple possible semantics which can be derived from a natural language expression which usually takes the form of organized notations of natural language concepts. Introduction and creation of language metamodel and ontology are efficient however empirical solutions. An explicit formalization of natural language semantics without confusions with implicit assumptions such as closed-world assumption (CWA) vs. open-world assumption, or subjective Yes/No vs. objective True/False is expected for the construction of a basis of semantics formalization.\\nQuestion answering\\nGiven a human-language question, determine its answer. Typical questions have a specific right answer (such as \"What is the capital of Canada?\"), but sometimes open-ended questions are also considered (such as \"What is the meaning of life?\").\\nText-to-image generation\\nGiven a description of an image, generate an image that matches the description.\\nText-to-scene generation\\nGiven a description of a scene, generate a 3D model of the scene.\\n\\n\\n== General tendencies and (possible) future directions ==\\nBased on long-standing trends in the field, it is possible to extrapolate future directions of NLP. As of 2020, three trends among the topics of the long-standing series of CoNLL Shared Tasks can be observed:\\nInterest on increasingly abstract, \"cognitive\" aspects of natural language (1999–2001: shallow parsing, 2002–03: named entity recognition, 2006–09/2017–18: dependency syntax, 2004–05/2008–09 semantic role labelling, 2011–12 coreference, 2015–16: discourse parsing, 2019: semantic parsing).\\nIncreasing interest in multilinguality, and, potentially, multimodality (English since 1999; Spanish, Dutch since 2002; German since 2003; Bulgarian, Danish, Japanese, Portuguese, Slovenian, Swedish, Turkish since 2006; Basque, Catalan, Chinese, Greek, Hungarian, Italian, Turkish since 2007; Czech since 2009; Arabic since 2012; 2017: 40+ languages; 2018: 60+/100+ languages)\\nElimination of symbolic representations (rule-based over supervised towards weakly supervised methods, representation learning and end-to-end systems)\\n\\n\\n=== Cognition and NLP ===\\nMost higher-level NLP applications involve aspects that emulate intelligent behaviour and apparent comprehension of natural language. More broadly speaking, the technical operationalization of increasingly advanced aspects of cognitive behaviour represents one of the developmental trajectories of NLP (see trends among CoNLL shared tasks above).\\nCognition refers to \"the mental action or process of acquiring knowledge and understanding through thought, experience, and the senses.\" Cognitive science is the interdisciplinary, scientific study of the mind and its processes. Cognitive linguistics is an interdisciplinary branch of linguistics, combining knowledge and research from both psychology and linguistics. Especially during the age of symbolic NLP, the area of computational linguistics maintained strong ties with cognitive studies.\\nAs an example, George Lakoff offers a methodology to build natural language processing (NLP) algorithms through the perspective of cognitive science, along with the findings of cognitive linguistics, with two defining aspects:\\n\\nApply the theory of conceptual metaphor, explained by Lakoff as \"the understanding of one idea, in terms of another\" which provides an idea of the intent of the author. For example, consider the English word big. When used in a comparison (\"That is a big tree\"), the author\\'s intent is to imply that the tree is physically large relative to other trees or the authors experience.  When used metaphorically (\"Tomorrow is a big day\"), the author\\'s intent to imply importance.  The intent behind other usages, like in \"She is a big person\", will remain somewhat ambiguous to a person and a cognitive NLP algorithm alike without additional information.\\nAssign relative measures of meaning to a word, phrase, sentence or piece of text based on the information presented before and after the piece of text being analyzed, e.g., by means of a probabilistic context-free grammar (PCFG). The mathematical equation for such algorithms is presented in US patent 9269353 :\\n  \\n    \\n      \\n        \\n          R\\n          M\\n          M\\n          (\\n          t\\n          o\\n          k\\n          e\\n          \\n            n\\n            \\n              N\\n            \\n          \\n          )\\n        \\n        =\\n        \\n          P\\n          M\\n          M\\n          (\\n          t\\n          o\\n          k\\n          e\\n          \\n            n\\n            \\n              N\\n            \\n          \\n          )\\n        \\n        ×\\n        \\n          \\n            1\\n            \\n              2\\n              d\\n            \\n          \\n        \\n        \\n          (\\n          \\n            \\n              ∑\\n              \\n                i\\n                =\\n                −\\n                d\\n              \\n              \\n                d\\n              \\n            \\n            \\n              (\\n              (\\n              P\\n              M\\n              M\\n              (\\n              t\\n              o\\n              k\\n              e\\n              \\n                n\\n                \\n                  N\\n                  −\\n                  1\\n                \\n              \\n              )\\n            \\n            ×\\n            \\n              P\\n              F\\n              (\\n              t\\n              o\\n              k\\n              e\\n              \\n                n\\n                \\n                  N\\n                \\n              \\n              ,\\n              t\\n              o\\n              k\\n              e\\n              \\n                n\\n                \\n                  N\\n                  −\\n                  1\\n                \\n              \\n              )\\n              \\n                )\\n                \\n                  i\\n                \\n              \\n            \\n          \\n          )\\n        \\n      \\n    \\n    {\\\\displaystyle {RMM(token_{N})}={PMM(token_{N})}\\\\times {\\\\frac {1}{2d}}\\\\left(\\\\sum _{i=-d}^{d}{((PMM(token_{N-1})}\\\\times {PF(token_{N},token_{N-1}))_{i}}\\\\right)}\\n  Where,\\nRMM, is the Relative Measure of Meaning\\ntoken, is any block of text, sentence, phrase or word\\nN, is the number of tokens being analyzed\\nPMM, is the Probable Measure of Meaning based on a corpora\\nd, is the location of the token along the sequence of N-1 tokens\\nPF, is the Probability Function specific to a languageTies with cognitive linguistics are part of the historical heritage of NLP, but they have been less frequently addressed since the statistical turn during the 1990s. Nevertheless, approaches to develop cognitive models towards technically operationalizable frameworks have been pursued in the context of various frameworks, e.g., of cognitive grammar, functional grammar, construction grammar, computational psycholinguistics and cognitive neuroscience (e.g., ACT-R), however, with limited uptake in mainstream NLP (as measured by presence on major conferences of the ACL). More recently, ideas of cognitive NLP have been revived as an approach to achieve explainability, e.g., under the notion of \"cognitive AI\". Likewise, ideas of cognitive NLP are inherent to neural models multimodal NLP (although rarely made explicit).\\n\\n\\n== See also ==\\n\\n\\n== References ==\\n\\n\\n== Further reading ==\\n\\n\\n== External links ==\\n Media related to Natural language processing at Wikimedia Commons'"
            ],
            "application/vnd.google.colaboratory.intrinsic+json": {
              "type": "string"
            }
          },
          "metadata": {},
          "execution_count": 74
        }
      ]
    },
    {
      "cell_type": "code",
      "source": [
        "from google.colab import files\n",
        "\n",
        "with open('examplenlp.txt', 'w') as f:\n",
        "  f.write(ptrain)\n",
        "\n",
        "files.download('examplenlp.txt')"
      ],
      "metadata": {
        "colab": {
          "base_uri": "https://localhost:8080/",
          "height": 17
        },
        "id": "Mag2alA8dQsC",
        "outputId": "a6ef5469-4321-4bf8-e00a-348938fcac91"
      },
      "execution_count": null,
      "outputs": [
        {
          "output_type": "display_data",
          "data": {
            "text/plain": [
              "<IPython.core.display.Javascript object>"
            ],
            "application/javascript": [
              "\n",
              "    async function download(id, filename, size) {\n",
              "      if (!google.colab.kernel.accessAllowed) {\n",
              "        return;\n",
              "      }\n",
              "      const div = document.createElement('div');\n",
              "      const label = document.createElement('label');\n",
              "      label.textContent = `Downloading \"${filename}\": `;\n",
              "      div.appendChild(label);\n",
              "      const progress = document.createElement('progress');\n",
              "      progress.max = size;\n",
              "      div.appendChild(progress);\n",
              "      document.body.appendChild(div);\n",
              "\n",
              "      const buffers = [];\n",
              "      let downloaded = 0;\n",
              "\n",
              "      const channel = await google.colab.kernel.comms.open(id);\n",
              "      // Send a message to notify the kernel that we're ready.\n",
              "      channel.send({})\n",
              "\n",
              "      for await (const message of channel.messages) {\n",
              "        // Send a message to notify the kernel that we're ready.\n",
              "        channel.send({})\n",
              "        if (message.buffers) {\n",
              "          for (const buffer of message.buffers) {\n",
              "            buffers.push(buffer);\n",
              "            downloaded += buffer.byteLength;\n",
              "            progress.value = downloaded;\n",
              "          }\n",
              "        }\n",
              "      }\n",
              "      const blob = new Blob(buffers, {type: 'application/binary'});\n",
              "      const a = document.createElement('a');\n",
              "      a.href = window.URL.createObjectURL(blob);\n",
              "      a.download = filename;\n",
              "      div.appendChild(a);\n",
              "      a.click();\n",
              "      div.remove();\n",
              "    }\n",
              "  "
            ]
          },
          "metadata": {}
        },
        {
          "output_type": "display_data",
          "data": {
            "text/plain": [
              "<IPython.core.display.Javascript object>"
            ],
            "application/javascript": [
              "download(\"download_b42a685d-0365-41ae-9dcb-2ccc1953859c\", \"examplenlp.txt\", 33171)"
            ]
          },
          "metadata": {}
        }
      ]
    },
    {
      "cell_type": "code",
      "source": [
        "#uploading training data file\n",
        "train_file = \"/content/examplenlp.txt\"\n",
        "train_open = open(train_file, \"r\")\n",
        "#read train data file\n",
        "train_data = train_open.read()"
      ],
      "metadata": {
        "id": "ex2WycfQRYPj"
      },
      "execution_count": null,
      "outputs": []
    },
    {
      "cell_type": "markdown",
      "source": [
        "### Exploring training data"
      ],
      "metadata": {
        "id": "7fD1AmPmQ3-1"
      }
    },
    {
      "cell_type": "code",
      "source": [
        "train_data"
      ],
      "metadata": {
        "colab": {
          "base_uri": "https://localhost:8080/",
          "height": 123
        },
        "id": "jeQ0hJ8lRjKk",
        "outputId": "98c0355b-c7aa-4940-8328-cac66b330c23"
      },
      "execution_count": null,
      "outputs": [
        {
          "output_type": "execute_result",
          "data": {
            "text/plain": [
              "'Natural language processing (NLP) is a subfield of linguistics, computer science, and artificial intelligence concerned with the interactions between computers and human language, in particular how to program computers to process and analyze large amounts of natural language data.  The goal is a computer capable of \"understanding\" the contents of documents, including the contextual nuances of the language within them. The technology can then accurately extract information and insights contained in the documents as well as categorize and organize the documents themselves.\\nChallenges in natural language processing frequently involve speech recognition, natural-language understanding, and natural-language generation.\\n\\n\\n== History ==\\n\\nNatural language processing has its roots in the 1950s. Already in 1950, Alan Turing published an article titled \"Computing Machinery and Intelligence\" which proposed what is now called the Turing test as a criterion of intelligence, though at the time that was not articulated as a problem separate from artificial intelligence. The proposed test includes a task that involves the automated interpretation and generation of natural language.\\n\\n\\n=== Symbolic NLP (1950s – early 1990s) ===\\nThe premise of symbolic NLP is well-summarized by John Searle\\'s Chinese room experiment: Given a collection of rules (e.g., a Chinese phrasebook, with questions and matching answers), the computer emulates natural language understanding (or other NLP tasks) by applying those rules to the data it confronts.\\n\\n1950s: The Georgetown experiment in 1954 involved fully automatic translation of more than sixty Russian sentences into English. The authors claimed that within three or five years, machine translation would be a solved problem.  However, real progress was much slower, and after the ALPAC report in 1966, which found that ten-year-long research had failed to fulfill the expectations, funding for machine translation was dramatically reduced.  Little further research in machine translation was conducted until the late 1980s when the first statistical machine translation systems were developed.\\n1960s: Some notably successful natural language processing systems developed in the 1960s were SHRDLU, a natural language system working in restricted \"blocks worlds\" with restricted vocabularies, and ELIZA, a simulation of a Rogerian psychotherapist, written by Joseph Weizenbaum between 1964 and 1966.  Using almost no information about human thought or emotion, ELIZA sometimes provided a startlingly human-like interaction. When the \"patient\" exceeded the very small knowledge base, ELIZA might provide a generic response, for example, responding to \"My head hurts\" with \"Why do you say your head hurts?\".\\n1970s: During the 1970s, many programmers began to write \"conceptual ontologies\", which structured real-world information into computer-understandable data.  Examples are MARGIE (Schank, 1975), SAM (Cullingford, 1978), PAM (Wilensky, 1978), TaleSpin (Meehan, 1976), QUALM (Lehnert, 1977), Politics (Carbonell, 1979), and Plot Units (Lehnert 1981).  During this time, the first chatterbots were written (e.g., PARRY).\\n1980s: The 1980s and early 1990s mark the heyday of symbolic methods in NLP. Focus areas of the time included research on rule-based parsing (e.g., the development of HPSG as a computational operationalization of generative grammar), morphology (e.g., two-level morphology), semantics (e.g., Lesk algorithm), reference (e.g., within Centering Theory) and other areas of natural language understanding (e.g., in the Rhetorical Structure Theory). Other lines of research were continued, e.g., the development of chatterbots with Racter and Jabberwacky. An important development (that eventually led to the statistical turn in the 1990s) was the rising importance of quantitative evaluation in this period.\\n\\n\\n=== Statistical NLP (1990s–2010s) ===\\nUp to the 1980s, most natural language processing systems were based on complex sets of hand-written rules.  Starting in the late 1980s, however, there was a revolution in natural language processing with the introduction of machine learning algorithms for language processing.  This was due to both the steady increase in computational power (see Moore\\'s law) and the gradual lessening of the dominance of Chomskyan theories of linguistics (e.g. transformational grammar), whose theoretical underpinnings discouraged the sort of corpus linguistics that underlies the machine-learning approach to language processing.\\n1990s: Many of the notable early successes on statistical methods in NLP occurred in the field of machine translation, due especially to work at IBM Research.  These systems were able to take advantage of existing multilingual textual corpora that had been produced by the Parliament of Canada and the European Union as a result of laws calling for the translation of all governmental proceedings into all official languages of the corresponding systems of government.  However, most other systems depended on corpora specifically developed for the tasks implemented by these systems, which was (and often continues to be) a major limitation in the success of these systems. As a result, a great deal of research has gone into methods of more effectively learning from limited amounts of data.\\n2000s: With the growth of the web, increasing amounts of raw (unannotated) language data has become available since the mid-1990s. Research has thus increasingly focused on unsupervised and semi-supervised learning algorithms.  Such algorithms can learn from data that has not been hand-annotated with the desired answers or using a combination of annotated and non-annotated data.  Generally, this task is much more difficult than supervised learning, and typically produces less accurate results for a given amount of input data.  However, there is an enormous amount of non-annotated data available (including, among other things, the entire content of the World Wide Web), which can often make up for the inferior results if the algorithm used has a low enough time complexity to be practical.\\n\\n\\n=== Neural NLP (present) ===\\nIn the 2010s, representation learning and deep neural network-style machine learning methods became widespread in natural language processing. That popularity was due partly to a flurry of results showing that such techniques can achieve state-of-the-art results in many natural language tasks, e.g., in language modeling and parsing. This is increasingly important in medicine and healthcare, where NLP helps analyze notes and text in electronic health records that would otherwise be inaccessible for study when seeking to improve care.\\n\\n\\n== Methods: Rules, statistics, neural networks ==\\nIn the early days, many language-processing systems were designed by symbolic methods, i.e., the hand-coding of a set of rules, coupled with a dictionary lookup: such as by writing grammars or devising heuristic rules for stemming.\\nMore recent systems based on machine-learning algorithms have many advantages over hand-produced rules: \\n\\nThe learning procedures used during machine learning automatically focus on the most common cases, whereas when writing rules by hand it is often not at all obvious where the effort should be directed.\\nAutomatic learning procedures can make use of statistical inference algorithms to produce models that are robust to unfamiliar input (e.g. containing words or structures that have not been seen before) and to erroneous input (e.g. with misspelled words or words accidentally omitted). Generally, handling such input gracefully with handwritten rules, or, more generally, creating systems of handwritten rules that make soft decisions, is extremely difficult, error-prone and time-consuming.\\nSystems based on automatically learning the rules can be made more accurate simply by supplying more input data. However, systems based on handwritten rules can only be made more accurate by increasing the complexity of the rules, which is a much more difficult task. In particular, there is a limit to the complexity of systems based on handwritten rules, beyond which the systems become more and more unmanageable. However, creating more data to input to machine-learning systems simply requires a corresponding increase in the number of man-hours worked, generally without significant increases in the complexity of the annotation process.Despite the popularity of machine learning in NLP research, symbolic methods are still (2020) commonly used:\\n\\nwhen the amount of training data is insufficient to successfully apply machine learning methods, e.g., for the machine translation of low-resource languages such as provided by the Apertium system,\\nfor preprocessing in NLP pipelines, e.g., tokenization, or\\nfor postprocessing and transforming the output of NLP pipelines, e.g., for knowledge extraction from syntactic parses.\\n\\n\\n=== Statistical methods ===\\nSince the so-called \"statistical revolution\" in the late 1980s and mid-1990s, much natural language processing research has relied heavily on machine learning. The machine-learning paradigm calls instead for using statistical inference to automatically learn such rules through the analysis of large corpora (the plural form of corpus, is a set of documents, possibly with human or computer annotations) of typical real-world examples.\\nMany different classes of machine-learning algorithms have been applied to natural-language-processing tasks. These algorithms take as input a large set of \"features\" that are generated from the input data. Increasingly, however, research has focused on statistical models, which make soft, probabilistic decisions based on attaching real-valued weights to each input feature (complex-valued embeddings, and neural networks in general have also been proposed, for e.g. speech). Such models have the advantage that they can express the relative certainty of many different possible answers rather than only one, producing more reliable results when such a model is included as a component of a larger system.\\nSome of the earliest-used machine learning algorithms, such as decision trees, produced systems of hard if-then rules similar to existing hand-written rules.  However, part-of-speech tagging introduced the use of hidden Markov models to natural language processing, and increasingly, research has focused on statistical models, which make soft, probabilistic decisions based on attaching real-valued weights to the features making up the input data. The cache language models upon which many speech recognition systems now rely are examples of such statistical models.  Such models are generally more robust when given unfamiliar input, especially input that contains errors (as is very common for real-world data), and produce more reliable results when integrated into a larger system comprising multiple subtasks.\\nSince the neural turn, statistical methods in NLP research have been largely replaced by neural networks. However, they continue to be relevant for contexts in which statistical interpretability and transparency is required.\\n\\n\\n=== Neural networks ===\\n\\nA major drawback of statistical methods is that they require elaborate feature engineering. Since 2015, the field has thus largely abandoned statistical methods and shifted to neural networks for machine learning. Popular techniques include the use of word embeddings to capture semantic properties of words, and an increase in end-to-end learning of a higher-level task (e.g., question answering) instead of relying on a pipeline of separate intermediate tasks (e.g., part-of-speech tagging and dependency parsing). In some areas, this shift has entailed substantial changes in how NLP systems are designed, such that deep neural network-based approaches may be viewed as a new paradigm distinct from statistical natural language processing. For instance, the term neural machine translation (NMT) emphasizes the fact that deep learning-based approaches to machine translation directly learn sequence-to-sequence transformations, obviating the need for intermediate steps such as word alignment and language modeling that was used in statistical machine translation (SMT).\\n\\n\\n== Common NLP tasks ==\\nThe following is a list of some of the most commonly researched tasks in natural language processing. Some of these tasks have direct real-world applications, while others more commonly serve as subtasks that are used to aid in solving larger tasks.\\nThough natural language processing tasks are closely intertwined, they can be subdivided into categories for convenience. A coarse division is given below.\\n\\n\\n=== Text and speech processing ===\\nOptical character recognition (OCR)\\nGiven an image representing printed text, determine the corresponding text.Speech recognition\\nGiven a sound clip of a person or people speaking, determine the textual representation of the speech.  This is the opposite of text to speech and is one of the extremely difficult problems colloquially termed \"AI-complete\" (see above).  In natural speech there are hardly any pauses between successive words, and thus speech segmentation is a necessary subtask of speech recognition (see below). In most spoken languages, the sounds representing successive letters blend into each other in a process termed coarticulation, so the conversion of the analog signal to discrete characters can be a very difficult process. Also, given that words in the same language are spoken by people with different accents, the speech recognition software must be able to recognize the wide variety of input as being identical to each other in terms of its textual equivalent.\\nSpeech segmentation\\nGiven a sound clip of a person or people speaking, separate it into words.  A subtask of speech recognition and typically grouped with it.Text-to-speech\\nGiven a text, transform those units and produce a spoken representation. Text-to-speech can be used to aid the visually impaired.Word segmentation (Tokenization)\\nSeparate a chunk of continuous text into separate words. For a language like English, this is fairly trivial, since words are usually separated by spaces. However, some written languages like Chinese, Japanese and Thai do not mark word boundaries in such a fashion, and in those languages text segmentation is a significant task requiring knowledge of the vocabulary and morphology of words in the language. Sometimes this process is also used in cases like bag of words (BOW) creation in data mining.\\n\\n\\n=== Morphological analysis ===\\nLemmatization\\nThe task of removing inflectional endings only and to return the base dictionary form of a word which is also known as a lemma. Lemmatization is another technique for reducing words to their normalized form. But in this case, the transformation actually uses a dictionary to map words to their actual form.\\nMorphological segmentation\\nSeparate words into individual morphemes and identify the class of the morphemes. The difficulty of this task depends greatly on the complexity of the morphology (i.e., the structure of words) of the language being considered. English has fairly simple morphology, especially inflectional morphology, and thus it is often possible to ignore this task entirely and simply model all possible forms of a word (e.g., \"open, opens, opened, opening\") as separate words. In languages such as Turkish or Meitei, a highly agglutinated Indian language, however, such an approach is not possible, as each dictionary entry has thousands of possible word forms.\\nPart-of-speech tagging\\nGiven a sentence, determine the part of speech (POS) for each word. Many words, especially common ones, can serve as multiple parts of speech. For example, \"book\" can be a noun (\"the book on the table\") or verb (\"to book a flight\"); \"set\" can be a noun, verb or adjective; and \"out\" can be any of at least five different parts of speech.Stemming\\nThe process of reducing inflected (or sometimes derived) words to a base form (e.g., \"close\" will be the root for \"closed\", \"closing\", \"close\", \"closer\" etc.). Stemming yields similar results as lemmatization, but does so on grounds of rules, not a dictionary.\\n\\n\\n=== Syntactic analysis ===\\nGrammar induction\\nGenerate a formal grammar that describes a language\\'s syntax.\\nSentence breaking (also known as \"sentence boundary disambiguation\")\\nGiven a chunk of text, find the sentence boundaries. Sentence boundaries are often marked by periods or other punctuation marks, but these same characters can serve other purposes (e.g., marking abbreviations).\\nParsing\\nDetermine the parse tree (grammatical analysis) of a given sentence. The grammar for natural languages is ambiguous and typical sentences have multiple possible analyses: perhaps surprisingly, for a typical sentence there may be thousands of potential parses (most of which will seem completely nonsensical to a human). There are two primary types of parsing: dependency parsing and constituency parsing. Dependency parsing focuses on the relationships between words in a sentence (marking things like primary objects and predicates), whereas constituency parsing focuses on building out the parse tree using a probabilistic context-free grammar (PCFG) (see also stochastic grammar).\\n\\n\\n=== Lexical semantics (of individual words in context) ===\\nLexical semantics\\nWhat is the computational meaning of individual words in context?\\nDistributional semantics\\nHow can we learn semantic representations from data?\\nNamed entity recognition (NER)\\nGiven a stream of text, determine which items in the text map to proper names, such as people or places, and what the type of each such name is (e.g. person, location, organization). Although capitalization can aid in recognizing named entities in languages such as English, this information cannot aid in determining the type of named entity, and in any case, is often inaccurate or insufficient.  For example, the first letter of a sentence is also capitalized, and named entities often span several words, only some of which are capitalized.  Furthermore, many other languages in non-Western scripts (e.g. Chinese or Arabic) do not have any capitalization at all, and even languages with capitalization may not consistently use it to distinguish names. For example, German capitalizes all nouns, regardless of whether they are names, and French and Spanish do not capitalize names that serve as adjectives.Sentiment analysis (see also Multimodal sentiment analysis)\\nExtract subjective information usually from a set of documents, often using online reviews to determine \"polarity\" about specific objects. It is especially useful for identifying trends of public opinion in social media, for marketing.\\nTerminology extraction\\nThe goal of terminology extraction is to automatically extract relevant terms from a given corpus.\\nWord-sense disambiguation (WSD)\\nMany words have more than one meaning; we have to select the meaning which makes the most sense in context.  For this problem, we are typically given a list of words and associated word senses, e.g. from a dictionary or an online resource such as WordNet.\\nEntity linking\\nMany words—typically proper names—refer to named entities; here we have to select the entity (a famous individual, a location, a company, etc.) which is referred to in context.\\n\\n\\n=== Relational semantics (semantics of individual sentences) ===\\nRelationship extraction\\nGiven a chunk of text, identify the relationships among named entities (e.g. who is married to whom).\\nSemantic parsing\\nGiven a piece of text (typically a sentence), produce a formal representation of its semantics, either as a graph (e.g., in AMR parsing) or in accordance with a logical formalism (e.g., in DRT parsing). This challenge typically includes aspects of several more elementary NLP tasks from semantics (e.g., semantic role labelling, word-sense disambiguation) and can be extended to include full-fledged discourse analysis (e.g., discourse analysis, coreference; see Natural language understanding below).\\nSemantic role labelling (see also implicit semantic role labelling below)\\nGiven a single sentence, identify and disambiguate semantic predicates (e.g., verbal frames), then identify and classify the frame elements (semantic roles).\\n\\n\\n=== Discourse (semantics beyond individual sentences) ===\\nCoreference resolution\\nGiven a sentence or larger chunk of text, determine which words (\"mentions\") refer to the same objects (\"entities\"). Anaphora resolution is a specific example of this task, and is specifically concerned with matching up pronouns with the nouns or names to which they refer. The more general task of coreference resolution also includes identifying so-called \"bridging relationships\" involving referring expressions. For example, in a sentence such as \"He entered John\\'s house through the front door\", \"the front door\" is a referring expression and the bridging relationship to be identified is the fact that the door being referred to is the front door of John\\'s house (rather than of some other structure that might also be referred to).\\nDiscourse analysis\\nThis rubric includes several related tasks.  One task is discourse parsing, i.e., identifying the discourse structure of a connected text, i.e. the nature of the discourse relationships between sentences (e.g. elaboration, explanation, contrast).  Another possible task is recognizing and classifying the speech acts in a chunk of text (e.g. yes-no question, content question, statement, assertion, etc.).Implicit semantic role labelling\\nGiven a single sentence, identify and disambiguate semantic predicates (e.g., verbal frames) and their explicit semantic roles in the current sentence (see Semantic role labelling above). Then, identify semantic roles that are not explicitly realized in the current sentence, classify them into arguments that are explicitly realized elsewhere in the text and those that are not specified, and resolve the former against the local text. A closely related task is zero anaphora resolution, i.e., the extension of coreference resolution to pro-drop languages.Recognizing textual entailment\\nGiven two text fragments, determine if one being true entails the other, entails the other\\'s negation, or allows the other to be either true or false.Topic segmentation and recognition\\nGiven a chunk of text, separate it into segments each of which is devoted to a topic, and identify the topic of the segment.Argument mining\\nThe goal of argument mining is the automatic extraction and identification of argumentative structures from natural language text with the aid of computer programs. Such argumentative structures include the premise, conclusions, the argument scheme and the relationship between the main and subsidiary argument, or the main and counter-argument within discourse.\\n\\n\\n=== Higher-level NLP applications ===\\nAutomatic summarization (text summarization)\\nProduce a readable summary of a chunk of text.  Often used to provide summaries of the text of a known type, such as research papers, articles in the financial section of a newspaper.\\nBook generation\\nNot an NLP task proper but an extension of natural language generation and other NLP tasks is the creation of full-fledged books. The first machine-generated book was created by a rule-based system in 1984 (Racter, The policeman\\'s beard is half-constructed). The first published work by a neural network was published in 2018, 1 the Road, marketed as a novel, contains sixty million words. Both these systems are basically elaborate but non-sensical (semantics-free) language models. The first machine-generated science book was published in 2019 (Beta Writer, Lithium-Ion Batteries, Springer, Cham). Unlike Racter and 1 the Road, this is grounded on factual knowledge and based on text summarization.\\nDialogue management\\nComputer systems intended to converse with a human.\\nDocument AI\\nA Document AI platform sits on top of the NLP technology enabling users with no prior experience of artificial intelligence, machine learning or NLP to quickly train a computer to extract the specific data they need from different document types. NLP-powered Document AI enables non-technical teams to quickly access information hidden in documents, for example, lawyers, business analysts and accountants.\\nGrammatical error correction\\nGrammatical error detection and correction involves a great band-width of problems on all levels of linguistic analysis (phonology/orthography, morphology, syntax, semantics, pragmatics). Grammatical error correction is impactful since it affects hundreds of millions of people that use or acquire English as a second language. It has thus been subject to a number of shared tasks since 2011. As far as orthography, morphology, syntax and certain aspects of semantics are concerned, and due to the development of powerful neural language models such as GPT-2, this can now (2019) be considered a largely solved problem and is being marketed in various commercial applications.\\nMachine translation\\nAutomatically translate text from one human language to another.  This is one of the most difficult problems, and is a member of a class of problems colloquially termed \"AI-complete\", i.e. requiring all of the different types of knowledge that humans possess (grammar, semantics, facts about the real world, etc.) to solve properly.\\nNatural-language generation (NLG):\\nConvert information from computer databases or semantic intents into readable human language.\\nNatural-language understanding (NLU)\\nConvert chunks of text into more formal representations such as first-order logic structures that are easier for computer programs to manipulate. Natural language understanding involves the identification of the intended semantic from the multiple possible semantics which can be derived from a natural language expression which usually takes the form of organized notations of natural language concepts. Introduction and creation of language metamodel and ontology are efficient however empirical solutions. An explicit formalization of natural language semantics without confusions with implicit assumptions such as closed-world assumption (CWA) vs. open-world assumption, or subjective Yes/No vs. objective True/False is expected for the construction of a basis of semantics formalization.\\nQuestion answering\\nGiven a human-language question, determine its answer. Typical questions have a specific right answer (such as \"What is the capital of Canada?\"), but sometimes open-ended questions are also considered (such as \"What is the meaning of life?\").\\nText-to-image generation\\nGiven a description of an image, generate an image that matches the description.\\nText-to-scene generation\\nGiven a description of a scene, generate a 3D model of the scene.\\n\\n\\n== General tendencies and (possible) future directions ==\\nBased on long-standing trends in the field, it is possible to extrapolate future directions of NLP. As of 2020, three trends among the topics of the long-standing series of CoNLL Shared Tasks can be observed:\\nInterest on increasingly abstract, \"cognitive\" aspects of natural language (1999–2001: shallow parsing, 2002–03: named entity recognition, 2006–09/2017–18: dependency syntax, 2004–05/2008–09 semantic role labelling, 2011–12 coreference, 2015–16: discourse parsing, 2019: semantic parsing).\\nIncreasing interest in multilinguality, and, potentially, multimodality (English since 1999; Spanish, Dutch since 2002; German since 2003; Bulgarian, Danish, Japanese, Portuguese, Slovenian, Swedish, Turkish since 2006; Basque, Catalan, Chinese, Greek, Hungarian, Italian, Turkish since 2007; Czech since 2009; Arabic since 2012; 2017: 40+ languages; 2018: 60+/100+ languages)\\nElimination of symbolic representations (rule-based over supervised towards weakly supervised methods, representation learning and end-to-end systems)\\n\\n\\n=== Cognition and NLP ===\\nMost higher-level NLP applications involve aspects that emulate intelligent behaviour and apparent comprehension of natural language. More broadly speaking, the technical operationalization of increasingly advanced aspects of cognitive behaviour represents one of the developmental trajectories of NLP (see trends among CoNLL shared tasks above).\\nCognition refers to \"the mental action or process of acquiring knowledge and understanding through thought, experience, and the senses.\" Cognitive science is the interdisciplinary, scientific study of the mind and its processes. Cognitive linguistics is an interdisciplinary branch of linguistics, combining knowledge and research from both psychology and linguistics. Especially during the age of symbolic NLP, the area of computational linguistics maintained strong ties with cognitive studies.\\nAs an example, George Lakoff offers a methodology to build natural language processing (NLP) algorithms through the perspective of cognitive science, along with the findings of cognitive linguistics, with two defining aspects:\\n\\nApply the theory of conceptual metaphor, explained by Lakoff as \"the understanding of one idea, in terms of another\" which provides an idea of the intent of the author. For example, consider the English word big. When used in a comparison (\"That is a big tree\"), the author\\'s intent is to imply that the tree is physically large relative to other trees or the authors experience.  When used metaphorically (\"Tomorrow is a big day\"), the author\\'s intent to imply importance.  The intent behind other usages, like in \"She is a big person\", will remain somewhat ambiguous to a person and a cognitive NLP algorithm alike without additional information.\\nAssign relative measures of meaning to a word, phrase, sentence or piece of text based on the information presented before and after the piece of text being analyzed, e.g., by means of a probabilistic context-free grammar (PCFG). The mathematical equation for such algorithms is presented in US patent 9269353 :\\n  \\n    \\n      \\n        \\n          R\\n          M\\n          M\\n          (\\n          t\\n          o\\n          k\\n          e\\n          \\n            n\\n            \\n              N\\n            \\n          \\n          )\\n        \\n        =\\n        \\n          P\\n          M\\n          M\\n          (\\n          t\\n          o\\n          k\\n          e\\n          \\n            n\\n            \\n              N\\n            \\n          \\n          )\\n        \\n        ×\\n        \\n          \\n            1\\n            \\n              2\\n              d\\n            \\n          \\n        \\n        \\n          (\\n          \\n            \\n              ∑\\n              \\n                i\\n                =\\n                −\\n                d\\n              \\n              \\n                d\\n              \\n            \\n            \\n              (\\n              (\\n              P\\n              M\\n              M\\n              (\\n              t\\n              o\\n              k\\n              e\\n              \\n                n\\n                \\n                  N\\n                  −\\n                  1\\n                \\n              \\n              )\\n            \\n            ×\\n            \\n              P\\n              F\\n              (\\n              t\\n              o\\n              k\\n              e\\n              \\n                n\\n                \\n                  N\\n                \\n              \\n              ,\\n              t\\n              o\\n              k\\n              e\\n              \\n                n\\n                \\n                  N\\n                  −\\n                  1\\n                \\n              \\n              )\\n              \\n                )\\n                \\n                  i\\n                \\n              \\n            \\n          \\n          )\\n        \\n      \\n    \\n    {\\\\displaystyle {RMM(token_{N})}={PMM(token_{N})}\\\\times {\\\\frac {1}{2d}}\\\\left(\\\\sum _{i=-d}^{d}{((PMM(token_{N-1})}\\\\times {PF(token_{N},token_{N-1}))_{i}}\\\\right)}\\n  Where,\\nRMM, is the Relative Measure of Meaning\\ntoken, is any block of text, sentence, phrase or word\\nN, is the number of tokens being analyzed\\nPMM, is the Probable Measure of Meaning based on a corpora\\nd, is the location of the token along the sequence of N-1 tokens\\nPF, is the Probability Function specific to a languageTies with cognitive linguistics are part of the historical heritage of NLP, but they have been less frequently addressed since the statistical turn during the 1990s. Nevertheless, approaches to develop cognitive models towards technically operationalizable frameworks have been pursued in the context of various frameworks, e.g., of cognitive grammar, functional grammar, construction grammar, computational psycholinguistics and cognitive neuroscience (e.g., ACT-R), however, with limited uptake in mainstream NLP (as measured by presence on major conferences of the ACL). More recently, ideas of cognitive NLP have been revived as an approach to achieve explainability, e.g., under the notion of \"cognitive AI\". Likewise, ideas of cognitive NLP are inherent to neural models multimodal NLP (although rarely made explicit).\\n\\n\\n== See also ==\\n\\n\\n== References ==\\n\\n\\n== Further reading ==\\n\\n\\n== External links ==\\n Media related to Natural language processing at Wikimedia Commons'"
            ],
            "application/vnd.google.colaboratory.intrinsic+json": {
              "type": "string"
            }
          },
          "metadata": {},
          "execution_count": 77
        }
      ]
    },
    {
      "cell_type": "code",
      "source": [
        "#display length of training data\n",
        "len(train_data)"
      ],
      "metadata": {
        "colab": {
          "base_uri": "https://localhost:8080/"
        },
        "id": "UAo5GadwPxUN",
        "outputId": "c8e5bfc5-95e7-43fa-ae5e-684739b8ce08"
      },
      "execution_count": null,
      "outputs": [
        {
          "output_type": "execute_result",
          "data": {
            "text/plain": [
              "33137"
            ]
          },
          "metadata": {},
          "execution_count": 78
        }
      ]
    },
    {
      "cell_type": "code",
      "source": [
        "#lexical richness\n",
        "len(set(train_data))/len(train_data)"
      ],
      "metadata": {
        "colab": {
          "base_uri": "https://localhost:8080/"
        },
        "id": "_coJ1M4DP8hH",
        "outputId": "183e8995-7299-4847-feb0-23e00718ce4d"
      },
      "execution_count": null,
      "outputs": [
        {
          "output_type": "execute_result",
          "data": {
            "text/plain": [
              "0.002534930742070797"
            ]
          },
          "metadata": {},
          "execution_count": 79
        }
      ]
    },
    {
      "cell_type": "code",
      "source": [
        "#corpus"
      ],
      "metadata": {
        "id": "5PHLmAEThfrO"
      },
      "execution_count": null,
      "outputs": []
    },
    {
      "cell_type": "code",
      "source": [
        "# example1 = \"/content/cleaned_merged_fairy_tales_without_eos.txt\"\n",
        "# file1 = open(example1, \"r\")\n",
        "# Read the file\n",
        "\n",
        "# FileContent = file1.read()\n",
        "# FileContent"
      ],
      "metadata": {
        "id": "boV9HH8aXqyN"
      },
      "execution_count": null,
      "outputs": []
    },
    {
      "cell_type": "markdown",
      "source": [
        "### Preprocessing training data"
      ],
      "metadata": {
        "id": "1EK5p2UYQ781"
      }
    },
    {
      "cell_type": "code",
      "source": [
        "#convert to lowercase\n",
        "train_lower = train_data.lower()"
      ],
      "metadata": {
        "id": "0BJkZEI-S-Qt"
      },
      "execution_count": null,
      "outputs": []
    },
    {
      "cell_type": "code",
      "source": [
        "#add preprocessing, remove punctuation and brackets\n",
        "train_text = re.sub(r\"\\[.*\\]|\\{.*\\}\", \"\", train_lower)\n",
        "train_text = re.sub(r'[^\\w\\s]', \"\", train_text)"
      ],
      "metadata": {
        "id": "ukAUjqSfTBOM"
      },
      "execution_count": null,
      "outputs": []
    },
    {
      "cell_type": "code",
      "source": [
        "#stopwords initialize\n",
        "nltk.download('stopwords')\n",
        "stop_words_nltk = set(stopwords.words('english'))\n",
        "print(stop_words_nltk)"
      ],
      "metadata": {
        "colab": {
          "base_uri": "https://localhost:8080/"
        },
        "id": "ajxpll2TaHES",
        "outputId": "2ff6358b-337d-40df-9306-9cdb7e3723a1"
      },
      "execution_count": null,
      "outputs": [
        {
          "output_type": "stream",
          "name": "stdout",
          "text": [
            "{'just', 'hasn', 'him', 'here', \"weren't\", 're', 'most', 'ours', 'is', 'an', 'he', 'nor', 'if', 'wouldn', 'down', 'had', 'that', 'hadn', 'isn', 'the', 'but', 'our', \"hadn't\", 'couldn', 'them', 's', 'herself', 'does', 'there', 'was', \"doesn't\", 'wasn', 'what', \"wouldn't\", 'yours', 'over', 'weren', 'her', 'did', 'out', 'shouldn', \"wasn't\", 'while', 'this', 'needn', 'before', 'below', 'all', 'no', 'should', 'whom', 'm', 'hers', 'itself', 'a', 'in', 'your', 'd', 'll', 'under', 'and', 'through', 'up', 'into', 'both', 'which', 'himself', 'being', 'myself', \"you'll\", 'as', 'now', 'its', 'then', 'his', 'off', \"haven't\", 'be', 'it', \"aren't\", 'each', 'you', 'were', \"shouldn't\", 'after', 'about', 'do', 'between', 'who', \"isn't\", 'we', 'these', 'theirs', \"you're\", 'ain', 'mustn', 'why', \"it's\", \"don't\", 'against', 'mightn', 'yourselves', \"you've\", 'where', 'doesn', 'any', \"should've\", 'me', 'when', 'own', 't', 'o', 'themselves', 'very', 'further', \"needn't\", \"won't\", \"you'd\", \"that'll\", 'doing', 'y', 'ma', 'shan', 'too', 'she', 'than', 'at', 'can', 'or', 'by', 'haven', 've', \"couldn't\", \"shan't\", 'are', 'how', 'my', 'so', 'once', 'more', \"hasn't\", 'those', 'didn', 'because', 'of', 'same', 'yourself', 'don', \"mightn't\", 'during', 'some', 'not', 'until', 'am', \"didn't\", 'few', 'only', 'with', 'other', 'aren', 'their', 'again', 'to', 'such', 'will', 'won', 'for', 'ourselves', 'been', 'above', 'have', \"she's\", 'from', 'having', 'on', \"mustn't\", 'i', 'has', 'they'}\n"
          ]
        },
        {
          "output_type": "stream",
          "name": "stderr",
          "text": [
            "[nltk_data] Downloading package stopwords to /root/nltk_data...\n",
            "[nltk_data]   Package stopwords is already up-to-date!\n"
          ]
        }
      ]
    },
    {
      "cell_type": "code",
      "source": [
        "#tokenize file\n",
        "nltk.download('punkt')\n",
        "tokenized_text = word_tokenize(train_text)"
      ],
      "metadata": {
        "colab": {
          "base_uri": "https://localhost:8080/"
        },
        "id": "memoUoqDae4t",
        "outputId": "d0181d6f-1f43-4c9b-c984-6da4f0fd4c2b"
      },
      "execution_count": null,
      "outputs": [
        {
          "output_type": "stream",
          "name": "stderr",
          "text": [
            "[nltk_data] Downloading package punkt to /root/nltk_data...\n",
            "[nltk_data]   Package punkt is already up-to-date!\n"
          ]
        }
      ]
    },
    {
      "cell_type": "code",
      "source": [
        "#remove stopwords from file\n",
        "tokenized_text_without_stopwords = [i for i in tokenized_text if not i in stop_words_nltk]"
      ],
      "metadata": {
        "id": "rdHByAb-agkr"
      },
      "execution_count": null,
      "outputs": []
    },
    {
      "cell_type": "code",
      "source": [
        "tokenized_text_without_stopwords"
      ],
      "metadata": {
        "id": "IqlKf1iRqFyS",
        "colab": {
          "base_uri": "https://localhost:8080/"
        },
        "outputId": "69c0e548-cfef-48f5-a2c6-434e2f621d6e"
      },
      "execution_count": null,
      "outputs": [
        {
          "output_type": "execute_result",
          "data": {
            "text/plain": [
              "['natural',\n",
              " 'language',\n",
              " 'processing',\n",
              " 'nlp',\n",
              " 'subfield',\n",
              " 'linguistics',\n",
              " 'computer',\n",
              " 'science',\n",
              " 'artificial',\n",
              " 'intelligence',\n",
              " 'concerned',\n",
              " 'interactions',\n",
              " 'computers',\n",
              " 'human',\n",
              " 'language',\n",
              " 'particular',\n",
              " 'program',\n",
              " 'computers',\n",
              " 'process',\n",
              " 'analyze',\n",
              " 'large',\n",
              " 'amounts',\n",
              " 'natural',\n",
              " 'language',\n",
              " 'data',\n",
              " 'goal',\n",
              " 'computer',\n",
              " 'capable',\n",
              " 'understanding',\n",
              " 'contents',\n",
              " 'documents',\n",
              " 'including',\n",
              " 'contextual',\n",
              " 'nuances',\n",
              " 'language',\n",
              " 'within',\n",
              " 'technology',\n",
              " 'accurately',\n",
              " 'extract',\n",
              " 'information',\n",
              " 'insights',\n",
              " 'contained',\n",
              " 'documents',\n",
              " 'well',\n",
              " 'categorize',\n",
              " 'organize',\n",
              " 'documents',\n",
              " 'challenges',\n",
              " 'natural',\n",
              " 'language',\n",
              " 'processing',\n",
              " 'frequently',\n",
              " 'involve',\n",
              " 'speech',\n",
              " 'recognition',\n",
              " 'naturallanguage',\n",
              " 'understanding',\n",
              " 'naturallanguage',\n",
              " 'generation',\n",
              " 'history',\n",
              " 'natural',\n",
              " 'language',\n",
              " 'processing',\n",
              " 'roots',\n",
              " '1950s',\n",
              " 'already',\n",
              " '1950',\n",
              " 'alan',\n",
              " 'turing',\n",
              " 'published',\n",
              " 'article',\n",
              " 'titled',\n",
              " 'computing',\n",
              " 'machinery',\n",
              " 'intelligence',\n",
              " 'proposed',\n",
              " 'called',\n",
              " 'turing',\n",
              " 'test',\n",
              " 'criterion',\n",
              " 'intelligence',\n",
              " 'though',\n",
              " 'time',\n",
              " 'articulated',\n",
              " 'problem',\n",
              " 'separate',\n",
              " 'artificial',\n",
              " 'intelligence',\n",
              " 'proposed',\n",
              " 'test',\n",
              " 'includes',\n",
              " 'task',\n",
              " 'involves',\n",
              " 'automated',\n",
              " 'interpretation',\n",
              " 'generation',\n",
              " 'natural',\n",
              " 'language',\n",
              " 'symbolic',\n",
              " 'nlp',\n",
              " '1950s',\n",
              " 'early',\n",
              " '1990s',\n",
              " 'premise',\n",
              " 'symbolic',\n",
              " 'nlp',\n",
              " 'wellsummarized',\n",
              " 'john',\n",
              " 'searles',\n",
              " 'chinese',\n",
              " 'room',\n",
              " 'experiment',\n",
              " 'given',\n",
              " 'collection',\n",
              " 'rules',\n",
              " 'eg',\n",
              " 'chinese',\n",
              " 'phrasebook',\n",
              " 'questions',\n",
              " 'matching',\n",
              " 'answers',\n",
              " 'computer',\n",
              " 'emulates',\n",
              " 'natural',\n",
              " 'language',\n",
              " 'understanding',\n",
              " 'nlp',\n",
              " 'tasks',\n",
              " 'applying',\n",
              " 'rules',\n",
              " 'data',\n",
              " 'confronts',\n",
              " '1950s',\n",
              " 'georgetown',\n",
              " 'experiment',\n",
              " '1954',\n",
              " 'involved',\n",
              " 'fully',\n",
              " 'automatic',\n",
              " 'translation',\n",
              " 'sixty',\n",
              " 'russian',\n",
              " 'sentences',\n",
              " 'english',\n",
              " 'authors',\n",
              " 'claimed',\n",
              " 'within',\n",
              " 'three',\n",
              " 'five',\n",
              " 'years',\n",
              " 'machine',\n",
              " 'translation',\n",
              " 'would',\n",
              " 'solved',\n",
              " 'problem',\n",
              " 'however',\n",
              " 'real',\n",
              " 'progress',\n",
              " 'much',\n",
              " 'slower',\n",
              " 'alpac',\n",
              " 'report',\n",
              " '1966',\n",
              " 'found',\n",
              " 'tenyearlong',\n",
              " 'research',\n",
              " 'failed',\n",
              " 'fulfill',\n",
              " 'expectations',\n",
              " 'funding',\n",
              " 'machine',\n",
              " 'translation',\n",
              " 'dramatically',\n",
              " 'reduced',\n",
              " 'little',\n",
              " 'research',\n",
              " 'machine',\n",
              " 'translation',\n",
              " 'conducted',\n",
              " 'late',\n",
              " '1980s',\n",
              " 'first',\n",
              " 'statistical',\n",
              " 'machine',\n",
              " 'translation',\n",
              " 'systems',\n",
              " 'developed',\n",
              " '1960s',\n",
              " 'notably',\n",
              " 'successful',\n",
              " 'natural',\n",
              " 'language',\n",
              " 'processing',\n",
              " 'systems',\n",
              " 'developed',\n",
              " '1960s',\n",
              " 'shrdlu',\n",
              " 'natural',\n",
              " 'language',\n",
              " 'system',\n",
              " 'working',\n",
              " 'restricted',\n",
              " 'blocks',\n",
              " 'worlds',\n",
              " 'restricted',\n",
              " 'vocabularies',\n",
              " 'eliza',\n",
              " 'simulation',\n",
              " 'rogerian',\n",
              " 'psychotherapist',\n",
              " 'written',\n",
              " 'joseph',\n",
              " 'weizenbaum',\n",
              " '1964',\n",
              " '1966',\n",
              " 'using',\n",
              " 'almost',\n",
              " 'information',\n",
              " 'human',\n",
              " 'thought',\n",
              " 'emotion',\n",
              " 'eliza',\n",
              " 'sometimes',\n",
              " 'provided',\n",
              " 'startlingly',\n",
              " 'humanlike',\n",
              " 'interaction',\n",
              " 'patient',\n",
              " 'exceeded',\n",
              " 'small',\n",
              " 'knowledge',\n",
              " 'base',\n",
              " 'eliza',\n",
              " 'might',\n",
              " 'provide',\n",
              " 'generic',\n",
              " 'response',\n",
              " 'example',\n",
              " 'responding',\n",
              " 'head',\n",
              " 'hurts',\n",
              " 'say',\n",
              " 'head',\n",
              " 'hurts',\n",
              " '1970s',\n",
              " '1970s',\n",
              " 'many',\n",
              " 'programmers',\n",
              " 'began',\n",
              " 'write',\n",
              " 'conceptual',\n",
              " 'ontologies',\n",
              " 'structured',\n",
              " 'realworld',\n",
              " 'information',\n",
              " 'computerunderstandable',\n",
              " 'data',\n",
              " 'examples',\n",
              " 'margie',\n",
              " 'schank',\n",
              " '1975',\n",
              " 'sam',\n",
              " 'cullingford',\n",
              " '1978',\n",
              " 'pam',\n",
              " 'wilensky',\n",
              " '1978',\n",
              " 'talespin',\n",
              " 'meehan',\n",
              " '1976',\n",
              " 'qualm',\n",
              " 'lehnert',\n",
              " '1977',\n",
              " 'politics',\n",
              " 'carbonell',\n",
              " '1979',\n",
              " 'plot',\n",
              " 'units',\n",
              " 'lehnert',\n",
              " '1981',\n",
              " 'time',\n",
              " 'first',\n",
              " 'chatterbots',\n",
              " 'written',\n",
              " 'eg',\n",
              " 'parry',\n",
              " '1980s',\n",
              " '1980s',\n",
              " 'early',\n",
              " '1990s',\n",
              " 'mark',\n",
              " 'heyday',\n",
              " 'symbolic',\n",
              " 'methods',\n",
              " 'nlp',\n",
              " 'focus',\n",
              " 'areas',\n",
              " 'time',\n",
              " 'included',\n",
              " 'research',\n",
              " 'rulebased',\n",
              " 'parsing',\n",
              " 'eg',\n",
              " 'development',\n",
              " 'hpsg',\n",
              " 'computational',\n",
              " 'operationalization',\n",
              " 'generative',\n",
              " 'grammar',\n",
              " 'morphology',\n",
              " 'eg',\n",
              " 'twolevel',\n",
              " 'morphology',\n",
              " 'semantics',\n",
              " 'eg',\n",
              " 'lesk',\n",
              " 'algorithm',\n",
              " 'reference',\n",
              " 'eg',\n",
              " 'within',\n",
              " 'centering',\n",
              " 'theory',\n",
              " 'areas',\n",
              " 'natural',\n",
              " 'language',\n",
              " 'understanding',\n",
              " 'eg',\n",
              " 'rhetorical',\n",
              " 'structure',\n",
              " 'theory',\n",
              " 'lines',\n",
              " 'research',\n",
              " 'continued',\n",
              " 'eg',\n",
              " 'development',\n",
              " 'chatterbots',\n",
              " 'racter',\n",
              " 'jabberwacky',\n",
              " 'important',\n",
              " 'development',\n",
              " 'eventually',\n",
              " 'led',\n",
              " 'statistical',\n",
              " 'turn',\n",
              " '1990s',\n",
              " 'rising',\n",
              " 'importance',\n",
              " 'quantitative',\n",
              " 'evaluation',\n",
              " 'period',\n",
              " 'statistical',\n",
              " 'nlp',\n",
              " '1990s2010s',\n",
              " '1980s',\n",
              " 'natural',\n",
              " 'language',\n",
              " 'processing',\n",
              " 'systems',\n",
              " 'based',\n",
              " 'complex',\n",
              " 'sets',\n",
              " 'handwritten',\n",
              " 'rules',\n",
              " 'starting',\n",
              " 'late',\n",
              " '1980s',\n",
              " 'however',\n",
              " 'revolution',\n",
              " 'natural',\n",
              " 'language',\n",
              " 'processing',\n",
              " 'introduction',\n",
              " 'machine',\n",
              " 'learning',\n",
              " 'algorithms',\n",
              " 'language',\n",
              " 'processing',\n",
              " 'due',\n",
              " 'steady',\n",
              " 'increase',\n",
              " 'computational',\n",
              " 'power',\n",
              " 'see',\n",
              " 'moores',\n",
              " 'law',\n",
              " 'gradual',\n",
              " 'lessening',\n",
              " 'dominance',\n",
              " 'chomskyan',\n",
              " 'theories',\n",
              " 'linguistics',\n",
              " 'eg',\n",
              " 'transformational',\n",
              " 'grammar',\n",
              " 'whose',\n",
              " 'theoretical',\n",
              " 'underpinnings',\n",
              " 'discouraged',\n",
              " 'sort',\n",
              " 'corpus',\n",
              " 'linguistics',\n",
              " 'underlies',\n",
              " 'machinelearning',\n",
              " 'approach',\n",
              " 'language',\n",
              " 'processing',\n",
              " '1990s',\n",
              " 'many',\n",
              " 'notable',\n",
              " 'early',\n",
              " 'successes',\n",
              " 'statistical',\n",
              " 'methods',\n",
              " 'nlp',\n",
              " 'occurred',\n",
              " 'field',\n",
              " 'machine',\n",
              " 'translation',\n",
              " 'due',\n",
              " 'especially',\n",
              " 'work',\n",
              " 'ibm',\n",
              " 'research',\n",
              " 'systems',\n",
              " 'able',\n",
              " 'take',\n",
              " 'advantage',\n",
              " 'existing',\n",
              " 'multilingual',\n",
              " 'textual',\n",
              " 'corpora',\n",
              " 'produced',\n",
              " 'parliament',\n",
              " 'canada',\n",
              " 'european',\n",
              " 'union',\n",
              " 'result',\n",
              " 'laws',\n",
              " 'calling',\n",
              " 'translation',\n",
              " 'governmental',\n",
              " 'proceedings',\n",
              " 'official',\n",
              " 'languages',\n",
              " 'corresponding',\n",
              " 'systems',\n",
              " 'government',\n",
              " 'however',\n",
              " 'systems',\n",
              " 'depended',\n",
              " 'corpora',\n",
              " 'specifically',\n",
              " 'developed',\n",
              " 'tasks',\n",
              " 'implemented',\n",
              " 'systems',\n",
              " 'often',\n",
              " 'continues',\n",
              " 'major',\n",
              " 'limitation',\n",
              " 'success',\n",
              " 'systems',\n",
              " 'result',\n",
              " 'great',\n",
              " 'deal',\n",
              " 'research',\n",
              " 'gone',\n",
              " 'methods',\n",
              " 'effectively',\n",
              " 'learning',\n",
              " 'limited',\n",
              " 'amounts',\n",
              " 'data',\n",
              " '2000s',\n",
              " 'growth',\n",
              " 'web',\n",
              " 'increasing',\n",
              " 'amounts',\n",
              " 'raw',\n",
              " 'unannotated',\n",
              " 'language',\n",
              " 'data',\n",
              " 'become',\n",
              " 'available',\n",
              " 'since',\n",
              " 'mid1990s',\n",
              " 'research',\n",
              " 'thus',\n",
              " 'increasingly',\n",
              " 'focused',\n",
              " 'unsupervised',\n",
              " 'semisupervised',\n",
              " 'learning',\n",
              " 'algorithms',\n",
              " 'algorithms',\n",
              " 'learn',\n",
              " 'data',\n",
              " 'handannotated',\n",
              " 'desired',\n",
              " 'answers',\n",
              " 'using',\n",
              " 'combination',\n",
              " 'annotated',\n",
              " 'nonannotated',\n",
              " 'data',\n",
              " 'generally',\n",
              " 'task',\n",
              " 'much',\n",
              " 'difficult',\n",
              " 'supervised',\n",
              " 'learning',\n",
              " 'typically',\n",
              " 'produces',\n",
              " 'less',\n",
              " 'accurate',\n",
              " 'results',\n",
              " 'given',\n",
              " 'amount',\n",
              " 'input',\n",
              " 'data',\n",
              " 'however',\n",
              " 'enormous',\n",
              " 'amount',\n",
              " 'nonannotated',\n",
              " 'data',\n",
              " 'available',\n",
              " 'including',\n",
              " 'among',\n",
              " 'things',\n",
              " 'entire',\n",
              " 'content',\n",
              " 'world',\n",
              " 'wide',\n",
              " 'web',\n",
              " 'often',\n",
              " 'make',\n",
              " 'inferior',\n",
              " 'results',\n",
              " 'algorithm',\n",
              " 'used',\n",
              " 'low',\n",
              " 'enough',\n",
              " 'time',\n",
              " 'complexity',\n",
              " 'practical',\n",
              " 'neural',\n",
              " 'nlp',\n",
              " 'present',\n",
              " '2010s',\n",
              " 'representation',\n",
              " 'learning',\n",
              " 'deep',\n",
              " 'neural',\n",
              " 'networkstyle',\n",
              " 'machine',\n",
              " 'learning',\n",
              " 'methods',\n",
              " 'became',\n",
              " 'widespread',\n",
              " 'natural',\n",
              " 'language',\n",
              " 'processing',\n",
              " 'popularity',\n",
              " 'due',\n",
              " 'partly',\n",
              " 'flurry',\n",
              " 'results',\n",
              " 'showing',\n",
              " 'techniques',\n",
              " 'achieve',\n",
              " 'stateoftheart',\n",
              " 'results',\n",
              " 'many',\n",
              " 'natural',\n",
              " 'language',\n",
              " 'tasks',\n",
              " 'eg',\n",
              " 'language',\n",
              " 'modeling',\n",
              " 'parsing',\n",
              " 'increasingly',\n",
              " 'important',\n",
              " 'medicine',\n",
              " 'healthcare',\n",
              " 'nlp',\n",
              " 'helps',\n",
              " 'analyze',\n",
              " 'notes',\n",
              " 'text',\n",
              " 'electronic',\n",
              " 'health',\n",
              " 'records',\n",
              " 'would',\n",
              " 'otherwise',\n",
              " 'inaccessible',\n",
              " 'study',\n",
              " 'seeking',\n",
              " 'improve',\n",
              " 'care',\n",
              " 'methods',\n",
              " 'rules',\n",
              " 'statistics',\n",
              " 'neural',\n",
              " 'networks',\n",
              " 'early',\n",
              " 'days',\n",
              " 'many',\n",
              " 'languageprocessing',\n",
              " 'systems',\n",
              " 'designed',\n",
              " 'symbolic',\n",
              " 'methods',\n",
              " 'ie',\n",
              " 'handcoding',\n",
              " 'set',\n",
              " 'rules',\n",
              " 'coupled',\n",
              " 'dictionary',\n",
              " 'lookup',\n",
              " 'writing',\n",
              " 'grammars',\n",
              " 'devising',\n",
              " 'heuristic',\n",
              " 'rules',\n",
              " 'stemming',\n",
              " 'recent',\n",
              " 'systems',\n",
              " 'based',\n",
              " 'machinelearning',\n",
              " 'algorithms',\n",
              " 'many',\n",
              " 'advantages',\n",
              " 'handproduced',\n",
              " 'rules',\n",
              " 'learning',\n",
              " 'procedures',\n",
              " 'used',\n",
              " 'machine',\n",
              " 'learning',\n",
              " 'automatically',\n",
              " 'focus',\n",
              " 'common',\n",
              " 'cases',\n",
              " 'whereas',\n",
              " 'writing',\n",
              " 'rules',\n",
              " 'hand',\n",
              " 'often',\n",
              " 'obvious',\n",
              " 'effort',\n",
              " 'directed',\n",
              " 'automatic',\n",
              " 'learning',\n",
              " 'procedures',\n",
              " 'make',\n",
              " 'use',\n",
              " 'statistical',\n",
              " 'inference',\n",
              " 'algorithms',\n",
              " 'produce',\n",
              " 'models',\n",
              " 'robust',\n",
              " 'unfamiliar',\n",
              " 'input',\n",
              " 'eg',\n",
              " 'containing',\n",
              " 'words',\n",
              " 'structures',\n",
              " 'seen',\n",
              " 'erroneous',\n",
              " 'input',\n",
              " 'eg',\n",
              " 'misspelled',\n",
              " 'words',\n",
              " 'words',\n",
              " 'accidentally',\n",
              " 'omitted',\n",
              " 'generally',\n",
              " 'handling',\n",
              " 'input',\n",
              " 'gracefully',\n",
              " 'handwritten',\n",
              " 'rules',\n",
              " 'generally',\n",
              " 'creating',\n",
              " 'systems',\n",
              " 'handwritten',\n",
              " 'rules',\n",
              " 'make',\n",
              " 'soft',\n",
              " 'decisions',\n",
              " 'extremely',\n",
              " 'difficult',\n",
              " 'errorprone',\n",
              " 'timeconsuming',\n",
              " 'systems',\n",
              " 'based',\n",
              " 'automatically',\n",
              " 'learning',\n",
              " 'rules',\n",
              " 'made',\n",
              " 'accurate',\n",
              " 'simply',\n",
              " 'supplying',\n",
              " 'input',\n",
              " 'data',\n",
              " 'however',\n",
              " 'systems',\n",
              " 'based',\n",
              " 'handwritten',\n",
              " 'rules',\n",
              " 'made',\n",
              " 'accurate',\n",
              " 'increasing',\n",
              " 'complexity',\n",
              " 'rules',\n",
              " 'much',\n",
              " 'difficult',\n",
              " 'task',\n",
              " 'particular',\n",
              " 'limit',\n",
              " 'complexity',\n",
              " 'systems',\n",
              " 'based',\n",
              " 'handwritten',\n",
              " 'rules',\n",
              " 'beyond',\n",
              " 'systems',\n",
              " 'become',\n",
              " 'unmanageable',\n",
              " 'however',\n",
              " 'creating',\n",
              " 'data',\n",
              " 'input',\n",
              " 'machinelearning',\n",
              " 'systems',\n",
              " 'simply',\n",
              " 'requires',\n",
              " 'corresponding',\n",
              " 'increase',\n",
              " 'number',\n",
              " 'manhours',\n",
              " 'worked',\n",
              " 'generally',\n",
              " 'without',\n",
              " 'significant',\n",
              " 'increases',\n",
              " 'complexity',\n",
              " 'annotation',\n",
              " 'processdespite',\n",
              " 'popularity',\n",
              " 'machine',\n",
              " 'learning',\n",
              " 'nlp',\n",
              " 'research',\n",
              " 'symbolic',\n",
              " 'methods',\n",
              " 'still',\n",
              " '2020',\n",
              " 'commonly',\n",
              " 'used',\n",
              " 'amount',\n",
              " 'training',\n",
              " 'data',\n",
              " 'insufficient',\n",
              " 'successfully',\n",
              " 'apply',\n",
              " 'machine',\n",
              " 'learning',\n",
              " 'methods',\n",
              " 'eg',\n",
              " 'machine',\n",
              " 'translation',\n",
              " 'lowresource',\n",
              " 'languages',\n",
              " 'provided',\n",
              " 'apertium',\n",
              " 'system',\n",
              " 'preprocessing',\n",
              " 'nlp',\n",
              " 'pipelines',\n",
              " 'eg',\n",
              " 'tokenization',\n",
              " 'postprocessing',\n",
              " 'transforming',\n",
              " 'output',\n",
              " 'nlp',\n",
              " 'pipelines',\n",
              " 'eg',\n",
              " 'knowledge',\n",
              " 'extraction',\n",
              " 'syntactic',\n",
              " 'parses',\n",
              " 'statistical',\n",
              " 'methods',\n",
              " 'since',\n",
              " 'socalled',\n",
              " 'statistical',\n",
              " 'revolution',\n",
              " 'late',\n",
              " '1980s',\n",
              " 'mid1990s',\n",
              " 'much',\n",
              " 'natural',\n",
              " 'language',\n",
              " 'processing',\n",
              " 'research',\n",
              " 'relied',\n",
              " 'heavily',\n",
              " 'machine',\n",
              " 'learning',\n",
              " 'machinelearning',\n",
              " 'paradigm',\n",
              " 'calls',\n",
              " 'instead',\n",
              " 'using',\n",
              " 'statistical',\n",
              " 'inference',\n",
              " 'automatically',\n",
              " 'learn',\n",
              " 'rules',\n",
              " 'analysis',\n",
              " 'large',\n",
              " 'corpora',\n",
              " 'plural',\n",
              " 'form',\n",
              " 'corpus',\n",
              " 'set',\n",
              " 'documents',\n",
              " 'possibly',\n",
              " 'human',\n",
              " 'computer',\n",
              " 'annotations',\n",
              " 'typical',\n",
              " 'realworld',\n",
              " 'examples',\n",
              " 'many',\n",
              " 'different',\n",
              " 'classes',\n",
              " 'machinelearning',\n",
              " 'algorithms',\n",
              " 'applied',\n",
              " 'naturallanguageprocessing',\n",
              " 'tasks',\n",
              " 'algorithms',\n",
              " 'take',\n",
              " 'input',\n",
              " 'large',\n",
              " 'set',\n",
              " 'features',\n",
              " 'generated',\n",
              " 'input',\n",
              " 'data',\n",
              " 'increasingly',\n",
              " 'however',\n",
              " 'research',\n",
              " 'focused',\n",
              " 'statistical',\n",
              " 'models',\n",
              " 'make',\n",
              " 'soft',\n",
              " 'probabilistic',\n",
              " 'decisions',\n",
              " 'based',\n",
              " 'attaching',\n",
              " 'realvalued',\n",
              " 'weights',\n",
              " 'input',\n",
              " 'feature',\n",
              " 'complexvalued',\n",
              " 'embeddings',\n",
              " 'neural',\n",
              " 'networks',\n",
              " 'general',\n",
              " 'also',\n",
              " 'proposed',\n",
              " 'eg',\n",
              " 'speech',\n",
              " 'models',\n",
              " 'advantage',\n",
              " 'express',\n",
              " 'relative',\n",
              " 'certainty',\n",
              " 'many',\n",
              " 'different',\n",
              " 'possible',\n",
              " 'answers',\n",
              " 'rather',\n",
              " 'one',\n",
              " 'producing',\n",
              " 'reliable',\n",
              " 'results',\n",
              " 'model',\n",
              " 'included',\n",
              " 'component',\n",
              " 'larger',\n",
              " 'system',\n",
              " 'earliestused',\n",
              " 'machine',\n",
              " 'learning',\n",
              " 'algorithms',\n",
              " 'decision',\n",
              " 'trees',\n",
              " 'produced',\n",
              " 'systems',\n",
              " 'hard',\n",
              " 'ifthen',\n",
              " 'rules',\n",
              " 'similar',\n",
              " 'existing',\n",
              " 'handwritten',\n",
              " 'rules',\n",
              " 'however',\n",
              " 'partofspeech',\n",
              " 'tagging',\n",
              " 'introduced',\n",
              " 'use',\n",
              " 'hidden',\n",
              " 'markov',\n",
              " 'models',\n",
              " 'natural',\n",
              " 'language',\n",
              " 'processing',\n",
              " 'increasingly',\n",
              " 'research',\n",
              " 'focused',\n",
              " 'statistical',\n",
              " 'models',\n",
              " 'make',\n",
              " 'soft',\n",
              " 'probabilistic',\n",
              " 'decisions',\n",
              " 'based',\n",
              " 'attaching',\n",
              " 'realvalued',\n",
              " 'weights',\n",
              " 'features',\n",
              " 'making',\n",
              " 'input',\n",
              " 'data',\n",
              " 'cache',\n",
              " 'language',\n",
              " 'models',\n",
              " 'upon',\n",
              " 'many',\n",
              " 'speech',\n",
              " 'recognition',\n",
              " 'systems',\n",
              " 'rely',\n",
              " 'examples',\n",
              " 'statistical',\n",
              " 'models',\n",
              " 'models',\n",
              " 'generally',\n",
              " 'robust',\n",
              " 'given',\n",
              " 'unfamiliar',\n",
              " 'input',\n",
              " 'especially',\n",
              " 'input',\n",
              " 'contains',\n",
              " 'errors',\n",
              " 'common',\n",
              " 'realworld',\n",
              " 'data',\n",
              " 'produce',\n",
              " 'reliable',\n",
              " 'results',\n",
              " 'integrated',\n",
              " 'larger',\n",
              " 'system',\n",
              " 'comprising',\n",
              " 'multiple',\n",
              " 'subtasks',\n",
              " 'since',\n",
              " 'neural',\n",
              " 'turn',\n",
              " 'statistical',\n",
              " 'methods',\n",
              " 'nlp',\n",
              " 'research',\n",
              " 'largely',\n",
              " 'replaced',\n",
              " 'neural',\n",
              " 'networks',\n",
              " 'however',\n",
              " 'continue',\n",
              " 'relevant',\n",
              " 'contexts',\n",
              " 'statistical',\n",
              " 'interpretability',\n",
              " 'transparency',\n",
              " 'required',\n",
              " 'neural',\n",
              " 'networks',\n",
              " 'major',\n",
              " 'drawback',\n",
              " 'statistical',\n",
              " 'methods',\n",
              " 'require',\n",
              " ...]"
            ]
          },
          "metadata": {},
          "execution_count": 85
        }
      ]
    },
    {
      "cell_type": "code",
      "source": [
        "#stemming\n",
        "from nltk.stem import PorterStemmer\n",
        "from nltk.tokenize import word_tokenize\n",
        "stemmer= PorterStemmer()\n",
        "print(\"Before Stemming:\")\n",
        "print(tokenized_text_without_stopwords)\n",
        "print(\"After Stemming:\")\n",
        "l = ' '\n",
        "for word in tokenized_text_without_stopwords:\n",
        "  l = l + stemmer.stem(word) + ' '\n",
        "print(l)"
      ],
      "metadata": {
        "id": "wIOtCl9Nar9M",
        "colab": {
          "base_uri": "https://localhost:8080/"
        },
        "outputId": "6423917b-53a3-498e-9b5b-e200452cf0f8"
      },
      "execution_count": null,
      "outputs": [
        {
          "output_type": "stream",
          "name": "stdout",
          "text": [
            "Before Stemming:\n",
            "['natural', 'language', 'processing', 'nlp', 'subfield', 'linguistics', 'computer', 'science', 'artificial', 'intelligence', 'concerned', 'interactions', 'computers', 'human', 'language', 'particular', 'program', 'computers', 'process', 'analyze', 'large', 'amounts', 'natural', 'language', 'data', 'goal', 'computer', 'capable', 'understanding', 'contents', 'documents', 'including', 'contextual', 'nuances', 'language', 'within', 'technology', 'accurately', 'extract', 'information', 'insights', 'contained', 'documents', 'well', 'categorize', 'organize', 'documents', 'challenges', 'natural', 'language', 'processing', 'frequently', 'involve', 'speech', 'recognition', 'naturallanguage', 'understanding', 'naturallanguage', 'generation', 'history', 'natural', 'language', 'processing', 'roots', '1950s', 'already', '1950', 'alan', 'turing', 'published', 'article', 'titled', 'computing', 'machinery', 'intelligence', 'proposed', 'called', 'turing', 'test', 'criterion', 'intelligence', 'though', 'time', 'articulated', 'problem', 'separate', 'artificial', 'intelligence', 'proposed', 'test', 'includes', 'task', 'involves', 'automated', 'interpretation', 'generation', 'natural', 'language', 'symbolic', 'nlp', '1950s', 'early', '1990s', 'premise', 'symbolic', 'nlp', 'wellsummarized', 'john', 'searles', 'chinese', 'room', 'experiment', 'given', 'collection', 'rules', 'eg', 'chinese', 'phrasebook', 'questions', 'matching', 'answers', 'computer', 'emulates', 'natural', 'language', 'understanding', 'nlp', 'tasks', 'applying', 'rules', 'data', 'confronts', '1950s', 'georgetown', 'experiment', '1954', 'involved', 'fully', 'automatic', 'translation', 'sixty', 'russian', 'sentences', 'english', 'authors', 'claimed', 'within', 'three', 'five', 'years', 'machine', 'translation', 'would', 'solved', 'problem', 'however', 'real', 'progress', 'much', 'slower', 'alpac', 'report', '1966', 'found', 'tenyearlong', 'research', 'failed', 'fulfill', 'expectations', 'funding', 'machine', 'translation', 'dramatically', 'reduced', 'little', 'research', 'machine', 'translation', 'conducted', 'late', '1980s', 'first', 'statistical', 'machine', 'translation', 'systems', 'developed', '1960s', 'notably', 'successful', 'natural', 'language', 'processing', 'systems', 'developed', '1960s', 'shrdlu', 'natural', 'language', 'system', 'working', 'restricted', 'blocks', 'worlds', 'restricted', 'vocabularies', 'eliza', 'simulation', 'rogerian', 'psychotherapist', 'written', 'joseph', 'weizenbaum', '1964', '1966', 'using', 'almost', 'information', 'human', 'thought', 'emotion', 'eliza', 'sometimes', 'provided', 'startlingly', 'humanlike', 'interaction', 'patient', 'exceeded', 'small', 'knowledge', 'base', 'eliza', 'might', 'provide', 'generic', 'response', 'example', 'responding', 'head', 'hurts', 'say', 'head', 'hurts', '1970s', '1970s', 'many', 'programmers', 'began', 'write', 'conceptual', 'ontologies', 'structured', 'realworld', 'information', 'computerunderstandable', 'data', 'examples', 'margie', 'schank', '1975', 'sam', 'cullingford', '1978', 'pam', 'wilensky', '1978', 'talespin', 'meehan', '1976', 'qualm', 'lehnert', '1977', 'politics', 'carbonell', '1979', 'plot', 'units', 'lehnert', '1981', 'time', 'first', 'chatterbots', 'written', 'eg', 'parry', '1980s', '1980s', 'early', '1990s', 'mark', 'heyday', 'symbolic', 'methods', 'nlp', 'focus', 'areas', 'time', 'included', 'research', 'rulebased', 'parsing', 'eg', 'development', 'hpsg', 'computational', 'operationalization', 'generative', 'grammar', 'morphology', 'eg', 'twolevel', 'morphology', 'semantics', 'eg', 'lesk', 'algorithm', 'reference', 'eg', 'within', 'centering', 'theory', 'areas', 'natural', 'language', 'understanding', 'eg', 'rhetorical', 'structure', 'theory', 'lines', 'research', 'continued', 'eg', 'development', 'chatterbots', 'racter', 'jabberwacky', 'important', 'development', 'eventually', 'led', 'statistical', 'turn', '1990s', 'rising', 'importance', 'quantitative', 'evaluation', 'period', 'statistical', 'nlp', '1990s2010s', '1980s', 'natural', 'language', 'processing', 'systems', 'based', 'complex', 'sets', 'handwritten', 'rules', 'starting', 'late', '1980s', 'however', 'revolution', 'natural', 'language', 'processing', 'introduction', 'machine', 'learning', 'algorithms', 'language', 'processing', 'due', 'steady', 'increase', 'computational', 'power', 'see', 'moores', 'law', 'gradual', 'lessening', 'dominance', 'chomskyan', 'theories', 'linguistics', 'eg', 'transformational', 'grammar', 'whose', 'theoretical', 'underpinnings', 'discouraged', 'sort', 'corpus', 'linguistics', 'underlies', 'machinelearning', 'approach', 'language', 'processing', '1990s', 'many', 'notable', 'early', 'successes', 'statistical', 'methods', 'nlp', 'occurred', 'field', 'machine', 'translation', 'due', 'especially', 'work', 'ibm', 'research', 'systems', 'able', 'take', 'advantage', 'existing', 'multilingual', 'textual', 'corpora', 'produced', 'parliament', 'canada', 'european', 'union', 'result', 'laws', 'calling', 'translation', 'governmental', 'proceedings', 'official', 'languages', 'corresponding', 'systems', 'government', 'however', 'systems', 'depended', 'corpora', 'specifically', 'developed', 'tasks', 'implemented', 'systems', 'often', 'continues', 'major', 'limitation', 'success', 'systems', 'result', 'great', 'deal', 'research', 'gone', 'methods', 'effectively', 'learning', 'limited', 'amounts', 'data', '2000s', 'growth', 'web', 'increasing', 'amounts', 'raw', 'unannotated', 'language', 'data', 'become', 'available', 'since', 'mid1990s', 'research', 'thus', 'increasingly', 'focused', 'unsupervised', 'semisupervised', 'learning', 'algorithms', 'algorithms', 'learn', 'data', 'handannotated', 'desired', 'answers', 'using', 'combination', 'annotated', 'nonannotated', 'data', 'generally', 'task', 'much', 'difficult', 'supervised', 'learning', 'typically', 'produces', 'less', 'accurate', 'results', 'given', 'amount', 'input', 'data', 'however', 'enormous', 'amount', 'nonannotated', 'data', 'available', 'including', 'among', 'things', 'entire', 'content', 'world', 'wide', 'web', 'often', 'make', 'inferior', 'results', 'algorithm', 'used', 'low', 'enough', 'time', 'complexity', 'practical', 'neural', 'nlp', 'present', '2010s', 'representation', 'learning', 'deep', 'neural', 'networkstyle', 'machine', 'learning', 'methods', 'became', 'widespread', 'natural', 'language', 'processing', 'popularity', 'due', 'partly', 'flurry', 'results', 'showing', 'techniques', 'achieve', 'stateoftheart', 'results', 'many', 'natural', 'language', 'tasks', 'eg', 'language', 'modeling', 'parsing', 'increasingly', 'important', 'medicine', 'healthcare', 'nlp', 'helps', 'analyze', 'notes', 'text', 'electronic', 'health', 'records', 'would', 'otherwise', 'inaccessible', 'study', 'seeking', 'improve', 'care', 'methods', 'rules', 'statistics', 'neural', 'networks', 'early', 'days', 'many', 'languageprocessing', 'systems', 'designed', 'symbolic', 'methods', 'ie', 'handcoding', 'set', 'rules', 'coupled', 'dictionary', 'lookup', 'writing', 'grammars', 'devising', 'heuristic', 'rules', 'stemming', 'recent', 'systems', 'based', 'machinelearning', 'algorithms', 'many', 'advantages', 'handproduced', 'rules', 'learning', 'procedures', 'used', 'machine', 'learning', 'automatically', 'focus', 'common', 'cases', 'whereas', 'writing', 'rules', 'hand', 'often', 'obvious', 'effort', 'directed', 'automatic', 'learning', 'procedures', 'make', 'use', 'statistical', 'inference', 'algorithms', 'produce', 'models', 'robust', 'unfamiliar', 'input', 'eg', 'containing', 'words', 'structures', 'seen', 'erroneous', 'input', 'eg', 'misspelled', 'words', 'words', 'accidentally', 'omitted', 'generally', 'handling', 'input', 'gracefully', 'handwritten', 'rules', 'generally', 'creating', 'systems', 'handwritten', 'rules', 'make', 'soft', 'decisions', 'extremely', 'difficult', 'errorprone', 'timeconsuming', 'systems', 'based', 'automatically', 'learning', 'rules', 'made', 'accurate', 'simply', 'supplying', 'input', 'data', 'however', 'systems', 'based', 'handwritten', 'rules', 'made', 'accurate', 'increasing', 'complexity', 'rules', 'much', 'difficult', 'task', 'particular', 'limit', 'complexity', 'systems', 'based', 'handwritten', 'rules', 'beyond', 'systems', 'become', 'unmanageable', 'however', 'creating', 'data', 'input', 'machinelearning', 'systems', 'simply', 'requires', 'corresponding', 'increase', 'number', 'manhours', 'worked', 'generally', 'without', 'significant', 'increases', 'complexity', 'annotation', 'processdespite', 'popularity', 'machine', 'learning', 'nlp', 'research', 'symbolic', 'methods', 'still', '2020', 'commonly', 'used', 'amount', 'training', 'data', 'insufficient', 'successfully', 'apply', 'machine', 'learning', 'methods', 'eg', 'machine', 'translation', 'lowresource', 'languages', 'provided', 'apertium', 'system', 'preprocessing', 'nlp', 'pipelines', 'eg', 'tokenization', 'postprocessing', 'transforming', 'output', 'nlp', 'pipelines', 'eg', 'knowledge', 'extraction', 'syntactic', 'parses', 'statistical', 'methods', 'since', 'socalled', 'statistical', 'revolution', 'late', '1980s', 'mid1990s', 'much', 'natural', 'language', 'processing', 'research', 'relied', 'heavily', 'machine', 'learning', 'machinelearning', 'paradigm', 'calls', 'instead', 'using', 'statistical', 'inference', 'automatically', 'learn', 'rules', 'analysis', 'large', 'corpora', 'plural', 'form', 'corpus', 'set', 'documents', 'possibly', 'human', 'computer', 'annotations', 'typical', 'realworld', 'examples', 'many', 'different', 'classes', 'machinelearning', 'algorithms', 'applied', 'naturallanguageprocessing', 'tasks', 'algorithms', 'take', 'input', 'large', 'set', 'features', 'generated', 'input', 'data', 'increasingly', 'however', 'research', 'focused', 'statistical', 'models', 'make', 'soft', 'probabilistic', 'decisions', 'based', 'attaching', 'realvalued', 'weights', 'input', 'feature', 'complexvalued', 'embeddings', 'neural', 'networks', 'general', 'also', 'proposed', 'eg', 'speech', 'models', 'advantage', 'express', 'relative', 'certainty', 'many', 'different', 'possible', 'answers', 'rather', 'one', 'producing', 'reliable', 'results', 'model', 'included', 'component', 'larger', 'system', 'earliestused', 'machine', 'learning', 'algorithms', 'decision', 'trees', 'produced', 'systems', 'hard', 'ifthen', 'rules', 'similar', 'existing', 'handwritten', 'rules', 'however', 'partofspeech', 'tagging', 'introduced', 'use', 'hidden', 'markov', 'models', 'natural', 'language', 'processing', 'increasingly', 'research', 'focused', 'statistical', 'models', 'make', 'soft', 'probabilistic', 'decisions', 'based', 'attaching', 'realvalued', 'weights', 'features', 'making', 'input', 'data', 'cache', 'language', 'models', 'upon', 'many', 'speech', 'recognition', 'systems', 'rely', 'examples', 'statistical', 'models', 'models', 'generally', 'robust', 'given', 'unfamiliar', 'input', 'especially', 'input', 'contains', 'errors', 'common', 'realworld', 'data', 'produce', 'reliable', 'results', 'integrated', 'larger', 'system', 'comprising', 'multiple', 'subtasks', 'since', 'neural', 'turn', 'statistical', 'methods', 'nlp', 'research', 'largely', 'replaced', 'neural', 'networks', 'however', 'continue', 'relevant', 'contexts', 'statistical', 'interpretability', 'transparency', 'required', 'neural', 'networks', 'major', 'drawback', 'statistical', 'methods', 'require', 'elaborate', 'feature', 'engineering', 'since', '2015', 'field', 'thus', 'largely', 'abandoned', 'statistical', 'methods', 'shifted', 'neural', 'networks', 'machine', 'learning', 'popular', 'techniques', 'include', 'use', 'word', 'embeddings', 'capture', 'semantic', 'properties', 'words', 'increase', 'endtoend', 'learning', 'higherlevel', 'task', 'eg', 'question', 'answering', 'instead', 'relying', 'pipeline', 'separate', 'intermediate', 'tasks', 'eg', 'partofspeech', 'tagging', 'dependency', 'parsing', 'areas', 'shift', 'entailed', 'substantial', 'changes', 'nlp', 'systems', 'designed', 'deep', 'neural', 'networkbased', 'approaches', 'may', 'viewed', 'new', 'paradigm', 'distinct', 'statistical', 'natural', 'language', 'processing', 'instance', 'term', 'neural', 'machine', 'translation', 'nmt', 'emphasizes', 'fact', 'deep', 'learningbased', 'approaches', 'machine', 'translation', 'directly', 'learn', 'sequencetosequence', 'transformations', 'obviating', 'need', 'intermediate', 'steps', 'word', 'alignment', 'language', 'modeling', 'used', 'statistical', 'machine', 'translation', 'smt', 'common', 'nlp', 'tasks', 'following', 'list', 'commonly', 'researched', 'tasks', 'natural', 'language', 'processing', 'tasks', 'direct', 'realworld', 'applications', 'others', 'commonly', 'serve', 'subtasks', 'used', 'aid', 'solving', 'larger', 'tasks', 'though', 'natural', 'language', 'processing', 'tasks', 'closely', 'intertwined', 'subdivided', 'categories', 'convenience', 'coarse', 'division', 'given', 'text', 'speech', 'processing', 'optical', 'character', 'recognition', 'ocr', 'given', 'image', 'representing', 'printed', 'text', 'determine', 'corresponding', 'textspeech', 'recognition', 'given', 'sound', 'clip', 'person', 'people', 'speaking', 'determine', 'textual', 'representation', 'speech', 'opposite', 'text', 'speech', 'one', 'extremely', 'difficult', 'problems', 'colloquially', 'termed', 'aicomplete', 'see', 'natural', 'speech', 'hardly', 'pauses', 'successive', 'words', 'thus', 'speech', 'segmentation', 'necessary', 'subtask', 'speech', 'recognition', 'see', 'spoken', 'languages', 'sounds', 'representing', 'successive', 'letters', 'blend', 'process', 'termed', 'coarticulation', 'conversion', 'analog', 'signal', 'discrete', 'characters', 'difficult', 'process', 'also', 'given', 'words', 'language', 'spoken', 'people', 'different', 'accents', 'speech', 'recognition', 'software', 'must', 'able', 'recognize', 'wide', 'variety', 'input', 'identical', 'terms', 'textual', 'equivalent', 'speech', 'segmentation', 'given', 'sound', 'clip', 'person', 'people', 'speaking', 'separate', 'words', 'subtask', 'speech', 'recognition', 'typically', 'grouped', 'ittexttospeech', 'given', 'text', 'transform', 'units', 'produce', 'spoken', 'representation', 'texttospeech', 'used', 'aid', 'visually', 'impairedword', 'segmentation', 'tokenization', 'separate', 'chunk', 'continuous', 'text', 'separate', 'words', 'language', 'like', 'english', 'fairly', 'trivial', 'since', 'words', 'usually', 'separated', 'spaces', 'however', 'written', 'languages', 'like', 'chinese', 'japanese', 'thai', 'mark', 'word', 'boundaries', 'fashion', 'languages', 'text', 'segmentation', 'significant', 'task', 'requiring', 'knowledge', 'vocabulary', 'morphology', 'words', 'language', 'sometimes', 'process', 'also', 'used', 'cases', 'like', 'bag', 'words', 'bow', 'creation', 'data', 'mining', 'morphological', 'analysis', 'lemmatization', 'task', 'removing', 'inflectional', 'endings', 'return', 'base', 'dictionary', 'form', 'word', 'also', 'known', 'lemma', 'lemmatization', 'another', 'technique', 'reducing', 'words', 'normalized', 'form', 'case', 'transformation', 'actually', 'uses', 'dictionary', 'map', 'words', 'actual', 'form', 'morphological', 'segmentation', 'separate', 'words', 'individual', 'morphemes', 'identify', 'class', 'morphemes', 'difficulty', 'task', 'depends', 'greatly', 'complexity', 'morphology', 'ie', 'structure', 'words', 'language', 'considered', 'english', 'fairly', 'simple', 'morphology', 'especially', 'inflectional', 'morphology', 'thus', 'often', 'possible', 'ignore', 'task', 'entirely', 'simply', 'model', 'possible', 'forms', 'word', 'eg', 'open', 'opens', 'opened', 'opening', 'separate', 'words', 'languages', 'turkish', 'meitei', 'highly', 'agglutinated', 'indian', 'language', 'however', 'approach', 'possible', 'dictionary', 'entry', 'thousands', 'possible', 'word', 'forms', 'partofspeech', 'tagging', 'given', 'sentence', 'determine', 'part', 'speech', 'pos', 'word', 'many', 'words', 'especially', 'common', 'ones', 'serve', 'multiple', 'parts', 'speech', 'example', 'book', 'noun', 'book', 'table', 'verb', 'book', 'flight', 'set', 'noun', 'verb', 'adjective', 'least', 'five', 'different', 'parts', 'speechstemming', 'process', 'reducing', 'inflected', 'sometimes', 'derived', 'words', 'base', 'form', 'eg', 'close', 'root', 'closed', 'closing', 'close', 'closer', 'etc', 'stemming', 'yields', 'similar', 'results', 'lemmatization', 'grounds', 'rules', 'dictionary', 'syntactic', 'analysis', 'grammar', 'induction', 'generate', 'formal', 'grammar', 'describes', 'languages', 'syntax', 'sentence', 'breaking', 'also', 'known', 'sentence', 'boundary', 'disambiguation', 'given', 'chunk', 'text', 'find', 'sentence', 'boundaries', 'sentence', 'boundaries', 'often', 'marked', 'periods', 'punctuation', 'marks', 'characters', 'serve', 'purposes', 'eg', 'marking', 'abbreviations', 'parsing', 'determine', 'parse', 'tree', 'grammatical', 'analysis', 'given', 'sentence', 'grammar', 'natural', 'languages', 'ambiguous', 'typical', 'sentences', 'multiple', 'possible', 'analyses', 'perhaps', 'surprisingly', 'typical', 'sentence', 'may', 'thousands', 'potential', 'parses', 'seem', 'completely', 'nonsensical', 'human', 'two', 'primary', 'types', 'parsing', 'dependency', 'parsing', 'constituency', 'parsing', 'dependency', 'parsing', 'focuses', 'relationships', 'words', 'sentence', 'marking', 'things', 'like', 'primary', 'objects', 'predicates', 'whereas', 'constituency', 'parsing', 'focuses', 'building', 'parse', 'tree', 'using', 'probabilistic', 'contextfree', 'grammar', 'pcfg', 'see', 'also', 'stochastic', 'grammar', 'lexical', 'semantics', 'individual', 'words', 'context', 'lexical', 'semantics', 'computational', 'meaning', 'individual', 'words', 'context', 'distributional', 'semantics', 'learn', 'semantic', 'representations', 'data', 'named', 'entity', 'recognition', 'ner', 'given', 'stream', 'text', 'determine', 'items', 'text', 'map', 'proper', 'names', 'people', 'places', 'type', 'name', 'eg', 'person', 'location', 'organization', 'although', 'capitalization', 'aid', 'recognizing', 'named', 'entities', 'languages', 'english', 'information', 'aid', 'determining', 'type', 'named', 'entity', 'case', 'often', 'inaccurate', 'insufficient', 'example', 'first', 'letter', 'sentence', 'also', 'capitalized', 'named', 'entities', 'often', 'span', 'several', 'words', 'capitalized', 'furthermore', 'many', 'languages', 'nonwestern', 'scripts', 'eg', 'chinese', 'arabic', 'capitalization', 'even', 'languages', 'capitalization', 'may', 'consistently', 'use', 'distinguish', 'names', 'example', 'german', 'capitalizes', 'nouns', 'regardless', 'whether', 'names', 'french', 'spanish', 'capitalize', 'names', 'serve', 'adjectivessentiment', 'analysis', 'see', 'also', 'multimodal', 'sentiment', 'analysis', 'extract', 'subjective', 'information', 'usually', 'set', 'documents', 'often', 'using', 'online', 'reviews', 'determine', 'polarity', 'specific', 'objects', 'especially', 'useful', 'identifying', 'trends', 'public', 'opinion', 'social', 'media', 'marketing', 'terminology', 'extraction', 'goal', 'terminology', 'extraction', 'automatically', 'extract', 'relevant', 'terms', 'given', 'corpus', 'wordsense', 'disambiguation', 'wsd', 'many', 'words', 'one', 'meaning', 'select', 'meaning', 'makes', 'sense', 'context', 'problem', 'typically', 'given', 'list', 'words', 'associated', 'word', 'senses', 'eg', 'dictionary', 'online', 'resource', 'wordnet', 'entity', 'linking', 'many', 'wordstypically', 'proper', 'namesrefer', 'named', 'entities', 'select', 'entity', 'famous', 'individual', 'location', 'company', 'etc', 'referred', 'context', 'relational', 'semantics', 'semantics', 'individual', 'sentences', 'relationship', 'extraction', 'given', 'chunk', 'text', 'identify', 'relationships', 'among', 'named', 'entities', 'eg', 'married', 'semantic', 'parsing', 'given', 'piece', 'text', 'typically', 'sentence', 'produce', 'formal', 'representation', 'semantics', 'either', 'graph', 'eg', 'amr', 'parsing', 'accordance', 'logical', 'formalism', 'eg', 'drt', 'parsing', 'challenge', 'typically', 'includes', 'aspects', 'several', 'elementary', 'nlp', 'tasks', 'semantics', 'eg', 'semantic', 'role', 'labelling', 'wordsense', 'disambiguation', 'extended', 'include', 'fullfledged', 'discourse', 'analysis', 'eg', 'discourse', 'analysis', 'coreference', 'see', 'natural', 'language', 'understanding', 'semantic', 'role', 'labelling', 'see', 'also', 'implicit', 'semantic', 'role', 'labelling', 'given', 'single', 'sentence', 'identify', 'disambiguate', 'semantic', 'predicates', 'eg', 'verbal', 'frames', 'identify', 'classify', 'frame', 'elements', 'semantic', 'roles', 'discourse', 'semantics', 'beyond', 'individual', 'sentences', 'coreference', 'resolution', 'given', 'sentence', 'larger', 'chunk', 'text', 'determine', 'words', 'mentions', 'refer', 'objects', 'entities', 'anaphora', 'resolution', 'specific', 'example', 'task', 'specifically', 'concerned', 'matching', 'pronouns', 'nouns', 'names', 'refer', 'general', 'task', 'coreference', 'resolution', 'also', 'includes', 'identifying', 'socalled', 'bridging', 'relationships', 'involving', 'referring', 'expressions', 'example', 'sentence', 'entered', 'johns', 'house', 'front', 'door', 'front', 'door', 'referring', 'expression', 'bridging', 'relationship', 'identified', 'fact', 'door', 'referred', 'front', 'door', 'johns', 'house', 'rather', 'structure', 'might', 'also', 'referred', 'discourse', 'analysis', 'rubric', 'includes', 'several', 'related', 'tasks', 'one', 'task', 'discourse', 'parsing', 'ie', 'identifying', 'discourse', 'structure', 'connected', 'text', 'ie', 'nature', 'discourse', 'relationships', 'sentences', 'eg', 'elaboration', 'explanation', 'contrast', 'another', 'possible', 'task', 'recognizing', 'classifying', 'speech', 'acts', 'chunk', 'text', 'eg', 'yesno', 'question', 'content', 'question', 'statement', 'assertion', 'etcimplicit', 'semantic', 'role', 'labelling', 'given', 'single', 'sentence', 'identify', 'disambiguate', 'semantic', 'predicates', 'eg', 'verbal', 'frames', 'explicit', 'semantic', 'roles', 'current', 'sentence', 'see', 'semantic', 'role', 'labelling', 'identify', 'semantic', 'roles', 'explicitly', 'realized', 'current', 'sentence', 'classify', 'arguments', 'explicitly', 'realized', 'elsewhere', 'text', 'specified', 'resolve', 'former', 'local', 'text', 'closely', 'related', 'task', 'zero', 'anaphora', 'resolution', 'ie', 'extension', 'coreference', 'resolution', 'prodrop', 'languagesrecognizing', 'textual', 'entailment', 'given', 'two', 'text', 'fragments', 'determine', 'one', 'true', 'entails', 'entails', 'others', 'negation', 'allows', 'either', 'true', 'falsetopic', 'segmentation', 'recognition', 'given', 'chunk', 'text', 'separate', 'segments', 'devoted', 'topic', 'identify', 'topic', 'segmentargument', 'mining', 'goal', 'argument', 'mining', 'automatic', 'extraction', 'identification', 'argumentative', 'structures', 'natural', 'language', 'text', 'aid', 'computer', 'programs', 'argumentative', 'structures', 'include', 'premise', 'conclusions', 'argument', 'scheme', 'relationship', 'main', 'subsidiary', 'argument', 'main', 'counterargument', 'within', 'discourse', 'higherlevel', 'nlp', 'applications', 'automatic', 'summarization', 'text', 'summarization', 'produce', 'readable', 'summary', 'chunk', 'text', 'often', 'used', 'provide', 'summaries', 'text', 'known', 'type', 'research', 'papers', 'articles', 'financial', 'section', 'newspaper', 'book', 'generation', 'nlp', 'task', 'proper', 'extension', 'natural', 'language', 'generation', 'nlp', 'tasks', 'creation', 'fullfledged', 'books', 'first', 'machinegenerated', 'book', 'created', 'rulebased', 'system', '1984', 'racter', 'policemans', 'beard', 'halfconstructed', 'first', 'published', 'work', 'neural', 'network', 'published', '2018', '1', 'road', 'marketed', 'novel', 'contains', 'sixty', 'million', 'words', 'systems', 'basically', 'elaborate', 'nonsensical', 'semanticsfree', 'language', 'models', 'first', 'machinegenerated', 'science', 'book', 'published', '2019', 'beta', 'writer', 'lithiumion', 'batteries', 'springer', 'cham', 'unlike', 'racter', '1', 'road', 'grounded', 'factual', 'knowledge', 'based', 'text', 'summarization', 'dialogue', 'management', 'computer', 'systems', 'intended', 'converse', 'human', 'document', 'ai', 'document', 'ai', 'platform', 'sits', 'top', 'nlp', 'technology', 'enabling', 'users', 'prior', 'experience', 'artificial', 'intelligence', 'machine', 'learning', 'nlp', 'quickly', 'train', 'computer', 'extract', 'specific', 'data', 'need', 'different', 'document', 'types', 'nlppowered', 'document', 'ai', 'enables', 'nontechnical', 'teams', 'quickly', 'access', 'information', 'hidden', 'documents', 'example', 'lawyers', 'business', 'analysts', 'accountants', 'grammatical', 'error', 'correction', 'grammatical', 'error', 'detection', 'correction', 'involves', 'great', 'bandwidth', 'problems', 'levels', 'linguistic', 'analysis', 'phonologyorthography', 'morphology', 'syntax', 'semantics', 'pragmatics', 'grammatical', 'error', 'correction', 'impactful', 'since', 'affects', 'hundreds', 'millions', 'people', 'use', 'acquire', 'english', 'second', 'language', 'thus', 'subject', 'number', 'shared', 'tasks', 'since', '2011', 'far', 'orthography', 'morphology', 'syntax', 'certain', 'aspects', 'semantics', 'concerned', 'due', 'development', 'powerful', 'neural', 'language', 'models', 'gpt2', '2019', 'considered', 'largely', 'solved', 'problem', 'marketed', 'various', 'commercial', 'applications', 'machine', 'translation', 'automatically', 'translate', 'text', 'one', 'human', 'language', 'another', 'one', 'difficult', 'problems', 'member', 'class', 'problems', 'colloquially', 'termed', 'aicomplete', 'ie', 'requiring', 'different', 'types', 'knowledge', 'humans', 'possess', 'grammar', 'semantics', 'facts', 'real', 'world', 'etc', 'solve', 'properly', 'naturallanguage', 'generation', 'nlg', 'convert', 'information', 'computer', 'databases', 'semantic', 'intents', 'readable', 'human', 'language', 'naturallanguage', 'understanding', 'nlu', 'convert', 'chunks', 'text', 'formal', 'representations', 'firstorder', 'logic', 'structures', 'easier', 'computer', 'programs', 'manipulate', 'natural', 'language', 'understanding', 'involves', 'identification', 'intended', 'semantic', 'multiple', 'possible', 'semantics', 'derived', 'natural', 'language', 'expression', 'usually', 'takes', 'form', 'organized', 'notations', 'natural', 'language', 'concepts', 'introduction', 'creation', 'language', 'metamodel', 'ontology', 'efficient', 'however', 'empirical', 'solutions', 'explicit', 'formalization', 'natural', 'language', 'semantics', 'without', 'confusions', 'implicit', 'assumptions', 'closedworld', 'assumption', 'cwa', 'vs', 'openworld', 'assumption', 'subjective', 'yesno', 'vs', 'objective', 'truefalse', 'expected', 'construction', 'basis', 'semantics', 'formalization', 'question', 'answering', 'given', 'humanlanguage', 'question', 'determine', 'answer', 'typical', 'questions', 'specific', 'right', 'answer', 'capital', 'canada', 'sometimes', 'openended', 'questions', 'also', 'considered', 'meaning', 'life', 'texttoimage', 'generation', 'given', 'description', 'image', 'generate', 'image', 'matches', 'description', 'texttoscene', 'generation', 'given', 'description', 'scene', 'generate', '3d', 'model', 'scene', 'general', 'tendencies', 'possible', 'future', 'directions', 'based', 'longstanding', 'trends', 'field', 'possible', 'extrapolate', 'future', 'directions', 'nlp', '2020', 'three', 'trends', 'among', 'topics', 'longstanding', 'series', 'conll', 'shared', 'tasks', 'observed', 'interest', 'increasingly', 'abstract', 'cognitive', 'aspects', 'natural', 'language', '19992001', 'shallow', 'parsing', '200203', 'named', 'entity', 'recognition', '200609201718', 'dependency', 'syntax', '200405200809', 'semantic', 'role', 'labelling', '201112', 'coreference', '201516', 'discourse', 'parsing', '2019', 'semantic', 'parsing', 'increasing', 'interest', 'multilinguality', 'potentially', 'multimodality', 'english', 'since', '1999', 'spanish', 'dutch', 'since', '2002', 'german', 'since', '2003', 'bulgarian', 'danish', 'japanese', 'portuguese', 'slovenian', 'swedish', 'turkish', 'since', '2006', 'basque', 'catalan', 'chinese', 'greek', 'hungarian', 'italian', 'turkish', 'since', '2007', 'czech', 'since', '2009', 'arabic', 'since', '2012', '2017', '40', 'languages', '2018', '60100', 'languages', 'elimination', 'symbolic', 'representations', 'rulebased', 'supervised', 'towards', 'weakly', 'supervised', 'methods', 'representation', 'learning', 'endtoend', 'systems', 'cognition', 'nlp', 'higherlevel', 'nlp', 'applications', 'involve', 'aspects', 'emulate', 'intelligent', 'behaviour', 'apparent', 'comprehension', 'natural', 'language', 'broadly', 'speaking', 'technical', 'operationalization', 'increasingly', 'advanced', 'aspects', 'cognitive', 'behaviour', 'represents', 'one', 'developmental', 'trajectories', 'nlp', 'see', 'trends', 'among', 'conll', 'shared', 'tasks', 'cognition', 'refers', 'mental', 'action', 'process', 'acquiring', 'knowledge', 'understanding', 'thought', 'experience', 'senses', 'cognitive', 'science', 'interdisciplinary', 'scientific', 'study', 'mind', 'processes', 'cognitive', 'linguistics', 'interdisciplinary', 'branch', 'linguistics', 'combining', 'knowledge', 'research', 'psychology', 'linguistics', 'especially', 'age', 'symbolic', 'nlp', 'area', 'computational', 'linguistics', 'maintained', 'strong', 'ties', 'cognitive', 'studies', 'example', 'george', 'lakoff', 'offers', 'methodology', 'build', 'natural', 'language', 'processing', 'nlp', 'algorithms', 'perspective', 'cognitive', 'science', 'along', 'findings', 'cognitive', 'linguistics', 'two', 'defining', 'aspects', 'apply', 'theory', 'conceptual', 'metaphor', 'explained', 'lakoff', 'understanding', 'one', 'idea', 'terms', 'another', 'provides', 'idea', 'intent', 'author', 'example', 'consider', 'english', 'word', 'big', 'used', 'comparison', 'big', 'tree', 'authors', 'intent', 'imply', 'tree', 'physically', 'large', 'relative', 'trees', 'authors', 'experience', 'used', 'metaphorically', 'tomorrow', 'big', 'day', 'authors', 'intent', 'imply', 'importance', 'intent', 'behind', 'usages', 'like', 'big', 'person', 'remain', 'somewhat', 'ambiguous', 'person', 'cognitive', 'nlp', 'algorithm', 'alike', 'without', 'additional', 'information', 'assign', 'relative', 'measures', 'meaning', 'word', 'phrase', 'sentence', 'piece', 'text', 'based', 'information', 'presented', 'piece', 'text', 'analyzed', 'eg', 'means', 'probabilistic', 'contextfree', 'grammar', 'pcfg', 'mathematical', 'equation', 'algorithms', 'presented', 'us', 'patent', '9269353', 'r', 'k', 'e', 'n', 'n', 'p', 'k', 'e', 'n', 'n', '1', '2', 'p', 'k', 'e', 'n', 'n', '1', 'p', 'f', 'k', 'e', 'n', 'n', 'k', 'e', 'n', 'n', '1', 'rmm', 'relative', 'measure', 'meaning', 'token', 'block', 'text', 'sentence', 'phrase', 'word', 'n', 'number', 'tokens', 'analyzed', 'pmm', 'probable', 'measure', 'meaning', 'based', 'corpora', 'location', 'token', 'along', 'sequence', 'n1', 'tokens', 'pf', 'probability', 'function', 'specific', 'languageties', 'cognitive', 'linguistics', 'part', 'historical', 'heritage', 'nlp', 'less', 'frequently', 'addressed', 'since', 'statistical', 'turn', '1990s', 'nevertheless', 'approaches', 'develop', 'cognitive', 'models', 'towards', 'technically', 'operationalizable', 'frameworks', 'pursued', 'context', 'various', 'frameworks', 'eg', 'cognitive', 'grammar', 'functional', 'grammar', 'construction', 'grammar', 'computational', 'psycholinguistics', 'cognitive', 'neuroscience', 'eg', 'actr', 'however', 'limited', 'uptake', 'mainstream', 'nlp', 'measured', 'presence', 'major', 'conferences', 'acl', 'recently', 'ideas', 'cognitive', 'nlp', 'revived', 'approach', 'achieve', 'explainability', 'eg', 'notion', 'cognitive', 'ai', 'likewise', 'ideas', 'cognitive', 'nlp', 'inherent', 'neural', 'models', 'multimodal', 'nlp', 'although', 'rarely', 'made', 'explicit', 'see', 'also', 'references', 'reading', 'external', 'links', 'media', 'related', 'natural', 'language', 'processing', 'wikimedia', 'commons']\n",
            "After Stemming:\n",
            " natur languag process nlp subfield linguist comput scienc artifici intellig concern interact comput human languag particular program comput process analyz larg amount natur languag data goal comput capabl understand content document includ contextu nuanc languag within technolog accur extract inform insight contain document well categor organ document challeng natur languag process frequent involv speech recognit naturallanguag understand naturallanguag gener histori natur languag process root 1950 alreadi 1950 alan ture publish articl titl comput machineri intellig propos call ture test criterion intellig though time articul problem separ artifici intellig propos test includ task involv autom interpret gener natur languag symbol nlp 1950 earli 1990 premis symbol nlp wellsummar john searl chines room experi given collect rule eg chines phrasebook question match answer comput emul natur languag understand nlp task appli rule data confront 1950 georgetown experi 1954 involv fulli automat translat sixti russian sentenc english author claim within three five year machin translat would solv problem howev real progress much slower alpac report 1966 found tenyearlong research fail fulfil expect fund machin translat dramat reduc littl research machin translat conduct late 1980 first statist machin translat system develop 1960 notabl success natur languag process system develop 1960 shrdlu natur languag system work restrict block world restrict vocabulari eliza simul rogerian psychotherapist written joseph weizenbaum 1964 1966 use almost inform human thought emot eliza sometim provid startlingli humanlik interact patient exceed small knowledg base eliza might provid gener respons exampl respond head hurt say head hurt 1970 1970 mani programm began write conceptu ontolog structur realworld inform computerunderstand data exampl margi schank 1975 sam cullingford 1978 pam wilenski 1978 talespin meehan 1976 qualm lehnert 1977 polit carbonel 1979 plot unit lehnert 1981 time first chatterbot written eg parri 1980 1980 earli 1990 mark heyday symbol method nlp focu area time includ research rulebas pars eg develop hpsg comput operation gener grammar morpholog eg twolevel morpholog semant eg lesk algorithm refer eg within center theori area natur languag understand eg rhetor structur theori line research continu eg develop chatterbot racter jabberwacki import develop eventu led statist turn 1990 rise import quantit evalu period statist nlp 1990s2010 1980 natur languag process system base complex set handwritten rule start late 1980 howev revolut natur languag process introduct machin learn algorithm languag process due steadi increas comput power see moor law gradual lessen domin chomskyan theori linguist eg transform grammar whose theoret underpin discourag sort corpu linguist underli machinelearn approach languag process 1990 mani notabl earli success statist method nlp occur field machin translat due especi work ibm research system abl take advantag exist multilingu textual corpora produc parliament canada european union result law call translat government proceed offici languag correspond system govern howev system depend corpora specif develop task implement system often continu major limit success system result great deal research gone method effect learn limit amount data 2000 growth web increas amount raw unannot languag data becom avail sinc mid1990 research thu increasingli focus unsupervis semisupervis learn algorithm algorithm learn data handannot desir answer use combin annot nonannot data gener task much difficult supervis learn typic produc less accur result given amount input data howev enorm amount nonannot data avail includ among thing entir content world wide web often make inferior result algorithm use low enough time complex practic neural nlp present 2010 represent learn deep neural networkstyl machin learn method becam widespread natur languag process popular due partli flurri result show techniqu achiev stateoftheart result mani natur languag task eg languag model pars increasingli import medicin healthcar nlp help analyz note text electron health record would otherwis inaccess studi seek improv care method rule statist neural network earli day mani languageprocess system design symbol method ie handcod set rule coupl dictionari lookup write grammar devis heurist rule stem recent system base machinelearn algorithm mani advantag handproduc rule learn procedur use machin learn automat focu common case wherea write rule hand often obviou effort direct automat learn procedur make use statist infer algorithm produc model robust unfamiliar input eg contain word structur seen erron input eg misspel word word accident omit gener handl input grace handwritten rule gener creat system handwritten rule make soft decis extrem difficult errorpron timeconsum system base automat learn rule made accur simpli suppli input data howev system base handwritten rule made accur increas complex rule much difficult task particular limit complex system base handwritten rule beyond system becom unmanag howev creat data input machinelearn system simpli requir correspond increas number manhour work gener without signific increas complex annot processdespit popular machin learn nlp research symbol method still 2020 commonli use amount train data insuffici success appli machin learn method eg machin translat lowresourc languag provid apertium system preprocess nlp pipelin eg token postprocess transform output nlp pipelin eg knowledg extract syntact pars statist method sinc socal statist revolut late 1980 mid1990 much natur languag process research reli heavili machin learn machinelearn paradigm call instead use statist infer automat learn rule analysi larg corpora plural form corpu set document possibl human comput annot typic realworld exampl mani differ class machinelearn algorithm appli naturallanguageprocess task algorithm take input larg set featur gener input data increasingli howev research focus statist model make soft probabilist decis base attach realvalu weight input featur complexvalu embed neural network gener also propos eg speech model advantag express rel certainti mani differ possibl answer rather one produc reliabl result model includ compon larger system earliestus machin learn algorithm decis tree produc system hard ifthen rule similar exist handwritten rule howev partofspeech tag introduc use hidden markov model natur languag process increasingli research focus statist model make soft probabilist decis base attach realvalu weight featur make input data cach languag model upon mani speech recognit system reli exampl statist model model gener robust given unfamiliar input especi input contain error common realworld data produc reliabl result integr larger system compris multipl subtask sinc neural turn statist method nlp research larg replac neural network howev continu relev context statist interpret transpar requir neural network major drawback statist method requir elabor featur engin sinc 2015 field thu larg abandon statist method shift neural network machin learn popular techniqu includ use word embed captur semant properti word increas endtoend learn higherlevel task eg question answer instead reli pipelin separ intermedi task eg partofspeech tag depend pars area shift entail substanti chang nlp system design deep neural networkbas approach may view new paradigm distinct statist natur languag process instanc term neural machin translat nmt emphas fact deep learningbas approach machin translat directli learn sequencetosequ transform obviat need intermedi step word align languag model use statist machin translat smt common nlp task follow list commonli research task natur languag process task direct realworld applic other commonli serv subtask use aid solv larger task though natur languag process task close intertwin subdivid categori conveni coars divis given text speech process optic charact recognit ocr given imag repres print text determin correspond textspeech recognit given sound clip person peopl speak determin textual represent speech opposit text speech one extrem difficult problem colloqui term aicomplet see natur speech hardli paus success word thu speech segment necessari subtask speech recognit see spoken languag sound repres success letter blend process term coarticul convers analog signal discret charact difficult process also given word languag spoken peopl differ accent speech recognit softwar must abl recogn wide varieti input ident term textual equival speech segment given sound clip person peopl speak separ word subtask speech recognit typic group ittexttospeech given text transform unit produc spoken represent texttospeech use aid visual impairedword segment token separ chunk continu text separ word languag like english fairli trivial sinc word usual separ space howev written languag like chines japanes thai mark word boundari fashion languag text segment signific task requir knowledg vocabulari morpholog word languag sometim process also use case like bag word bow creation data mine morpholog analysi lemmat task remov inflect end return base dictionari form word also known lemma lemmat anoth techniqu reduc word normal form case transform actual use dictionari map word actual form morpholog segment separ word individu morphem identifi class morphem difficulti task depend greatli complex morpholog ie structur word languag consid english fairli simpl morpholog especi inflect morpholog thu often possibl ignor task entir simpli model possibl form word eg open open open open separ word languag turkish meitei highli agglutin indian languag howev approach possibl dictionari entri thousand possibl word form partofspeech tag given sentenc determin part speech po word mani word especi common one serv multipl part speech exampl book noun book tabl verb book flight set noun verb adject least five differ part speechstem process reduc inflect sometim deriv word base form eg close root close close close closer etc stem yield similar result lemmat ground rule dictionari syntact analysi grammar induct gener formal grammar describ languag syntax sentenc break also known sentenc boundari disambigu given chunk text find sentenc boundari sentenc boundari often mark period punctuat mark charact serv purpos eg mark abbrevi pars determin pars tree grammat analysi given sentenc grammar natur languag ambigu typic sentenc multipl possibl analys perhap surprisingli typic sentenc may thousand potenti pars seem complet nonsens human two primari type pars depend pars constitu pars depend pars focus relationship word sentenc mark thing like primari object predic wherea constitu pars focus build pars tree use probabilist contextfre grammar pcfg see also stochast grammar lexic semant individu word context lexic semant comput mean individu word context distribut semant learn semant represent data name entiti recognit ner given stream text determin item text map proper name peopl place type name eg person locat organ although capit aid recogn name entiti languag english inform aid determin type name entiti case often inaccur insuffici exampl first letter sentenc also capit name entiti often span sever word capit furthermor mani languag nonwestern script eg chines arab capit even languag capit may consist use distinguish name exampl german capit noun regardless whether name french spanish capit name serv adjectivessenti analysi see also multimod sentiment analysi extract subject inform usual set document often use onlin review determin polar specif object especi use identifi trend public opinion social media market terminolog extract goal terminolog extract automat extract relev term given corpu wordsens disambigu wsd mani word one mean select mean make sens context problem typic given list word associ word sens eg dictionari onlin resourc wordnet entiti link mani wordstyp proper namesref name entiti select entiti famou individu locat compani etc refer context relat semant semant individu sentenc relationship extract given chunk text identifi relationship among name entiti eg marri semant pars given piec text typic sentenc produc formal represent semant either graph eg amr pars accord logic formal eg drt pars challeng typic includ aspect sever elementari nlp task semant eg semant role label wordsens disambigu extend includ fullfledg discours analysi eg discours analysi corefer see natur languag understand semant role label see also implicit semant role label given singl sentenc identifi disambigu semant predic eg verbal frame identifi classifi frame element semant role discours semant beyond individu sentenc corefer resolut given sentenc larger chunk text determin word mention refer object entiti anaphora resolut specif exampl task specif concern match pronoun noun name refer gener task corefer resolut also includ identifi socal bridg relationship involv refer express exampl sentenc enter john hous front door front door refer express bridg relationship identifi fact door refer front door john hous rather structur might also refer discours analysi rubric includ sever relat task one task discours pars ie identifi discours structur connect text ie natur discours relationship sentenc eg elabor explan contrast anoth possibl task recogn classifi speech act chunk text eg yesno question content question statement assert etcimplicit semant role label given singl sentenc identifi disambigu semant predic eg verbal frame explicit semant role current sentenc see semant role label identifi semant role explicitli realiz current sentenc classifi argument explicitli realiz elsewher text specifi resolv former local text close relat task zero anaphora resolut ie extens corefer resolut prodrop languagesrecogn textual entail given two text fragment determin one true entail entail other negat allow either true falsetop segment recognit given chunk text separ segment devot topic identifi topic segmentargu mine goal argument mine automat extract identif argument structur natur languag text aid comput program argument structur includ premis conclus argument scheme relationship main subsidiari argument main counterargu within discours higherlevel nlp applic automat summar text summar produc readabl summari chunk text often use provid summari text known type research paper articl financi section newspap book gener nlp task proper extens natur languag gener nlp task creation fullfledg book first machinegener book creat rulebas system 1984 racter policeman beard halfconstruct first publish work neural network publish 2018 1 road market novel contain sixti million word system basic elabor nonsens semanticsfre languag model first machinegener scienc book publish 2019 beta writer lithiumion batteri springer cham unlik racter 1 road ground factual knowledg base text summar dialogu manag comput system intend convers human document ai document ai platform sit top nlp technolog enabl user prior experi artifici intellig machin learn nlp quickli train comput extract specif data need differ document type nlppower document ai enabl nontechn team quickli access inform hidden document exampl lawyer busi analyst account grammat error correct grammat error detect correct involv great bandwidth problem level linguist analysi phonologyorthographi morpholog syntax semant pragmat grammat error correct impact sinc affect hundr million peopl use acquir english second languag thu subject number share task sinc 2011 far orthographi morpholog syntax certain aspect semant concern due develop power neural languag model gpt2 2019 consid larg solv problem market variou commerci applic machin translat automat translat text one human languag anoth one difficult problem member class problem colloqui term aicomplet ie requir differ type knowledg human possess grammar semant fact real world etc solv properli naturallanguag gener nlg convert inform comput databas semant intent readabl human languag naturallanguag understand nlu convert chunk text formal represent firstord logic structur easier comput program manipul natur languag understand involv identif intend semant multipl possibl semant deriv natur languag express usual take form organ notat natur languag concept introduct creation languag metamodel ontolog effici howev empir solut explicit formal natur languag semant without confus implicit assumpt closedworld assumpt cwa vs openworld assumpt subject yesno vs object truefals expect construct basi semant formal question answer given humanlanguag question determin answer typic question specif right answer capit canada sometim openend question also consid mean life texttoimag gener given descript imag gener imag match descript texttoscen gener given descript scene gener 3d model scene gener tendenc possibl futur direct base longstand trend field possibl extrapol futur direct nlp 2020 three trend among topic longstand seri conll share task observ interest increasingli abstract cognit aspect natur languag 19992001 shallow pars 200203 name entiti recognit 200609201718 depend syntax 200405200809 semant role label 201112 corefer 201516 discours pars 2019 semant pars increas interest multilingu potenti multimod english sinc 1999 spanish dutch sinc 2002 german sinc 2003 bulgarian danish japanes portugues slovenian swedish turkish sinc 2006 basqu catalan chines greek hungarian italian turkish sinc 2007 czech sinc 2009 arab sinc 2012 2017 40 languag 2018 60100 languag elimin symbol represent rulebas supervis toward weakli supervis method represent learn endtoend system cognit nlp higherlevel nlp applic involv aspect emul intellig behaviour appar comprehens natur languag broadli speak technic operation increasingli advanc aspect cognit behaviour repres one development trajectori nlp see trend among conll share task cognit refer mental action process acquir knowledg understand thought experi sens cognit scienc interdisciplinari scientif studi mind process cognit linguist interdisciplinari branch linguist combin knowledg research psycholog linguist especi age symbol nlp area comput linguist maintain strong tie cognit studi exampl georg lakoff offer methodolog build natur languag process nlp algorithm perspect cognit scienc along find cognit linguist two defin aspect appli theori conceptu metaphor explain lakoff understand one idea term anoth provid idea intent author exampl consid english word big use comparison big tree author intent impli tree physic larg rel tree author experi use metaphor tomorrow big day author intent impli import intent behind usag like big person remain somewhat ambigu person cognit nlp algorithm alik without addit inform assign rel measur mean word phrase sentenc piec text base inform present piec text analyz eg mean probabilist contextfre grammar pcfg mathemat equat algorithm present us patent 9269353 r k e n n p k e n n 1 2 p k e n n 1 p f k e n n k e n n 1 rmm rel measur mean token block text sentenc phrase word n number token analyz pmm probabl measur mean base corpora locat token along sequenc n1 token pf probabl function specif languageti cognit linguist part histor heritag nlp less frequent address sinc statist turn 1990 nevertheless approach develop cognit model toward technic operationaliz framework pursu context variou framework eg cognit grammar function grammar construct grammar comput psycholinguist cognit neurosci eg actr howev limit uptak mainstream nlp measur presenc major confer acl recent idea cognit nlp reviv approach achiev explain eg notion cognit ai likewis idea cognit nlp inher neural model multimod nlp although rare made explicit see also refer read extern link media relat natur languag process wikimedia common \n"
          ]
        }
      ]
    },
    {
      "cell_type": "code",
      "source": [
        "training_data = l"
      ],
      "metadata": {
        "id": "R4nH5udZSD6a"
      },
      "execution_count": null,
      "outputs": []
    },
    {
      "cell_type": "markdown",
      "source": [
        "### Testing data uploading and preprocessing"
      ],
      "metadata": {
        "id": "9MZaSwG2RA_d"
      }
    },
    {
      "cell_type": "code",
      "source": [
        "#testing data file\n",
        "test_file = \"/content/examplenlpcutphrased.txt\"\n",
        "test_open = open(test_file, \"r\")\n",
        "#read test data file\n",
        "test_data = test_open.read()"
      ],
      "metadata": {
        "id": "LoFPP3PPaa9x"
      },
      "execution_count": null,
      "outputs": []
    },
    {
      "cell_type": "code",
      "source": [
        "test_data"
      ],
      "metadata": {
        "colab": {
          "base_uri": "https://localhost:8080/",
          "height": 123
        },
        "id": "sqbs4x6fbDuJ",
        "outputId": "b14c9c00-3ec4-4bc5-f713-5a43e8c6b867"
      },
      "execution_count": null,
      "outputs": [
        {
          "output_type": "execute_result",
          "data": {
            "text/plain": [
              "'Natural language processing (NLP) is a branch of linguistics, computer science and artificial intelligence that deals with the interaction between computers and human language, specifically programming computers to process and analyze large amounts of natural language data. The goal is a computer that can \"understand\" the content of documents, including the contextual nuances of their language. The technology can then accurately extract information and insights from the documents and categorize and organize the documents themselves. \\n Highly successful natural language processing systems developed in the 1960s were SHRDLU, a natural language system operating in limited \"block worlds\" with a limited vocabulary, and ELIZA, a Rogerian psychotherapist simulation  written by Joseph Weizenbaum between 196\\n and 1966. Unaware of the thoughts or feelings of human, ELIZA sometimes offered surprisingly human interactions. If the \"patient\" crossed a very small database, ELIZA could give a general answer, for example answering \"My head hurts\"  \"Why do you say my head hurts?\". \\n 1970s: In the 1970s, many programmers began writing \"conceptual ontologies\" that structured real-world information into computer-understandable information. Examples include MARGIE (Schank, 1975), SAM (Cullingford, 1978), PAM (Wilensky, 1978), TaleSpin (Meehan, 1976), QUALM (Lehnert, 1977), Politics (Carbonell, 1979), and Plot Units (Lehner) . 1979). ). During this time, the first chatbots (eg PARRY) were written. \\n 1980s: The 1980s and early 1990s mark the heyday of the symbolic methods of NLP. Areas of focus at the time were rule-based parsing (e.g., the development of HPSG as a computational implementation of generative grammar), morphology (e.g., two-level morphology), semantics (e.g., Leski\\'s algorithm), reference (e.g., in central theory), and other areas of natural language understanding (eg, in rhetorical structure theory). Other lines of research  continued, such as the development of chatbots with Racter and Jabberwacky. An important development (which later led to the statistical turn in the 1990s) was the growing importance of quantitative assessment during this period. Operating systems were based on complex handwritten rules. However, since the late 1980s,  there was a revolution in natural language processing when machine learning algorithms were introduced to process language. This was due to both the continuous growth of computing power (see Moore\\'s Law) and the gradual weakening of the dominance of Chomsky\\'s linguistic theories  (e.g. transformational grammar), whose theoretical background discourages the  corpus linguistics underlying machine learning. for language processing. \\n 1990s: Many of the  early advances in NLP statistical methods  occurred in the field of machine translation, particularly through the work of IBM Research. These systems were able to take advantage of existing multilingual text corrections from the Canadian Parliament  and the European Union, resulting from laws that require all administrative procedures to be translated into all official languages \\u200b\\u200bof the respective administrative systems. However, most other systems depended on specially developed cases for the tasks of those systems, which was (and often continues to be) the main limitation to the success of those systems. As a result, there are many researched methods to learn more effectively  from limited  data. \\n 21st century: With the growth of the web since the mid-1990s, more and more raw (unlabeled) language data has become available. Therefore, research is increasingly focused on unsupervised and semi-supervised learning algorithms. Such algorithms can learn from data that has not been manually annotated with the desired responses, or by using a combination of annotated and unannotated data. In general, this task is much more complex than supervised learning and usually produces less accurate results for a given set of input data. However, there is a huge amount of unexplained data available (including, among other things, the entire content of the World Wide Web), which can often compensate for poor results if the time complexity of the algorithm used is low enough. be practical. \\n === Neural NLP (Today) === \\n In the 2010s, representational learning and deep neural network-style machine learning methods became commonplace in natural language processing. This popularity was due in part to a flood of results showing that such techniques can achieve state-of-the-art performance in many natural language tasks, such as language modeling and parsing. This is increasingly important in medicine and healthcare, where NLP helps analyze notes and text in electronic health records that would otherwise go unexamined to improve care. \\n == Methods: Rules, Statistics, Neural networks == \\n In the early days, many language processing systems were designed by symbolic methods, that is, by hand coding rules with  dictionary lookups: for example, by writing or. drawing grammars. heuristic rules of the stem. \\n The latest systems based on machine learning algorithms have many advantages over manually created rules: \\n The learning procedures used during machine learning automatically focus on the most common cases, while when you write rules by hand, it is often not at all clear where to try. . should be directed. \\n Machine learning procedures can  use  statistical inference algorithms to create models that are robust to unknown input (eg, containing words or structures  not  seen before) and  erroneous input (eg, misspelled  or  accidentally omitted words). In general, handling such inputs gracefully with handwritten rules, or more generally creating  handwritten rules that make soft decisions, is very difficult, error-prone, and time-consuming. \\n Systems based on automatic learning of rules can be refined simply by entering additional input data. However, systems based on handwritten rules can only be improved by increasing the complexity of the rules, which is a much more difficult task. In particular, there is a limit to the complexity of systems based on handwritten rules, after which the systems become increasingly unmanageable. However, adding data to machine learning systems  requires a corresponding increase in human hours, usually without a significant increase in the complexity of the annotation process. Despite the popularity of machine learning in NLP research, symbolic methods are still (2020)'"
            ],
            "application/vnd.google.colaboratory.intrinsic+json": {
              "type": "string"
            }
          },
          "metadata": {},
          "execution_count": 89
        }
      ]
    },
    {
      "cell_type": "code",
      "source": [
        "#convert to lowercase\n",
        "test_lower = test_data.lower()"
      ],
      "metadata": {
        "id": "280barFgbBLO"
      },
      "execution_count": null,
      "outputs": []
    },
    {
      "cell_type": "code",
      "source": [
        "#add preprocessing, remove punctuation and brackets\n",
        "test_text = re.sub(r\"\\[.*\\]|\\{.*\\}\", \"\", test_lower)\n",
        "test_text = re.sub(r'[^\\w\\s]', \"\", test_text)"
      ],
      "metadata": {
        "id": "uxQfyp3PbGn4"
      },
      "execution_count": null,
      "outputs": []
    },
    {
      "cell_type": "code",
      "source": [
        "#tokenize\n",
        "tokenized_text_test = word_tokenize(test_text)"
      ],
      "metadata": {
        "id": "69NlxB6ecOzZ"
      },
      "execution_count": null,
      "outputs": []
    },
    {
      "cell_type": "code",
      "source": [
        "#stopwords implementation\n",
        "tokenized_text_without_stopwords_test = [i for i in tokenized_text_test if not i in stop_words_nltk]"
      ],
      "metadata": {
        "id": "HW2sAcd2cJRN"
      },
      "execution_count": null,
      "outputs": []
    },
    {
      "cell_type": "code",
      "source": [
        "#stemming\n",
        "from nltk.stem import PorterStemmer\n",
        "from nltk.tokenize import word_tokenize\n",
        "stemmer= PorterStemmer()\n",
        "print(\"Before Stemming:\")\n",
        "print(tokenized_text_without_stopwords_test)\n",
        "print(\"After Stemming:\")\n",
        "lt = ' '\n",
        "for word in tokenized_text_without_stopwords_test:\n",
        "  lt = lt + stemmer.stem(word) + ' '\n",
        "print(lt)"
      ],
      "metadata": {
        "colab": {
          "base_uri": "https://localhost:8080/"
        },
        "id": "tOxMKWzWcwbB",
        "outputId": "32cfa1bf-ef79-42be-dae9-0533bda6e8e6"
      },
      "execution_count": null,
      "outputs": [
        {
          "output_type": "stream",
          "name": "stdout",
          "text": [
            "Before Stemming:\n",
            "['natural', 'language', 'processing', 'nlp', 'branch', 'linguistics', 'computer', 'science', 'artificial', 'intelligence', 'deals', 'interaction', 'computers', 'human', 'language', 'specifically', 'programming', 'computers', 'process', 'analyze', 'large', 'amounts', 'natural', 'language', 'data', 'goal', 'computer', 'understand', 'content', 'documents', 'including', 'contextual', 'nuances', 'language', 'technology', 'accurately', 'extract', 'information', 'insights', 'documents', 'categorize', 'organize', 'documents', 'highly', 'successful', 'natural', 'language', 'processing', 'systems', 'developed', '1960s', 'shrdlu', 'natural', 'language', 'system', 'operating', 'limited', 'block', 'worlds', 'limited', 'vocabulary', 'eliza', 'rogerian', 'psychotherapist', 'simulation', 'written', 'joseph', 'weizenbaum', '196', '1966', 'unaware', 'thoughts', 'feelings', 'human', 'eliza', 'sometimes', 'offered', 'surprisingly', 'human', 'interactions', 'patient', 'crossed', 'small', 'database', 'eliza', 'could', 'give', 'general', 'answer', 'example', 'answering', 'head', 'hurts', 'say', 'head', 'hurts', '1970s', '1970s', 'many', 'programmers', 'began', 'writing', 'conceptual', 'ontologies', 'structured', 'realworld', 'information', 'computerunderstandable', 'information', 'examples', 'include', 'margie', 'schank', '1975', 'sam', 'cullingford', '1978', 'pam', 'wilensky', '1978', 'talespin', 'meehan', '1976', 'qualm', 'lehnert', '1977', 'politics', 'carbonell', '1979', 'plot', 'units', 'lehner', '1979', 'time', 'first', 'chatbots', 'eg', 'parry', 'written', '1980s', '1980s', 'early', '1990s', 'mark', 'heyday', 'symbolic', 'methods', 'nlp', 'areas', 'focus', 'time', 'rulebased', 'parsing', 'eg', 'development', 'hpsg', 'computational', 'implementation', 'generative', 'grammar', 'morphology', 'eg', 'twolevel', 'morphology', 'semantics', 'eg', 'leskis', 'algorithm', 'reference', 'eg', 'central', 'theory', 'areas', 'natural', 'language', 'understanding', 'eg', 'rhetorical', 'structure', 'theory', 'lines', 'research', 'continued', 'development', 'chatbots', 'racter', 'jabberwacky', 'important', 'development', 'later', 'led', 'statistical', 'turn', '1990s', 'growing', 'importance', 'quantitative', 'assessment', 'period', 'operating', 'systems', 'based', 'complex', 'handwritten', 'rules', 'however', 'since', 'late', '1980s', 'revolution', 'natural', 'language', 'processing', 'machine', 'learning', 'algorithms', 'introduced', 'process', 'language', 'due', 'continuous', 'growth', 'computing', 'power', 'see', 'moores', 'law', 'gradual', 'weakening', 'dominance', 'chomskys', 'linguistic', 'theories', 'eg', 'transformational', 'grammar', 'whose', 'theoretical', 'background', 'discourages', 'corpus', 'linguistics', 'underlying', 'machine', 'learning', 'language', 'processing', '1990s', 'many', 'early', 'advances', 'nlp', 'statistical', 'methods', 'occurred', 'field', 'machine', 'translation', 'particularly', 'work', 'ibm', 'research', 'systems', 'able', 'take', 'advantage', 'existing', 'multilingual', 'text', 'corrections', 'canadian', 'parliament', 'european', 'union', 'resulting', 'laws', 'require', 'administrative', 'procedures', 'translated', 'official', 'languages', 'respective', 'administrative', 'systems', 'however', 'systems', 'depended', 'specially', 'developed', 'cases', 'tasks', 'systems', 'often', 'continues', 'main', 'limitation', 'success', 'systems', 'result', 'many', 'researched', 'methods', 'learn', 'effectively', 'limited', 'data', '21st', 'century', 'growth', 'web', 'since', 'mid1990s', 'raw', 'unlabeled', 'language', 'data', 'become', 'available', 'therefore', 'research', 'increasingly', 'focused', 'unsupervised', 'semisupervised', 'learning', 'algorithms', 'algorithms', 'learn', 'data', 'manually', 'annotated', 'desired', 'responses', 'using', 'combination', 'annotated', 'unannotated', 'data', 'general', 'task', 'much', 'complex', 'supervised', 'learning', 'usually', 'produces', 'less', 'accurate', 'results', 'given', 'set', 'input', 'data', 'however', 'huge', 'amount', 'unexplained', 'data', 'available', 'including', 'among', 'things', 'entire', 'content', 'world', 'wide', 'web', 'often', 'compensate', 'poor', 'results', 'time', 'complexity', 'algorithm', 'used', 'low', 'enough', 'practical', 'neural', 'nlp', 'today', '2010s', 'representational', 'learning', 'deep', 'neural', 'networkstyle', 'machine', 'learning', 'methods', 'became', 'commonplace', 'natural', 'language', 'processing', 'popularity', 'due', 'part', 'flood', 'results', 'showing', 'techniques', 'achieve', 'stateoftheart', 'performance', 'many', 'natural', 'language', 'tasks', 'language', 'modeling', 'parsing', 'increasingly', 'important', 'medicine', 'healthcare', 'nlp', 'helps', 'analyze', 'notes', 'text', 'electronic', 'health', 'records', 'would', 'otherwise', 'go', 'unexamined', 'improve', 'care', 'methods', 'rules', 'statistics', 'neural', 'networks', 'early', 'days', 'many', 'language', 'processing', 'systems', 'designed', 'symbolic', 'methods', 'hand', 'coding', 'rules', 'dictionary', 'lookups', 'example', 'writing', 'drawing', 'grammars', 'heuristic', 'rules', 'stem', 'latest', 'systems', 'based', 'machine', 'learning', 'algorithms', 'many', 'advantages', 'manually', 'created', 'rules', 'learning', 'procedures', 'used', 'machine', 'learning', 'automatically', 'focus', 'common', 'cases', 'write', 'rules', 'hand', 'often', 'clear', 'try', 'directed', 'machine', 'learning', 'procedures', 'use', 'statistical', 'inference', 'algorithms', 'create', 'models', 'robust', 'unknown', 'input', 'eg', 'containing', 'words', 'structures', 'seen', 'erroneous', 'input', 'eg', 'misspelled', 'accidentally', 'omitted', 'words', 'general', 'handling', 'inputs', 'gracefully', 'handwritten', 'rules', 'generally', 'creating', 'handwritten', 'rules', 'make', 'soft', 'decisions', 'difficult', 'errorprone', 'timeconsuming', 'systems', 'based', 'automatic', 'learning', 'rules', 'refined', 'simply', 'entering', 'additional', 'input', 'data', 'however', 'systems', 'based', 'handwritten', 'rules', 'improved', 'increasing', 'complexity', 'rules', 'much', 'difficult', 'task', 'particular', 'limit', 'complexity', 'systems', 'based', 'handwritten', 'rules', 'systems', 'become', 'increasingly', 'unmanageable', 'however', 'adding', 'data', 'machine', 'learning', 'systems', 'requires', 'corresponding', 'increase', 'human', 'hours', 'usually', 'without', 'significant', 'increase', 'complexity', 'annotation', 'process', 'despite', 'popularity', 'machine', 'learning', 'nlp', 'research', 'symbolic', 'methods', 'still', '2020']\n",
            "After Stemming:\n",
            " natur languag process nlp branch linguist comput scienc artifici intellig deal interact comput human languag specif program comput process analyz larg amount natur languag data goal comput understand content document includ contextu nuanc languag technolog accur extract inform insight document categor organ document highli success natur languag process system develop 1960 shrdlu natur languag system oper limit block world limit vocabulari eliza rogerian psychotherapist simul written joseph weizenbaum 196 1966 unawar thought feel human eliza sometim offer surprisingli human interact patient cross small databas eliza could give gener answer exampl answer head hurt say head hurt 1970 1970 mani programm began write conceptu ontolog structur realworld inform computerunderstand inform exampl includ margi schank 1975 sam cullingford 1978 pam wilenski 1978 talespin meehan 1976 qualm lehnert 1977 polit carbonel 1979 plot unit lehner 1979 time first chatbot eg parri written 1980 1980 earli 1990 mark heyday symbol method nlp area focu time rulebas pars eg develop hpsg comput implement gener grammar morpholog eg twolevel morpholog semant eg leski algorithm refer eg central theori area natur languag understand eg rhetor structur theori line research continu develop chatbot racter jabberwacki import develop later led statist turn 1990 grow import quantit assess period oper system base complex handwritten rule howev sinc late 1980 revolut natur languag process machin learn algorithm introduc process languag due continu growth comput power see moor law gradual weaken domin chomski linguist theori eg transform grammar whose theoret background discourag corpu linguist underli machin learn languag process 1990 mani earli advanc nlp statist method occur field machin translat particularli work ibm research system abl take advantag exist multilingu text correct canadian parliament european union result law requir administr procedur translat offici languag respect administr system howev system depend special develop case task system often continu main limit success system result mani research method learn effect limit data 21st centuri growth web sinc mid1990 raw unlabel languag data becom avail therefor research increasingli focus unsupervis semisupervis learn algorithm algorithm learn data manual annot desir respons use combin annot unannot data gener task much complex supervis learn usual produc less accur result given set input data howev huge amount unexplain data avail includ among thing entir content world wide web often compens poor result time complex algorithm use low enough practic neural nlp today 2010 represent learn deep neural networkstyl machin learn method becam commonplac natur languag process popular due part flood result show techniqu achiev stateoftheart perform mani natur languag task languag model pars increasingli import medicin healthcar nlp help analyz note text electron health record would otherwis go unexamin improv care method rule statist neural network earli day mani languag process system design symbol method hand code rule dictionari lookup exampl write draw grammar heurist rule stem latest system base machin learn algorithm mani advantag manual creat rule learn procedur use machin learn automat focu common case write rule hand often clear tri direct machin learn procedur use statist infer algorithm creat model robust unknown input eg contain word structur seen erron input eg misspel accident omit word gener handl input grace handwritten rule gener creat handwritten rule make soft decis difficult errorpron timeconsum system base automat learn rule refin simpli enter addit input data howev system base handwritten rule improv increas complex rule much difficult task particular limit complex system base handwritten rule system becom increasingli unmanag howev ad data machin learn system requir correspond increas human hour usual without signific increas complex annot process despit popular machin learn nlp research symbol method still 2020 \n"
          ]
        }
      ]
    },
    {
      "cell_type": "markdown",
      "source": [
        "### NGRAM model"
      ],
      "metadata": {
        "id": "qsoG6Uw5RYqi"
      }
    },
    {
      "cell_type": "code",
      "source": [
        "#ngrams\n",
        "n = 3\n",
        "\n",
        "ngrams = list(everygrams(training_data, max_len=n))\n",
        "print(\"Number of ngrams:\", len(ngrams))"
      ],
      "metadata": {
        "id": "A6HNqhqYTYYC",
        "colab": {
          "base_uri": "https://localhost:8080/"
        },
        "outputId": "270d7c98-63be-4e7f-cdea-698015173f87"
      },
      "execution_count": null,
      "outputs": [
        {
          "output_type": "stream",
          "name": "stdout",
          "text": [
            "Number of ngrams: 58950\n"
          ]
        }
      ]
    },
    {
      "cell_type": "code",
      "source": [
        "from nltk.lm import WittenBellInterpolated"
      ],
      "metadata": {
        "id": "8e5vNflkZp7e"
      },
      "execution_count": null,
      "outputs": []
    },
    {
      "cell_type": "code",
      "source": [
        "#ngram language model\n",
        "model = WittenBellInterpolated(n)\n",
        "model.fit([ngrams], vocabulary_text=training_data)\n",
        "print(model.vocab)"
      ],
      "metadata": {
        "id": "Dqp-Sbw0aj9z",
        "colab": {
          "base_uri": "https://localhost:8080/"
        },
        "outputId": "583f7e42-9a96-4557-aa62-679f867b35d3"
      },
      "execution_count": null,
      "outputs": [
        {
          "output_type": "stream",
          "name": "stdout",
          "text": [
            "<Vocabulary with cutoff=1 unk_label='<UNK>' and 38 items>\n"
          ]
        }
      ]
    },
    {
      "cell_type": "code",
      "source": [
        "len(l)"
      ],
      "metadata": {
        "colab": {
          "base_uri": "https://localhost:8080/"
        },
        "id": "u2jfC9BIdGf-",
        "outputId": "1dca572c-8de7-4ce6-f44f-b42e08f72b11"
      },
      "execution_count": null,
      "outputs": [
        {
          "output_type": "execute_result",
          "data": {
            "text/plain": [
              "19651"
            ]
          },
          "metadata": {},
          "execution_count": 98
        }
      ]
    },
    {
      "cell_type": "code",
      "source": [
        "len(lt)"
      ],
      "metadata": {
        "colab": {
          "base_uri": "https://localhost:8080/"
        },
        "id": "tyedKbscdE38",
        "outputId": "3b67260b-3eaa-41d2-98a0-8dbb80d22a31"
      },
      "execution_count": null,
      "outputs": [
        {
          "output_type": "execute_result",
          "data": {
            "text/plain": [
              "4022"
            ]
          },
          "metadata": {},
          "execution_count": 99
        }
      ]
    },
    {
      "cell_type": "code",
      "source": [
        "# assign scores\n",
        "scores = []\n",
        "for i, item in enumerate(lt[n-1:]):\n",
        "    s = model.score(item, lt[i:i+n-1])\n",
        "    scores.append(s)"
      ],
      "metadata": {
        "id": "rvkQc5z5dR2j"
      },
      "execution_count": null,
      "outputs": []
    },
    {
      "cell_type": "code",
      "source": [
        "scores_np = np.array(scores)"
      ],
      "metadata": {
        "id": "Rb1sndVBdeMR"
      },
      "execution_count": null,
      "outputs": []
    },
    {
      "cell_type": "code",
      "source": [
        "scores_np"
      ],
      "metadata": {
        "colab": {
          "base_uri": "https://localhost:8080/"
        },
        "id": "5Gred9bOdmob",
        "outputId": "ab0a488e-f3ab-4f89-aa58-d87303334d17"
      },
      "execution_count": null,
      "outputs": [
        {
          "output_type": "execute_result",
          "data": {
            "text/plain": [
              "array([0.07124319, 0.06930945, 0.03414584, ..., 0.00183197, 0.00371482,\n",
              "       0.14543789])"
            ]
          },
          "metadata": {},
          "execution_count": 102
        }
      ]
    },
    {
      "cell_type": "markdown",
      "source": [
        "### Visualising results"
      ],
      "metadata": {
        "id": "0ddgov3-Rd8J"
      }
    },
    {
      "cell_type": "code",
      "source": [
        "# set width and height\n",
        "width = 8\n",
        "height = np.ceil(len(lt)/width).astype(\"int32\")\n",
        "print(\"Width, Height:\", width, \",\", height)"
      ],
      "metadata": {
        "colab": {
          "base_uri": "https://localhost:8080/"
        },
        "id": "GneuGyD6fNFN",
        "outputId": "281b06dc-5bd7-4a35-858f-8d54c9a11c16"
      },
      "execution_count": null,
      "outputs": [
        {
          "output_type": "stream",
          "name": "stdout",
          "text": [
            "Width, Height: 8 , 503\n"
          ]
        }
      ]
    },
    {
      "cell_type": "code",
      "source": [
        "# copy scores to rectangular blank array\n",
        "a = np.zeros(width*height)\n",
        "a[:len(scores_np)] = scores_np\n",
        "diff = len(a) - len(scores_np)"
      ],
      "metadata": {
        "id": "VytS9WuIfYJZ"
      },
      "execution_count": null,
      "outputs": []
    },
    {
      "cell_type": "code",
      "source": [
        "from scipy.ndimage import gaussian_filter"
      ],
      "metadata": {
        "id": "QMSZQol_gXuk"
      },
      "execution_count": null,
      "outputs": []
    },
    {
      "cell_type": "code",
      "source": [
        "# apply gaussian smoothing for aesthetics\n",
        "a = gaussian_filter(a, sigma=1.0)\n",
        "\n",
        "# reshape to fit rectangle\n",
        "a = a.reshape(-1, width)"
      ],
      "metadata": {
        "id": "iVIgAXd6gTM0"
      },
      "execution_count": null,
      "outputs": []
    },
    {
      "cell_type": "code",
      "source": [
        "# format labels\n",
        "labels = [\" \".join(lt[i:i+width]) for i in range(n-1, len(lt), width)]\n",
        "labels_individual = [x.split() for x in labels]\n",
        "labels_individual[-1] += [\"\"]*diff\n",
        "labels = [f\"{x:60.60}\" for x in labels]"
      ],
      "metadata": {
        "id": "VbfH6udXfiHm"
      },
      "execution_count": null,
      "outputs": []
    },
    {
      "cell_type": "code",
      "source": [
        "import plotly.graph_objects as go"
      ],
      "metadata": {
        "id": "WrfADNywfpoy"
      },
      "execution_count": null,
      "outputs": []
    },
    {
      "cell_type": "code",
      "source": [
        "# create heatmap\n",
        "fig = go.Figure(data=go.Heatmap(\n",
        "                z=a, x0=0, dx=1,\n",
        "                y=labels, zmin=0, zmax=1,\n",
        "                customdata=labels_individual,\n",
        "                hovertemplate='%{customdata} <br><b>Score:%{z:.3f}<extra></extra>',\n",
        "                colorscale=\"\"))\n",
        "fig.update_layout({\"height\":height*28, \"width\":1000, \"font\":{\"family\":\"Courier New\"}})\n",
        "fig['layout']['yaxis']['autorange'] = \"reversed\"\n",
        "fig.show()"
      ],
      "metadata": {
        "colab": {
          "base_uri": "https://localhost:8080/",
          "height": 1000
        },
        "id": "mpzXopfgfjiH",
        "outputId": "efb9ac9f-0c1c-46bf-c060-4d254db60adf"
      },
      "execution_count": null,
      "outputs": [
        {
          "output_type": "display_data",
          "data": {
            "text/html": [
              "<html>\n",
              "<head><meta charset=\"utf-8\" /></head>\n",
              "<body>\n",
              "    <div>            <script src=\"https://cdnjs.cloudflare.com/ajax/libs/mathjax/2.7.5/MathJax.js?config=TeX-AMS-MML_SVG\"></script><script type=\"text/javascript\">if (window.MathJax) {MathJax.Hub.Config({SVG: {font: \"STIX-Web\"}});}</script>                <script type=\"text/javascript\">window.PlotlyConfig = {MathJaxConfig: 'local'};</script>\n",
              "        <script src=\"https://cdn.plot.ly/plotly-2.8.3.min.js\"></script>                <div id=\"0f27637f-8faa-4255-9323-186bf965b786\" class=\"plotly-graph-div\" style=\"height:14084px; width:1000px;\"></div>            <script type=\"text/javascript\">                                    window.PLOTLYENV=window.PLOTLYENV || {};                                    if (document.getElementById(\"0f27637f-8faa-4255-9323-186bf965b786\")) {                    Plotly.newPlot(                        \"0f27637f-8faa-4255-9323-186bf965b786\",                        [{\"colorscale\":[[0.0,\"rgb(255, 198, 196)\"],[0.16666666666666666,\"rgb(244, 163, 168)\"],[0.3333333333333333,\"rgb(227, 129, 145)\"],[0.5,\"rgb(204, 96, 125)\"],[0.6666666666666666,\"rgb(173, 70, 108)\"],[0.8333333333333334,\"rgb(139, 48, 88)\"],[1.0,\"rgb(103, 32, 68)\"]],\"customdata\":[[\"a\",\"t\",\"u\",\"r\",\"l\",\"a\",\"n\"],[\"g\",\"u\",\"a\",\"g\",\"p\",\"r\",\"o\"],[\"c\",\"e\",\"s\",\"s\",\"n\",\"l\",\"p\"],[\"b\",\"r\",\"a\",\"n\",\"c\",\"h\"],[\"l\",\"i\",\"n\",\"g\",\"u\",\"i\",\"s\",\"t\"],[\"c\",\"o\",\"m\",\"p\",\"u\",\"t\"],[\"s\",\"c\",\"i\",\"e\",\"n\",\"c\",\"a\"],[\"r\",\"t\",\"i\",\"f\",\"i\",\"c\",\"i\"],[\"i\",\"n\",\"t\",\"e\",\"l\",\"l\",\"i\",\"g\"],[\"d\",\"e\",\"a\",\"l\",\"i\",\"n\"],[\"t\",\"e\",\"r\",\"a\",\"c\",\"t\",\"c\"],[\"o\",\"m\",\"p\",\"u\",\"t\",\"h\",\"u\"],[\"m\",\"a\",\"n\",\"l\",\"a\",\"n\",\"g\"],[\"u\",\"a\",\"g\",\"s\",\"p\",\"e\",\"c\"],[\"i\",\"f\",\"p\",\"r\",\"o\",\"g\",\"r\"],[\"a\",\"m\",\"c\",\"o\",\"m\",\"p\",\"u\"],[\"t\",\"p\",\"r\",\"o\",\"c\",\"e\",\"s\"],[\"s\",\"a\",\"n\",\"a\",\"l\",\"y\",\"z\"],[\"l\",\"a\",\"r\",\"g\",\"a\",\"m\"],[\"o\",\"u\",\"n\",\"t\",\"n\",\"a\",\"t\"],[\"u\",\"r\",\"l\",\"a\",\"n\",\"g\",\"u\"],[\"a\",\"g\",\"d\",\"a\",\"t\",\"a\"],[\"g\",\"o\",\"a\",\"l\",\"c\",\"o\",\"m\"],[\"p\",\"u\",\"t\",\"u\",\"n\",\"d\",\"e\"],[\"r\",\"s\",\"t\",\"a\",\"n\",\"d\",\"c\"],[\"o\",\"n\",\"t\",\"e\",\"n\",\"t\",\"d\"],[\"o\",\"c\",\"u\",\"m\",\"e\",\"n\",\"t\"],[\"i\",\"n\",\"c\",\"l\",\"u\",\"d\",\"c\"],[\"o\",\"n\",\"t\",\"e\",\"x\",\"t\",\"u\"],[\"n\",\"u\",\"a\",\"n\",\"c\",\"l\",\"a\"],[\"n\",\"g\",\"u\",\"a\",\"g\",\"t\",\"e\"],[\"c\",\"h\",\"n\",\"o\",\"l\",\"o\",\"g\"],[\"a\",\"c\",\"c\",\"u\",\"r\",\"e\",\"x\"],[\"t\",\"r\",\"a\",\"c\",\"t\",\"i\",\"n\"],[\"f\",\"o\",\"r\",\"m\",\"i\",\"n\",\"s\"],[\"i\",\"g\",\"h\",\"t\",\"d\",\"o\",\"c\"],[\"u\",\"m\",\"e\",\"n\",\"t\",\"c\",\"a\"],[\"t\",\"e\",\"g\",\"o\",\"r\",\"o\",\"r\"],[\"g\",\"a\",\"n\",\"d\",\"o\",\"c\",\"u\"],[\"m\",\"e\",\"n\",\"t\",\"h\",\"i\",\"g\"],[\"h\",\"l\",\"i\",\"s\",\"u\",\"c\",\"c\"],[\"e\",\"s\",\"s\",\"n\",\"a\",\"t\",\"u\"],[\"r\",\"l\",\"a\",\"n\",\"g\",\"u\",\"a\"],[\"g\",\"p\",\"r\",\"o\",\"c\",\"e\",\"s\"],[\"s\",\"s\",\"y\",\"s\",\"t\",\"e\",\"m\"],[\"d\",\"e\",\"v\",\"e\",\"l\",\"o\",\"p\"],[\"1\",\"9\",\"6\",\"0\",\"s\",\"h\"],[\"r\",\"d\",\"l\",\"u\",\"n\",\"a\",\"t\"],[\"u\",\"r\",\"l\",\"a\",\"n\",\"g\",\"u\"],[\"a\",\"g\",\"s\",\"y\",\"s\",\"t\",\"e\"],[\"m\",\"o\",\"p\",\"e\",\"r\",\"l\"],[\"i\",\"m\",\"i\",\"t\",\"b\",\"l\",\"o\"],[\"c\",\"k\",\"w\",\"o\",\"r\",\"l\",\"d\"],[\"l\",\"i\",\"m\",\"i\",\"t\",\"v\"],[\"o\",\"c\",\"a\",\"b\",\"u\",\"l\",\"a\",\"r\"],[\"i\",\"e\",\"l\",\"i\",\"z\",\"a\"],[\"r\",\"o\",\"g\",\"e\",\"r\",\"i\",\"a\",\"n\"],[\"p\",\"s\",\"y\",\"c\",\"h\",\"o\",\"t\"],[\"h\",\"e\",\"r\",\"a\",\"p\",\"i\",\"s\",\"t\"],[\"s\",\"i\",\"m\",\"u\",\"l\",\"w\"],[\"r\",\"i\",\"t\",\"t\",\"e\",\"n\",\"j\"],[\"o\",\"s\",\"e\",\"p\",\"h\",\"w\",\"e\"],[\"i\",\"z\",\"e\",\"n\",\"b\",\"a\",\"u\",\"m\"],[\"1\",\"9\",\"6\",\"1\",\"9\",\"6\"],[\"6\",\"u\",\"n\",\"a\",\"w\",\"a\",\"r\"],[\"t\",\"h\",\"o\",\"u\",\"g\",\"h\",\"t\"],[\"f\",\"e\",\"e\",\"l\",\"h\",\"u\"],[\"m\",\"a\",\"n\",\"e\",\"l\",\"i\",\"z\"],[\"a\",\"s\",\"o\",\"m\",\"e\",\"t\",\"i\"],[\"m\",\"o\",\"f\",\"f\",\"e\",\"r\"],[\"s\",\"u\",\"r\",\"p\",\"r\",\"i\",\"s\",\"i\"],[\"n\",\"g\",\"l\",\"i\",\"h\",\"u\",\"m\"],[\"a\",\"n\",\"i\",\"n\",\"t\",\"e\",\"r\"],[\"a\",\"c\",\"t\",\"p\",\"a\",\"t\",\"i\"],[\"e\",\"n\",\"t\",\"c\",\"r\",\"o\",\"s\"],[\"s\",\"s\",\"m\",\"a\",\"l\",\"l\"],[\"d\",\"a\",\"t\",\"a\",\"b\",\"a\",\"s\"],[\"e\",\"l\",\"i\",\"z\",\"a\",\"c\",\"o\"],[\"u\",\"l\",\"d\",\"g\",\"i\",\"v\",\"e\"],[\"g\",\"e\",\"n\",\"e\",\"r\",\"a\"],[\"n\",\"s\",\"w\",\"e\",\"r\",\"e\",\"x\"],[\"a\",\"m\",\"p\",\"l\",\"a\",\"n\",\"s\"],[\"w\",\"e\",\"r\",\"h\",\"e\",\"a\",\"d\"],[\"h\",\"u\",\"r\",\"t\",\"s\",\"a\"],[\"y\",\"h\",\"e\",\"a\",\"d\",\"h\"],[\"u\",\"r\",\"t\",\"1\",\"9\",\"7\",\"0\"],[\"1\",\"9\",\"7\",\"0\",\"m\",\"a\"],[\"n\",\"i\",\"p\",\"r\",\"o\",\"g\",\"r\"],[\"a\",\"m\",\"m\",\"b\",\"e\",\"g\",\"a\"],[\"n\",\"w\",\"r\",\"i\",\"t\",\"e\"],[\"c\",\"o\",\"n\",\"c\",\"e\",\"p\",\"t\",\"u\"],[\"o\",\"n\",\"t\",\"o\",\"l\",\"o\",\"g\"],[\"s\",\"t\",\"r\",\"u\",\"c\",\"t\",\"u\"],[\"r\",\"r\",\"e\",\"a\",\"l\",\"w\",\"o\"],[\"r\",\"l\",\"d\",\"i\",\"n\",\"f\",\"o\"],[\"r\",\"m\",\"c\",\"o\",\"m\",\"p\",\"u\"],[\"t\",\"e\",\"r\",\"u\",\"n\",\"d\",\"e\",\"r\"],[\"s\",\"t\",\"a\",\"n\",\"d\",\"i\",\"n\"],[\"f\",\"o\",\"r\",\"m\",\"e\",\"x\",\"a\"],[\"m\",\"p\",\"l\",\"i\",\"n\",\"c\",\"l\"],[\"u\",\"d\",\"m\",\"a\",\"r\",\"g\",\"i\"],[\"s\",\"c\",\"h\",\"a\",\"n\",\"k\"],[\"1\",\"9\",\"7\",\"5\",\"s\",\"a\",\"m\"],[\"c\",\"u\",\"l\",\"l\",\"i\",\"n\",\"g\"],[\"f\",\"o\",\"r\",\"d\",\"1\",\"9\",\"7\"],[\"8\",\"p\",\"a\",\"m\",\"w\",\"i\"],[\"l\",\"e\",\"n\",\"s\",\"k\",\"i\",\"1\"],[\"9\",\"7\",\"8\",\"t\",\"a\",\"l\",\"e\"],[\"s\",\"p\",\"i\",\"n\",\"m\",\"e\",\"e\"],[\"h\",\"a\",\"n\",\"1\",\"9\",\"7\",\"6\"],[\"q\",\"u\",\"a\",\"l\",\"m\",\"l\"],[\"e\",\"h\",\"n\",\"e\",\"r\",\"t\",\"1\"],[\"9\",\"7\",\"7\",\"p\",\"o\",\"l\",\"i\"],[\"t\",\"c\",\"a\",\"r\",\"b\",\"o\",\"n\"],[\"e\",\"l\",\"1\",\"9\",\"7\",\"9\"],[\"p\",\"l\",\"o\",\"t\",\"u\",\"n\",\"i\"],[\"t\",\"l\",\"e\",\"h\",\"n\",\"e\",\"r\"],[\"1\",\"9\",\"7\",\"9\",\"t\",\"i\"],[\"m\",\"e\",\"f\",\"i\",\"r\",\"s\",\"t\"],[\"c\",\"h\",\"a\",\"t\",\"b\",\"o\",\"t\"],[\"e\",\"g\",\"p\",\"a\",\"r\",\"r\"],[\"i\",\"w\",\"r\",\"i\",\"t\",\"t\",\"e\"],[\"n\",\"1\",\"9\",\"8\",\"0\",\"1\"],[\"9\",\"8\",\"0\",\"e\",\"a\",\"r\",\"l\"],[\"i\",\"1\",\"9\",\"9\",\"0\",\"m\"],[\"a\",\"r\",\"k\",\"h\",\"e\",\"y\",\"d\"],[\"a\",\"y\",\"s\",\"y\",\"m\",\"b\",\"o\"],[\"l\",\"m\",\"e\",\"t\",\"h\",\"o\",\"d\"],[\"n\",\"l\",\"p\",\"a\",\"r\",\"e\"],[\"a\",\"f\",\"o\",\"c\",\"u\",\"t\"],[\"i\",\"m\",\"e\",\"r\",\"u\",\"l\",\"e\"],[\"b\",\"a\",\"s\",\"p\",\"a\",\"r\",\"s\"],[\"e\",\"g\",\"d\",\"e\",\"v\",\"e\"],[\"l\",\"o\",\"p\",\"h\",\"p\",\"s\",\"g\"],[\"c\",\"o\",\"m\",\"p\",\"u\",\"t\"],[\"i\",\"m\",\"p\",\"l\",\"e\",\"m\",\"e\",\"n\"],[\"t\",\"g\",\"e\",\"n\",\"e\",\"r\"],[\"g\",\"r\",\"a\",\"m\",\"m\",\"a\",\"r\"],[\"m\",\"o\",\"r\",\"p\",\"h\",\"o\",\"l\",\"o\"],[\"g\",\"e\",\"g\",\"t\",\"w\",\"o\"],[\"l\",\"e\",\"v\",\"e\",\"l\",\"m\",\"o\"],[\"r\",\"p\",\"h\",\"o\",\"l\",\"o\",\"g\"],[\"s\",\"e\",\"m\",\"a\",\"n\",\"t\",\"e\"],[\"g\",\"l\",\"e\",\"s\",\"k\",\"i\"],[\"a\",\"l\",\"g\",\"o\",\"r\",\"i\",\"t\",\"h\"],[\"m\",\"r\",\"e\",\"f\",\"e\",\"r\"],[\"e\",\"g\",\"c\",\"e\",\"n\",\"t\",\"r\"],[\"a\",\"l\",\"t\",\"h\",\"e\",\"o\",\"r\"],[\"i\",\"a\",\"r\",\"e\",\"a\",\"n\"],[\"a\",\"t\",\"u\",\"r\",\"l\",\"a\",\"n\"],[\"g\",\"u\",\"a\",\"g\",\"u\",\"n\",\"d\"],[\"e\",\"r\",\"s\",\"t\",\"a\",\"n\",\"d\"],[\"e\",\"g\",\"r\",\"h\",\"e\",\"t\",\"o\"],[\"r\",\"s\",\"t\",\"r\",\"u\",\"c\",\"t\"],[\"u\",\"r\",\"t\",\"h\",\"e\",\"o\",\"r\"],[\"i\",\"l\",\"i\",\"n\",\"e\",\"r\"],[\"e\",\"s\",\"e\",\"a\",\"r\",\"c\",\"h\"],[\"c\",\"o\",\"n\",\"t\",\"i\",\"n\",\"u\"],[\"d\",\"e\",\"v\",\"e\",\"l\",\"o\",\"p\"],[\"c\",\"h\",\"a\",\"t\",\"b\",\"o\",\"t\"],[\"r\",\"a\",\"c\",\"t\",\"e\",\"r\",\"j\"],[\"a\",\"b\",\"b\",\"e\",\"r\",\"w\",\"a\",\"c\"],[\"k\",\"i\",\"i\",\"m\",\"p\",\"o\",\"r\"],[\"t\",\"d\",\"e\",\"v\",\"e\",\"l\",\"o\"],[\"p\",\"l\",\"a\",\"t\",\"e\",\"r\"],[\"l\",\"e\",\"d\",\"s\",\"t\",\"a\",\"t\"],[\"i\",\"s\",\"t\",\"t\",\"u\",\"r\",\"n\"],[\"1\",\"9\",\"9\",\"0\",\"g\",\"r\"],[\"o\",\"w\",\"i\",\"m\",\"p\",\"o\",\"r\"],[\"t\",\"q\",\"u\",\"a\",\"n\",\"t\",\"i\"],[\"t\",\"a\",\"s\",\"s\",\"e\",\"s\",\"s\"],[\"p\",\"e\",\"r\",\"i\",\"o\",\"d\"],[\"o\",\"p\",\"e\",\"r\",\"s\",\"y\",\"s\"],[\"t\",\"e\",\"m\",\"b\",\"a\",\"s\",\"e\"],[\"c\",\"o\",\"m\",\"p\",\"l\",\"e\",\"x\"],[\"h\",\"a\",\"n\",\"d\",\"w\",\"r\",\"i\"],[\"t\",\"t\",\"e\",\"n\",\"r\",\"u\",\"l\"],[\"e\",\"h\",\"o\",\"w\",\"e\",\"v\"],[\"s\",\"i\",\"n\",\"c\",\"l\",\"a\",\"t\"],[\"e\",\"1\",\"9\",\"8\",\"0\",\"r\"],[\"e\",\"v\",\"o\",\"l\",\"u\",\"t\",\"n\"],[\"a\",\"t\",\"u\",\"r\",\"l\",\"a\",\"n\"],[\"g\",\"u\",\"a\",\"g\",\"p\",\"r\",\"o\"],[\"c\",\"e\",\"s\",\"s\",\"m\",\"a\",\"c\"],[\"h\",\"i\",\"n\",\"l\",\"e\",\"a\",\"r\"],[\"n\",\"a\",\"l\",\"g\",\"o\",\"r\",\"i\"],[\"t\",\"h\",\"m\",\"i\",\"n\",\"t\",\"r\"],[\"o\",\"d\",\"u\",\"c\",\"p\",\"r\",\"o\"],[\"c\",\"e\",\"s\",\"s\",\"l\",\"a\",\"n\"],[\"g\",\"u\",\"a\",\"g\",\"d\",\"u\",\"e\"],[\"c\",\"o\",\"n\",\"t\",\"i\",\"n\",\"u\"],[\"g\",\"r\",\"o\",\"w\",\"t\",\"h\"],[\"c\",\"o\",\"m\",\"p\",\"u\",\"t\",\"p\"],[\"o\",\"w\",\"e\",\"r\",\"s\",\"e\",\"e\"],[\"m\",\"o\",\"o\",\"r\",\"l\",\"a\"],[\"w\",\"g\",\"r\",\"a\",\"d\",\"u\",\"a\"],[\"l\",\"w\",\"e\",\"a\",\"k\",\"e\",\"n\"],[\"d\",\"o\",\"m\",\"i\",\"n\",\"c\"],[\"h\",\"o\",\"m\",\"s\",\"k\",\"i\",\"l\"],[\"i\",\"n\",\"g\",\"u\",\"i\",\"s\",\"t\"],[\"t\",\"h\",\"e\",\"o\",\"r\",\"i\",\"e\"],[\"g\",\"t\",\"r\",\"a\",\"n\",\"s\",\"f\"],[\"o\",\"r\",\"m\",\"g\",\"r\",\"a\",\"m\"],[\"m\",\"a\",\"r\",\"w\",\"h\",\"o\",\"s\"],[\"e\",\"t\",\"h\",\"e\",\"o\",\"r\",\"e\"],[\"t\",\"b\",\"a\",\"c\",\"k\",\"g\",\"r\"],[\"o\",\"u\",\"n\",\"d\",\"d\",\"i\",\"s\"],[\"c\",\"o\",\"u\",\"r\",\"a\",\"g\",\"c\"],[\"o\",\"r\",\"p\",\"u\",\"l\",\"i\",\"n\"],[\"g\",\"u\",\"i\",\"s\",\"t\",\"u\",\"n\"],[\"d\",\"e\",\"r\",\"l\",\"i\",\"m\",\"a\"],[\"c\",\"h\",\"i\",\"n\",\"l\",\"e\",\"a\"],[\"r\",\"n\",\"l\",\"a\",\"n\",\"g\",\"u\"],[\"a\",\"g\",\"p\",\"r\",\"o\",\"c\",\"e\"],[\"s\",\"s\",\"1\",\"9\",\"9\",\"0\"],[\"m\",\"a\",\"n\",\"i\",\"e\",\"a\",\"r\"],[\"l\",\"i\",\"a\",\"d\",\"v\",\"a\",\"n\"],[\"c\",\"n\",\"l\",\"p\",\"s\",\"t\"],[\"a\",\"t\",\"i\",\"s\",\"t\",\"m\",\"e\"],[\"t\",\"h\",\"o\",\"d\",\"o\",\"c\",\"c\"],[\"u\",\"r\",\"f\",\"i\",\"e\",\"l\",\"d\"],[\"m\",\"a\",\"c\",\"h\",\"i\",\"n\"],[\"t\",\"r\",\"a\",\"n\",\"s\",\"l\",\"a\",\"t\"],[\"p\",\"a\",\"r\",\"t\",\"i\",\"c\",\"u\"],[\"l\",\"a\",\"r\",\"l\",\"i\",\"w\",\"o\"],[\"r\",\"k\",\"i\",\"b\",\"m\",\"r\"],[\"e\",\"s\",\"e\",\"a\",\"r\",\"c\",\"h\"],[\"s\",\"y\",\"s\",\"t\",\"e\",\"m\",\"a\"],[\"b\",\"l\",\"t\",\"a\",\"k\",\"e\"],[\"a\",\"d\",\"v\",\"a\",\"n\",\"t\",\"a\",\"g\"],[\"e\",\"x\",\"i\",\"s\",\"t\",\"m\"],[\"u\",\"l\",\"t\",\"i\",\"l\",\"i\",\"n\",\"g\"],[\"u\",\"t\",\"e\",\"x\",\"t\",\"c\"],[\"o\",\"r\",\"r\",\"e\",\"c\",\"t\",\"c\"],[\"a\",\"n\",\"a\",\"d\",\"i\",\"a\",\"n\"],[\"p\",\"a\",\"r\",\"l\",\"i\",\"a\",\"m\",\"e\"],[\"n\",\"t\",\"e\",\"u\",\"r\",\"o\",\"p\"],[\"e\",\"a\",\"n\",\"u\",\"n\",\"i\",\"o\"],[\"n\",\"r\",\"e\",\"s\",\"u\",\"l\",\"t\"],[\"l\",\"a\",\"w\",\"r\",\"e\",\"q\"],[\"u\",\"i\",\"r\",\"a\",\"d\",\"m\",\"i\"],[\"n\",\"i\",\"s\",\"t\",\"r\",\"p\",\"r\"],[\"o\",\"c\",\"e\",\"d\",\"u\",\"r\",\"t\"],[\"r\",\"a\",\"n\",\"s\",\"l\",\"a\",\"t\"],[\"o\",\"f\",\"f\",\"i\",\"c\",\"i\",\"l\"],[\"a\",\"n\",\"g\",\"u\",\"a\",\"g\",\"r\"],[\"e\",\"s\",\"p\",\"e\",\"c\",\"t\",\"a\"],[\"d\",\"m\",\"i\",\"n\",\"i\",\"s\",\"t\",\"r\"],[\"s\",\"y\",\"s\",\"t\",\"e\",\"m\"],[\"h\",\"o\",\"w\",\"e\",\"v\",\"s\",\"y\"],[\"s\",\"t\",\"e\",\"m\",\"d\",\"e\",\"p\"],[\"e\",\"n\",\"d\",\"s\",\"p\",\"e\",\"c\"],[\"i\",\"a\",\"l\",\"d\",\"e\",\"v\",\"e\"],[\"l\",\"o\",\"p\",\"c\",\"a\",\"s\",\"e\"],[\"t\",\"a\",\"s\",\"k\",\"s\",\"y\"],[\"s\",\"t\",\"e\",\"m\",\"o\",\"f\",\"t\"],[\"e\",\"n\",\"c\",\"o\",\"n\",\"t\",\"i\"],[\"n\",\"u\",\"m\",\"a\",\"i\",\"n\"],[\"l\",\"i\",\"m\",\"i\",\"t\",\"s\",\"u\"],[\"c\",\"c\",\"e\",\"s\",\"s\",\"s\",\"y\"],[\"s\",\"t\",\"e\",\"m\",\"r\",\"e\",\"s\"],[\"u\",\"l\",\"t\",\"m\",\"a\",\"n\",\"i\"],[\"r\",\"e\",\"s\",\"e\",\"a\",\"r\",\"c\"],[\"h\",\"m\",\"e\",\"t\",\"h\",\"o\",\"d\"],[\"l\",\"e\",\"a\",\"r\",\"n\",\"e\"],[\"f\",\"f\",\"e\",\"c\",\"t\",\"l\",\"i\"],[\"m\",\"i\",\"t\",\"d\",\"a\",\"t\",\"a\"],[\"2\",\"1\",\"s\",\"t\",\"c\",\"e\"],[\"n\",\"t\",\"u\",\"r\",\"i\",\"g\",\"r\"],[\"o\",\"w\",\"t\",\"h\",\"w\",\"e\",\"b\"],[\"s\",\"i\",\"n\",\"c\",\"m\",\"i\"],[\"d\",\"1\",\"9\",\"9\",\"0\",\"r\",\"a\"],[\"w\",\"u\",\"n\",\"l\",\"a\",\"b\",\"e\"],[\"l\",\"l\",\"a\",\"n\",\"g\",\"u\",\"a\"],[\"g\",\"d\",\"a\",\"t\",\"a\",\"b\"],[\"e\",\"c\",\"o\",\"m\",\"a\",\"v\",\"a\"],[\"i\",\"l\",\"t\",\"h\",\"e\",\"r\",\"e\"],[\"f\",\"o\",\"r\",\"r\",\"e\",\"s\",\"e\"],[\"a\",\"r\",\"c\",\"h\",\"i\",\"n\",\"c\"],[\"r\",\"e\",\"a\",\"s\",\"i\",\"n\",\"g\",\"l\"],[\"i\",\"f\",\"o\",\"c\",\"u\",\"s\"],[\"u\",\"n\",\"s\",\"u\",\"p\",\"e\",\"r\",\"v\"],[\"i\",\"s\",\"s\",\"e\",\"m\",\"i\",\"s\"],[\"u\",\"p\",\"e\",\"r\",\"v\",\"i\",\"s\"],[\"l\",\"e\",\"a\",\"r\",\"n\",\"a\",\"l\"],[\"g\",\"o\",\"r\",\"i\",\"t\",\"h\",\"m\"],[\"a\",\"l\",\"g\",\"o\",\"r\",\"i\",\"t\",\"h\"],[\"m\",\"l\",\"e\",\"a\",\"r\",\"n\"],[\"d\",\"a\",\"t\",\"a\",\"m\",\"a\",\"n\"],[\"u\",\"a\",\"l\",\"a\",\"n\",\"n\",\"o\"],[\"t\",\"d\",\"e\",\"s\",\"i\",\"r\"],[\"r\",\"e\",\"s\",\"p\",\"o\",\"n\",\"s\"],[\"u\",\"s\",\"e\",\"c\",\"o\",\"m\",\"b\"],[\"i\",\"n\",\"a\",\"n\",\"n\",\"o\",\"t\"],[\"u\",\"n\",\"a\",\"n\",\"n\",\"o\",\"t\"],[\"d\",\"a\",\"t\",\"a\",\"g\",\"e\"],[\"n\",\"e\",\"r\",\"t\",\"a\",\"s\",\"k\"],[\"m\",\"u\",\"c\",\"h\",\"c\",\"o\"],[\"m\",\"p\",\"l\",\"e\",\"x\",\"s\",\"u\"],[\"p\",\"e\",\"r\",\"v\",\"i\",\"s\",\"l\"],[\"e\",\"a\",\"r\",\"n\",\"u\",\"s\",\"u\"],[\"a\",\"l\",\"p\",\"r\",\"o\",\"d\",\"u\"],[\"c\",\"l\",\"e\",\"s\",\"s\",\"a\"],[\"c\",\"c\",\"u\",\"r\",\"r\",\"e\",\"s\"],[\"u\",\"l\",\"t\",\"g\",\"i\",\"v\",\"e\"],[\"n\",\"s\",\"e\",\"t\",\"i\",\"n\"],[\"p\",\"u\",\"t\",\"d\",\"a\",\"t\",\"a\"],[\"h\",\"o\",\"w\",\"e\",\"v\",\"h\"],[\"u\",\"g\",\"e\",\"a\",\"m\",\"o\",\"u\"],[\"n\",\"t\",\"u\",\"n\",\"e\",\"x\",\"p\"],[\"l\",\"a\",\"i\",\"n\",\"d\",\"a\",\"t\"],[\"a\",\"a\",\"v\",\"a\",\"i\",\"l\"],[\"i\",\"n\",\"c\",\"l\",\"u\",\"d\",\"a\"],[\"m\",\"o\",\"n\",\"g\",\"t\",\"h\",\"i\"],[\"n\",\"g\",\"e\",\"n\",\"t\",\"i\",\"r\"],[\"c\",\"o\",\"n\",\"t\",\"e\",\"n\",\"t\"],[\"w\",\"o\",\"r\",\"l\",\"d\",\"w\"],[\"i\",\"d\",\"e\",\"w\",\"e\",\"b\"],[\"o\",\"f\",\"t\",\"e\",\"n\",\"c\",\"o\"],[\"m\",\"p\",\"e\",\"n\",\"s\",\"p\",\"o\"],[\"o\",\"r\",\"r\",\"e\",\"s\",\"u\",\"l\"],[\"t\",\"t\",\"i\",\"m\",\"e\",\"c\"],[\"o\",\"m\",\"p\",\"l\",\"e\",\"x\",\"a\"],[\"l\",\"g\",\"o\",\"r\",\"i\",\"t\",\"h\",\"m\"],[\"u\",\"s\",\"e\",\"l\",\"o\",\"w\"],[\"e\",\"n\",\"o\",\"u\",\"g\",\"h\"],[\"p\",\"r\",\"a\",\"c\",\"t\",\"i\",\"c\"],[\"n\",\"e\",\"u\",\"r\",\"a\",\"l\",\"n\"],[\"l\",\"p\",\"t\",\"o\",\"d\",\"a\",\"y\"],[\"2\",\"0\",\"1\",\"0\",\"r\",\"e\"],[\"p\",\"r\",\"e\",\"s\",\"e\",\"n\",\"t\"],[\"l\",\"e\",\"a\",\"r\",\"n\",\"d\",\"e\"],[\"e\",\"p\",\"n\",\"e\",\"u\",\"r\",\"a\"],[\"l\",\"n\",\"e\",\"t\",\"w\",\"o\",\"r\"],[\"k\",\"s\",\"t\",\"y\",\"l\",\"m\",\"a\"],[\"c\",\"h\",\"i\",\"n\",\"l\",\"e\",\"a\"],[\"r\",\"n\",\"m\",\"e\",\"t\",\"h\",\"o\"],[\"d\",\"b\",\"e\",\"c\",\"a\",\"m\"],[\"c\",\"o\",\"m\",\"m\",\"o\",\"n\",\"p\",\"l\"],[\"a\",\"c\",\"n\",\"a\",\"t\",\"u\",\"r\"],[\"l\",\"a\",\"n\",\"g\",\"u\",\"a\",\"g\"],[\"p\",\"r\",\"o\",\"c\",\"e\",\"s\",\"s\"],[\"p\",\"o\",\"p\",\"u\",\"l\",\"a\",\"r\"],[\"d\",\"u\",\"e\",\"p\",\"a\",\"r\"],[\"t\",\"f\",\"l\",\"o\",\"o\",\"d\"],[\"r\",\"e\",\"s\",\"u\",\"l\",\"t\",\"s\"],[\"h\",\"o\",\"w\",\"t\",\"e\",\"c\",\"h\"],[\"n\",\"i\",\"q\",\"u\",\"a\",\"c\",\"h\"],[\"i\",\"e\",\"v\",\"s\",\"t\",\"a\",\"t\"],[\"e\",\"o\",\"f\",\"t\",\"h\",\"e\",\"a\",\"r\"],[\"t\",\"p\",\"e\",\"r\",\"f\",\"o\",\"r\"],[\"m\",\"m\",\"a\",\"n\",\"i\",\"n\"],[\"a\",\"t\",\"u\",\"r\",\"l\",\"a\",\"n\"],[\"g\",\"u\",\"a\",\"g\",\"t\",\"a\",\"s\"],[\"k\",\"l\",\"a\",\"n\",\"g\",\"u\",\"a\"],[\"g\",\"m\",\"o\",\"d\",\"e\",\"l\"],[\"p\",\"a\",\"r\",\"s\",\"i\",\"n\",\"c\"],[\"r\",\"e\",\"a\",\"s\",\"i\",\"n\",\"g\",\"l\"],[\"i\",\"i\",\"m\",\"p\",\"o\",\"r\",\"t\"],[\"m\",\"e\",\"d\",\"i\",\"c\",\"i\",\"n\"],[\"h\",\"e\",\"a\",\"l\",\"t\",\"h\",\"c\"],[\"a\",\"r\",\"n\",\"l\",\"p\",\"h\"],[\"e\",\"l\",\"p\",\"a\",\"n\",\"a\",\"l\"],[\"y\",\"z\",\"n\",\"o\",\"t\",\"e\"],[\"t\",\"e\",\"x\",\"t\",\"e\",\"l\",\"e\"],[\"c\",\"t\",\"r\",\"o\",\"n\",\"h\",\"e\"],[\"a\",\"l\",\"t\",\"h\",\"r\",\"e\",\"c\"],[\"o\",\"r\",\"d\",\"w\",\"o\",\"u\",\"l\"],[\"d\",\"o\",\"t\",\"h\",\"e\",\"r\",\"w\"],[\"i\",\"s\",\"g\",\"o\",\"u\",\"n\"],[\"e\",\"x\",\"a\",\"m\",\"i\",\"n\",\"i\"],[\"m\",\"p\",\"r\",\"o\",\"v\",\"c\",\"a\"],[\"r\",\"e\",\"m\",\"e\",\"t\",\"h\",\"o\"],[\"d\",\"r\",\"u\",\"l\",\"e\",\"s\"],[\"t\",\"a\",\"t\",\"i\",\"s\",\"t\",\"n\"],[\"e\",\"u\",\"r\",\"a\",\"l\",\"n\",\"e\"],[\"t\",\"w\",\"o\",\"r\",\"k\",\"e\",\"a\"],[\"r\",\"l\",\"i\",\"d\",\"a\",\"y\"],[\"m\",\"a\",\"n\",\"i\",\"l\",\"a\",\"n\"],[\"g\",\"u\",\"a\",\"g\",\"p\",\"r\",\"o\"],[\"c\",\"e\",\"s\",\"s\",\"s\",\"y\",\"s\"],[\"t\",\"e\",\"m\",\"d\",\"e\",\"s\",\"i\"],[\"g\",\"n\",\"s\",\"y\",\"m\",\"b\",\"o\"],[\"l\",\"m\",\"e\",\"t\",\"h\",\"o\",\"d\"],[\"h\",\"a\",\"n\",\"d\",\"c\",\"o\"],[\"d\",\"e\",\"r\",\"u\",\"l\",\"e\"],[\"d\",\"i\",\"c\",\"t\",\"i\",\"o\",\"n\",\"a\"],[\"r\",\"i\",\"l\",\"o\",\"o\",\"k\",\"u\"],[\"p\",\"e\",\"x\",\"a\",\"m\",\"p\",\"l\"],[\"w\",\"r\",\"i\",\"t\",\"e\",\"d\"],[\"r\",\"a\",\"w\",\"g\",\"r\",\"a\",\"m\"],[\"m\",\"a\",\"r\",\"h\",\"e\",\"u\",\"r\"],[\"i\",\"s\",\"t\",\"r\",\"u\",\"l\",\"e\"],[\"s\",\"t\",\"e\",\"m\",\"l\",\"a\"],[\"t\",\"e\",\"s\",\"t\",\"s\",\"y\",\"s\"],[\"t\",\"e\",\"m\",\"b\",\"a\",\"s\",\"e\"],[\"m\",\"a\",\"c\",\"h\",\"i\",\"n\"],[\"l\",\"e\",\"a\",\"r\",\"n\",\"a\",\"l\"],[\"g\",\"o\",\"r\",\"i\",\"t\",\"h\",\"m\"],[\"m\",\"a\",\"n\",\"i\",\"a\",\"d\",\"v\"],[\"a\",\"n\",\"t\",\"a\",\"g\",\"m\",\"a\"],[\"n\",\"u\",\"a\",\"l\",\"c\",\"r\",\"e\"],[\"a\",\"t\",\"r\",\"u\",\"l\",\"e\"],[\"l\",\"e\",\"a\",\"r\",\"n\",\"p\",\"r\"],[\"o\",\"c\",\"e\",\"d\",\"u\",\"r\",\"u\"],[\"s\",\"e\",\"m\",\"a\",\"c\",\"h\",\"i\"],[\"n\",\"l\",\"e\",\"a\",\"r\",\"n\"],[\"a\",\"u\",\"t\",\"o\",\"m\",\"a\",\"t\"],[\"f\",\"o\",\"c\",\"u\",\"c\",\"o\",\"m\"],[\"m\",\"o\",\"n\",\"c\",\"a\",\"s\",\"e\"],[\"w\",\"r\",\"i\",\"t\",\"e\",\"r\"],[\"u\",\"l\",\"e\",\"h\",\"a\",\"n\",\"d\"],[\"o\",\"f\",\"t\",\"e\",\"n\",\"c\"],[\"l\",\"e\",\"a\",\"r\",\"t\",\"r\",\"i\"],[\"d\",\"i\",\"r\",\"e\",\"c\",\"t\"],[\"m\",\"a\",\"c\",\"h\",\"i\",\"n\",\"l\"],[\"e\",\"a\",\"r\",\"n\",\"p\",\"r\",\"o\"],[\"c\",\"e\",\"d\",\"u\",\"r\",\"u\",\"s\"],[\"e\",\"s\",\"t\",\"a\",\"t\",\"i\",\"s\"],[\"t\",\"i\",\"n\",\"f\",\"e\",\"r\"],[\"a\",\"l\",\"g\",\"o\",\"r\",\"i\",\"t\",\"h\"],[\"m\",\"c\",\"r\",\"e\",\"a\",\"t\"],[\"m\",\"o\",\"d\",\"e\",\"l\",\"r\",\"o\"],[\"b\",\"u\",\"s\",\"t\",\"u\",\"n\",\"k\"],[\"n\",\"o\",\"w\",\"n\",\"i\",\"n\",\"p\"],[\"u\",\"t\",\"e\",\"g\",\"c\",\"o\"],[\"n\",\"t\",\"a\",\"i\",\"n\",\"w\",\"o\"],[\"r\",\"d\",\"s\",\"t\",\"r\",\"u\",\"c\"],[\"t\",\"u\",\"r\",\"s\",\"e\",\"e\",\"n\"],[\"e\",\"r\",\"r\",\"o\",\"n\",\"i\"],[\"n\",\"p\",\"u\",\"t\",\"e\",\"g\"],[\"m\",\"i\",\"s\",\"s\",\"p\",\"e\",\"l\"],[\"a\",\"c\",\"c\",\"i\",\"d\",\"e\",\"n\",\"t\"],[\"o\",\"m\",\"i\",\"t\",\"w\",\"o\"],[\"r\",\"d\",\"g\",\"e\",\"n\",\"e\",\"r\"],[\"h\",\"a\",\"n\",\"d\",\"l\",\"i\"],[\"n\",\"p\",\"u\",\"t\",\"g\",\"r\",\"a\"],[\"c\",\"e\",\"h\",\"a\",\"n\",\"d\",\"w\"],[\"r\",\"i\",\"t\",\"t\",\"e\",\"n\",\"r\"],[\"u\",\"l\",\"e\",\"g\",\"e\",\"n\",\"e\"],[\"r\",\"c\",\"r\",\"e\",\"a\",\"t\"],[\"h\",\"a\",\"n\",\"d\",\"w\",\"r\",\"i\",\"t\"],[\"t\",\"e\",\"n\",\"r\",\"u\",\"l\",\"e\"],[\"m\",\"a\",\"k\",\"e\",\"s\",\"o\"],[\"f\",\"t\",\"d\",\"e\",\"c\",\"i\",\"s\"],[\"d\",\"i\",\"f\",\"f\",\"i\",\"c\",\"u\"],[\"l\",\"t\",\"e\",\"r\",\"r\",\"o\",\"r\"],[\"p\",\"r\",\"o\",\"n\",\"t\",\"i\",\"m\"],[\"e\",\"c\",\"o\",\"n\",\"s\",\"u\",\"m\"],[\"s\",\"y\",\"s\",\"t\",\"e\",\"m\",\"b\"],[\"a\",\"s\",\"e\",\"a\",\"u\",\"t\",\"o\"],[\"m\",\"a\",\"t\",\"l\",\"e\",\"a\",\"r\"],[\"n\",\"r\",\"u\",\"l\",\"e\",\"r\"],[\"e\",\"f\",\"i\",\"n\",\"s\",\"i\",\"m\"],[\"p\",\"l\",\"i\",\"e\",\"n\",\"t\",\"e\"],[\"r\",\"a\",\"d\",\"d\",\"i\",\"t\"],[\"i\",\"n\",\"p\",\"u\",\"t\",\"d\",\"a\"],[\"t\",\"a\",\"h\",\"o\",\"w\",\"e\",\"v\"],[\"s\",\"y\",\"s\",\"t\",\"e\",\"m\"],[\"b\",\"a\",\"s\",\"e\",\"h\",\"a\",\"n\"],[\"d\",\"w\",\"r\",\"i\",\"t\",\"t\",\"e\",\"n\"],[\"r\",\"u\",\"l\",\"e\",\"i\",\"m\"],[\"p\",\"r\",\"o\",\"v\",\"i\",\"n\",\"c\"],[\"r\",\"e\",\"a\",\"s\",\"c\",\"o\",\"m\"],[\"p\",\"l\",\"e\",\"x\",\"r\",\"u\",\"l\"],[\"e\",\"m\",\"u\",\"c\",\"h\",\"d\"],[\"i\",\"f\",\"f\",\"i\",\"c\",\"u\",\"l\",\"t\"],[\"t\",\"a\",\"s\",\"k\",\"p\",\"a\"],[\"r\",\"t\",\"i\",\"c\",\"u\",\"l\",\"a\",\"r\"],[\"l\",\"i\",\"m\",\"i\",\"t\",\"c\"],[\"o\",\"m\",\"p\",\"l\",\"e\",\"x\",\"s\"],[\"y\",\"s\",\"t\",\"e\",\"m\",\"b\",\"a\"],[\"s\",\"e\",\"h\",\"a\",\"n\",\"d\",\"w\"],[\"r\",\"i\",\"t\",\"t\",\"e\",\"n\",\"r\"],[\"u\",\"l\",\"e\",\"s\",\"y\",\"s\",\"t\"],[\"e\",\"m\",\"b\",\"e\",\"c\",\"o\",\"m\"],[\"i\",\"n\",\"c\",\"r\",\"e\",\"a\",\"s\"],[\"i\",\"n\",\"g\",\"l\",\"i\",\"u\",\"n\"],[\"m\",\"a\",\"n\",\"a\",\"g\",\"h\",\"o\"],[\"w\",\"e\",\"v\",\"a\",\"d\",\"d\"],[\"a\",\"t\",\"a\",\"m\",\"a\",\"c\",\"h\"],[\"i\",\"n\",\"l\",\"e\",\"a\",\"r\",\"n\"],[\"s\",\"y\",\"s\",\"t\",\"e\",\"m\"],[\"r\",\"e\",\"q\",\"u\",\"i\",\"r\",\"c\"],[\"o\",\"r\",\"r\",\"e\",\"s\",\"p\",\"o\",\"n\"],[\"d\",\"i\",\"n\",\"c\",\"r\",\"e\",\"a\"],[\"s\",\"h\",\"u\",\"m\",\"a\",\"n\"],[\"h\",\"o\",\"u\",\"r\",\"u\",\"s\",\"u\"],[\"a\",\"l\",\"w\",\"i\",\"t\",\"h\",\"o\"],[\"u\",\"t\",\"s\",\"i\",\"g\",\"n\",\"i\"],[\"f\",\"i\",\"c\",\"i\",\"n\",\"c\",\"r\"],[\"e\",\"a\",\"s\",\"c\",\"o\",\"m\",\"p\"],[\"l\",\"e\",\"x\",\"a\",\"n\",\"n\",\"o\"],[\"t\",\"p\",\"r\",\"o\",\"c\",\"e\",\"s\"],[\"s\",\"d\",\"e\",\"s\",\"p\",\"i\",\"t\"],[\"p\",\"o\",\"p\",\"u\",\"l\",\"a\",\"r\"],[\"m\",\"a\",\"c\",\"h\",\"i\",\"n\"],[\"l\",\"e\",\"a\",\"r\",\"n\",\"n\",\"l\"],[\"p\",\"r\",\"e\",\"s\",\"e\",\"a\",\"r\"],[\"c\",\"h\",\"s\",\"y\",\"m\",\"b\",\"o\"],[\"l\",\"m\",\"e\",\"t\",\"h\",\"o\",\"d\"],[\"s\",\"t\",\"i\",\"l\",\"l\",\"2\"],[\"0\",\"2\",\"0\",\"\",\"\",\"\",\"\"]],\"dx\":1,\"hovertemplate\":\"%{customdata} <br><b>Score:%{z:.3f}<extra></extra>\",\"x0\":0,\"y\":[\"a t u r   l a n                                             \",\"g u a g   p r o                                             \",\"c e s s   n l p                                             \",\"  b r a n c h                                               \",\"l i n g u i s t                                             \",\"  c o m p u t                                               \",\"s c i e n c   a                                             \",\"r t i f i c i                                               \",\"i n t e l l i g                                             \",\"  d e a l   i n                                             \",\"t e r a c t   c                                             \",\"o m p u t   h u                                             \",\"m a n   l a n g                                             \",\"u a g   s p e c                                             \",\"i f   p r o g r                                             \",\"a m   c o m p u                                             \",\"t   p r o c e s                                             \",\"s   a n a l y z                                             \",\"  l a r g   a m                                             \",\"o u n t   n a t                                             \",\"u r   l a n g u                                             \",\"a g   d a t a                                               \",\"g o a l   c o m                                             \",\"p u t   u n d e                                             \",\"r s t a n d   c                                             \",\"o n t e n t   d                                             \",\"o c u m e n t                                               \",\"i n c l u d   c                                             \",\"o n t e x t u                                               \",\"n u a n c   l a                                             \",\"n g u a g   t e                                             \",\"c h n o l o g                                               \",\"a c c u r   e x                                             \",\"t r a c t   i n                                             \",\"f o r m   i n s                                             \",\"i g h t   d o c                                             \",\"u m e n t   c a                                             \",\"t e g o r   o r                                             \",\"g a n   d o c u                                             \",\"m e n t   h i g                                             \",\"h l i   s u c c                                             \",\"e s s   n a t u                                             \",\"r   l a n g u a                                             \",\"g   p r o c e s                                             \",\"s   s y s t e m                                             \",\"  d e v e l o p                                             \",\"  1 9 6 0   s h                                             \",\"r d l u   n a t                                             \",\"u r   l a n g u                                             \",\"a g   s y s t e                                             \",\"m   o p e r   l                                             \",\"i m i t   b l o                                             \",\"c k   w o r l d                                             \",\"  l i m i t   v                                             \",\"o c a b u l a r                                             \",\"i   e l i z a                                               \",\"r o g e r i a n                                             \",\"  p s y c h o t                                             \",\"h e r a p i s t                                             \",\"  s i m u l   w                                             \",\"r i t t e n   j                                             \",\"o s e p h   w e                                             \",\"i z e n b a u m                                             \",\"  1 9 6   1 9 6                                             \",\"6   u n a w a r                                             \",\"  t h o u g h t                                             \",\"  f e e l   h u                                             \",\"m a n   e l i z                                             \",\"a   s o m e t i                                             \",\"m   o f f e r                                               \",\"s u r p r i s i                                             \",\"n g l i   h u m                                             \",\"a n   i n t e r                                             \",\"a c t   p a t i                                             \",\"e n t   c r o s                                             \",\"s   s m a l l                                               \",\"d a t a b a s                                               \",\"e l i z a   c o                                             \",\"u l d   g i v e                                             \",\"  g e n e r   a                                             \",\"n s w e r   e x                                             \",\"a m p l   a n s                                             \",\"w e r   h e a d                                             \",\"  h u r t   s a                                             \",\"y   h e a d   h                                             \",\"u r t   1 9 7 0                                             \",\"  1 9 7 0   m a                                             \",\"n i   p r o g r                                             \",\"a m m   b e g a                                             \",\"n   w r i t e                                               \",\"c o n c e p t u                                             \",\"  o n t o l o g                                             \",\"  s t r u c t u                                             \",\"r   r e a l w o                                             \",\"r l d   i n f o                                             \",\"r m   c o m p u                                             \",\"t e r u n d e r                                             \",\"s t a n d   i n                                             \",\"f o r m   e x a                                             \",\"m p l   i n c l                                             \",\"u d   m a r g i                                             \",\"  s c h a n k                                               \",\"1 9 7 5   s a m                                             \",\"  c u l l i n g                                             \",\"f o r d   1 9 7                                             \",\"8   p a m   w i                                             \",\"l e n s k i   1                                             \",\"9 7 8   t a l e                                             \",\"s p i n   m e e                                             \",\"h a n   1 9 7 6                                             \",\"  q u a l m   l                                             \",\"e h n e r t   1                                             \",\"9 7 7   p o l i                                             \",\"t   c a r b o n                                             \",\"e l   1 9 7 9                                               \",\"p l o t   u n i                                             \",\"t   l e h n e r                                             \",\"  1 9 7 9   t i                                             \",\"m e   f i r s t                                             \",\"  c h a t b o t                                             \",\"  e g   p a r r                                             \",\"i   w r i t t e                                             \",\"n   1 9 8 0   1                                             \",\"9 8 0   e a r l                                             \",\"i   1 9 9 0   m                                             \",\"a r k   h e y d                                             \",\"a y   s y m b o                                             \",\"l   m e t h o d                                             \",\"  n l p   a r e                                             \",\"a   f o c u   t                                             \",\"i m e   r u l e                                             \",\"b a s   p a r s                                             \",\"  e g   d e v e                                             \",\"l o p   h p s g                                             \",\"  c o m p u t                                               \",\"i m p l e m e n                                             \",\"t   g e n e r                                               \",\"g r a m m a r                                               \",\"m o r p h o l o                                             \",\"g   e g   t w o                                             \",\"l e v e l   m o                                             \",\"r p h o l o g                                               \",\"s e m a n t   e                                             \",\"g   l e s k i                                               \",\"a l g o r i t h                                             \",\"m   r e f e r                                               \",\"e g   c e n t r                                             \",\"a l   t h e o r                                             \",\"i   a r e a   n                                             \",\"a t u r   l a n                                             \",\"g u a g   u n d                                             \",\"e r s t a n d                                               \",\"e g   r h e t o                                             \",\"r   s t r u c t                                             \",\"u r   t h e o r                                             \",\"i   l i n e   r                                             \",\"e s e a r c h                                               \",\"c o n t i n u                                               \",\"d e v e l o p                                               \",\"c h a t b o t                                               \",\"r a c t e r   j                                             \",\"a b b e r w a c                                             \",\"k i   i m p o r                                             \",\"t   d e v e l o                                             \",\"p   l a t e r                                               \",\"l e d   s t a t                                             \",\"i s t   t u r n                                             \",\"  1 9 9 0   g r                                             \",\"o w   i m p o r                                             \",\"t   q u a n t i                                             \",\"t   a s s e s s                                             \",\"  p e r i o d                                               \",\"o p e r   s y s                                             \",\"t e m   b a s e                                             \",\"  c o m p l e x                                             \",\"  h a n d w r i                                             \",\"t t e n   r u l                                             \",\"e   h o w e v                                               \",\"s i n c   l a t                                             \",\"e   1 9 8 0   r                                             \",\"e v o l u t   n                                             \",\"a t u r   l a n                                             \",\"g u a g   p r o                                             \",\"c e s s   m a c                                             \",\"h i n   l e a r                                             \",\"n   a l g o r i                                             \",\"t h m   i n t r                                             \",\"o d u c   p r o                                             \",\"c e s s   l a n                                             \",\"g u a g   d u e                                             \",\"  c o n t i n u                                             \",\"  g r o w t h                                               \",\"c o m p u t   p                                             \",\"o w e r   s e e                                             \",\"  m o o r   l a                                             \",\"w   g r a d u a                                             \",\"l   w e a k e n                                             \",\"  d o m i n   c                                             \",\"h o m s k i   l                                             \",\"i n g u i s t                                               \",\"t h e o r i   e                                             \",\"g   t r a n s f                                             \",\"o r m   g r a m                                             \",\"m a r   w h o s                                             \",\"e   t h e o r e                                             \",\"t   b a c k g r                                             \",\"o u n d   d i s                                             \",\"c o u r a g   c                                             \",\"o r p u   l i n                                             \",\"g u i s t   u n                                             \",\"d e r l i   m a                                             \",\"c h i n   l e a                                             \",\"r n   l a n g u                                             \",\"a g   p r o c e                                             \",\"s s   1 9 9 0                                               \",\"m a n i   e a r                                             \",\"l i   a d v a n                                             \",\"c   n l p   s t                                             \",\"a t i s t   m e                                             \",\"t h o d   o c c                                             \",\"u r   f i e l d                                             \",\"  m a c h i n                                               \",\"t r a n s l a t                                             \",\"  p a r t i c u                                             \",\"l a r l i   w o                                             \",\"r k   i b m   r                                             \",\"e s e a r c h                                               \",\"s y s t e m   a                                             \",\"b l   t a k e                                               \",\"a d v a n t a g                                             \",\"  e x i s t   m                                             \",\"u l t i l i n g                                             \",\"u   t e x t   c                                             \",\"o r r e c t   c                                             \",\"a n a d i a n                                               \",\"p a r l i a m e                                             \",\"n t   e u r o p                                             \",\"e a n   u n i o                                             \",\"n   r e s u l t                                             \",\"  l a w   r e q                                             \",\"u i r   a d m i                                             \",\"n i s t r   p r                                             \",\"o c e d u r   t                                             \",\"r a n s l a t                                               \",\"o f f i c i   l                                             \",\"a n g u a g   r                                             \",\"e s p e c t   a                                             \",\"d m i n i s t r                                             \",\"  s y s t e m                                               \",\"h o w e v   s y                                             \",\"s t e m   d e p                                             \",\"e n d   s p e c                                             \",\"i a l   d e v e                                             \",\"l o p   c a s e                                             \",\"  t a s k   s y                                             \",\"s t e m   o f t                                             \",\"e n   c o n t i                                             \",\"n u   m a i n                                               \",\"l i m i t   s u                                             \",\"c c e s s   s y                                             \",\"s t e m   r e s                                             \",\"u l t   m a n i                                             \",\"  r e s e a r c                                             \",\"h   m e t h o d                                             \",\"  l e a r n   e                                             \",\"f f e c t   l i                                             \",\"m i t   d a t a                                             \",\"  2 1 s t   c e                                             \",\"n t u r i   g r                                             \",\"o w t h   w e b                                             \",\"  s i n c   m i                                             \",\"d 1 9 9 0   r a                                             \",\"w   u n l a b e                                             \",\"l   l a n g u a                                             \",\"g   d a t a   b                                             \",\"e c o m   a v a                                             \",\"i l   t h e r e                                             \",\"f o r   r e s e                                             \",\"a r c h   i n c                                             \",\"r e a s i n g l                                             \",\"i   f o c u s                                               \",\"u n s u p e r v                                             \",\"i s   s e m i s                                             \",\"u p e r v i s                                               \",\"l e a r n   a l                                             \",\"g o r i t h m                                               \",\"a l g o r i t h                                             \",\"m   l e a r n                                               \",\"d a t a   m a n                                             \",\"u a l   a n n o                                             \",\"t   d e s i r                                               \",\"r e s p o n s                                               \",\"u s e   c o m b                                             \",\"i n   a n n o t                                             \",\"  u n a n n o t                                             \",\"  d a t a   g e                                             \",\"n e r   t a s k                                             \",\"  m u c h   c o                                             \",\"m p l e x   s u                                             \",\"p e r v i s   l                                             \",\"e a r n   u s u                                             \",\"a l   p r o d u                                             \",\"c   l e s s   a                                             \",\"c c u r   r e s                                             \",\"u l t   g i v e                                             \",\"n   s e t   i n                                             \",\"p u t   d a t a                                             \",\"  h o w e v   h                                             \",\"u g e   a m o u                                             \",\"n t   u n e x p                                             \",\"l a i n   d a t                                             \",\"a   a v a i l                                               \",\"i n c l u d   a                                             \",\"m o n g   t h i                                             \",\"n g   e n t i r                                             \",\"  c o n t e n t                                             \",\"  w o r l d   w                                             \",\"i d e   w e b                                               \",\"o f t e n   c o                                             \",\"m p e n s   p o                                             \",\"o r   r e s u l                                             \",\"t   t i m e   c                                             \",\"o m p l e x   a                                             \",\"l g o r i t h m                                             \",\"  u s e   l o w                                             \",\"  e n o u g h                                               \",\"p r a c t i c                                               \",\"n e u r a l   n                                             \",\"l p   t o d a y                                             \",\"  2 0 1 0   r e                                             \",\"p r e s e n t                                               \",\"l e a r n   d e                                             \",\"e p   n e u r a                                             \",\"l   n e t w o r                                             \",\"k s t y l   m a                                             \",\"c h i n   l e a                                             \",\"r n   m e t h o                                             \",\"d   b e c a m                                               \",\"c o m m o n p l                                             \",\"a c   n a t u r                                             \",\"  l a n g u a g                                             \",\"  p r o c e s s                                             \",\"  p o p u l a r                                             \",\"  d u e   p a r                                             \",\"t   f l o o d                                               \",\"r e s u l t   s                                             \",\"h o w   t e c h                                             \",\"n i q u   a c h                                             \",\"i e v   s t a t                                             \",\"e o f t h e a r                                             \",\"t   p e r f o r                                             \",\"m   m a n i   n                                             \",\"a t u r   l a n                                             \",\"g u a g   t a s                                             \",\"k   l a n g u a                                             \",\"g   m o d e l                                               \",\"p a r s   i n c                                             \",\"r e a s i n g l                                             \",\"i   i m p o r t                                             \",\"  m e d i c i n                                             \",\"  h e a l t h c                                             \",\"a r   n l p   h                                             \",\"e l p   a n a l                                             \",\"y z   n o t e                                               \",\"t e x t   e l e                                             \",\"c t r o n   h e                                             \",\"a l t h   r e c                                             \",\"o r d   w o u l                                             \",\"d   o t h e r w                                             \",\"i s   g o   u n                                             \",\"e x a m i n   i                                             \",\"m p r o v   c a                                             \",\"r e   m e t h o                                             \",\"d   r u l e   s                                             \",\"t a t i s t   n                                             \",\"e u r a l   n e                                             \",\"t w o r k   e a                                             \",\"r l i   d a y                                               \",\"m a n i   l a n                                             \",\"g u a g   p r o                                             \",\"c e s s   s y s                                             \",\"t e m   d e s i                                             \",\"g n   s y m b o                                             \",\"l   m e t h o d                                             \",\"  h a n d   c o                                             \",\"d e   r u l e                                               \",\"d i c t i o n a                                             \",\"r i   l o o k u                                             \",\"p   e x a m p l                                             \",\"  w r i t e   d                                             \",\"r a w   g r a m                                             \",\"m a r   h e u r                                             \",\"i s t   r u l e                                             \",\"  s t e m   l a                                             \",\"t e s t   s y s                                             \",\"t e m   b a s e                                             \",\"  m a c h i n                                               \",\"l e a r n   a l                                             \",\"g o r i t h m                                               \",\"m a n i   a d v                                             \",\"a n t a g   m a                                             \",\"n u a l   c r e                                             \",\"a t   r u l e                                               \",\"l e a r n   p r                                             \",\"o c e d u r   u                                             \",\"s e   m a c h i                                             \",\"n   l e a r n                                               \",\"a u t o m a t                                               \",\"f o c u   c o m                                             \",\"m o n   c a s e                                             \",\"  w r i t e   r                                             \",\"u l e   h a n d                                             \",\"  o f t e n   c                                             \",\"l e a r   t r i                                             \",\"  d i r e c t                                               \",\"m a c h i n   l                                             \",\"e a r n   p r o                                             \",\"c e d u r   u s                                             \",\"e   s t a t i s                                             \",\"t   i n f e r                                               \",\"a l g o r i t h                                             \",\"m   c r e a t                                               \",\"m o d e l   r o                                             \",\"b u s t   u n k                                             \",\"n o w n   i n p                                             \",\"u t   e g   c o                                             \",\"n t a i n   w o                                             \",\"r d   s t r u c                                             \",\"t u r   s e e n                                             \",\"  e r r o n   i                                             \",\"n p u t   e g                                               \",\"m i s s p e l                                               \",\"a c c i d e n t                                             \",\"  o m i t   w o                                             \",\"r d   g e n e r                                             \",\"  h a n d l   i                                             \",\"n p u t   g r a                                             \",\"c e   h a n d w                                             \",\"r i t t e n   r                                             \",\"u l e   g e n e                                             \",\"r   c r e a t                                               \",\"h a n d w r i t                                             \",\"t e n   r u l e                                             \",\"  m a k e   s o                                             \",\"f t   d e c i s                                             \",\"  d i f f i c u                                             \",\"l t   e r r o r                                             \",\"p r o n   t i m                                             \",\"e c o n s u m                                               \",\"s y s t e m   b                                             \",\"a s e   a u t o                                             \",\"m a t   l e a r                                             \",\"n   r u l e   r                                             \",\"e f i n   s i m                                             \",\"p l i   e n t e                                             \",\"r   a d d i t                                               \",\"i n p u t   d a                                             \",\"t a   h o w e v                                             \",\"  s y s t e m                                               \",\"b a s e   h a n                                             \",\"d w r i t t e n                                             \",\"  r u l e   i m                                             \",\"p r o v   i n c                                             \",\"r e a s   c o m                                             \",\"p l e x   r u l                                             \",\"e   m u c h   d                                             \",\"i f f i c u l t                                             \",\"  t a s k   p a                                             \",\"r t i c u l a r                                             \",\"  l i m i t   c                                             \",\"o m p l e x   s                                             \",\"y s t e m   b a                                             \",\"s e   h a n d w                                             \",\"r i t t e n   r                                             \",\"u l e   s y s t                                             \",\"e m   b e c o m                                             \",\"  i n c r e a s                                             \",\"i n g l i   u n                                             \",\"m a n a g   h o                                             \",\"w e v   a d   d                                             \",\"a t a   m a c h                                             \",\"i n   l e a r n                                             \",\"  s y s t e m                                               \",\"r e q u i r   c                                             \",\"o r r e s p o n                                             \",\"d   i n c r e a                                             \",\"s   h u m a n                                               \",\"h o u r   u s u                                             \",\"a l   w i t h o                                             \",\"u t   s i g n i                                             \",\"f i c   i n c r                                             \",\"e a s   c o m p                                             \",\"l e x   a n n o                                             \",\"t   p r o c e s                                             \",\"s   d e s p i t                                             \",\"  p o p u l a r                                             \",\"  m a c h i n                                               \",\"l e a r n   n l                                             \",\"p   r e s e a r                                             \",\"c h   s y m b o                                             \",\"l   m e t h o d                                             \",\"  s t i l l   2                                             \",\"0 2 0                                                       \"],\"z\":[[0.06848814451215654,0.061507438915882354,0.05851943920843314,0.07644554135327986,0.09093316853343886,0.07747856391083871,0.06479627561319679,0.05504013473416855],[0.04264616985692089,0.0431007504718319,0.05269832384066397,0.0667970655251301,0.07975396682913347,0.06838278802432904,0.05679105149615203,0.053421556206452975],[0.05720528817000081,0.06588241357728436,0.06719617554360367,0.07846282621545295,0.09279119519632897,0.07768988675157157,0.057255808637341324,0.06354416306963412],[0.07458112919715953,0.061000746071387585,0.05751914466197182,0.06364287717842326,0.05823766940820074,0.04824818236961167,0.05867829533389629,0.07917349564609903],[0.07198923217192911,0.05967461578733332,0.052003115956584786,0.041428202366736805,0.041230561356639425,0.05083597242086864,0.062407134684973165,0.08148162746380498],[0.0903086977201499,0.06909175756991864,0.047949154553798334,0.03816718067195693,0.036209641423691694,0.04814825181675257,0.07603766634839434,0.09212461285761828],[0.07349896151429682,0.05622675000610055,0.06259955265026644,0.07219248716861158,0.0696220825645577,0.07609139472801668,0.09252995013876816,0.08592432680027379],[0.0714946213415487,0.06320624804893213,0.0503811596866179,0.039655862403421054,0.04312949461209168,0.05309902442008185,0.07485772803155313,0.09278430581528556],[0.082166610739201,0.07063055965103282,0.07238614375634639,0.07084461852521376,0.05809473310312244,0.04999396797301083,0.05131040421329028,0.06420664107842516],[0.07904211778715893,0.07321640960136673,0.07114597982832892,0.07160982401984572,0.07869503095317265,0.09113009777763514,0.08152566416212584,0.07066848222202238],[0.0736577404424181,0.07740213429694406,0.07228243994883135,0.06344807921790373,0.061558471886586516,0.07876127314449721,0.08957896548919812,0.06902867898492082],[0.047947199976969446,0.03816718067195693,0.03620498993946128,0.0479935688288222,0.07413622517487657,0.0833356668775419,0.056968260464676734,0.03847946490114544],[0.04453537683717282,0.062351606731740186,0.08337010601250064,0.09281935783425171,0.07764910162213638,0.06480214248876669,0.05504016197565746,0.04264616985692089],[0.04310369255263358,0.0527911892267187,0.06783837066195585,0.0834143245522786,0.07111300523068001,0.05827914296047939,0.060740704280413435,0.0554204272626502],[0.04893576107883552,0.058683322791828606,0.07566988415599163,0.06749869733123876,0.055912351035442676,0.04892509765022904,0.04644621062039557,0.05525297080227577],[0.06197305583119809,0.0715921183356697,0.0824991952796798,0.06720920657896864,0.04779049036520941,0.0381623180661875,0.03620669934289003,0.048054398926725056],[0.07496814079612368,0.08820711449603913,0.07055341240249632,0.05697778600593181,0.053427345022845144,0.05720528817000081,0.0658831286663681,0.06722275044999848],[0.07885246865727585,0.0954139419200587,0.0867460549942673,0.07127684109025748,0.059862249184418535,0.040650262663954065,0.025007599756615748,0.042055254407864145],[0.07350216755094448,0.07383790772348137,0.06494810452725733,0.060959934602793364,0.06954449971567594,0.0874462192804794,0.0762354703341677,0.052952250136752546],[0.045125072236069264,0.04851580487782506,0.06240818561782823,0.08474707453278327,0.09861277282996361,0.08666193349684123,0.0714613609657401,0.06156104807399143],[0.05850594702708463,0.07644482626419613,0.09093316853343886,0.07747856391083871,0.06479627561319679,0.05504013473416855,0.04264616985692089,0.04309985150269806],[0.05266929640207249,0.06646137535551608,0.07851177386024855,0.06816236556499368,0.06368609645209063,0.07209446951548287,0.08600501779888124,0.08872260353732624],[0.06624810599071526,0.055265222610388215,0.061664081861331994,0.07533957456619861,0.08516940584507272,0.06781723791996297,0.04784055770425816,0.03816382996882169],[0.03620703986150133,0.04806570259592764,0.07510286971893122,0.0887234271032511,0.07041951975007936,0.05402583340374305,0.05452570766727553,0.06572395838768356],[0.06724322688195056,0.06329542411624683,0.06550309852441841,0.06632876959061199,0.06157080616410937,0.06756715497376978,0.08043420538959441,0.06870196306845572],[0.05801438469366493,0.06354111214228356,0.07280951090443938,0.07776521781065827,0.07743302548572867,0.08567025436159162,0.08774282603417544,0.06386264444914531],[0.04612824517560418,0.04044591719171976,0.03922898705171725,0.04999920482255807,0.06721016908111031,0.07548173831714322,0.08740733060705995,0.09676004885680482],[0.08099867119476198,0.060694748653588565,0.04801826143727539,0.04118860696740759,0.04079274947590168,0.058294625222760965,0.07859617611773005,0.06855762375330915],[0.05800207835105241,0.06327431186257784,0.06954432382415207,0.06272131893400798,0.04794386472996687,0.050746412096530025,0.07003041905877215,0.08817757780619613],[0.07603977451729704,0.058570180476541917,0.059592447554125266,0.06317446765981308,0.07341015608958677,0.08618665704583114,0.07617711489138754,0.06468212279447219],[0.055036559288749856,0.04264616985692089,0.04310579695765143,0.052869015944799425,0.06894970397085054,0.09026293899160742,0.0891274596295896,0.07236328134826074],[0.05064994646371229,0.041183691987320775,0.048427922844194414,0.05127465692466646,0.04824289004415693,0.04876449144908209,0.06467412744947124,0.08682477109076726],[0.07695105614802214,0.05235071196598443,0.04194381291224994,0.04965347928102022,0.07697415685454675,0.09892458709314826,0.08118468193116499,0.05342194111038309],[0.05459765551179571,0.06338684004866874,0.06192502128122032,0.06153791710702339,0.07989664385678719,0.09509770161923377,0.0794451647693675,0.05464132861041446],[0.04064048701125074,0.045529285859121096,0.05568454036148081,0.07056075250218605,0.08783934033259524,0.07988296668805468,0.06482226243097863,0.05691230273701722],[0.04796144441785104,0.03679232295258966,0.04198434434642512,0.07064992439514729,0.08490590975184406,0.0636451498110594,0.04612194558129506,0.04044591719171976],[0.03922898705171725,0.04999920482255807,0.06720749941519769,0.0753940462129517,0.08635804998894675,0.09236252481111812,0.07618319797570587,0.0679051657058588],[0.07165229905509526,0.06706710914445795,0.053453634560603196,0.056100680072588394,0.07873271891083056,0.09292956804530454,0.07710249113334586,0.05725862453772523],[0.051164037698278514,0.06243618464673317,0.0820022759018414,0.08691174018578672,0.06369336170518411,0.04611384985155159,0.04044546089678062,0.03922898705171725],[0.04999920482255807,0.06720480250779616,0.07530308879538063,0.08520967316326007,0.08661995971132452,0.0625049260017369,0.04375853206226689,0.033550635834166266],[0.031646559134286247,0.046241995340337794,0.07360316745509576,0.08974531878583229,0.07050158839078566,0.04666117175253362,0.04202499210280762,0.05259478654050644],[0.0650751378933376,0.06714053364286056,0.07858574110421433,0.09439959270370182,0.08576617588553079,0.07139002453239085,0.061558943668973576,0.05850594702708463],[0.07644482626419613,0.09093316853343886,0.07747856391083871,0.06479627561319679,0.05504013473416855,0.04264616985692089,0.0431007504718319,0.05269832384066397],[0.0667970655251301,0.07975396682913347,0.06838278802432904,0.05679105149615203,0.053421556206452975,0.05720528817000081,0.06588076546720564,0.06713631959499423],[0.07762608860609457,0.08776926959485762,0.06409462547681506,0.04011382162420958,0.04801801091732416,0.06592404622776978,0.07251414242078946,0.0764427502907714],[0.08236336906566424,0.07053198130887414,0.0580499281453815,0.05256518834797454,0.05759163535040247,0.05566097057152034,0.05176865446996047,0.06322533484110522],[0.06959979382793625,0.03920452636586258,0.01095690360254488,0.010781653061178623,0.04000975708028589,0.07324650362986126,0.06499231861664,0.045787453127721325],[0.04288569161903175,0.0403072222077231,0.04373742909213254,0.06504700640810251,0.08889736442775306,0.08466632170050009,0.07130262632654094,0.06155634210678321],[0.05850594702708463,0.07644482626419613,0.09093316853343886,0.07747856391083871,0.06479627561319679,0.05504013473416855,0.04264616985692089,0.04310369255263358],[0.05278760697092778,0.0677145463283994,0.08180112011550163,0.06267868837348016,0.03999417387550999,0.04801432650594985,0.06592759443169957,0.07262350440275586],[0.07761597608565392,0.08586553483564115,0.07084220959457024,0.05961335115066601,0.07189110495836902,0.08837152374352814,0.09310287108151244,0.07312465944491595],[0.05386498462979096,0.04910488814114315,0.05955748841745837,0.07987391546171509,0.08309091863903775,0.056718164899445936,0.04276231470604949,0.04286649251399442],[0.0401119513096634,0.05123718730044512,0.06735983653543716,0.055502980230137305,0.04896607485602285,0.052478788390104184,0.05047053237256244,0.06226381104653032],[0.0807794596179147,0.07071237718113993,0.05367766811713763,0.04909921510107882,0.05955145048438754,0.07981865522072767,0.08304314078571029,0.05728561063895361],[0.04395571407491134,0.04699626149510126,0.045073272645009065,0.03440671968361497,0.034846188044296976,0.047834015887859765,0.06076584584609108,0.06851772430226463],[0.08383836683933937,0.10116193657443259,0.08944828325104445,0.06277565466556126,0.04452358974270547,0.042731443541043565,0.07094237474793674,0.09436258699283435],[0.0795199344801567,0.05616227191561805,0.053210957953849745,0.0656603002046278,0.06863064669714203,0.06596314419573238,0.07058652957397686,0.0841504482247406],[0.08865026579133346,0.06508298768567912,0.0405426927635949,0.02793999924828184,0.027413948525509227,0.033720834976201514,0.045399437953121374,0.05112323143590542],[0.053374278168911,0.06528686911704011,0.06911433409522809,0.060475852010070094,0.05128382864070878,0.05266561423861513,0.062535736417325,0.08229830944452673],[0.09424928556614799,0.07675329006382106,0.05468016802975334,0.0422596457670765,0.04365323288876573,0.06394495326180186,0.07670410581599424,0.06068533997276176],[0.05473773678762761,0.06146839398510318,0.06758736418734473,0.07445933468810645,0.08146001254039334,0.08819044034320132,0.08254440344442875,0.055318176983524106],[0.0470055872684826,0.058692633414466545,0.061941382232319056,0.05054960272069465,0.05648207386788088,0.07210596258361629,0.06547167879145112,0.06167534849187903],[0.05244105199596359,0.045542884442577584,0.057408076877057734,0.05530261103306859,0.04405145608044287,0.0454169181495812,0.047533820656581995,0.06069641904666176],[0.06912827752798482,0.039814933033656984,0.017975562443325228,0.03717119903138426,0.05931976521954391,0.03730009662812306,0.010645840379600403,0.00995885353086235],[0.037951482218983,0.07036784422242086,0.0686945257747641,0.06045221524815862,0.05316810995302007,0.045960053706106826,0.058778687649133375,0.0832775773267184],[0.09583348916211135,0.07419208910954905,0.04683362516581158,0.039217630335410106,0.035049738406283254,0.030468559401854924,0.040577842723901,0.07002261848443822],[0.08419068399480804,0.07129712189946341,0.07328478320586865,0.07917293542738701,0.08144883930045312,0.08069001478501514,0.05588285893093106,0.038376302728641676],[0.04453846874616346,0.06256134724680322,0.08584877809462357,0.10297740289732961,0.08984415199785173,0.0628072944080694,0.04452290189511064,0.04267776774512644],[0.07028939589896313,0.09146265971758391,0.07506233688190787,0.05492231337498647,0.055507998965679234,0.06799655400918525,0.06871788301398553,0.06148327907232631],[0.0695910575384996,0.0826404366029251,0.061659573170009196,0.033309693828821874,0.037550565197849585,0.06459985011511082,0.08751203857225617,0.09406652693014073],[0.0724855766507393,0.05264609169172914,0.04947994425990149,0.049927988579114894,0.05498338673073018,0.05785084410936779,0.05727061747890121,0.057508829695726085],[0.05268782758466253,0.044308594537355236,0.04999241225977087,0.07229255505370036,0.08135030098981691,0.05645190826532197,0.038434812340146604,0.044535948908439815],[0.06241584386628725,0.08413816188135764,0.09610113269725953,0.08268539725378782,0.07076433185758868,0.07366063485061419,0.07740213429694406,0.07228243994883135],[0.06344709171393094,0.06152842629138501,0.07845570435012467,0.08902972607725917,0.07297783533742011,0.06460428897780852,0.0667991662870229,0.07053184253486625],[0.07552621329676595,0.07695468701707991,0.08645079565539512,0.09198193820854648,0.07370551885114097,0.05939623175225793,0.05567042671749709,0.05861353212288316],[0.0756554246541146,0.08918534436920333,0.07173444958203637,0.05406320944638783,0.05369687738428202,0.055623259586533816,0.06923511582115882,0.08162914743401273],[0.0690132352091272,0.06316756360497547,0.06496713916286057,0.055612162434682186,0.04594612111877115,0.05615866044238898,0.07984864228259173,0.09989922265482146],[0.08917613778677422,0.06275271649793518,0.044519299208203036,0.0426130410500499,0.06950101996565816,0.08792744645326812,0.06907972251101774,0.04888712069645759],[0.04152178799347092,0.04288874658305426,0.0595774504596015,0.0761256174963595,0.06225530004689412,0.04537745162484225,0.049882908944448946,0.07915869661211501],[0.09268257858695358,0.07695693189223594,0.07268087289524315,0.07727754345780419,0.08201127405142436,0.09187896853920471,0.10024754266677996,0.08647008585533508],[0.06555027450424405,0.049278103977161244,0.04697718341832928,0.06637629903974147,0.0895135455169187,0.10194333309683593,0.081392972064976,0.05195602865053766],[0.04534490747050089,0.041821959134573754,0.04336003721830338,0.06674332535140105,0.09163157076218627,0.0850394753167274,0.06544718858808468,0.049275236810454065],[0.04696733562009037,0.06606178962453504,0.08592496081131568,0.08881875376937788,0.07299857991290276,0.06880868404899862,0.06641478925479571,0.06862710334693281],[0.07500132923628804,0.05651095864468625,0.046440889738606314,0.06100621566935346,0.08389500961108741,0.0953467208705274,0.0787539602580773,0.05867432482446863],[0.059341895115338134,0.07315922401351353,0.0696247292416553,0.0685361187832413,0.06640664404961331,0.06862710334693281,0.07500132923628804,0.05651095864468625],[0.04643415428047472,0.0607740215992772,0.08087428175415282,0.07944114829486211,0.041299694810840025,0.01110688507588259,0.010541218726832691,0.03720086498722776],[0.05991451043275481,0.03746553439860546,0.010811445560726744,0.010673295162628705,0.03911702768941971,0.0710921956943531,0.06962826524992466,0.06404632053964449],[0.06821477965959923,0.08066312433874705,0.08758356942555545,0.0700780977510404,0.056122123497695034,0.048931404054910387,0.046431159697775934,0.05476879999602799],[0.05636730150811858,0.049950203486763795,0.06140247243533439,0.07555953908060214,0.06507763625850024,0.05767237458941461,0.0553691269342961,0.06362478661224491],[0.08131842199864608,0.08391405562335372,0.06201960359361717,0.054948037556046526,0.06295005157362857,0.07590867187189952,0.0946452707131871,0.09689910480361054],[0.0722269431854534,0.056672017040003575,0.05605933192222497,0.058843147096296206,0.061650049493667834,0.056637843267013266,0.05681951301056605,0.07078227115673824],[0.08648697003017496,0.07777294779562507,0.06648886508447116,0.06207873743970253,0.05470322063487358,0.048634885005297876,0.04871170203004135,0.0638591916212857],[0.08430791941148458,0.07868413225421089,0.06651356816150472,0.05719986801701206,0.0468522698815342,0.04659968342562075,0.05168934971144345,0.05671041083337822],[0.07754882406159955,0.09728188848897046,0.09151370801757114,0.08058762923270649,0.06641367586127706,0.045428057534545124,0.03471343685736401,0.043794459113223216],[0.052040952838925264,0.05052287859720277,0.06308315541573634,0.08460731058933403,0.07706930968983594,0.05444515046124508,0.04063454155629737,0.04552661619320847],[0.05559419221212111,0.06941669856530783,0.08213443732441147,0.0671827102519573,0.04778974803463676,0.03815522165832792,0.03597626153872837,0.04533838536638643],[0.06384047281593386,0.07366196585213919,0.06441099865426299,0.05252790224541185,0.0498275964422072,0.05417539633171939,0.0657132865344053,0.06724322688195056],[0.06329542411624683,0.06550309852441841,0.06633143925652463,0.06166115431346908,0.06870121128422012,0.08580197805919548,0.07716590165597488,0.05444804486944117],[0.04063454155629737,0.045533767084045856,0.0558248814798494,0.07210417058640914,0.09276607738755159,0.07951361357378085,0.05180743834472101,0.04534052840115953],[0.041820311024495044,0.04330545930816916,0.06607647571397421,0.08859172434980322,0.07948694031122233,0.06057919841400555,0.04801491073414016,0.0411878033434849],[0.04076879315166557,0.058058349087891016,0.07820802414730581,0.07075712642413245,0.061952325784790416,0.05601405969157751,0.05265711394229167,0.07194092737754224],[0.08915149409749759,0.0706483252965794,0.04532947100387548,0.04133796318302142,0.052326054854749615,0.05436598958637831,0.05818506992421535,0.06461834739371689],[0.037944898082497666,0.010665861480622296,0.009989370927429197,0.038946368670633155,0.07516905346282504,0.07626877187594261,0.0652515445234806,0.07138555061490864],[0.08158185715385088,0.06370274724248325,0.044435392177275435,0.04286797160890565,0.04834476222181852,0.054180454413949385,0.05031890514535846,0.03565016268158249],[0.03095286129696493,0.0429530098551756,0.05329588779225283,0.06403543283546344,0.06876662610250188,0.03889012962371915,0.010751689510557749,0.009943545937772944],[0.037840654296386556,0.06989890035402523,0.06750551768270568,0.05980306903722431,0.06868471750616473,0.07555165992327045,0.05791258718465408,0.04967333069257453],[0.05920868452911343,0.06970002191082561,0.06494656625138555,0.04811661073857565,0.041989101773288094,0.06386033413039954,0.07386987306175814,0.04046981888549381],[0.010899803102243024,0.01011521873550896,0.039878063884570686,0.07906613169087015,0.08292980370176853,0.06899237517186894,0.06469008479774929,0.06669546530619634],[0.057593736960366085,0.04923440147887537,0.0584210830402654,0.07989949331262527,0.09067688438382375,0.07961420074272396,0.07670116000970616,0.07037637114679254],[0.05646963565335858,0.062194498708318245,0.08034827117798853,0.07885718029974487,0.04112461327118226,0.010927449046383377,0.00979892057612419,0.0360427862992646],[0.060787100436944234,0.048189717486449304,0.04166641166180168,0.05056045570012066,0.052811362843260226,0.0658602929395792,0.08450566201485459,0.0785224010355281],[0.06411685920078333,0.05414784045435034,0.06228633132684403,0.07452911559344153,0.07686227256203662,0.08421183924747092,0.07970526265110876,0.0412937354452282],[0.010943080937937824,0.009922208463872161,0.03771360719588989,0.0688412380789458,0.06293241078859572,0.05022717261227248,0.05110050172737374,0.061961799804069594],[0.08215279050118186,0.09174814642662261,0.07558746756998543,0.06267679708296604,0.051625347049254686,0.04020271901194747,0.047863022838884245,0.06494618162961643],[0.07421980039661938,0.07919114180643426,0.07497035202970927,0.04006696839403523,0.010959333845922105,0.010472009191559838,0.038596551157096246,0.06904365624035612],[0.06177301261882402,0.05000198905196156,0.05835170127288136,0.07997230650198336,0.08985858911192077,0.07224402926982126,0.061370626545633786,0.06678421714600363],[0.08363254628217459,0.09406505906466744,0.08054835334886418,0.06427984797573581,0.05416289137696998,0.06260469386403772,0.07800920151480095,0.08760478069288893],[0.08014995240738346,0.04122366599945564,0.011059327853090833,0.010643954404184896,0.040694935711531155,0.07888064729047203,0.07947044095281051,0.06175997171356665],[0.0620751138291007,0.08445394384415553,0.08877017771676449,0.06309798449612508,0.05374851228894701,0.05912039153666089,0.06532599305040604,0.08181575362399567],[0.08875825346751665,0.06344202162789139,0.04614096659112486,0.05326639428821405,0.05153932812962683,0.04139894265906658,0.05194066719276405,0.0812420700292208],[0.10203622645143672,0.09033681883487857,0.0781444950215088,0.08176237319435418,0.0707196361842839,0.06377315058304217,0.06552622551225265,0.06827140272862288],[0.07924437853763391,0.08210049019250304,0.06162082681786936,0.054806911442038586,0.061470355372304296,0.06758736418734473,0.0744596343444844,0.08146344551204993],[0.08808932566525346,0.08022163250020418,0.0412442157527656,0.01111997699185093,0.010581365298857679,0.037225505491658185,0.05992045649036416,0.03747148045621482],[0.01084404057991724,0.010977315380984448,0.04235070762408957,0.08547692726604826,0.09325327075667064,0.07721973665391754,0.06362178359086315,0.05996056818617833],[0.07347778493295569,0.07592949972545653,0.04077211718045663,0.01161609222441818,0.011594248923187018,0.03967110533086536,0.07120802537396696,0.06939873807983188],[0.0612096985816835,0.05559471167517488,0.05945076545811438,0.07323199785891216,0.0661417199911879,0.0521466922622327,0.03586062563029803,0.03434111104549617],[0.04437663339594155,0.058655548116849934,0.07652320792414884,0.060149195054279354,0.03151285011638207,0.023193634317732414,0.02783021601969996,0.04337653872211837],[0.06815867045798726,0.08483469059220927,0.07716017848098805,0.0709205545461519,0.05990332482533564,0.04387098910425889,0.04338810289410889,0.06265035854859459],[0.08540621617848214,0.07612899163466415,0.05740120723739636,0.06686763043753444,0.08957492879483928,0.08674636848575268,0.07830015452913967,0.08240972221895011],[0.09072768153514328,0.0863594862041724,0.05887855690774701,0.04347113510690199,0.045708720990269694,0.06510060755488861,0.08872878862563,0.08133394492121282],[0.06191079345073655,0.062314813485349195,0.08725084703669575,0.10038232879920331,0.07760795530133915,0.05353978378175268,0.05333466440577818,0.05617729159445322],[0.049549656009905595,0.05691979861142475,0.07677628457207171,0.08668074598484227,0.07205194570494307,0.06361472549086743,0.0670373555325705,0.08159629240812102],[0.09927036458803423,0.08953251867732989,0.07780016091699825,0.08102613169221093,0.0701685095916693,0.05801925626200029,0.05256426213735179,0.05759163535040247],[0.05566305454542152,0.05184150725750371,0.06420035080945453,0.0751548366229714,0.05531795350656866,0.04018500284019429,0.045025893070819466,0.06269809440798672],[0.07971911339792322,0.06675272518718917,0.04775745528266574,0.03816139185556476,0.03621035651277543,0.04817112869102863,0.07629588433539715,0.09296576777581367],[0.07249241644956056,0.04602933549501584,0.04028240712894442,0.05192987062155473,0.0627102301502926,0.06429718800039547,0.07037246310221426,0.07559853354836707],[0.08576134638518149,0.09036276027403067,0.07597024844113179,0.07258621951445175,0.07726840393827679,0.08181097745374047,0.08944064940179061,0.08938369602359891],[0.06944526223418948,0.05984438933088057,0.056462755864106214,0.04621233703566227,0.046710398968126204,0.06240805963201557,0.08259279937197146,0.08896467845787241],[0.06834049375872386,0.054329780847317266,0.04997639118848855,0.038978462464545865,0.033995569786821556,0.04068725911373155,0.04576446853991993,0.04864967698384014],[0.06576775100524196,0.09172580953659706,0.08816484862788806,0.07971050724234541,0.08744891628641382,0.0698165182700443,0.04354139680393909,0.0427998245333847],[0.054119817674464256,0.05756678767752446,0.05360894851736593,0.06273586032754655,0.07808456791436905,0.08482135059786217,0.06727428575986273,0.05423766644081412],[0.049973524021781374,0.038978462464545865,0.033995569786821556,0.04068725911373155,0.04575927222591143,0.048486479422312156,0.0639504466263363,0.08541523442612321],[0.08267580519289125,0.06993510814507625,0.060181169904823,0.06199245402715904,0.07076259654919054,0.08791768198455749,0.10308898675038805,0.09046832474810032],[0.07892276254993205,0.0859098930245667,0.07998449861665428,0.06920261198464062,0.05238582862462261,0.043527581392520956,0.06782881213032854,0.09267744467937594],[0.07919106694786697,0.05239406543581575,0.04186001259345182,0.04892240771606947,0.05834711105982812,0.06025517371786143,0.05267751807325319,0.043897070337446165],[0.06087333144718582,0.0882830427352028,0.0866910513569989,0.06892187504898202,0.057832300961518326,0.06918625947322973,0.08994234502102874,0.10339000889465358],[0.09035934312269361,0.07862620631054502,0.08469168447997324,0.07881364415372864,0.07426838803897906,0.07204379506989586,0.06873696661628564,0.06723582797258587],[0.06723992259669506,0.07779380318517176,0.09108504594956646,0.07533923654122207,0.05777576767189303,0.06208018285270575,0.06394122106965014,0.06616376216992333],[0.08193461047408988,0.09727257262411787,0.08831478268548482,0.07843136995516813,0.08265577228719656,0.09374028941933704,0.10065461499927596,0.08688806131391336],[0.0714734792547323,0.06156130686813603,0.05850594702708463,0.07644482626419613,0.09093316853343886,0.07747856391083871,0.06479627561319679,0.05504013473416855],[0.04264616985692089,0.04310109099044321,0.052709627509866554,0.06693179444793763,0.08027027943634542,0.06824889537191209,0.053839098893963266,0.054519918850883364],[0.06572395838768356,0.06724322688195056,0.06329542411624683,0.06550309852441841,0.06633592048144937,0.06180421958072811,0.0703503616284559,0.0923470817939342],[0.08815485675260723,0.0795616557520004,0.08729539454370905,0.07309619374271531,0.05772825953735448,0.06547495147775728,0.06797429030424543,0.0663528202469798],[0.0812007985525113,0.09401653981589081,0.08082778565241146,0.06668925490528388,0.05720517329697618,0.0468522698815342,0.04659968342562075,0.0516898332478715],[0.05671657556249274,0.07742061540474465,0.09427803082842692,0.07633200736700507,0.05786575043188942,0.06208305001941293,0.06393761157237032,0.06604332625665223],[0.08044489183972717,0.0902663636520987,0.07457970742298857,0.06393278478775,0.07410918535252034,0.09536616035316847,0.10534377027022551,0.09236379628239563],[0.07931483850691529,0.07444665575696531,0.07609465543998292,0.07219883529055883,0.059785727761502046,0.04829874553973055,0.05835176252623876,0.07749115435954321],[0.0682504823779494,0.05783554632008672,0.06172774057601408,0.06455142594074872,0.0625083519064285,0.060827681599549085,0.07001175077952032,0.08117122717753816],[0.07047628412192276,0.0580515670982,0.05256534498653574,0.05759163535040247,0.05566575145282305,0.05192910716156733,0.0652341164406546,0.07942538425466904],[0.06139355904780049,0.04597355708640237,0.053261347802394526,0.05153932812962683,0.041395367213647886,0.051828312312307154,0.07998565445525632,0.09754469045650538],[0.08503508186308475,0.06607760821460663,0.05906156543808533,0.0677927006379632,0.07983048257908253,0.08805854648594029,0.08335691098529013,0.057379765550750576],[0.04010408746979009,0.029425757329055106,0.03602453650549238,0.05674328106883573,0.05531985924548823,0.04386677542428169,0.044643098443433296,0.039181242105311445],[0.03862715946814752,0.06622750640211333,0.08904466950027569,0.07184205890652817,0.04625084875361331,0.04073058583517737,0.05049874111380216,0.06525186806128898],[0.08341263454164968,0.08963040077819076,0.07237289674564591,0.058207380087714186,0.05257005095374396,0.05759163535040247,0.055666459731534564,0.051959576814604655],[0.06575189208345396,0.0835304292881852,0.07619323640216115,0.06920497835438155,0.07448720489197366,0.08165807184333104,0.09062915348478745,0.09505621754281857],[0.081176392260856,0.06985636439352294,0.07373392833909055,0.0862810695984199,0.07926070318740597,0.0698408607869437,0.06893319368359874,0.06636712928788685],[0.06180279526263366,0.06463848931129945,0.08320895034402868,0.0968704174921714,0.078950698331106,0.05865952930066233,0.06268048669915177,0.07973811650344395],[0.07863305236557236,0.04123924980533112,0.0116489305924381,0.011563767730228132,0.039270948969798956,0.0691707573538143,0.06453052178020358,0.05395267616468798],[0.04872566235491334,0.05819507842922115,0.07943224626592374,0.06934014933379994,0.04603505196711011,0.040723891239279136,0.050495628773694845,0.06514100363578706],[0.08190724840450395,0.08113360280115456,0.05229174887122852,0.04329649750898305,0.057384523015183556,0.06567857557990778,0.06624966365610763,0.06910446512615391],[0.08523617742414699,0.0986717848422975,0.08390225999689183,0.06498380765942617,0.06435507416495664,0.06956974112119516,0.0678495845404217,0.0768939435494967],[0.08723255170644437,0.07711824769885858,0.07192043201429563,0.0680919790117416,0.05898623409022552,0.05282986724790405,0.0639683204319908,0.08164882542429744],[0.0702221917240772,0.05957324924863965,0.07192405440894081,0.0886373376369109,0.0925283665530143,0.06491247042851202,0.040172693734135206,0.048019631785913966],[0.06592200992647418,0.0724438762682156,0.07553351631009265,0.07774031237796242,0.061809265134899524,0.05737771874849366,0.07018042626474533,0.0912708712238981],[0.09595030243796093,0.07034212605775411,0.04809951660872966,0.03880071381228553,0.03930037277596319,0.050638286121852304,0.05876375752972364,0.063702713796052],[0.07328836549854381,0.06433485876471363,0.058205657403160235,0.05199220278156429,0.035795031057489816,0.032845000885726595,0.04832972309133779,0.06093701124822502],[0.06757123041554115,0.0744679906712058,0.0817443506166905,0.09160481268344967,0.09722211371655001,0.07645948441130318,0.05402493341914538,0.06042885961302079],[0.08617165921711784,0.0903159382147069,0.0612216187413335,0.04052789775405852,0.041112625314260944,0.05195570133514936,0.06465517058070366,0.0814600763460111],[0.07542602784825,0.06307667463508432,0.06157827976515558,0.07284251384344986,0.08615867183640644,0.07666853281691721,0.06957399601538278,0.07815786167507041],[0.09308109250628988,0.08539478996864547,0.04257353221373085,0.011242741786358257,0.0108736164836269,0.04099438052984497,0.07990098553132069,0.0846368523122084],[0.06556656337599001,0.04476872576523983,0.0406452679382135,0.043611822833582115,0.052083015703579746,0.07760690910056936,0.09694321285601148,0.08652255894304747],[0.07145711129347104,0.06156104807399143,0.05850594702708463,0.07644482626419613,0.09093316853343886,0.07747856391083871,0.06479627561319679,0.05504013473416855],[0.04264616985692089,0.0431007504718319,0.05269832384066397,0.0667970655251301,0.07975396682913347,0.06838278802432904,0.05679105149615203,0.053421556206452975],[0.05720528817000081,0.06587800726645408,0.06705386806626845,0.07680571119117885,0.08629633089090001,0.07092484839904978,0.055216778836674404,0.04327093101326163],[0.03942319784806105,0.05449661212364541,0.0797494228805949,0.09326435870325842,0.08318344617754798,0.0768297641363795,0.0739356838925681,0.07277303144845902],[0.08568700889817195,0.09759402740741284,0.07982851893308673,0.05243277434469455,0.041860945614446796,0.04892240771606947,0.05834711105982812,0.06025517371786143],[0.052676612293747115,0.04386352683579798,0.06039810925772089,0.08546517916053473,0.0805600165810543,0.06909938479526939,0.06621352050354554,0.060755347638357174],[0.04850020711170105,0.03724268389809986,0.04015224086127235,0.06258937145900093,0.08084099874319868,0.06891500328412123,0.056843370987584727,0.0534232860409984],[0.05720528817000081,0.06587951916908828,0.0671039354053172,0.07741925893367631,0.08915018665811071,0.07691390266796554,0.06474520137947001,0.055038513865578745],[0.04264616985692089,0.04309985150269806,0.05266433164071968,0.06630005694844124,0.0766211656640493,0.060747804908571575,0.058014095235299684,0.08465430307214702],[0.09486443436289678,0.07219648060885339,0.05816101362420492,0.06173758837425299,0.06455142594074872,0.06250850854498971,0.060829293310878677,0.06996233642105038],[0.0801927476873283,0.0664500411831071,0.053753216190451994,0.04445680900475099,0.03810854484370634,0.04546298679823954,0.06252842569279352,0.07872335513661234],[0.06642923104888941,0.04772753463297674,0.038160424782708646,0.03620669934289003,0.04805248521212953,0.074899080611564,0.08725390147369429,0.0650324020720967],[0.0437701247523736,0.04490932625158012,0.06595560639346174,0.08779004867847404,0.0973384953525159,0.08852664530777749,0.08835592526093376,0.09998194341793104],[0.09661977494235172,0.06927551023661387,0.053391926053969085,0.05933308598293849,0.0794853824829097,0.09154344881976366,0.07500342769840254,0.05741656368197984],[0.060734476256215184,0.07440909874576276,0.06624663526639551,0.059158200966399066,0.054557643574718595,0.0431726707530532,0.044059575773694945,0.05696927139253389],[0.0729561800685268,0.08019638502449374,0.0677077570854416,0.06513319350778662,0.05898863503926774,0.0517777310884361,0.06681321569040873,0.08614285576488374],[0.08794915239442486,0.06357470905399652,0.04615474283334654,0.04605556865209038,0.05836643065888844,0.0799475423076623,0.08798289885290525,0.06205056540579349],[0.03955134712950743,0.03873097713153801,0.040443019573243026,0.0378253838812995,0.04021556214498408,0.06618045784341788,0.08710784335257532,0.07401233549841116],[0.059848096236576324,0.05200848252989894,0.041428202366736805,0.041230561356639425,0.05084003140271538,0.06253719106509556,0.08298275385307116,0.09615517548450056],[0.0766118424765822,0.05788436452143321,0.06208353355584098,0.0639440541844962,0.06625227676853704,0.0829089802423387,0.100489403695145,0.09001166114091641],[0.08011245831473926,0.09061037661068641,0.08472049778603705,0.07199614536537574,0.06760702920482764,0.06124288204660128,0.04739751432964705,0.03770773745099354],[0.04488095918729494,0.055485176784791895,0.0687856803152912,0.07994865201951959,0.06755827612610112,0.05969579902506393,0.05645837679476484,0.04621233703566227],[0.04670717766206327,0.062297025987619443,0.08114697976419935,0.08132158886292974,0.050192541505513846,0.033578148234708144,0.04480393769176254,0.06541274818267787],[0.09172279542659309,0.10171004993314557,0.07785819965517651,0.05799123570999821,0.06222483493669346,0.06542161503992876,0.07047706894031538,0.08062676002016542],[0.08983373564444816,0.08643969084305973,0.0625889033294064,0.04888545336572278,0.03744346960322593,0.02634817633931262,0.033420866470884575,0.047667100957952485],[0.04979559402911841,0.04765963795380116,0.0516140940139357,0.06475713465530185,0.077204567577076,0.06409109138637363,0.05280478469624404,0.049994987168480554],[0.04640914591888819,0.045222723556643654,0.04828687973186237,0.056721687611064164,0.06073170483494708,0.06887136149157946,0.08097066489861501,0.06860218920592387],[0.055687549903721115,0.05153906528174172,0.0477898092265277,0.06290105616217784,0.08247789594514512,0.07278350086544236,0.0597415123781969,0.052005165878624846],[0.041428202366736805,0.041230561356639425,0.05083532543550716,0.0623876504284016,0.08128380772880056,0.08989423767111185,0.0705093288276973,0.05402718866781604],[0.05448304662590934,0.0651850875394933,0.06475379129490147,0.060934462292631664,0.07547482099612368,0.08697519813843363,0.07116848875449153,0.05523921303675577],[0.04327164610234537,0.03942319784806105,0.05449661212364541,0.0797494228805949,0.09326435870325842,0.08318344617754798,0.0768297641363795,0.07393207439528829],[0.07265711081197382,0.08435569642067547,0.09269727565597022,0.07762964040963458,0.06480140015819405,0.05504016197565746,0.04264616985692089,0.0431007504718319],[0.05269832384066397,0.0667970655251301,0.07975396682913347,0.06838278802432904,0.05679105149615203,0.053421556206452975,0.05720528817000081,0.06587403000907405],[0.06691301306067302,0.07489345764264467,0.07525346559276896,0.0405284768250149,0.01159365802433682,0.011593533834103279,0.039671132572354266,0.0712158332056213],[0.06963841403486698,0.06405476540120483,0.06848502861252886,0.08397288346499213,0.10266342159223071,0.09653235693628398,0.07747315922212604,0.06363827150202249],[0.06026481641548957,0.07724656826090975,0.09359921941234625,0.0737831159939429,0.041387276184771164,0.03473719867544567,0.05076244818881159,0.06166828213244213],[0.07433276359156107,0.08982417867346967,0.07695897632622467,0.057387844731109694,0.06592931373625799,0.08540315832037798,0.07941291761631263,0.06986418794398194],[0.06893409265273259,0.06636712928788685,0.06179793265686424,0.06448525979974694,0.08150594889631105,0.09123422073603416,0.07852823877233582,0.07103180744086025],[0.05990667552847088,0.04386904814817445,0.04332311897742939,0.061844853511557545,0.08162895258349906,0.06896689939814368,0.04754328249046996,0.04086134354642476],[0.04921540956423254,0.07285845518949827,0.08239350327270821,0.06305328480657531,0.05939514443037945,0.06512233746953408,0.057306155275815764,0.06318545157370925],[0.07885142681154209,0.06933398653238941,0.0550883344339467,0.04326708996332612,0.03942654855119629,0.05460399672692935,0.08098279051280041,0.09788016170003598],[0.08670644848729345,0.07217259801592749,0.06775890498907541,0.0630842268789543,0.05635607877310575,0.05614055015137219,0.06710226430000232,0.08474854380959096],[0.09063586702224168,0.0729636650259181,0.06414284195841048,0.06593784090858082,0.06407402897821537,0.05562837328588097,0.04482982778820662,0.04140820283100288],[0.04928952724739029,0.059726519976751796,0.06053489294505354,0.05976384784403285,0.0739996475601745,0.08019344528106592,0.05816671420968868,0.047723483419263864],[0.04966693382736055,0.060074652258196144,0.07851722824411751,0.06416783954616184,0.042144853063235906,0.05847760022528449,0.08793922144090112,0.08890550693745047],[0.07904389569421386,0.07443870124220524,0.07609465543998292,0.07219883529055883,0.059787682338330934,0.04835724074422022,0.058932288360865843,0.0784565715292268],[0.062149780665293364,0.0399578310448118,0.04801335943309375,0.06593025047686774,0.07270852526849314,0.07858385576429397,0.08928092638741829,0.07119675490906122],[0.047988711327663344,0.06374790795735065,0.09025367225102834,0.08334856186874956,0.06065946540300056,0.05508744232513476,0.08196335656419021,0.09973110278151118],[0.07542797975887923,0.04153478862509383,0.03486616539601189,0.05206580518446886,0.06483818826776332,0.06678461620443246,0.06363491087000576,0.07189126471407435],[0.09142573259159703,0.0785984238928676,0.05009104914602496,0.04788279676311391,0.06114709480597015,0.08096529042053649,0.08797561582458374,0.06330230999984177],[0.04448994594339459,0.04851539243677025,0.05729169839090624,0.05701588184309283,0.05380110658462267,0.055239875598980484,0.052011976250850925,0.04616015539190178],[0.06309607874860529,0.08978538555536156,0.08780579625934212,0.06741646146044596,0.0538290935001223,0.07187873028790437,0.0880259815502287,0.07080956109384438],[0.05795528547914407,0.062472292887245595,0.06986542772737653,0.07036804917696915,0.06656271999642138,0.07999302025024391,0.09089553272001298,0.07578583433657896],[0.06592942308964364,0.06514063925595868,0.05793407108773534,0.049462178624655385,0.05512404863665027,0.06829691021518987,0.08405314482288245,0.08986862688932139],[0.07267058384763946,0.06278027919806634,0.06002199969173877,0.05582889431917264,0.05752632444508539,0.05864189560536139,0.06002661194518363,0.06930503172974378],[0.07579296641556432,0.08908299616073106,0.1032672093763451,0.08814709782638565,0.0629758668323232,0.054676635184414873,0.05163436504984055,0.055273720831979886],[0.06903071473650857,0.07668440294190518,0.08600090244646019,0.09031606636741756,0.07206431483844304,0.060052089979178894,0.05859986175142655,0.06259400790094329],[0.08136073793526724,0.09814052603065948,0.09060623332204362,0.07593046279000383,0.058918301336147574,0.04699367336566368,0.05406504428396985,0.07835574247385185],[0.0919593571764121,0.07516992278236244,0.05761088494641947,0.06298434838949694,0.08513642399841347,0.08481179142209369,0.06317297141989528,0.03895817767882715],[0.03777645747425293,0.056345730884956605,0.08148428721932707,0.09598767830968669,0.0754982130324111,0.04677828053622755,0.041761766973086034,0.05254117170000751],[0.05991756565920148,0.059804816233171895,0.060426683584816454,0.06799601239973985,0.08333920795934202,0.08933228442349805,0.07051712219652233,0.0569626383958511],[0.053297061819616395,0.05555887426776171,0.05754532864942583,0.04709295121677627,0.04887759994736798,0.07546437833713004,0.09652686409951283,0.08658643651465547],[0.07216837925043629,0.0677588777475865,0.0630842268789543,0.05635607877310575,0.05614319938616813,0.06718204039285472,0.08554669187141939,0.09197649155178218],[0.06352054232166646,0.03153453403810761,0.02763963961907183,0.040514633795189686,0.05282355059325382,0.07408336575801479,0.08950253095227773,0.07713318227425675],[0.06476692730083985,0.055039228954662484,0.04264616985692089,0.04310531342122338,0.052853003417446,0.06875658602990067,0.08945512071926041,0.08853474629528149],[0.07582844599515162,0.06075182862423066,0.05566575582857991,0.06165380731872395,0.06481048904705879,0.08137234758527383,0.0960471540862648,0.07561267623311343],[0.04679162339766835,0.041762250509514084,0.05254117170000751,0.05991756565920148,0.059804816233171895,0.06042962566561812,0.06808529553000364,0.08425668876261133],[0.0913794377098662,0.06481302254567345,0.04016960182514456,0.048019631785913966,0.06592323579347487,0.07248181536281667,0.0759341307121843,0.07868719274139054],[0.05823059442841179,0.040270923014792785,0.04110467079950088,0.05194846190947304,0.06441378561743208,0.07848896465154334,0.06179926271904097,0.03991739541069744],[0.04801192244455404,0.06592404622776978,0.07251414242078946,0.07644589668273985,0.08246756325773866,0.07180422083275723,0.06383103970847949,0.06300987264900468],[0.06757442528871595,0.06488599411390941,0.06925254490141343,0.08310160038881327,0.07103393010292083,0.05828119522940742,0.060990425973258384,0.05819639159189674],[0.0583548761110282,0.06388704803466053,0.07521378062154832,0.08390603064873897,0.07104671716995205,0.058097162369584204,0.05256670025060873,0.05759163535040247],[0.05566575145282305,0.05193612184496019,0.065464047652394,0.08218014301324367,0.07324358159592938,0.06446274180092317,0.07189987359244364,0.09312900015731926],[0.10445265216537217,0.08826272223284307,0.06747542778401339,0.05287887151598983,0.05817612605294821,0.07648659006284841,0.061594314634351055,0.03990881616837484],[0.04801182028897065,0.06592759443169957,0.07262085516795991,0.07752515356905082,0.08469794272001215,0.06491267348316757,0.04722926645054268,0.060500220456757986],[0.07850087518616986,0.08998586843866334,0.09177402133982755,0.07102920862798918,0.05805131112362723,0.061734040170323204,0.06455142594074872,0.06250943475561246],[0.06086070752483254,0.0703615870026107,0.0822078591481948,0.07122261163225074,0.06288108610716628,0.06717974823814496,0.08240914610318711,0.09151749107315138],[0.07299255693716963,0.0538614055190833,0.049110792733863165,0.05975076429572353,0.0821984662646908,0.09311563743246498,0.0711289239489779,0.046709140964806564],[0.042026381418741744,0.05259478654050644,0.06507348978325889,0.06707706819697129,0.07762442687527141,0.08776926959485762,0.06409462547681506,0.04011382162420958],[0.04801801091732416,0.06592950814629508,0.07269501632131692,0.07865233396436616,0.09243257407506417,0.0890117659907104,0.07579003497540301,0.0589138950253173],[0.04699216146302949,0.054014976944921106,0.0777534250351552,0.0894667874352704,0.07336747814081002,0.06434743309486465,0.06837823780618067,0.08262264484351764],[0.09729459154503799,0.090557589227708,0.07916644071820322,0.07444217453204055,0.07609465543998292,0.07219883529055883,0.05978492413757937,0.04827762233034048],[0.0582097898063747,0.07826100794778468,0.0757388976083638,0.07080612853819192,0.0598999196392226,0.0438680946960628,0.043298695870668466,0.061701326234479534],[0.08293715352259512,0.08093558274968923,0.07664698018654549,0.07393302784739994,0.07286250630955662,0.08668417488049046,0.10090585521915613,0.07982683986501135],[0.043252559900549215,0.03800192108371832,0.054615243092216874,0.0634415785118469,0.0799737291321583,0.09135645834220482,0.07309106537551754,0.05387384626630701],[0.0491074079788668,0.059628530952466015,0.08081734542137473,0.08831251670990203,0.07044300622914232,0.06387290587596489,0.07198646412791491,0.08448149446818326],[0.08018736227798226,0.044093685131594805,0.02727787402277107,0.047726860887158745,0.0785348110167156,0.09242309355767181,0.08095369046888207,0.07431432096188086],[0.07032351250582233,0.060868107369968394,0.054092265308542824,0.06075357673696463,0.07846184813749787,0.08606857145793165,0.06778385503956304,0.05386302135489435],[0.0444601256560251,0.03810451991372073,0.04533518858267804,0.06108330990906929,0.0735725389340438,0.06360447180985304,0.05740461017817988,0.06570129178694542],[0.0818543786110176,0.07551120035601255,0.06308215411763261,0.06152677543756713,0.07217204542277242,0.08255137448664368,0.06636899205959866,0.04573245670281306],[0.027574544219405497,0.011562177968642335,0.005110131297916425,0.011204986638510718,0.04141401384466774,0.07889236196266187,0.07998353974158942,0.06235522491566039],[0.06231702398501586,0.07635954763648196,0.06827268971531131,0.05706844638493716,0.05427380791350664,0.05040819609725262,0.049185066633852394,0.06202928126081221],[0.07877384897679925,0.08863077783864474,0.07657211474381265,0.06470912596804644,0.05503726756746137,0.04264616985692089,0.04309985150269806,0.05266929640207249],[0.06646137535551608,0.07851177386024855,0.06816236556499368,0.06368390351223382,0.07202733848102098,0.08529778095700412,0.0868301288144118,0.06791028645116184],[0.05975700682384442,0.053959280163854,0.05113660804756893,0.06719105487397221,0.08696000247447158,0.07169862910265135,0.04910822095480473,0.05217844541493326],[0.06039467495974214,0.07484283202475481,0.09043845433819186,0.07535234993083009,0.058658263218490374,0.06676127263291731,0.07314877651493566,0.06378855353739418],[0.047667197353617546,0.05270668591321334,0.07885706977702088,0.09789377890215878,0.09085077660828379,0.0791944950598372,0.07444308031154662,0.07609465543998292],[0.07219883529055883,0.05978839742741467,0.04838909368909025,0.05948945557545783,0.08298127299172195,0.07825301629327905,0.061888553690003206,0.05653451614171468],[0.06593296472714903,0.07557050554511037,0.07095502032864448,0.061840436722312,0.058296690196709175,0.052745980940215445,0.04430930281606675,0.04996359803546574],[0.07199065782296593,0.08060409620842293,0.057982713832973994,0.04301322386102819,0.04108190899412961,0.04687967930779585,0.0693082982262719,0.0850731407972941],[0.07085832667387057,0.05760913067585066,0.05020549041863117,0.043245470707132805,0.05001123533154443,0.06320576360255271,0.05583144780406819,0.04206248013757876],[0.05049596832419316,0.07487566017684907,0.09232335130266908,0.08413451285952707,0.06933394809008735,0.05636903129592288,0.051696624149555365,0.04822035562682907],[0.04285677960821947,0.04998018128104774,0.06320483058155774,0.05583144780406819,0.04206123383946139,0.05045469659876108,0.074377989030939,0.09024049469772173],[0.08251711412841031,0.07677518622624528,0.07393403578248939,0.07277303144845902,0.08568700889817195,0.09759402740741284,0.07982851893308673,0.05243277434469455],[0.041860945614446796,0.04892240771606947,0.05834711105982812,0.06025517371786143,0.052678260403825825,0.04391521033773611,0.06096136586636038,0.0870837314943882],[0.07784291567844423,0.05228058501725928,0.04185653930361652,0.04892240771606947,0.05834711105982812,0.06025517371786143,0.052674650906546,0.04380212281609696],[0.05972458835652547,0.08335892562527683,0.08123485290401673,0.0766784805884503,0.07392507333263987,0.07257118443279556,0.0833093551202104,0.08802701233746404],[0.07029404040999762,0.06386286919013699,0.07213312996548528,0.08646591888001927,0.09144372096335905,0.07346804603174395,0.06268963346227702,0.058288143944209225],[0.05386351487796645,0.059452101800074195,0.07638542842415691,0.09383661009585914,0.08606543819349356,0.07063479139277846,0.06355981201107054,0.06508948645245131],[0.08089881107339936,0.08912436033927126,0.07462219877983646,0.06751336130520856,0.06419532507713382,0.06564685632898634,0.08292969495684044,0.09847742948746717],[0.09061758348238873,0.07582431130101511,0.05865984890256142,0.04712486101232337,0.050950720328391916,0.06165989043800815,0.07753075510925603,0.08636203819636477],[0.07061142643978494,0.06813158509965178,0.089857361002287,0.09580112692456519,0.07024191987671047,0.046976748020506214,0.03418610135542958,0.033274650452842405],[0.051984816979950596,0.08056356408780382,0.09829204227309613,0.08717527210074064,0.07072899291826605,0.06356394590701177,0.06512698444539933,0.08128371894135891],[0.09001315055356252,0.07288606371368961,0.06381484927664226,0.0666063026424085,0.06630549784180095,0.06320595561666785,0.0650760087258159,0.08080709559983938],[0.08805273666845215,0.07041403431394011,0.06387513967805505,0.07210574749188926,0.08618607872454205,0.09091985085307963,0.07608693074893745,0.07259524589445329],[0.07727445154881354,0.0820034190554457,0.09179824402788805,0.1000679082814998,0.0869916477992076,0.06735946340627666,0.05278787978049253,0.057191338321967],[0.07301072367634574,0.05945961608583025,0.04059182422777044,0.03882710153397184,0.05648140499520332,0.07719524179554496,0.06629954923923945,0.04777144774242109],[0.03879086601404661,0.03930037277596319,0.05064293760608272,0.05891282877093973,0.06541025596013261,0.07955254971312462,0.0676793003275781,0.047406646728816934],[0.050359929463799746,0.06321640821434207,0.05583144780406819,0.04206123383946139,0.05045469659876108,0.074377989030939,0.09024049469772173,0.08251711412841031],[0.07677518622624528,0.07392907102113658,0.07260986743051091,0.08372643579024289,0.08915883593499473,0.06780407529120104,0.050117430030501384,0.04936320248260899],[0.05846213336076232,0.07418273998730303,0.08416397694719165,0.06929612382824128,0.055850548377747666,0.046814849169279686,0.03708790763385675,0.04020692643088565],[0.0633921943583511,0.08536113569822841,0.08062458280242926,0.07212304510840477,0.06791808911201197,0.07876488681359203,0.0938168821988236,0.07845359412345076],[0.05247301575985219,0.04194392187820556,0.049546681664299805,0.07591391547454866,0.09706785979821743,0.09051611947523061,0.0759272519596021,0.05891827409465867],[0.04699123525240674,0.05398265695146118,0.07731745050811711,0.08687554507129569,0.06464322315370813,0.04523781405563582,0.04611840518233709,0.06618989251598993],[0.08785683839486505,0.09728275863446871,0.08729363451897501,0.08288348529719729,0.09222797138944003,0.09800041221853191,0.08067241350612912,0.05853806924326088],[0.04504084470192099,0.04985062967487494,0.07477937553621417,0.08696932783798447,0.07033298994316096,0.06387186388901431,0.07206823327716819,0.08560653005734681],[0.08670426492876229,0.06019458344722055,0.04043742857861592,0.04110514071518448,0.051798348681306366,0.06266346298229292,0.07154252497814279,0.05364901488838241],[0.038026855547698905,0.05085259116912519,0.08430970582091998,0.10119482924649478,0.07963755915556356,0.05324103409156125,0.045133952961452076,0.04851155520555599],[0.06226674071087775,0.08301204578732259,0.09073928055921107,0.07381765931297081,0.06553592954548967,0.05860176689846437,0.03872437645424566,0.034101561622911475],[0.04676694122029576,0.05934339512642729,0.06719710065065078,0.08145662156006553,0.08765515219203435,0.07026404511227922,0.06386708481054494,0.07229427576636649],[0.08825287322155381,0.09732077856800819,0.07384845311805138,0.04928021567864209,0.05218217749891315,0.06035496672897944,0.07448380499553796,0.0902282777851518],[0.07961317054478129,0.060582855583890954,0.04801491073414016,0.04119292474339892,0.040933269224565326,0.05995295808878611,0.08534357122263218,0.07616423792389262],[0.05449088016433063,0.050984413011810156,0.05530904447067657,0.06829613751112168,0.08617365328133553,0.07258115243202043,0.050210997088062315,0.05046473187284125],[0.05646774826671355,0.07009718015826993,0.094381953356308,0.09372384279184542,0.07689134700113551,0.06768973339337091,0.06819564696852268,0.0820476439852546],[0.08992415183336556,0.07087430206320028,0.058194325573197425,0.06354657406080888,0.07280951090443938,0.07776307935377928,0.07736220951968673,0.08481111472838321],[0.08399616305054317,0.05897422930035531,0.04924437132203574,0.05248235021477843,0.050313790027342264,0.060353215523315046,0.07219023972183175,0.056324614476851304],[0.045288962436501115,0.055580471286354405,0.08221269625181533,0.08919521602844648,0.06738687249394999,0.05770877488019108,0.06538461392809869,0.07880297668386792],[0.06364623445664981,0.04712597437268535,0.06049710130627843,0.07850087518616986,0.08998146212783306,0.09162305787939298,0.06908894053218528,0.048197014354374665],[0.041285209028726844,0.049729663498542534,0.06601524613474939,0.07147612706524381,0.07958992020996247,0.08561755174016959,0.06651872477877115,0.05288670380007496],[0.059351487798364314,0.08073579020275706,0.09805330384637463,0.09059423538595254,0.07592956067578674,0.05891827409465867,0.04699702406879891,0.05417435622259377],[0.07965615599297973,0.09745225410087717,0.08325361384770236,0.06206376651503245,0.0622034256777484,0.0858833516824978,0.09479096868266175,0.07024913888319458],[0.0480967584079781,0.03880071381228553,0.03930037277596319,0.050645300805245166,0.05899244244334566,0.06640777639875088,0.08434199481004273,0.07669301913057172],[0.05216954951040753,0.04185288894410334,0.04892240771606947,0.05834711105982812,0.06025517371786143,0.052673295642473014,0.043752046319788004,0.05900859063463018],[0.07891669973931903,0.06929318045540298,0.06805740141050629,0.0901371215215146,0.09699321994316393,0.0716598927481308,0.04991181643723484,0.05951679577844445],[0.08931857516394419,0.09164944040825207,0.07094840782170353,0.05185751709530574,0.03801572201607153,0.03429323040643153,0.05309489487929772,0.07565702556660472],[0.06886080682124379,0.0614535462751181,0.06011250899928906,0.05664098872326541,0.05824146669573163,0.06029796440185755,0.07289820766205225,0.0920430747613614],[0.08836267107074923,0.072977314689113,0.06015009008675787,0.06005497791652177,0.06544364686948884,0.077562054523648,0.09137216844959709,0.07726975892491073],[0.05747930586208487,0.06669340929214229,0.08803569404292078,0.07885008696480608,0.055182352247004844,0.04489949930995758,0.046575637999634927,0.056055668194783956],[0.0638137185656595,0.03761340006325887,0.011450584594856773,0.011997052569605671,0.04165084421844974,0.08014788621695693,0.08598739895744148,0.07224371317095978],[0.060296444245441116,0.06482858730911002,0.07314545624350019,0.07368392068081307,0.07545679268323144,0.07679487753891814,0.08683700562839097,0.09479383570735275],[0.08340827390449951,0.07684580757051081,0.0739299359384093,0.07257401754764162,0.08340626690777886,0.08926705712530855,0.07648811058658614,0.07576267173115936],[0.07702895146679932,0.07925156776669572,0.09216598434942776,0.08811577323214323,0.0729490942736681,0.06014910258278508,0.06005497791652177,0.06545008948161471],[0.07778045102181039,0.0941201481165142,0.09034668223178965,0.07835970683343113,0.05944222687827032,0.04164788914431815,0.04335882551703665,0.04442014722282166],[0.03837927815580935,0.04417413776021695,0.04551935846107058,0.04035465718032874,0.06010573537742095,0.08131043040693368,0.07020290758924093,0.055168982774649745],[0.043269684715144266,0.03942319784806105,0.05449661212364541,0.0797494228805949,0.09326435870325842,0.08318344617754798,0.0768297641363795,0.07393056249265409],[0.07260987658777113,0.08384002753860259,0.09112079501127501,0.07839948016155454,0.07101831789631373,0.059906219233531725,0.04386346364294907,0.043145336453762395],[0.05982870828821294,0.07442177029652494,0.06540886912471261,0.06062067815753542,0.058751000457530886,0.05891697762892995,0.07043818543375462,0.08238985739411905],[0.06721402912069999,0.04794067075692995,0.03939583836502937,0.04024220072167656,0.04835478808385742,0.05101826308553414,0.046230041926680496,0.04909588811133145],[0.058725883053817554,0.07440375982403372,0.09160467996533846,0.0850494591098717,0.07132766103647675,0.06155698909214469,0.05850594702708463,0.07644482626419613],[0.09093316853343886,0.07747856391083871,0.06479627561319679,0.05504013473416855,0.04264616985692089,0.0431007504718319,0.05269832384066397,0.0667970655251301],[0.07975396682913347,0.06838278802432904,0.05679105149615203,0.053421556206452975,0.05720528817000081,0.06587782338640398,0.06704512275013488,0.07664258504427843],[0.0848616911451518,0.06524200254759435,0.04594406822249874,0.03837887290037875,0.03907321794125635,0.04929650962610632,0.06498906801222987,0.08269289503005106],[0.08625929989122309,0.06288847536373711,0.05815973638387734,0.08434914971048027,0.09414960827910396,0.0740556027045026,0.06462002896419436,0.07049260625935047],[0.08358554861199469,0.08414110276349872,0.057663320348985914,0.04402858245528432,0.046941855295995,0.04958028974098245,0.06449231312268781,0.08817961927098078],[0.08839074018512791,0.07574868677525928,0.05891281217613335,0.04699491966378105,0.05409930132600906,0.07863192726958287,0.09155283588989828,0.06790198146255086],[0.04221426041977466,0.03893412096261964,0.05661153655290735,0.08497758430939982,0.08811154598699641,0.0722856301153918,0.05067532250237914,0.041399020379714734],[0.04788742998046139,0.043548362696319676,0.03499091857350101,0.056706068459049366,0.0860764536224038,0.07619470090114766,0.0489418414105553,0.04074300675140914],[0.053954617522507936,0.06238218360727053,0.06726104487367353,0.08226564180776545,0.07836047071689826,0.06991454130673973,0.07072140797708125,0.07408619592662757],[0.0711828386051861,0.053627396297433044,0.04065925095451184,0.043571047847759045,0.05166815354036641,0.06633714846513283,0.07239608086130903,0.07330583532629904],[0.08512215235259905,0.091596380326274,0.07780922851604735,0.06945301789280649,0.056857659248058356,0.041904769349585216,0.04564798555432648,0.055573814998592666],[0.06918482874126815,0.08190255042909694,0.07150301919955485,0.06418930011530936,0.0683714441997823,0.08254191937095928,0.09626277565531324,0.08610640820711146],[0.0714153531406683,0.061559658758057315,0.05850594702708463,0.07644482626419613,0.09093316853343886,0.07747856391083871,0.06479627561319679,0.05504013473416855],[0.04264616985692089,0.04310579695765143,0.052866182829953375,0.06885783866910158,0.0891831664383925,0.08475327555329537,0.06718245545028564,0.05283760660092997],[0.057969296380529944,0.0778675071261015,0.07441359182550154,0.06454019592363527,0.055032323237225234,0.04264616985692089,0.04310093435188201,0.05270249939703382],[0.06680432630421035,0.07920403270259128,0.06426976430986514,0.047687326389704285,0.050192730369095814,0.06454389593693491,0.07882172870902968,0.08563229010945704],[0.07164500933899243,0.06357180565535664,0.06689304396719409,0.07995077880265397,0.09285306873439847,0.08024870378587182,0.062046165137990786,0.056539167625945096],[0.06593296472714903,0.07557050554511037,0.07095502032864448,0.061840436722312,0.058296690196709175,0.052745980940215445,0.0443156092207481,0.050169972121977296],[0.07445221421422094,0.09098135534020033,0.07200406280238542,0.046255793083849445,0.04073058583517737,0.05049982396298611,0.06528772710141847,0.08385173450429864],[0.09165818122921174,0.07635839368450457,0.06239835094961505,0.05135636020082363,0.04761062529848805,0.050031423223951904,0.06013948891630817,0.07954588579873012],[0.0871967495884611,0.07294093511750598,0.06951451181650181,0.0669966244492198,0.057963208049715595,0.04960691768907137,0.04059008921800188,0.04549393267716127],[0.0632307669706097,0.08459554438430868,0.09643567505246226,0.07841612519566415,0.05735601821760884,0.06415512697701062,0.07811586603571488,0.06952562698613149],[0.06249469784517089,0.05751238496635437,0.06775216579613716,0.0895890455906613,0.08551786316066035,0.07117816645669389,0.059859307103616866,0.040653157072150156],[0.025100793347013872,0.04313546941454751,0.0776887484892937,0.0781529363871452,0.0667204941557576,0.07482289426063288,0.0960690445126692,0.10615630906145639],[0.09114144236110377,0.06768763136231883,0.05407274290619683,0.07473560699864978,0.10068527249588671,0.09172312762347426,0.07296550354468023,0.06669562202895359],[0.06128599143564315,0.06126383898103713,0.06214179801724082,0.06422239518914849,0.07921382833560853,0.08690991135832898,0.07291113233689217,0.06951350388141236],[0.06701087174791677,0.058434271454683405,0.05533368104592105,0.06615448721853999,0.08759105730059705,0.08743300902906218,0.07321069297066916,0.058219558294798454],[0.053122559595744565,0.05508863887350873,0.06468913508414306,0.07290987562037013,0.05486582015226965,0.04141312371001202,0.039895202661752324,0.04286916174344094],[0.06098912546792899,0.08286578811020294,0.07544640675649061,0.05789347598187699,0.05366089142973739,0.062058519260953945,0.055494387695701794,0.042331716962003066],[0.05056377388237599,0.07326649745326164,0.08394600397432414,0.06919070344377637,0.07224647030387801,0.08474718012861372,0.07269414993085463,0.0656253858140773],[0.06068795689337865,0.04765295770520593,0.04655944117942469,0.04958967228881346,0.05943613556047968,0.0811699987349506,0.09349287763186705,0.07250780858009978],[0.04698913305181092,0.04314823759289767,0.0494400104362524,0.04825381016827893,0.05697692750735084,0.07663181780423833,0.07263100870654589,0.06728428416171098],[0.0765702740963018,0.09419380842075759,0.09752894732063554,0.07983092779201542,0.07113581827309029,0.059909767437461514,0.04387096186276999,0.043385845515818804],[0.06259618414797681,0.08485927006343419,0.0740564673054841,0.05384231972861702,0.060579803706599045,0.08813593064522558,0.09996631965160627,0.08269193074327727],[0.07013369456633894,0.06894223104754275,0.06636712928788685,0.06180233896769452,0.06463117677436198,0.08327887559111471,0.09905144973026597,0.08997511140585762],[0.07311101461837635,0.06015414906860461,0.06005497791652177,0.06545008948161471,0.07778045102181039,0.0941201481165142,0.09034668223178965,0.07835970683343113],[0.05944222687827032,0.041660181866186224,0.04376899646649121,0.049490662674197564,0.06214958772612474,0.09007542412020735,0.09374283352298828,0.07724444602660366],[0.06362516153548728,0.060065564151644255,0.07494861618191181,0.08488014231673302,0.06665462991601878,0.05174053245648517,0.058460185760126675,0.0752930782779066],[0.07000468596956705,0.0640624307471726,0.06827182842837498,0.08137377546959809,0.09101336960972212,0.07725413498954621,0.06477052998774746,0.055039228954662484],[0.04264616985692089,0.0431007504718319,0.05269832384066397,0.0667970655251301,0.07975396682913347,0.06838278802432904,0.05679105149615203,0.053421556206452975],[0.05720528817000081,0.06588076546720564,0.06713631959499423,0.07762608860609457,0.08776926959485762,0.06409462547681506,0.04011382162420958,0.04801801091732416],[0.06592404622776978,0.07251414242078946,0.07644883876354153,0.08256051036826012,0.07283741063076703,0.06717149172190288,0.06170833049924765,0.052108549172452584],[0.05199569894259749,0.07413706596126993,0.0890169608527793,0.06325048213758935,0.03177743677097368,0.023201806764403712,0.02783021601969996,0.04337653872211837],[0.06815867045798726,0.08483469059220927,0.07716017848098805,0.0709205545461519,0.05990332482533564,0.04386468950994976,0.0431830984786856,0.06023304114161557],[0.07560833008020758,0.06520375738694123,0.05888671017380465,0.05924690303764643,0.0673502342097842,0.08024876539459222,0.06659696423812927,0.049572089193962825],[0.05562574653195161,0.0847519647282533,0.09990803905150969,0.07758925839921937,0.054134206866272835,0.0604602536499986,0.08653601490293412,0.09231806329766773],[0.06698806496466486,0.05124040596208928,0.05199943591994109,0.05772953655712877,0.05896816654428498,0.058777601407577124,0.06328739205984134,0.06714207144851556],[0.06955606196866906,0.08136795601671623,0.08986847896694572,0.07158495847722487,0.052327227390887146,0.039760021884750044,0.02897607719801123,0.034313407324823464],[0.061715882982029305,0.09054015504413081,0.07929370558102247,0.051797126642975456,0.045340344521109424,0.0418136164285968,0.04308373749782927,0.06337745051952184],[0.07656837891355271,0.06067715545403872,0.05484688264051611,0.06294527069232586,0.07584811417696125,0.0939483017566596,0.0942799845516791,0.07022581982737747],[0.05886929362646133,0.0564505870092308,0.06136756856983962,0.07448899534449233,0.06628520483467101,0.05958986634946514,0.056455155488701905,0.04621233703566227],[0.04670850568464735,0.062350851853941715,0.08200654788632332,0.08762076207308919,0.0710743499255859,0.06165409997340257,0.056978416148536035,0.05704255751823509],[0.05902286815221803,0.06426608585909244,0.08299003337083652,0.09590428026747164,0.07647009932523541,0.05403949900250363,0.060585749161552405,0.08813876376007163],[0.10005527692441468,0.08368544109247862,0.07367652343838166,0.07322556739458824,0.07742273794384644,0.0861831411544663,0.07645092475821205,0.0691526926725938],[0.07350963201521954,0.0750603667619813,0.07266377224317899,0.08403630261556852,0.09157818210618833,0.06494360305419014,0.04018350994748013,0.048020115322342016],[0.06592200992647418,0.0724438762682156,0.07553351631009265,0.07774031237796242,0.061809265134899524,0.057376915124570986,0.07015646994050921,0.09103542595443972],[0.0955937443641215,0.07301835797526258,0.05538885712358519,0.04327612732727014,0.03942319784806105,0.05449661212364541,0.0797494228805949,0.09326435870325842],[0.08318344617754798,0.0768297641363795,0.0739356838925681,0.07277303144845902,0.08568700889817195,0.09759402740741284,0.07982851893308673,0.05243277434469455],[0.041860945614446796,0.04892240771606947,0.05834711105982812,0.06025517371786143,0.052673139003911816,0.04374922236220216,0.059020108333274035,0.07945779515425981],[0.07129770465209241,0.06418374285157288,0.06838892044888306,0.08261675750652052,0.0947863682312701,0.07387970796008184,0.04139422957481399,0.03486168417108713],[0.05206580518446886,0.06483818826776332,0.06677666168967239,0.06338026527804136,0.06897359822050099,0.08061070869125095,0.07103657710030231,0.06248962290022661],[0.05828209633367247,0.05385919710197511,0.05930908945517581,0.07464615935511298,0.08613905438834646,0.07466447936511876,0.07023369182825016,0.07715339416639032],[0.07944144963057281,0.08907129984048195,0.09700606064307415,0.0765528389584931,0.05404061590354871,0.06054756934511098,0.08773552806304175,0.09895984137159478],[0.08455199150641812,0.07694530312595496,0.07393392681653377,0.07260021187138704,0.08364504528982442,0.08926920530634898,0.07051446286933297,0.05696305697364014],[0.05329708906110531,0.05555887426776171,0.05754532864942583,0.04708824524956805,0.048720138847775096,0.07351501298302927,0.08746883521677747,0.07112024985366205],[0.06815705489906371,0.08962353660141845,0.0954475041211552,0.07301339321390977,0.05538885712358519,0.04327612732727014,0.03942319784806105,0.05449661212364541],[0.0797494228805949,0.09326435870325842,0.08318344617754798,0.0768297641363795,0.0739356838925681,0.07277167618438603,0.08564791753226367,0.09723897412871488],[0.07970914014983438,0.05871584789798568,0.054954724396572605,0.05160637689443434,0.05112191921559307,0.064170296699094,0.0829690481421136,0.08460094440440427],[0.05867595295031242,0.04345567292514679,0.04557303924268856,0.06342971917961487,0.08097539273538784,0.06713589825387296,0.04794154013768691,0.03941122980626032],[0.04074599981887518,0.05447749117436847,0.07827964703909004,0.09042138096161026,0.075093884862068,0.06460666413467123,0.07163601905882858,0.08984384983675668],[0.08956909470201876,0.06337884042628186,0.055063174733660646,0.06295717522297706,0.07602476564670854,0.09600835975655475,0.10234356044156426,0.07778715276218973],[0.05413934188693131,0.06043506386211875,0.08626724297017778,0.09163101792920722,0.06882016614367012,0.05918669484403728,0.059305670899241325,0.06785110851061144],[0.0813125764373478,0.06435857936072123,0.04718985920648337,0.06049913760757403,0.0784999217340582,0.08995784264499482,0.09150713047569203,0.07074625026499992],[0.0617694585553589,0.07177774057733684,0.07743073261243369,0.0878718121505355,0.09877869226310831,0.08644364921446118,0.07336259725975892,0.08060646019734988],[0.08566052265466623,0.06682202121764605,0.05872078747908635,0.06725652043455405,0.06989857494166303,0.0665025641253689,0.07966430675428246,0.08931622729393651],[0.07170909928134833,0.05528451258311608,0.043273035418279496,0.03942319784806105,0.05449661212364541,0.0797494228805949,0.09326435870325842,0.08318344617754798],[0.0768297641363795,0.07393037861260399,0.07260021187138704,0.08364504528982442,0.08926920530634898,0.07051446286933297,0.05696305697364014,0.05329708906110531],[0.05555887426776171,0.05754532864942583,0.04708824524956805,0.048720138847775096,0.07351501298302927,0.08746883521677747,0.07112300805441363,0.06824813516939994],[0.09073202189376131,0.10047978405070862,0.08273320246870935,0.07013494086445632,0.06894223104754275,0.06636712928788685,0.06180140594669954,0.0645967311584967],[0.08278197792662544,0.095837628977408,0.07969001936910988,0.05687281931168924,0.05105360971893997,0.06763343477972955,0.0887457408497653,0.09872024571618199],[0.07992797690831871,0.052435447675896155,0.04186091837295789,0.04892240771606947,0.05834711105982812,0.06025517371786143,0.052673942627834494,0.043775092401033805],[0.05932327895433576,0.0807304522512938,0.07382694586583527,0.07017660980580856,0.07714750319441475,0.07929874348635951,0.0873785166075523,0.08993399374374039],[0.06661293739890808,0.04787902566083688,0.050203082134879465,0.06469234402313007,0.08056709952081324,0.09255986254615699,0.07732128504791483,0.048891918342837314],[0.03197342825330167,0.03640469244653108,0.05518174260896003,0.0798383378591984,0.08969977392098566,0.06943871049866145,0.048279496869075504,0.040135891979809386],[0.04502121083952871,0.04350793644311565,0.04365687988911507,0.07018293490226528,0.09264642136451418,0.08011794578578324,0.05851178300930156,0.045049425770925855],[0.050143858455859294,0.07823522732915653,0.10120255788247506,0.09029334552061077,0.07845264494695503,0.08247768281457504,0.06888975235885117,0.05792836715477022],[0.06236695496980173,0.06729560115031366,0.06744665897597266,0.06863352072247929,0.08062101704842667,0.0826983402823614,0.05868662364942199,0.04870351471570638],[0.053900305542237376,0.06705885781816681,0.08482264515624907,0.07868526672431414,0.06651029471935195,0.05719971137845086,0.0468522698815342,0.04659968342562075],[0.051687728842853636,0.056656735037461096,0.07689775211684927,0.0944480036171127,0.08793904881725648,0.08455769175831118,0.086991699100072,0.09437919960846658],[0.10557986475932819,0.09571943981991941,0.07571029603543818,0.06439568064437691,0.06444539235805449,0.08124719123967078,0.09500393035586416,0.08030817584319726],[0.05851746967011033,0.045049425770925855,0.050143858455859294,0.07823522732915653,0.10120175425855239,0.09026774108629593,0.07816017003336106,0.08137464439901003],[0.06757668393689718,0.05547995715041017,0.05315253958632297,0.050542457279517616,0.05413756813771286,0.06653854317046133,0.08119059681690557,0.09339492135964972],[0.07821911195713326,0.053587002661988715,0.045500853044735556,0.04669301435629293,0.05271909835830085,0.06658769478410938,0.07511693364639735,0.08682491087244222],[0.09325070184925693,0.07123013659792114,0.052407063614897456,0.059586591353241784,0.0798463514641058,0.08335134616200437,0.05886558476628509,0.0487149407174684],[0.05378184279830513,0.06567487738782696,0.0794171382232911,0.0735652894482971,0.07238930584508196,0.07726149141046731,0.08177969472960625,0.08907437188956523],[0.08790990146180575,0.06758178917683409,0.0586389697671473,0.05426314812899695,0.048657749735813174,0.06622950362477295,0.08834091438692215,0.07902301510148756],[0.058418071830614246,0.045037650637346965,0.04985507450105059,0.07481824422370223,0.08695731178215019,0.06941208125060888,0.06045015588568013,0.061447854109790645],[0.06677822030305727,0.08697359556780948,0.09150968821923061,0.06878340370669589,0.05858280716880513,0.05200380765583753,0.035795031057489816,0.032845000885726595],[0.04832972309133779,0.06093701124822502,0.06757123041554115,0.0744679906712058,0.0817443506166905,0.09160481268344967,0.09722211371655001,0.07645948441130318],[0.05402590049200148,0.060466373827741865,0.08675120788431309,0.09453152413902424,0.0771139660430504,0.07268571506989589,0.07727322568181286,0.08186826170652597],[0.09014134758023948,0.09261025153021027,0.07591924652138608,0.07033147246444542,0.07714998898027728,0.0792387025934396,0.08670815683412073,0.08775512065984753],[0.06768185681126766,0.058484734981156236,0.052000715746846886,0.035795031057489816,0.032845000885726595,0.04832972309133779,0.06093701124822502,0.06757123041554115],[0.0744679906712058,0.0817443506166905,0.09160481268344967,0.09722211371655001,0.07645948441130318,0.05402682670262423,0.06049421259627703,0.0870232093013581],[0.09480360875953357,0.07160086825498994,0.05208328579339969,0.05305745955406846,0.08096694412349745,0.09690112827700242,0.07500132758580641,0.048980103070132334],[0.04544246944182444,0.07048931278393013,0.0868561547013331,0.07365464316807116,0.06392042923076136,0.05770944668965895,0.05899694423596426,0.07495193691110802],[0.08361105993305987,0.06323530908255293,0.04138857410444226,0.027179806204418042,0.027398809401990992,0.03874884556471071,0.041486771424410596,0.041401584227643534],[0.05333350942097442,0.08086868755372198,0.10354554535445341,0.09568234720666591,0.07570282691956179,0.06388154534191037,0.05827803487216099,0.05392654818918961],[0.050561920612499624,0.05428782228425848,0.06251865393549268,0.08162228818208593,0.0971487891553015,0.08309108046060676,0.06157946554929048,0.05651216878228965],[0.06086105524678059,0.056199566802324775,0.05407480136902902,0.05622072426395209,0.050977845973710696,0.04644892411927752,0.06272323517598709,0.08156430495278877],[0.0628905396536601,0.04001988099753839,0.048015252716572594,0.06592200992647418,0.0724438762682156,0.07553351631009265,0.07774031237796242,0.061809265134899524],[0.057382036524484994,0.07032110265197017,0.09294119480852539,0.10298929860407682,0.08108691198437815,0.058831727406172436,0.054958272600502386,0.05160637689443434],[0.051126264233073315,0.0643196730767348,0.08490804709260774,0.09481861303624795,0.08342399988793817,0.07684652265959455,0.0739353978569346,0.0727470935719702],[0.08534508930183432,0.09579133807914053,0.07634134071445411,0.05402763032654691,0.06064206057152102,0.0888842711537021,0.10387947725659599,0.08985981941217712],[0.06738174453593743,0.049743804430583946,0.05570949122294891,0.07995560385465172,0.09351173092390164,0.07657530521284764,0.05451682006039617,0.04127839106640523],[0.03857607934550912,0.04988730872039367,0.07656459339210092,0.10105401485521631,0.09554761893686728,0.07884199920376656,0.07580069540250786,0.08169342709920242],[0.09176881433990802,0.09792411616544813,0.07521492054345616,0.04485161255403754,0.03910203519756343,0.05610230967940012,0.08204257445953367,0.09604922517735164],[0.08052017466748156,0.05853358801833612,0.04504084470192099,0.04985062967487494,0.07477937553621417,0.08696932783798447,0.07033298994316096,0.06387186388901431],[0.07206823327716819,0.08560653005734681,0.08670426492876229,0.06019458344722055,0.04043742857861592,0.041109792199414893,0.05194846190947304,0.06441378561743208],[0.07848896465154334,0.06179926271904097,0.03991739541069744,0.04801192244455404,0.06592200992647418,0.0724438762682156,0.07553351631009265,0.07774031237796242],[0.061809265134899524,0.05737502184109213,0.07009377300242114,0.0902752235717348,0.09229072257127588,0.06884813040177243,0.05858476174563402,0.05200380765583753],[0.035795031057489816,0.032845000885726595,0.04832972309133779,0.06093701124822502,0.06757123041554115,0.0744679906712058,0.0817443506166905,0.09160481268344967],[0.09722211371655001,0.07645948441130318,0.054030299992459535,0.06060411075904257,0.0882580855038026,0.09912134558612401,0.07387446062549106,0.04710467204138637],[0.043151785796827456,0.04944268010216502,0.04834150227247046,0.05802669166189209,0.08104822154398564,0.07772832270768641,0.061842628895874635,0.05653307915317498],[0.06594454235993337,0.07595030140046796,0.07550985771449045,0.08143066154032533,0.08760984699704862,0.06832687488987427,0.04792980152098132,0.038795517498277025],[0.03930037277596319,0.05064455847467253,0.058966504566856856,0.06606585680241324,0.08253930548177042,0.07320584091193909,0.053760026422918515,0.060481191164580755],[0.08686303503681722,0.09293111203950777,0.06400720001772216,0.04096577519929197,0.038777025001889516,0.05575089253702765,0.0740945793287228,0.06126971223288972],[0.04123186843596074,0.027175154720187628,0.027398809401990992,0.03874884556471071,0.041486771424410596,0.04139849231865289,0.053231861787906835,0.07964428418386421],[0.09819514670676506,0.08696912063237441,0.06736884944145412,0.05278723880730801,0.05728514157669025,0.07480634680937201,0.06954256080987195,0.06386578498014274],[0.06592954587520945,0.06407402897821537,0.05562837328588097,0.04482982778820662,0.04142174185098833,0.049735916626085175,0.06511202061814136,0.08384255802059928],[0.09201375887117355,0.0730325353490224,0.05386215151494491,0.04910881091554537,0.05968834631683164,0.0814855842488007,0.09048548233503695,0.06911332004235506],[0.047997841734173166,0.03879762190329489,0.03930037277596319,0.05064293760608272,0.0589089059965375,0.06528329359367266,0.07806432599534703,0.06167486341596907],[0.03990679556864658,0.04801160235705941,0.06592200992647418,0.0724438762682156,0.07553351631009265,0.07774031237796242,0.061809265134899524,0.05737502184109213],[0.07009377300242114,0.0902752235717348,0.09229072257127588,0.06884813040177243,0.05858476174563402,0.05200380765583753,0.035795031057489816,0.032845000885726595],[0.04832972309133779,0.06093701124822502,0.06757123041554115,0.0744679906712058,0.0817443506166905,0.09160481268344967,0.09722211371655001,0.07645948441130318],[0.054029584903375796,0.060576664125002816,0.08784782276779843,0.09640697842601045,0.06614189856624297,0.04028465361300299,0.04802320723133266,0.06592200992647418],[0.07244670938306164,0.0756253816118416,0.07881305662704005,0.06594629743235308,0.059590501260021286,0.053952510653861266,0.051089766720283536,0.06677804247503777],[0.08695923050902438,0.07906827488471566,0.06195291235891444,0.056536409425193536,0.06593296472714903,0.07557050554511037,0.07095502032864448,0.061840436722312],[0.058296690196709175,0.052745980940215445,0.044312292569474,0.05006454602687631,0.07326028244693894,0.08677108714080954,0.07024622745345002,0.054799323304990814],[0.05271331406124853,0.06005726591801462,0.06489880349350463,0.06261653832763231,0.06794868597933612,0.0758568573326016,0.057762658220839765,0.040237418016565524],[0.04110610778804058,0.05202940360446307,0.06546831917657442,0.08424537765523098,0.07845487463271004,0.07192716205733499,0.0787193915846604,0.06811406734329281],[0.0636818355059651,0.07212764080547106,0.08646231619311168,0.09132236643610825,0.07194508619436475,0.055297141650025215,0.04327329421242408,0.03942319784806105],[0.05449661212364541,0.0797494228805949,0.09326435870325842,0.08318344617754798,0.0768297641363795,0.07393332069340566,0.07268949500165085,0.08456252609309373],[0.09131635859271714,0.06481036321848409,0.040170020402933604,0.048019659027402864,0.06592950814629508,0.07269501632131692,0.07864538057432333,0.09220230942115078],[0.08620852962224823,0.06328247954091276,0.03896139898489009,0.0377721396982616,0.05620629398547691,0.07986425150668838,0.08975832445159579,0.070842593567637],[0.05794835117796801,0.06253148956007454,0.07047425807265212,0.07145293521896731,0.058300690893483595,0.04698699105443477,0.04940444683843771,0.054826589754571636],[0.06746620626661422,0.08583132139978689,0.07869735971369245,0.06191899427486937,0.05653532657600959,0.06594454235993337,0.07594760449306642,0.07541823969081345],[0.08026619726126627,0.08180762672230138,0.05629183159817731,0.0384147413392277,0.044529867246041924,0.06223618640943519,0.08190415007886247,0.0854556872771961],[0.06117228343392174,0.045672843681148524,0.05163630337751257,0.07462679574650857,0.08730832807796617,0.06765060154138158,0.05011230548550412,0.04936013781510726],[0.05836064184605022,0.07292975682892769,0.0783853399687236,0.05954658763649028,0.0517418488561308,0.050532370354234205,0.042129757873490783,0.041721017268599635],[0.052259101006992804,0.07713015195155454,0.09313823062991998,0.0764351613920119,0.05476444671933402,0.047387975208033534,0.051196154007579354,0.047360563388854277],[0.0396662659422669,0.04739736382340915,0.06938796355756582,0.08869393321065024,0.07942222140152719,0.061980532663408194,0.056537213049116214,0.06594454235993337],[0.07595030140046796,0.07550985771449045,0.08143066154032533,0.08760984699704862,0.06832687488987427,0.04792980152098132,0.038795517498277025,0.03930037277596319],[0.050645300805245166,0.05899533685154175,0.06650895855577019,0.08568627127446102,0.08407800814633756,0.0704666738634851,0.063555548718057,0.06511568077619674],[0.08114278576945341,0.08929492963733705,0.07063445677327546,0.056980094722116445,0.053427345022845144,0.05720528817000081,0.06587692441727014,0.067020842140985],[0.07646463310677121,0.08554788984053825,0.07366445252107393,0.06592837457890775,0.0568887660052113,0.049342303259129756,0.059231910460948,0.08099559243960812],[0.08868748015540015,0.066106522228358,0.04601447163485303,0.03838097730539661,0.03907321794125635,0.04929759247529027,0.06502989181371219,0.08328700699509353],[0.0899663156387178,0.0716505692548532,0.05527281783175398,0.043272551881851445,0.03942319784806105,0.05449661212364541,0.0797494228805949,0.09326435870325842],[0.08318344617754798,0.0768297641363795,0.07393496880348437,0.07274935095026029,0.08539926370245209,0.0963382841941885,0.07841312271306151,0.05756388979973931],[0.06668684824723971,0.08950595609335113,0.0889856168685906,0.07904243747636219,0.07443851736215513,0.07609465543998292,0.07219883529055883,0.059787682338330934],[0.04835724074422022,0.058929530160114284,0.07835725070849701,0.060767234438256504,0.03157055269281599,0.02319550717009458,0.02783021601969996,0.04337653872211837],[0.06815867045798726,0.08483469059220927,0.07716017848098805,0.0709205545461519,0.05990332482533564,0.043869340994180175,0.0433368756871099,0.06210008070658467],[0.08388570318933716,0.07829770549004668,0.06545108907596396,0.057568801808962906,0.05449392004028924,0.06717832358978597,0.07204742191557537,0.03955080875556546],[0.011268191164991422,0.011130365471053177,0.037345255927860116,0.05903599691316233,0.03540100049067194,0.007869064473518986,0.0006450577652865622,1.9464043822142992e-05]],\"zmax\":1,\"zmin\":0,\"type\":\"heatmap\"}],                        {\"template\":{\"data\":{\"bar\":[{\"error_x\":{\"color\":\"#2a3f5f\"},\"error_y\":{\"color\":\"#2a3f5f\"},\"marker\":{\"line\":{\"color\":\"#E5ECF6\",\"width\":0.5},\"pattern\":{\"fillmode\":\"overlay\",\"size\":10,\"solidity\":0.2}},\"type\":\"bar\"}],\"barpolar\":[{\"marker\":{\"line\":{\"color\":\"#E5ECF6\",\"width\":0.5},\"pattern\":{\"fillmode\":\"overlay\",\"size\":10,\"solidity\":0.2}},\"type\":\"barpolar\"}],\"carpet\":[{\"aaxis\":{\"endlinecolor\":\"#2a3f5f\",\"gridcolor\":\"white\",\"linecolor\":\"white\",\"minorgridcolor\":\"white\",\"startlinecolor\":\"#2a3f5f\"},\"baxis\":{\"endlinecolor\":\"#2a3f5f\",\"gridcolor\":\"white\",\"linecolor\":\"white\",\"minorgridcolor\":\"white\",\"startlinecolor\":\"#2a3f5f\"},\"type\":\"carpet\"}],\"choropleth\":[{\"colorbar\":{\"outlinewidth\":0,\"ticks\":\"\"},\"type\":\"choropleth\"}],\"contour\":[{\"colorbar\":{\"outlinewidth\":0,\"ticks\":\"\"},\"colorscale\":[[0.0,\"#0d0887\"],[0.1111111111111111,\"#46039f\"],[0.2222222222222222,\"#7201a8\"],[0.3333333333333333,\"#9c179e\"],[0.4444444444444444,\"#bd3786\"],[0.5555555555555556,\"#d8576b\"],[0.6666666666666666,\"#ed7953\"],[0.7777777777777778,\"#fb9f3a\"],[0.8888888888888888,\"#fdca26\"],[1.0,\"#f0f921\"]],\"type\":\"contour\"}],\"contourcarpet\":[{\"colorbar\":{\"outlinewidth\":0,\"ticks\":\"\"},\"type\":\"contourcarpet\"}],\"heatmap\":[{\"colorbar\":{\"outlinewidth\":0,\"ticks\":\"\"},\"colorscale\":[[0.0,\"#0d0887\"],[0.1111111111111111,\"#46039f\"],[0.2222222222222222,\"#7201a8\"],[0.3333333333333333,\"#9c179e\"],[0.4444444444444444,\"#bd3786\"],[0.5555555555555556,\"#d8576b\"],[0.6666666666666666,\"#ed7953\"],[0.7777777777777778,\"#fb9f3a\"],[0.8888888888888888,\"#fdca26\"],[1.0,\"#f0f921\"]],\"type\":\"heatmap\"}],\"heatmapgl\":[{\"colorbar\":{\"outlinewidth\":0,\"ticks\":\"\"},\"colorscale\":[[0.0,\"#0d0887\"],[0.1111111111111111,\"#46039f\"],[0.2222222222222222,\"#7201a8\"],[0.3333333333333333,\"#9c179e\"],[0.4444444444444444,\"#bd3786\"],[0.5555555555555556,\"#d8576b\"],[0.6666666666666666,\"#ed7953\"],[0.7777777777777778,\"#fb9f3a\"],[0.8888888888888888,\"#fdca26\"],[1.0,\"#f0f921\"]],\"type\":\"heatmapgl\"}],\"histogram\":[{\"marker\":{\"pattern\":{\"fillmode\":\"overlay\",\"size\":10,\"solidity\":0.2}},\"type\":\"histogram\"}],\"histogram2d\":[{\"colorbar\":{\"outlinewidth\":0,\"ticks\":\"\"},\"colorscale\":[[0.0,\"#0d0887\"],[0.1111111111111111,\"#46039f\"],[0.2222222222222222,\"#7201a8\"],[0.3333333333333333,\"#9c179e\"],[0.4444444444444444,\"#bd3786\"],[0.5555555555555556,\"#d8576b\"],[0.6666666666666666,\"#ed7953\"],[0.7777777777777778,\"#fb9f3a\"],[0.8888888888888888,\"#fdca26\"],[1.0,\"#f0f921\"]],\"type\":\"histogram2d\"}],\"histogram2dcontour\":[{\"colorbar\":{\"outlinewidth\":0,\"ticks\":\"\"},\"colorscale\":[[0.0,\"#0d0887\"],[0.1111111111111111,\"#46039f\"],[0.2222222222222222,\"#7201a8\"],[0.3333333333333333,\"#9c179e\"],[0.4444444444444444,\"#bd3786\"],[0.5555555555555556,\"#d8576b\"],[0.6666666666666666,\"#ed7953\"],[0.7777777777777778,\"#fb9f3a\"],[0.8888888888888888,\"#fdca26\"],[1.0,\"#f0f921\"]],\"type\":\"histogram2dcontour\"}],\"mesh3d\":[{\"colorbar\":{\"outlinewidth\":0,\"ticks\":\"\"},\"type\":\"mesh3d\"}],\"parcoords\":[{\"line\":{\"colorbar\":{\"outlinewidth\":0,\"ticks\":\"\"}},\"type\":\"parcoords\"}],\"pie\":[{\"automargin\":true,\"type\":\"pie\"}],\"scatter\":[{\"marker\":{\"colorbar\":{\"outlinewidth\":0,\"ticks\":\"\"}},\"type\":\"scatter\"}],\"scatter3d\":[{\"line\":{\"colorbar\":{\"outlinewidth\":0,\"ticks\":\"\"}},\"marker\":{\"colorbar\":{\"outlinewidth\":0,\"ticks\":\"\"}},\"type\":\"scatter3d\"}],\"scattercarpet\":[{\"marker\":{\"colorbar\":{\"outlinewidth\":0,\"ticks\":\"\"}},\"type\":\"scattercarpet\"}],\"scattergeo\":[{\"marker\":{\"colorbar\":{\"outlinewidth\":0,\"ticks\":\"\"}},\"type\":\"scattergeo\"}],\"scattergl\":[{\"marker\":{\"colorbar\":{\"outlinewidth\":0,\"ticks\":\"\"}},\"type\":\"scattergl\"}],\"scattermapbox\":[{\"marker\":{\"colorbar\":{\"outlinewidth\":0,\"ticks\":\"\"}},\"type\":\"scattermapbox\"}],\"scatterpolar\":[{\"marker\":{\"colorbar\":{\"outlinewidth\":0,\"ticks\":\"\"}},\"type\":\"scatterpolar\"}],\"scatterpolargl\":[{\"marker\":{\"colorbar\":{\"outlinewidth\":0,\"ticks\":\"\"}},\"type\":\"scatterpolargl\"}],\"scatterternary\":[{\"marker\":{\"colorbar\":{\"outlinewidth\":0,\"ticks\":\"\"}},\"type\":\"scatterternary\"}],\"surface\":[{\"colorbar\":{\"outlinewidth\":0,\"ticks\":\"\"},\"colorscale\":[[0.0,\"#0d0887\"],[0.1111111111111111,\"#46039f\"],[0.2222222222222222,\"#7201a8\"],[0.3333333333333333,\"#9c179e\"],[0.4444444444444444,\"#bd3786\"],[0.5555555555555556,\"#d8576b\"],[0.6666666666666666,\"#ed7953\"],[0.7777777777777778,\"#fb9f3a\"],[0.8888888888888888,\"#fdca26\"],[1.0,\"#f0f921\"]],\"type\":\"surface\"}],\"table\":[{\"cells\":{\"fill\":{\"color\":\"#EBF0F8\"},\"line\":{\"color\":\"white\"}},\"header\":{\"fill\":{\"color\":\"#C8D4E3\"},\"line\":{\"color\":\"white\"}},\"type\":\"table\"}]},\"layout\":{\"annotationdefaults\":{\"arrowcolor\":\"#2a3f5f\",\"arrowhead\":0,\"arrowwidth\":1},\"autotypenumbers\":\"strict\",\"coloraxis\":{\"colorbar\":{\"outlinewidth\":0,\"ticks\":\"\"}},\"colorscale\":{\"diverging\":[[0,\"#8e0152\"],[0.1,\"#c51b7d\"],[0.2,\"#de77ae\"],[0.3,\"#f1b6da\"],[0.4,\"#fde0ef\"],[0.5,\"#f7f7f7\"],[0.6,\"#e6f5d0\"],[0.7,\"#b8e186\"],[0.8,\"#7fbc41\"],[0.9,\"#4d9221\"],[1,\"#276419\"]],\"sequential\":[[0.0,\"#0d0887\"],[0.1111111111111111,\"#46039f\"],[0.2222222222222222,\"#7201a8\"],[0.3333333333333333,\"#9c179e\"],[0.4444444444444444,\"#bd3786\"],[0.5555555555555556,\"#d8576b\"],[0.6666666666666666,\"#ed7953\"],[0.7777777777777778,\"#fb9f3a\"],[0.8888888888888888,\"#fdca26\"],[1.0,\"#f0f921\"]],\"sequentialminus\":[[0.0,\"#0d0887\"],[0.1111111111111111,\"#46039f\"],[0.2222222222222222,\"#7201a8\"],[0.3333333333333333,\"#9c179e\"],[0.4444444444444444,\"#bd3786\"],[0.5555555555555556,\"#d8576b\"],[0.6666666666666666,\"#ed7953\"],[0.7777777777777778,\"#fb9f3a\"],[0.8888888888888888,\"#fdca26\"],[1.0,\"#f0f921\"]]},\"colorway\":[\"#636efa\",\"#EF553B\",\"#00cc96\",\"#ab63fa\",\"#FFA15A\",\"#19d3f3\",\"#FF6692\",\"#B6E880\",\"#FF97FF\",\"#FECB52\"],\"font\":{\"color\":\"#2a3f5f\"},\"geo\":{\"bgcolor\":\"white\",\"lakecolor\":\"white\",\"landcolor\":\"#E5ECF6\",\"showlakes\":true,\"showland\":true,\"subunitcolor\":\"white\"},\"hoverlabel\":{\"align\":\"left\"},\"hovermode\":\"closest\",\"mapbox\":{\"style\":\"light\"},\"paper_bgcolor\":\"white\",\"plot_bgcolor\":\"#E5ECF6\",\"polar\":{\"angularaxis\":{\"gridcolor\":\"white\",\"linecolor\":\"white\",\"ticks\":\"\"},\"bgcolor\":\"#E5ECF6\",\"radialaxis\":{\"gridcolor\":\"white\",\"linecolor\":\"white\",\"ticks\":\"\"}},\"scene\":{\"xaxis\":{\"backgroundcolor\":\"#E5ECF6\",\"gridcolor\":\"white\",\"gridwidth\":2,\"linecolor\":\"white\",\"showbackground\":true,\"ticks\":\"\",\"zerolinecolor\":\"white\"},\"yaxis\":{\"backgroundcolor\":\"#E5ECF6\",\"gridcolor\":\"white\",\"gridwidth\":2,\"linecolor\":\"white\",\"showbackground\":true,\"ticks\":\"\",\"zerolinecolor\":\"white\"},\"zaxis\":{\"backgroundcolor\":\"#E5ECF6\",\"gridcolor\":\"white\",\"gridwidth\":2,\"linecolor\":\"white\",\"showbackground\":true,\"ticks\":\"\",\"zerolinecolor\":\"white\"}},\"shapedefaults\":{\"line\":{\"color\":\"#2a3f5f\"}},\"ternary\":{\"aaxis\":{\"gridcolor\":\"white\",\"linecolor\":\"white\",\"ticks\":\"\"},\"baxis\":{\"gridcolor\":\"white\",\"linecolor\":\"white\",\"ticks\":\"\"},\"bgcolor\":\"#E5ECF6\",\"caxis\":{\"gridcolor\":\"white\",\"linecolor\":\"white\",\"ticks\":\"\"}},\"title\":{\"x\":0.05},\"xaxis\":{\"automargin\":true,\"gridcolor\":\"white\",\"linecolor\":\"white\",\"ticks\":\"\",\"title\":{\"standoff\":15},\"zerolinecolor\":\"white\",\"zerolinewidth\":2},\"yaxis\":{\"automargin\":true,\"gridcolor\":\"white\",\"linecolor\":\"white\",\"ticks\":\"\",\"title\":{\"standoff\":15},\"zerolinecolor\":\"white\",\"zerolinewidth\":2}}},\"font\":{\"family\":\"Courier New\"},\"height\":14084,\"width\":1000,\"yaxis\":{\"autorange\":\"reversed\"}},                        {\"responsive\": true}                    ).then(function(){\n",
              "                            \n",
              "var gd = document.getElementById('0f27637f-8faa-4255-9323-186bf965b786');\n",
              "var x = new MutationObserver(function (mutations, observer) {{\n",
              "        var display = window.getComputedStyle(gd).display;\n",
              "        if (!display || display === 'none') {{\n",
              "            console.log([gd, 'removed!']);\n",
              "            Plotly.purge(gd);\n",
              "            observer.disconnect();\n",
              "        }}\n",
              "}});\n",
              "\n",
              "// Listen for the removal of the full notebook cells\n",
              "var notebookContainer = gd.closest('#notebook-container');\n",
              "if (notebookContainer) {{\n",
              "    x.observe(notebookContainer, {childList: true});\n",
              "}}\n",
              "\n",
              "// Listen for the clearing of the current output cell\n",
              "var outputEl = gd.closest('.output');\n",
              "if (outputEl) {{\n",
              "    x.observe(outputEl, {childList: true});\n",
              "}}\n",
              "\n",
              "                        })                };                            </script>        </div>\n",
              "</body>\n",
              "</html>"
            ]
          },
          "metadata": {}
        }
      ]
    },
    {
      "cell_type": "code",
      "source": [
        "!jupyter nbconvert --to html \"I068_nlp_ngram_plag_model_1.ipynb\""
      ],
      "metadata": {
        "colab": {
          "base_uri": "https://localhost:8080/"
        },
        "id": "VbNuvxN0mDte",
        "outputId": "a4099195-8511-4a91-bc19-eec290346cf4"
      },
      "execution_count": null,
      "outputs": [
        {
          "output_type": "stream",
          "name": "stdout",
          "text": [
            "[NbConvertApp] Converting notebook I068_nlp_ngram_plag_model_1.ipynb to html\n",
            "[NbConvertApp] Writing 644941 bytes to I068_nlp_ngram_plag_model_1.html\n"
          ]
        }
      ]
    }
  ]
}
