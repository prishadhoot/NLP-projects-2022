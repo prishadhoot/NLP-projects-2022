{
  "nbformat": 4,
  "nbformat_minor": 0,
  "metadata": {
    "colab": {
      "provenance": []
    },
    "kernelspec": {
      "name": "python3",
      "display_name": "Python 3"
    },
    "language_info": {
      "name": "python"
    }
  },
  "cells": [
    {
      "cell_type": "markdown",
      "source": [
        "#Detecting Plagiarism using ngrams"
      ],
      "metadata": {
        "id": "HKYuuxOIP6ub"
      }
    },
    {
      "cell_type": "markdown",
      "source": [
        "### Importing main libraries"
      ],
      "metadata": {
        "id": "EZ7UBj4sQfNc"
      }
    },
    {
      "cell_type": "code",
      "execution_count": null,
      "metadata": {
        "id": "AZ7j_N3VPiJj"
      },
      "outputs": [],
      "source": [
        "import numpy as np\n",
        "import pandas as pd\n",
        "import nltk\n",
        "from nltk.util import ngrams, pad_sequence, everygrams\n",
        "from nltk.tokenize import word_tokenize\n",
        "from nltk.corpus import stopwords\n",
        "import re"
      ]
    },
    {
      "cell_type": "code",
      "source": [
        "from pydrive.auth import GoogleAuth\n",
        "from pydrive.drive import GoogleDrive\n",
        "from google.colab import auth\n",
        "from oauth2client.client import GoogleCredentials"
      ],
      "metadata": {
        "id": "MIahPOxmV26W"
      },
      "execution_count": null,
      "outputs": []
    },
    {
      "cell_type": "code",
      "source": [
        "from google.colab import drive\n",
        "drive.mount('/content/gdrive')"
      ],
      "metadata": {
        "colab": {
          "base_uri": "https://localhost:8080/"
        },
        "id": "6jLtMD2PRgaL",
        "outputId": "f18d5022-2445-4755-edff-a9223ea6fc85"
      },
      "execution_count": null,
      "outputs": [
        {
          "output_type": "stream",
          "name": "stdout",
          "text": [
            "Mounted at /content/gdrive\n"
          ]
        }
      ]
    },
    {
      "cell_type": "code",
      "source": [
        "pip install wikipedia"
      ],
      "metadata": {
        "colab": {
          "base_uri": "https://localhost:8080/"
        },
        "id": "-ReSJDKlZ3uB",
        "outputId": "3b7c066e-1313-47f1-9137-b82240017f06"
      },
      "execution_count": null,
      "outputs": [
        {
          "output_type": "stream",
          "name": "stdout",
          "text": [
            "Looking in indexes: https://pypi.org/simple, https://us-python.pkg.dev/colab-wheels/public/simple/\n",
            "Collecting wikipedia\n",
            "  Downloading wikipedia-1.4.0.tar.gz (27 kB)\n",
            "Requirement already satisfied: beautifulsoup4 in /usr/local/lib/python3.7/dist-packages (from wikipedia) (4.6.3)\n",
            "Requirement already satisfied: requests<3.0.0,>=2.0.0 in /usr/local/lib/python3.7/dist-packages (from wikipedia) (2.23.0)\n",
            "Requirement already satisfied: certifi>=2017.4.17 in /usr/local/lib/python3.7/dist-packages (from requests<3.0.0,>=2.0.0->wikipedia) (2022.9.24)\n",
            "Requirement already satisfied: idna<3,>=2.5 in /usr/local/lib/python3.7/dist-packages (from requests<3.0.0,>=2.0.0->wikipedia) (2.10)\n",
            "Requirement already satisfied: chardet<4,>=3.0.2 in /usr/local/lib/python3.7/dist-packages (from requests<3.0.0,>=2.0.0->wikipedia) (3.0.4)\n",
            "Requirement already satisfied: urllib3!=1.25.0,!=1.25.1,<1.26,>=1.21.1 in /usr/local/lib/python3.7/dist-packages (from requests<3.0.0,>=2.0.0->wikipedia) (1.24.3)\n",
            "Building wheels for collected packages: wikipedia\n",
            "  Building wheel for wikipedia (setup.py) ... \u001b[?25l\u001b[?25hdone\n",
            "  Created wheel for wikipedia: filename=wikipedia-1.4.0-py3-none-any.whl size=11695 sha256=4fe20c7f982e3fc9f84aef5e676684b8da1d3a8f521d154cab937487ec30f29b\n",
            "  Stored in directory: /root/.cache/pip/wheels/15/93/6d/5b2c68b8a64c7a7a04947b4ed6d89fb557dcc6bc27d1d7f3ba\n",
            "Successfully built wikipedia\n",
            "Installing collected packages: wikipedia\n",
            "Successfully installed wikipedia-1.4.0\n"
          ]
        }
      ]
    },
    {
      "cell_type": "markdown",
      "source": [
        "### Initializing Training data file"
      ],
      "metadata": {
        "id": "OldrksopQoQ9"
      }
    },
    {
      "cell_type": "code",
      "source": [
        "# importing the module\n",
        "import wikipedia"
      ],
      "metadata": {
        "id": "DrRgapF0ZRjg"
      },
      "execution_count": null,
      "outputs": []
    },
    {
      "cell_type": "code",
      "source": [
        "tp = input(\"Enter word string \")\n",
        "tp"
      ],
      "metadata": {
        "colab": {
          "base_uri": "https://localhost:8080/",
          "height": 53
        },
        "id": "r2sUI772aFVE",
        "outputId": "22092ee3-0b24-474a-aeb6-60e0278e910f"
      },
      "execution_count": null,
      "outputs": [
        {
          "name": "stdout",
          "output_type": "stream",
          "text": [
            "Enter word string Natural Language Processing\n"
          ]
        },
        {
          "output_type": "execute_result",
          "data": {
            "text/plain": [
              "'Natural Language Processing'"
            ],
            "application/vnd.google.colaboratory.intrinsic+json": {
              "type": "string"
            }
          },
          "metadata": {},
          "execution_count": 6
        }
      ]
    },
    {
      "cell_type": "code",
      "source": [
        "result = wikipedia.search(tp)\n",
        "print(result)"
      ],
      "metadata": {
        "colab": {
          "base_uri": "https://localhost:8080/"
        },
        "id": "5o8K3l5Df6ye",
        "outputId": "cb0b41ed-e3fc-45d3-bd09-db6105a635f0"
      },
      "execution_count": null,
      "outputs": [
        {
          "output_type": "stream",
          "name": "stdout",
          "text": [
            "['Natural language processing', 'Natural language', 'Outline of natural language processing', 'Natural-language understanding', 'Natural Language Toolkit', 'Natural-language user interface', 'History of natural language processing', 'BERT (language model)', 'Natural language generation', 'Controlled natural language']\n"
          ]
        }
      ]
    },
    {
      "cell_type": "code",
      "source": [
        "# wikipedia page object is created\n",
        "page_object = wikipedia.page(tp)\n",
        "page_object"
      ],
      "metadata": {
        "colab": {
          "base_uri": "https://localhost:8080/"
        },
        "id": "dKcgdnClZWf_",
        "outputId": "4f4b9da6-fa2c-4df0-eef1-1fe7bb4cb755"
      },
      "execution_count": null,
      "outputs": [
        {
          "output_type": "execute_result",
          "data": {
            "text/plain": [
              "<WikipediaPage 'Natural language processing'>"
            ]
          },
          "metadata": {},
          "execution_count": 8
        }
      ]
    },
    {
      "cell_type": "code",
      "source": [
        "ptrain = page_object.content\n",
        "ptrain"
      ],
      "metadata": {
        "id": "cnS_0oM5bWtG",
        "colab": {
          "base_uri": "https://localhost:8080/",
          "height": 178
        },
        "outputId": "8f0a60fb-96af-4d14-db44-98c65b948ddd"
      },
      "execution_count": null,
      "outputs": [
        {
          "output_type": "execute_result",
          "data": {
            "text/plain": [
              "'Natural language processing (NLP) is a subfield of linguistics, computer science, and artificial intelligence concerned with the interactions between computers and human language, in particular how to program computers to process and analyze large amounts of natural language data.  The goal is a computer capable of \"understanding\" the contents of documents, including the contextual nuances of the language within them. The technology can then accurately extract information and insights contained in the documents as well as categorize and organize the documents themselves.\\nChallenges in natural language processing frequently involve speech recognition, natural-language understanding, and natural-language generation.\\n\\n\\n== History ==\\n\\nNatural language processing has its roots in the 1950s. Already in 1950, Alan Turing published an article titled \"Computing Machinery and Intelligence\" which proposed what is now called the Turing test as a criterion of intelligence, though at the time that was not articulated as a problem separate from artificial intelligence. The proposed test includes a task that involves the automated interpretation and generation of natural language.\\n\\n\\n=== Symbolic NLP (1950s – early 1990s) ===\\nThe premise of symbolic NLP is well-summarized by John Searle\\'s Chinese room experiment: Given a collection of rules (e.g., a Chinese phrasebook, with questions and matching answers), the computer emulates natural language understanding (or other NLP tasks) by applying those rules to the data it confronts.\\n\\n1950s: The Georgetown experiment in 1954 involved fully automatic translation of more than sixty Russian sentences into English. The authors claimed that within three or five years, machine translation would be a solved problem.  However, real progress was much slower, and after the ALPAC report in 1966, which found that ten-year-long research had failed to fulfill the expectations, funding for machine translation was dramatically reduced.  Little further research in machine translation was conducted until the late 1980s when the first statistical machine translation systems were developed.\\n1960s: Some notably successful natural language processing systems developed in the 1960s were SHRDLU, a natural language system working in restricted \"blocks worlds\" with restricted vocabularies, and ELIZA, a simulation of a Rogerian psychotherapist, written by Joseph Weizenbaum between 1964 and 1966.  Using almost no information about human thought or emotion, ELIZA sometimes provided a startlingly human-like interaction. When the \"patient\" exceeded the very small knowledge base, ELIZA might provide a generic response, for example, responding to \"My head hurts\" with \"Why do you say your head hurts?\".\\n1970s: During the 1970s, many programmers began to write \"conceptual ontologies\", which structured real-world information into computer-understandable data.  Examples are MARGIE (Schank, 1975), SAM (Cullingford, 1978), PAM (Wilensky, 1978), TaleSpin (Meehan, 1976), QUALM (Lehnert, 1977), Politics (Carbonell, 1979), and Plot Units (Lehnert 1981).  During this time, the first chatterbots were written (e.g., PARRY).\\n1980s: The 1980s and early 1990s mark the heyday of symbolic methods in NLP. Focus areas of the time included research on rule-based parsing (e.g., the development of HPSG as a computational operationalization of generative grammar), morphology (e.g., two-level morphology), semantics (e.g., Lesk algorithm), reference (e.g., within Centering Theory) and other areas of natural language understanding (e.g., in the Rhetorical Structure Theory). Other lines of research were continued, e.g., the development of chatterbots with Racter and Jabberwacky. An important development (that eventually led to the statistical turn in the 1990s) was the rising importance of quantitative evaluation in this period.\\n\\n\\n=== Statistical NLP (1990s–2010s) ===\\nUp to the 1980s, most natural language processing systems were based on complex sets of hand-written rules.  Starting in the late 1980s, however, there was a revolution in natural language processing with the introduction of machine learning algorithms for language processing.  This was due to both the steady increase in computational power (see Moore\\'s law) and the gradual lessening of the dominance of Chomskyan theories of linguistics (e.g. transformational grammar), whose theoretical underpinnings discouraged the sort of corpus linguistics that underlies the machine-learning approach to language processing.\\n1990s: Many of the notable early successes on statistical methods in NLP occurred in the field of machine translation, due especially to work at IBM Research.  These systems were able to take advantage of existing multilingual textual corpora that had been produced by the Parliament of Canada and the European Union as a result of laws calling for the translation of all governmental proceedings into all official languages of the corresponding systems of government.  However, most other systems depended on corpora specifically developed for the tasks implemented by these systems, which was (and often continues to be) a major limitation in the success of these systems. As a result, a great deal of research has gone into methods of more effectively learning from limited amounts of data.\\n2000s: With the growth of the web, increasing amounts of raw (unannotated) language data has become available since the mid-1990s. Research has thus increasingly focused on unsupervised and semi-supervised learning algorithms.  Such algorithms can learn from data that has not been hand-annotated with the desired answers or using a combination of annotated and non-annotated data.  Generally, this task is much more difficult than supervised learning, and typically produces less accurate results for a given amount of input data.  However, there is an enormous amount of non-annotated data available (including, among other things, the entire content of the World Wide Web), which can often make up for the inferior results if the algorithm used has a low enough time complexity to be practical.\\n\\n\\n=== Neural NLP (present) ===\\nIn the 2010s, representation learning and deep neural network-style machine learning methods became widespread in natural language processing. That popularity was due partly to a flurry of results showing that such techniques can achieve state-of-the-art results in many natural language tasks, e.g., in language modeling and parsing. This is increasingly important in medicine and healthcare, where NLP helps analyze notes and text in electronic health records that would otherwise be inaccessible for study when seeking to improve care.\\n\\n\\n== Methods: Rules, statistics, neural networks ==\\nIn the early days, many language-processing systems were designed by symbolic methods, i.e., the hand-coding of a set of rules, coupled with a dictionary lookup: such as by writing grammars or devising heuristic rules for stemming.\\nMore recent systems based on machine-learning algorithms have many advantages over hand-produced rules: \\n\\nThe learning procedures used during machine learning automatically focus on the most common cases, whereas when writing rules by hand it is often not at all obvious where the effort should be directed.\\nAutomatic learning procedures can make use of statistical inference algorithms to produce models that are robust to unfamiliar input (e.g. containing words or structures that have not been seen before) and to erroneous input (e.g. with misspelled words or words accidentally omitted). Generally, handling such input gracefully with handwritten rules, or, more generally, creating systems of handwritten rules that make soft decisions, is extremely difficult, error-prone and time-consuming.\\nSystems based on automatically learning the rules can be made more accurate simply by supplying more input data. However, systems based on handwritten rules can only be made more accurate by increasing the complexity of the rules, which is a much more difficult task. In particular, there is a limit to the complexity of systems based on handwritten rules, beyond which the systems become more and more unmanageable. However, creating more data to input to machine-learning systems simply requires a corresponding increase in the number of man-hours worked, generally without significant increases in the complexity of the annotation process.Despite the popularity of machine learning in NLP research, symbolic methods are still (2020) commonly used:\\n\\nwhen the amount of training data is insufficient to successfully apply machine learning methods, e.g., for the machine translation of low-resource languages such as provided by the Apertium system,\\nfor preprocessing in NLP pipelines, e.g., tokenization, or\\nfor postprocessing and transforming the output of NLP pipelines, e.g., for knowledge extraction from syntactic parses.\\n\\n\\n=== Statistical methods ===\\nSince the so-called \"statistical revolution\" in the late 1980s and mid-1990s, much natural language processing research has relied heavily on machine learning. The machine-learning paradigm calls instead for using statistical inference to automatically learn such rules through the analysis of large corpora (the plural form of corpus, is a set of documents, possibly with human or computer annotations) of typical real-world examples.\\nMany different classes of machine-learning algorithms have been applied to natural-language-processing tasks. These algorithms take as input a large set of \"features\" that are generated from the input data. Increasingly, however, research has focused on statistical models, which make soft, probabilistic decisions based on attaching real-valued weights to each input feature (complex-valued embeddings, and neural networks in general have also been proposed, for e.g. speech). Such models have the advantage that they can express the relative certainty of many different possible answers rather than only one, producing more reliable results when such a model is included as a component of a larger system.\\nSome of the earliest-used machine learning algorithms, such as decision trees, produced systems of hard if-then rules similar to existing hand-written rules.  However, part-of-speech tagging introduced the use of hidden Markov models to natural language processing, and increasingly, research has focused on statistical models, which make soft, probabilistic decisions based on attaching real-valued weights to the features making up the input data. The cache language models upon which many speech recognition systems now rely are examples of such statistical models.  Such models are generally more robust when given unfamiliar input, especially input that contains errors (as is very common for real-world data), and produce more reliable results when integrated into a larger system comprising multiple subtasks.\\nSince the neural turn, statistical methods in NLP research have been largely replaced by neural networks. However, they continue to be relevant for contexts in which statistical interpretability and transparency is required.\\n\\n\\n=== Neural networks ===\\n\\nA major drawback of statistical methods is that they require elaborate feature engineering. Since 2015, the field has thus largely abandoned statistical methods and shifted to neural networks for machine learning. Popular techniques include the use of word embeddings to capture semantic properties of words, and an increase in end-to-end learning of a higher-level task (e.g., question answering) instead of relying on a pipeline of separate intermediate tasks (e.g., part-of-speech tagging and dependency parsing). In some areas, this shift has entailed substantial changes in how NLP systems are designed, such that deep neural network-based approaches may be viewed as a new paradigm distinct from statistical natural language processing. For instance, the term neural machine translation (NMT) emphasizes the fact that deep learning-based approaches to machine translation directly learn sequence-to-sequence transformations, obviating the need for intermediate steps such as word alignment and language modeling that was used in statistical machine translation (SMT).\\n\\n\\n== Common NLP tasks ==\\nThe following is a list of some of the most commonly researched tasks in natural language processing. Some of these tasks have direct real-world applications, while others more commonly serve as subtasks that are used to aid in solving larger tasks.\\nThough natural language processing tasks are closely intertwined, they can be subdivided into categories for convenience. A coarse division is given below.\\n\\n\\n=== Text and speech processing ===\\nOptical character recognition (OCR)\\nGiven an image representing printed text, determine the corresponding text.Speech recognition\\nGiven a sound clip of a person or people speaking, determine the textual representation of the speech.  This is the opposite of text to speech and is one of the extremely difficult problems colloquially termed \"AI-complete\" (see above).  In natural speech there are hardly any pauses between successive words, and thus speech segmentation is a necessary subtask of speech recognition (see below). In most spoken languages, the sounds representing successive letters blend into each other in a process termed coarticulation, so the conversion of the analog signal to discrete characters can be a very difficult process. Also, given that words in the same language are spoken by people with different accents, the speech recognition software must be able to recognize the wide variety of input as being identical to each other in terms of its textual equivalent.\\nSpeech segmentation\\nGiven a sound clip of a person or people speaking, separate it into words.  A subtask of speech recognition and typically grouped with it.Text-to-speech\\nGiven a text, transform those units and produce a spoken representation. Text-to-speech can be used to aid the visually impaired.Word segmentation (Tokenization)\\nSeparate a chunk of continuous text into separate words. For a language like English, this is fairly trivial, since words are usually separated by spaces. However, some written languages like Chinese, Japanese and Thai do not mark word boundaries in such a fashion, and in those languages text segmentation is a significant task requiring knowledge of the vocabulary and morphology of words in the language. Sometimes this process is also used in cases like bag of words (BOW) creation in data mining.\\n\\n\\n=== Morphological analysis ===\\nLemmatization\\nThe task of removing inflectional endings only and to return the base dictionary form of a word which is also known as a lemma. Lemmatization is another technique for reducing words to their normalized form. But in this case, the transformation actually uses a dictionary to map words to their actual form.\\nMorphological segmentation\\nSeparate words into individual morphemes and identify the class of the morphemes. The difficulty of this task depends greatly on the complexity of the morphology (i.e., the structure of words) of the language being considered. English has fairly simple morphology, especially inflectional morphology, and thus it is often possible to ignore this task entirely and simply model all possible forms of a word (e.g., \"open, opens, opened, opening\") as separate words. In languages such as Turkish or Meitei, a highly agglutinated Indian language, however, such an approach is not possible, as each dictionary entry has thousands of possible word forms.\\nPart-of-speech tagging\\nGiven a sentence, determine the part of speech (POS) for each word. Many words, especially common ones, can serve as multiple parts of speech. For example, \"book\" can be a noun (\"the book on the table\") or verb (\"to book a flight\"); \"set\" can be a noun, verb or adjective; and \"out\" can be any of at least five different parts of speech.Stemming\\nThe process of reducing inflected (or sometimes derived) words to a base form (e.g., \"close\" will be the root for \"closed\", \"closing\", \"close\", \"closer\" etc.). Stemming yields similar results as lemmatization, but does so on grounds of rules, not a dictionary.\\n\\n\\n=== Syntactic analysis ===\\nGrammar induction\\nGenerate a formal grammar that describes a language\\'s syntax.\\nSentence breaking (also known as \"sentence boundary disambiguation\")\\nGiven a chunk of text, find the sentence boundaries. Sentence boundaries are often marked by periods or other punctuation marks, but these same characters can serve other purposes (e.g., marking abbreviations).\\nParsing\\nDetermine the parse tree (grammatical analysis) of a given sentence. The grammar for natural languages is ambiguous and typical sentences have multiple possible analyses: perhaps surprisingly, for a typical sentence there may be thousands of potential parses (most of which will seem completely nonsensical to a human). There are two primary types of parsing: dependency parsing and constituency parsing. Dependency parsing focuses on the relationships between words in a sentence (marking things like primary objects and predicates), whereas constituency parsing focuses on building out the parse tree using a probabilistic context-free grammar (PCFG) (see also stochastic grammar).\\n\\n\\n=== Lexical semantics (of individual words in context) ===\\nLexical semantics\\nWhat is the computational meaning of individual words in context?\\nDistributional semantics\\nHow can we learn semantic representations from data?\\nNamed entity recognition (NER)\\nGiven a stream of text, determine which items in the text map to proper names, such as people or places, and what the type of each such name is (e.g. person, location, organization). Although capitalization can aid in recognizing named entities in languages such as English, this information cannot aid in determining the type of named entity, and in any case, is often inaccurate or insufficient.  For example, the first letter of a sentence is also capitalized, and named entities often span several words, only some of which are capitalized.  Furthermore, many other languages in non-Western scripts (e.g. Chinese or Arabic) do not have any capitalization at all, and even languages with capitalization may not consistently use it to distinguish names. For example, German capitalizes all nouns, regardless of whether they are names, and French and Spanish do not capitalize names that serve as adjectives.Sentiment analysis (see also Multimodal sentiment analysis)\\nExtract subjective information usually from a set of documents, often using online reviews to determine \"polarity\" about specific objects. It is especially useful for identifying trends of public opinion in social media, for marketing.\\nTerminology extraction\\nThe goal of terminology extraction is to automatically extract relevant terms from a given corpus.\\nWord-sense disambiguation (WSD)\\nMany words have more than one meaning; we have to select the meaning which makes the most sense in context.  For this problem, we are typically given a list of words and associated word senses, e.g. from a dictionary or an online resource such as WordNet.\\nEntity linking\\nMany words—typically proper names—refer to named entities; here we have to select the entity (a famous individual, a location, a company, etc.) which is referred to in context.\\n\\n\\n=== Relational semantics (semantics of individual sentences) ===\\nRelationship extraction\\nGiven a chunk of text, identify the relationships among named entities (e.g. who is married to whom).\\nSemantic parsing\\nGiven a piece of text (typically a sentence), produce a formal representation of its semantics, either as a graph (e.g., in AMR parsing) or in accordance with a logical formalism (e.g., in DRT parsing). This challenge typically includes aspects of several more elementary NLP tasks from semantics (e.g., semantic role labelling, word-sense disambiguation) and can be extended to include full-fledged discourse analysis (e.g., discourse analysis, coreference; see Natural language understanding below).\\nSemantic role labelling (see also implicit semantic role labelling below)\\nGiven a single sentence, identify and disambiguate semantic predicates (e.g., verbal frames), then identify and classify the frame elements (semantic roles).\\n\\n\\n=== Discourse (semantics beyond individual sentences) ===\\nCoreference resolution\\nGiven a sentence or larger chunk of text, determine which words (\"mentions\") refer to the same objects (\"entities\"). Anaphora resolution is a specific example of this task, and is specifically concerned with matching up pronouns with the nouns or names to which they refer. The more general task of coreference resolution also includes identifying so-called \"bridging relationships\" involving referring expressions. For example, in a sentence such as \"He entered John\\'s house through the front door\", \"the front door\" is a referring expression and the bridging relationship to be identified is the fact that the door being referred to is the front door of John\\'s house (rather than of some other structure that might also be referred to).\\nDiscourse analysis\\nThis rubric includes several related tasks.  One task is discourse parsing, i.e., identifying the discourse structure of a connected text, i.e. the nature of the discourse relationships between sentences (e.g. elaboration, explanation, contrast).  Another possible task is recognizing and classifying the speech acts in a chunk of text (e.g. yes-no question, content question, statement, assertion, etc.).Implicit semantic role labelling\\nGiven a single sentence, identify and disambiguate semantic predicates (e.g., verbal frames) and their explicit semantic roles in the current sentence (see Semantic role labelling above). Then, identify semantic roles that are not explicitly realized in the current sentence, classify them into arguments that are explicitly realized elsewhere in the text and those that are not specified, and resolve the former against the local text. A closely related task is zero anaphora resolution, i.e., the extension of coreference resolution to pro-drop languages.Recognizing textual entailment\\nGiven two text fragments, determine if one being true entails the other, entails the other\\'s negation, or allows the other to be either true or false.Topic segmentation and recognition\\nGiven a chunk of text, separate it into segments each of which is devoted to a topic, and identify the topic of the segment.Argument mining\\nThe goal of argument mining is the automatic extraction and identification of argumentative structures from natural language text with the aid of computer programs. Such argumentative structures include the premise, conclusions, the argument scheme and the relationship between the main and subsidiary argument, or the main and counter-argument within discourse.\\n\\n\\n=== Higher-level NLP applications ===\\nAutomatic summarization (text summarization)\\nProduce a readable summary of a chunk of text.  Often used to provide summaries of the text of a known type, such as research papers, articles in the financial section of a newspaper.\\nBook generation\\nNot an NLP task proper but an extension of natural language generation and other NLP tasks is the creation of full-fledged books. The first machine-generated book was created by a rule-based system in 1984 (Racter, The policeman\\'s beard is half-constructed). The first published work by a neural network was published in 2018, 1 the Road, marketed as a novel, contains sixty million words. Both these systems are basically elaborate but non-sensical (semantics-free) language models. The first machine-generated science book was published in 2019 (Beta Writer, Lithium-Ion Batteries, Springer, Cham). Unlike Racter and 1 the Road, this is grounded on factual knowledge and based on text summarization.\\nDialogue management\\nComputer systems intended to converse with a human.\\nDocument AI\\nA Document AI platform sits on top of the NLP technology enabling users with no prior experience of artificial intelligence, machine learning or NLP to quickly train a computer to extract the specific data they need from different document types. NLP-powered Document AI enables non-technical teams to quickly access information hidden in documents, for example, lawyers, business analysts and accountants.\\nGrammatical error correction\\nGrammatical error detection and correction involves a great band-width of problems on all levels of linguistic analysis (phonology/orthography, morphology, syntax, semantics, pragmatics). Grammatical error correction is impactful since it affects hundreds of millions of people that use or acquire English as a second language. It has thus been subject to a number of shared tasks since 2011. As far as orthography, morphology, syntax and certain aspects of semantics are concerned, and due to the development of powerful neural language models such as GPT-2, this can now (2019) be considered a largely solved problem and is being marketed in various commercial applications.\\nMachine translation\\nAutomatically translate text from one human language to another.  This is one of the most difficult problems, and is a member of a class of problems colloquially termed \"AI-complete\", i.e. requiring all of the different types of knowledge that humans possess (grammar, semantics, facts about the real world, etc.) to solve properly.\\nNatural-language generation (NLG):\\nConvert information from computer databases or semantic intents into readable human language.\\nNatural-language understanding (NLU)\\nConvert chunks of text into more formal representations such as first-order logic structures that are easier for computer programs to manipulate. Natural language understanding involves the identification of the intended semantic from the multiple possible semantics which can be derived from a natural language expression which usually takes the form of organized notations of natural language concepts. Introduction and creation of language metamodel and ontology are efficient however empirical solutions. An explicit formalization of natural language semantics without confusions with implicit assumptions such as closed-world assumption (CWA) vs. open-world assumption, or subjective Yes/No vs. objective True/False is expected for the construction of a basis of semantics formalization.\\nQuestion answering\\nGiven a human-language question, determine its answer. Typical questions have a specific right answer (such as \"What is the capital of Canada?\"), but sometimes open-ended questions are also considered (such as \"What is the meaning of life?\").\\nText-to-image generation\\nGiven a description of an image, generate an image that matches the description.\\nText-to-scene generation\\nGiven a description of a scene, generate a 3D model of the scene.\\n\\n\\n== General tendencies and (possible) future directions ==\\nBased on long-standing trends in the field, it is possible to extrapolate future directions of NLP. As of 2020, three trends among the topics of the long-standing series of CoNLL Shared Tasks can be observed:\\nInterest on increasingly abstract, \"cognitive\" aspects of natural language (1999–2001: shallow parsing, 2002–03: named entity recognition, 2006–09/2017–18: dependency syntax, 2004–05/2008–09 semantic role labelling, 2011–12 coreference, 2015–16: discourse parsing, 2019: semantic parsing).\\nIncreasing interest in multilinguality, and, potentially, multimodality (English since 1999; Spanish, Dutch since 2002; German since 2003; Bulgarian, Danish, Japanese, Portuguese, Slovenian, Swedish, Turkish since 2006; Basque, Catalan, Chinese, Greek, Hungarian, Italian, Turkish since 2007; Czech since 2009; Arabic since 2012; 2017: 40+ languages; 2018: 60+/100+ languages)\\nElimination of symbolic representations (rule-based over supervised towards weakly supervised methods, representation learning and end-to-end systems)\\n\\n\\n=== Cognition and NLP ===\\nMost higher-level NLP applications involve aspects that emulate intelligent behaviour and apparent comprehension of natural language. More broadly speaking, the technical operationalization of increasingly advanced aspects of cognitive behaviour represents one of the developmental trajectories of NLP (see trends among CoNLL shared tasks above).\\nCognition refers to \"the mental action or process of acquiring knowledge and understanding through thought, experience, and the senses.\" Cognitive science is the interdisciplinary, scientific study of the mind and its processes. Cognitive linguistics is an interdisciplinary branch of linguistics, combining knowledge and research from both psychology and linguistics. Especially during the age of symbolic NLP, the area of computational linguistics maintained strong ties with cognitive studies.\\nAs an example, George Lakoff offers a methodology to build natural language processing (NLP) algorithms through the perspective of cognitive science, along with the findings of cognitive linguistics, with two defining aspects:\\n\\nApply the theory of conceptual metaphor, explained by Lakoff as \"the understanding of one idea, in terms of another\" which provides an idea of the intent of the author. For example, consider the English word big. When used in a comparison (\"That is a big tree\"), the author\\'s intent is to imply that the tree is physically large relative to other trees or the authors experience.  When used metaphorically (\"Tomorrow is a big day\"), the author\\'s intent to imply importance.  The intent behind other usages, like in \"She is a big person\", will remain somewhat ambiguous to a person and a cognitive NLP algorithm alike without additional information.\\nAssign relative measures of meaning to a word, phrase, sentence or piece of text based on the information presented before and after the piece of text being analyzed, e.g., by means of a probabilistic context-free grammar (PCFG). The mathematical equation for such algorithms is presented in US patent 9269353 :\\n  \\n    \\n      \\n        \\n          R\\n          M\\n          M\\n          (\\n          t\\n          o\\n          k\\n          e\\n          \\n            n\\n            \\n              N\\n            \\n          \\n          )\\n        \\n        =\\n        \\n          P\\n          M\\n          M\\n          (\\n          t\\n          o\\n          k\\n          e\\n          \\n            n\\n            \\n              N\\n            \\n          \\n          )\\n        \\n        ×\\n        \\n          \\n            1\\n            \\n              2\\n              d\\n            \\n          \\n        \\n        \\n          (\\n          \\n            \\n              ∑\\n              \\n                i\\n                =\\n                −\\n                d\\n              \\n              \\n                d\\n              \\n            \\n            \\n              (\\n              (\\n              P\\n              M\\n              M\\n              (\\n              t\\n              o\\n              k\\n              e\\n              \\n                n\\n                \\n                  N\\n                  −\\n                  1\\n                \\n              \\n              )\\n            \\n            ×\\n            \\n              P\\n              F\\n              (\\n              t\\n              o\\n              k\\n              e\\n              \\n                n\\n                \\n                  N\\n                \\n              \\n              ,\\n              t\\n              o\\n              k\\n              e\\n              \\n                n\\n                \\n                  N\\n                  −\\n                  1\\n                \\n              \\n              )\\n              \\n                )\\n                \\n                  i\\n                \\n              \\n            \\n          \\n          )\\n        \\n      \\n    \\n    {\\\\displaystyle {RMM(token_{N})}={PMM(token_{N})}\\\\times {\\\\frac {1}{2d}}\\\\left(\\\\sum _{i=-d}^{d}{((PMM(token_{N-1})}\\\\times {PF(token_{N},token_{N-1}))_{i}}\\\\right)}\\n  Where,\\nRMM, is the Relative Measure of Meaning\\ntoken, is any block of text, sentence, phrase or word\\nN, is the number of tokens being analyzed\\nPMM, is the Probable Measure of Meaning based on a corpora\\nd, is the location of the token along the sequence of N-1 tokens\\nPF, is the Probability Function specific to a languageTies with cognitive linguistics are part of the historical heritage of NLP, but they have been less frequently addressed since the statistical turn during the 1990s. Nevertheless, approaches to develop cognitive models towards technically operationalizable frameworks have been pursued in the context of various frameworks, e.g., of cognitive grammar, functional grammar, construction grammar, computational psycholinguistics and cognitive neuroscience (e.g., ACT-R), however, with limited uptake in mainstream NLP (as measured by presence on major conferences of the ACL). More recently, ideas of cognitive NLP have been revived as an approach to achieve explainability, e.g., under the notion of \"cognitive AI\". Likewise, ideas of cognitive NLP are inherent to neural models multimodal NLP (although rarely made explicit).\\n\\n\\n== See also ==\\n\\n\\n== References ==\\n\\n\\n== Further reading ==\\n\\n\\n== External links ==\\n Media related to Natural language processing at Wikimedia Commons'"
            ],
            "application/vnd.google.colaboratory.intrinsic+json": {
              "type": "string"
            }
          },
          "metadata": {},
          "execution_count": 9
        }
      ]
    },
    {
      "cell_type": "code",
      "source": [
        "from google.colab import files\n",
        "\n",
        "with open('examplenlp.txt', 'w') as f:\n",
        "  f.write(ptrain)\n",
        "\n",
        "files.download('examplenlp.txt')"
      ],
      "metadata": {
        "colab": {
          "base_uri": "https://localhost:8080/",
          "height": 17
        },
        "id": "Mag2alA8dQsC",
        "outputId": "7c7a2d57-442c-4d96-be0b-b7d17fa10a52"
      },
      "execution_count": null,
      "outputs": [
        {
          "output_type": "display_data",
          "data": {
            "text/plain": [
              "<IPython.core.display.Javascript object>"
            ],
            "application/javascript": [
              "\n",
              "    async function download(id, filename, size) {\n",
              "      if (!google.colab.kernel.accessAllowed) {\n",
              "        return;\n",
              "      }\n",
              "      const div = document.createElement('div');\n",
              "      const label = document.createElement('label');\n",
              "      label.textContent = `Downloading \"${filename}\": `;\n",
              "      div.appendChild(label);\n",
              "      const progress = document.createElement('progress');\n",
              "      progress.max = size;\n",
              "      div.appendChild(progress);\n",
              "      document.body.appendChild(div);\n",
              "\n",
              "      const buffers = [];\n",
              "      let downloaded = 0;\n",
              "\n",
              "      const channel = await google.colab.kernel.comms.open(id);\n",
              "      // Send a message to notify the kernel that we're ready.\n",
              "      channel.send({})\n",
              "\n",
              "      for await (const message of channel.messages) {\n",
              "        // Send a message to notify the kernel that we're ready.\n",
              "        channel.send({})\n",
              "        if (message.buffers) {\n",
              "          for (const buffer of message.buffers) {\n",
              "            buffers.push(buffer);\n",
              "            downloaded += buffer.byteLength;\n",
              "            progress.value = downloaded;\n",
              "          }\n",
              "        }\n",
              "      }\n",
              "      const blob = new Blob(buffers, {type: 'application/binary'});\n",
              "      const a = document.createElement('a');\n",
              "      a.href = window.URL.createObjectURL(blob);\n",
              "      a.download = filename;\n",
              "      div.appendChild(a);\n",
              "      a.click();\n",
              "      div.remove();\n",
              "    }\n",
              "  "
            ]
          },
          "metadata": {}
        },
        {
          "output_type": "display_data",
          "data": {
            "text/plain": [
              "<IPython.core.display.Javascript object>"
            ],
            "application/javascript": [
              "download(\"download_f62f1697-2031-4bf9-8843-552777365923\", \"examplenlp.txt\", 33171)"
            ]
          },
          "metadata": {}
        }
      ]
    },
    {
      "cell_type": "code",
      "source": [
        "#uploading training data file\n",
        "train_file = \"/content/examplenlp.txt\"\n",
        "train_open = open(train_file, \"r\")\n",
        "#read train data file\n",
        "train_data = train_open.read()"
      ],
      "metadata": {
        "id": "ex2WycfQRYPj"
      },
      "execution_count": null,
      "outputs": []
    },
    {
      "cell_type": "markdown",
      "source": [
        "### Exploring training data"
      ],
      "metadata": {
        "id": "7fD1AmPmQ3-1"
      }
    },
    {
      "cell_type": "code",
      "source": [
        "train_data"
      ],
      "metadata": {
        "colab": {
          "base_uri": "https://localhost:8080/",
          "height": 178
        },
        "id": "jeQ0hJ8lRjKk",
        "outputId": "cf6cc21a-9e83-4b71-8508-0b72467a50eb"
      },
      "execution_count": null,
      "outputs": [
        {
          "output_type": "execute_result",
          "data": {
            "text/plain": [
              "'Natural language processing (NLP) is a subfield of linguistics, computer science, and artificial intelligence concerned with the interactions between computers and human language, in particular how to program computers to process and analyze large amounts of natural language data.  The goal is a computer capable of \"understanding\" the contents of documents, including the contextual nuances of the language within them. The technology can then accurately extract information and insights contained in the documents as well as categorize and organize the documents themselves.\\nChallenges in natural language processing frequently involve speech recognition, natural-language understanding, and natural-language generation.\\n\\n\\n== History ==\\n\\nNatural language processing has its roots in the 1950s. Already in 1950, Alan Turing published an article titled \"Computing Machinery and Intelligence\" which proposed what is now called the Turing test as a criterion of intelligence, though at the time that was not articulated as a problem separate from artificial intelligence. The proposed test includes a task that involves the automated interpretation and generation of natural language.\\n\\n\\n=== Symbolic NLP (1950s – early 1990s) ===\\nThe premise of symbolic NLP is well-summarized by John Searle\\'s Chinese room experiment: Given a collection of rules (e.g., a Chinese phrasebook, with questions and matching answers), the computer emulates natural language understanding (or other NLP tasks) by applying those rules to the data it confronts.\\n\\n1950s: The Georgetown experiment in 1954 involved fully automatic translation of more than sixty Russian sentences into English. The authors claimed that within three or five years, machine translation would be a solved problem.  However, real progress was much slower, and after the ALPAC report in 1966, which found that ten-year-long research had failed to fulfill the expectations, funding for machine translation was dramatically reduced.  Little further research in machine translation was conducted until the late 1980s when the first statistical machine translation systems were developed.\\n1960s: Some notably successful natural language processing systems developed in the 1960s were SHRDLU, a natural language system working in restricted \"blocks worlds\" with restricted vocabularies, and ELIZA, a simulation of a Rogerian psychotherapist, written by Joseph Weizenbaum between 1964 and 1966.  Using almost no information about human thought or emotion, ELIZA sometimes provided a startlingly human-like interaction. When the \"patient\" exceeded the very small knowledge base, ELIZA might provide a generic response, for example, responding to \"My head hurts\" with \"Why do you say your head hurts?\".\\n1970s: During the 1970s, many programmers began to write \"conceptual ontologies\", which structured real-world information into computer-understandable data.  Examples are MARGIE (Schank, 1975), SAM (Cullingford, 1978), PAM (Wilensky, 1978), TaleSpin (Meehan, 1976), QUALM (Lehnert, 1977), Politics (Carbonell, 1979), and Plot Units (Lehnert 1981).  During this time, the first chatterbots were written (e.g., PARRY).\\n1980s: The 1980s and early 1990s mark the heyday of symbolic methods in NLP. Focus areas of the time included research on rule-based parsing (e.g., the development of HPSG as a computational operationalization of generative grammar), morphology (e.g., two-level morphology), semantics (e.g., Lesk algorithm), reference (e.g., within Centering Theory) and other areas of natural language understanding (e.g., in the Rhetorical Structure Theory). Other lines of research were continued, e.g., the development of chatterbots with Racter and Jabberwacky. An important development (that eventually led to the statistical turn in the 1990s) was the rising importance of quantitative evaluation in this period.\\n\\n\\n=== Statistical NLP (1990s–2010s) ===\\nUp to the 1980s, most natural language processing systems were based on complex sets of hand-written rules.  Starting in the late 1980s, however, there was a revolution in natural language processing with the introduction of machine learning algorithms for language processing.  This was due to both the steady increase in computational power (see Moore\\'s law) and the gradual lessening of the dominance of Chomskyan theories of linguistics (e.g. transformational grammar), whose theoretical underpinnings discouraged the sort of corpus linguistics that underlies the machine-learning approach to language processing.\\n1990s: Many of the notable early successes on statistical methods in NLP occurred in the field of machine translation, due especially to work at IBM Research.  These systems were able to take advantage of existing multilingual textual corpora that had been produced by the Parliament of Canada and the European Union as a result of laws calling for the translation of all governmental proceedings into all official languages of the corresponding systems of government.  However, most other systems depended on corpora specifically developed for the tasks implemented by these systems, which was (and often continues to be) a major limitation in the success of these systems. As a result, a great deal of research has gone into methods of more effectively learning from limited amounts of data.\\n2000s: With the growth of the web, increasing amounts of raw (unannotated) language data has become available since the mid-1990s. Research has thus increasingly focused on unsupervised and semi-supervised learning algorithms.  Such algorithms can learn from data that has not been hand-annotated with the desired answers or using a combination of annotated and non-annotated data.  Generally, this task is much more difficult than supervised learning, and typically produces less accurate results for a given amount of input data.  However, there is an enormous amount of non-annotated data available (including, among other things, the entire content of the World Wide Web), which can often make up for the inferior results if the algorithm used has a low enough time complexity to be practical.\\n\\n\\n=== Neural NLP (present) ===\\nIn the 2010s, representation learning and deep neural network-style machine learning methods became widespread in natural language processing. That popularity was due partly to a flurry of results showing that such techniques can achieve state-of-the-art results in many natural language tasks, e.g., in language modeling and parsing. This is increasingly important in medicine and healthcare, where NLP helps analyze notes and text in electronic health records that would otherwise be inaccessible for study when seeking to improve care.\\n\\n\\n== Methods: Rules, statistics, neural networks ==\\nIn the early days, many language-processing systems were designed by symbolic methods, i.e., the hand-coding of a set of rules, coupled with a dictionary lookup: such as by writing grammars or devising heuristic rules for stemming.\\nMore recent systems based on machine-learning algorithms have many advantages over hand-produced rules: \\n\\nThe learning procedures used during machine learning automatically focus on the most common cases, whereas when writing rules by hand it is often not at all obvious where the effort should be directed.\\nAutomatic learning procedures can make use of statistical inference algorithms to produce models that are robust to unfamiliar input (e.g. containing words or structures that have not been seen before) and to erroneous input (e.g. with misspelled words or words accidentally omitted). Generally, handling such input gracefully with handwritten rules, or, more generally, creating systems of handwritten rules that make soft decisions, is extremely difficult, error-prone and time-consuming.\\nSystems based on automatically learning the rules can be made more accurate simply by supplying more input data. However, systems based on handwritten rules can only be made more accurate by increasing the complexity of the rules, which is a much more difficult task. In particular, there is a limit to the complexity of systems based on handwritten rules, beyond which the systems become more and more unmanageable. However, creating more data to input to machine-learning systems simply requires a corresponding increase in the number of man-hours worked, generally without significant increases in the complexity of the annotation process.Despite the popularity of machine learning in NLP research, symbolic methods are still (2020) commonly used:\\n\\nwhen the amount of training data is insufficient to successfully apply machine learning methods, e.g., for the machine translation of low-resource languages such as provided by the Apertium system,\\nfor preprocessing in NLP pipelines, e.g., tokenization, or\\nfor postprocessing and transforming the output of NLP pipelines, e.g., for knowledge extraction from syntactic parses.\\n\\n\\n=== Statistical methods ===\\nSince the so-called \"statistical revolution\" in the late 1980s and mid-1990s, much natural language processing research has relied heavily on machine learning. The machine-learning paradigm calls instead for using statistical inference to automatically learn such rules through the analysis of large corpora (the plural form of corpus, is a set of documents, possibly with human or computer annotations) of typical real-world examples.\\nMany different classes of machine-learning algorithms have been applied to natural-language-processing tasks. These algorithms take as input a large set of \"features\" that are generated from the input data. Increasingly, however, research has focused on statistical models, which make soft, probabilistic decisions based on attaching real-valued weights to each input feature (complex-valued embeddings, and neural networks in general have also been proposed, for e.g. speech). Such models have the advantage that they can express the relative certainty of many different possible answers rather than only one, producing more reliable results when such a model is included as a component of a larger system.\\nSome of the earliest-used machine learning algorithms, such as decision trees, produced systems of hard if-then rules similar to existing hand-written rules.  However, part-of-speech tagging introduced the use of hidden Markov models to natural language processing, and increasingly, research has focused on statistical models, which make soft, probabilistic decisions based on attaching real-valued weights to the features making up the input data. The cache language models upon which many speech recognition systems now rely are examples of such statistical models.  Such models are generally more robust when given unfamiliar input, especially input that contains errors (as is very common for real-world data), and produce more reliable results when integrated into a larger system comprising multiple subtasks.\\nSince the neural turn, statistical methods in NLP research have been largely replaced by neural networks. However, they continue to be relevant for contexts in which statistical interpretability and transparency is required.\\n\\n\\n=== Neural networks ===\\n\\nA major drawback of statistical methods is that they require elaborate feature engineering. Since 2015, the field has thus largely abandoned statistical methods and shifted to neural networks for machine learning. Popular techniques include the use of word embeddings to capture semantic properties of words, and an increase in end-to-end learning of a higher-level task (e.g., question answering) instead of relying on a pipeline of separate intermediate tasks (e.g., part-of-speech tagging and dependency parsing). In some areas, this shift has entailed substantial changes in how NLP systems are designed, such that deep neural network-based approaches may be viewed as a new paradigm distinct from statistical natural language processing. For instance, the term neural machine translation (NMT) emphasizes the fact that deep learning-based approaches to machine translation directly learn sequence-to-sequence transformations, obviating the need for intermediate steps such as word alignment and language modeling that was used in statistical machine translation (SMT).\\n\\n\\n== Common NLP tasks ==\\nThe following is a list of some of the most commonly researched tasks in natural language processing. Some of these tasks have direct real-world applications, while others more commonly serve as subtasks that are used to aid in solving larger tasks.\\nThough natural language processing tasks are closely intertwined, they can be subdivided into categories for convenience. A coarse division is given below.\\n\\n\\n=== Text and speech processing ===\\nOptical character recognition (OCR)\\nGiven an image representing printed text, determine the corresponding text.Speech recognition\\nGiven a sound clip of a person or people speaking, determine the textual representation of the speech.  This is the opposite of text to speech and is one of the extremely difficult problems colloquially termed \"AI-complete\" (see above).  In natural speech there are hardly any pauses between successive words, and thus speech segmentation is a necessary subtask of speech recognition (see below). In most spoken languages, the sounds representing successive letters blend into each other in a process termed coarticulation, so the conversion of the analog signal to discrete characters can be a very difficult process. Also, given that words in the same language are spoken by people with different accents, the speech recognition software must be able to recognize the wide variety of input as being identical to each other in terms of its textual equivalent.\\nSpeech segmentation\\nGiven a sound clip of a person or people speaking, separate it into words.  A subtask of speech recognition and typically grouped with it.Text-to-speech\\nGiven a text, transform those units and produce a spoken representation. Text-to-speech can be used to aid the visually impaired.Word segmentation (Tokenization)\\nSeparate a chunk of continuous text into separate words. For a language like English, this is fairly trivial, since words are usually separated by spaces. However, some written languages like Chinese, Japanese and Thai do not mark word boundaries in such a fashion, and in those languages text segmentation is a significant task requiring knowledge of the vocabulary and morphology of words in the language. Sometimes this process is also used in cases like bag of words (BOW) creation in data mining.\\n\\n\\n=== Morphological analysis ===\\nLemmatization\\nThe task of removing inflectional endings only and to return the base dictionary form of a word which is also known as a lemma. Lemmatization is another technique for reducing words to their normalized form. But in this case, the transformation actually uses a dictionary to map words to their actual form.\\nMorphological segmentation\\nSeparate words into individual morphemes and identify the class of the morphemes. The difficulty of this task depends greatly on the complexity of the morphology (i.e., the structure of words) of the language being considered. English has fairly simple morphology, especially inflectional morphology, and thus it is often possible to ignore this task entirely and simply model all possible forms of a word (e.g., \"open, opens, opened, opening\") as separate words. In languages such as Turkish or Meitei, a highly agglutinated Indian language, however, such an approach is not possible, as each dictionary entry has thousands of possible word forms.\\nPart-of-speech tagging\\nGiven a sentence, determine the part of speech (POS) for each word. Many words, especially common ones, can serve as multiple parts of speech. For example, \"book\" can be a noun (\"the book on the table\") or verb (\"to book a flight\"); \"set\" can be a noun, verb or adjective; and \"out\" can be any of at least five different parts of speech.Stemming\\nThe process of reducing inflected (or sometimes derived) words to a base form (e.g., \"close\" will be the root for \"closed\", \"closing\", \"close\", \"closer\" etc.). Stemming yields similar results as lemmatization, but does so on grounds of rules, not a dictionary.\\n\\n\\n=== Syntactic analysis ===\\nGrammar induction\\nGenerate a formal grammar that describes a language\\'s syntax.\\nSentence breaking (also known as \"sentence boundary disambiguation\")\\nGiven a chunk of text, find the sentence boundaries. Sentence boundaries are often marked by periods or other punctuation marks, but these same characters can serve other purposes (e.g., marking abbreviations).\\nParsing\\nDetermine the parse tree (grammatical analysis) of a given sentence. The grammar for natural languages is ambiguous and typical sentences have multiple possible analyses: perhaps surprisingly, for a typical sentence there may be thousands of potential parses (most of which will seem completely nonsensical to a human). There are two primary types of parsing: dependency parsing and constituency parsing. Dependency parsing focuses on the relationships between words in a sentence (marking things like primary objects and predicates), whereas constituency parsing focuses on building out the parse tree using a probabilistic context-free grammar (PCFG) (see also stochastic grammar).\\n\\n\\n=== Lexical semantics (of individual words in context) ===\\nLexical semantics\\nWhat is the computational meaning of individual words in context?\\nDistributional semantics\\nHow can we learn semantic representations from data?\\nNamed entity recognition (NER)\\nGiven a stream of text, determine which items in the text map to proper names, such as people or places, and what the type of each such name is (e.g. person, location, organization). Although capitalization can aid in recognizing named entities in languages such as English, this information cannot aid in determining the type of named entity, and in any case, is often inaccurate or insufficient.  For example, the first letter of a sentence is also capitalized, and named entities often span several words, only some of which are capitalized.  Furthermore, many other languages in non-Western scripts (e.g. Chinese or Arabic) do not have any capitalization at all, and even languages with capitalization may not consistently use it to distinguish names. For example, German capitalizes all nouns, regardless of whether they are names, and French and Spanish do not capitalize names that serve as adjectives.Sentiment analysis (see also Multimodal sentiment analysis)\\nExtract subjective information usually from a set of documents, often using online reviews to determine \"polarity\" about specific objects. It is especially useful for identifying trends of public opinion in social media, for marketing.\\nTerminology extraction\\nThe goal of terminology extraction is to automatically extract relevant terms from a given corpus.\\nWord-sense disambiguation (WSD)\\nMany words have more than one meaning; we have to select the meaning which makes the most sense in context.  For this problem, we are typically given a list of words and associated word senses, e.g. from a dictionary or an online resource such as WordNet.\\nEntity linking\\nMany words—typically proper names—refer to named entities; here we have to select the entity (a famous individual, a location, a company, etc.) which is referred to in context.\\n\\n\\n=== Relational semantics (semantics of individual sentences) ===\\nRelationship extraction\\nGiven a chunk of text, identify the relationships among named entities (e.g. who is married to whom).\\nSemantic parsing\\nGiven a piece of text (typically a sentence), produce a formal representation of its semantics, either as a graph (e.g., in AMR parsing) or in accordance with a logical formalism (e.g., in DRT parsing). This challenge typically includes aspects of several more elementary NLP tasks from semantics (e.g., semantic role labelling, word-sense disambiguation) and can be extended to include full-fledged discourse analysis (e.g., discourse analysis, coreference; see Natural language understanding below).\\nSemantic role labelling (see also implicit semantic role labelling below)\\nGiven a single sentence, identify and disambiguate semantic predicates (e.g., verbal frames), then identify and classify the frame elements (semantic roles).\\n\\n\\n=== Discourse (semantics beyond individual sentences) ===\\nCoreference resolution\\nGiven a sentence or larger chunk of text, determine which words (\"mentions\") refer to the same objects (\"entities\"). Anaphora resolution is a specific example of this task, and is specifically concerned with matching up pronouns with the nouns or names to which they refer. The more general task of coreference resolution also includes identifying so-called \"bridging relationships\" involving referring expressions. For example, in a sentence such as \"He entered John\\'s house through the front door\", \"the front door\" is a referring expression and the bridging relationship to be identified is the fact that the door being referred to is the front door of John\\'s house (rather than of some other structure that might also be referred to).\\nDiscourse analysis\\nThis rubric includes several related tasks.  One task is discourse parsing, i.e., identifying the discourse structure of a connected text, i.e. the nature of the discourse relationships between sentences (e.g. elaboration, explanation, contrast).  Another possible task is recognizing and classifying the speech acts in a chunk of text (e.g. yes-no question, content question, statement, assertion, etc.).Implicit semantic role labelling\\nGiven a single sentence, identify and disambiguate semantic predicates (e.g., verbal frames) and their explicit semantic roles in the current sentence (see Semantic role labelling above). Then, identify semantic roles that are not explicitly realized in the current sentence, classify them into arguments that are explicitly realized elsewhere in the text and those that are not specified, and resolve the former against the local text. A closely related task is zero anaphora resolution, i.e., the extension of coreference resolution to pro-drop languages.Recognizing textual entailment\\nGiven two text fragments, determine if one being true entails the other, entails the other\\'s negation, or allows the other to be either true or false.Topic segmentation and recognition\\nGiven a chunk of text, separate it into segments each of which is devoted to a topic, and identify the topic of the segment.Argument mining\\nThe goal of argument mining is the automatic extraction and identification of argumentative structures from natural language text with the aid of computer programs. Such argumentative structures include the premise, conclusions, the argument scheme and the relationship between the main and subsidiary argument, or the main and counter-argument within discourse.\\n\\n\\n=== Higher-level NLP applications ===\\nAutomatic summarization (text summarization)\\nProduce a readable summary of a chunk of text.  Often used to provide summaries of the text of a known type, such as research papers, articles in the financial section of a newspaper.\\nBook generation\\nNot an NLP task proper but an extension of natural language generation and other NLP tasks is the creation of full-fledged books. The first machine-generated book was created by a rule-based system in 1984 (Racter, The policeman\\'s beard is half-constructed). The first published work by a neural network was published in 2018, 1 the Road, marketed as a novel, contains sixty million words. Both these systems are basically elaborate but non-sensical (semantics-free) language models. The first machine-generated science book was published in 2019 (Beta Writer, Lithium-Ion Batteries, Springer, Cham). Unlike Racter and 1 the Road, this is grounded on factual knowledge and based on text summarization.\\nDialogue management\\nComputer systems intended to converse with a human.\\nDocument AI\\nA Document AI platform sits on top of the NLP technology enabling users with no prior experience of artificial intelligence, machine learning or NLP to quickly train a computer to extract the specific data they need from different document types. NLP-powered Document AI enables non-technical teams to quickly access information hidden in documents, for example, lawyers, business analysts and accountants.\\nGrammatical error correction\\nGrammatical error detection and correction involves a great band-width of problems on all levels of linguistic analysis (phonology/orthography, morphology, syntax, semantics, pragmatics). Grammatical error correction is impactful since it affects hundreds of millions of people that use or acquire English as a second language. It has thus been subject to a number of shared tasks since 2011. As far as orthography, morphology, syntax and certain aspects of semantics are concerned, and due to the development of powerful neural language models such as GPT-2, this can now (2019) be considered a largely solved problem and is being marketed in various commercial applications.\\nMachine translation\\nAutomatically translate text from one human language to another.  This is one of the most difficult problems, and is a member of a class of problems colloquially termed \"AI-complete\", i.e. requiring all of the different types of knowledge that humans possess (grammar, semantics, facts about the real world, etc.) to solve properly.\\nNatural-language generation (NLG):\\nConvert information from computer databases or semantic intents into readable human language.\\nNatural-language understanding (NLU)\\nConvert chunks of text into more formal representations such as first-order logic structures that are easier for computer programs to manipulate. Natural language understanding involves the identification of the intended semantic from the multiple possible semantics which can be derived from a natural language expression which usually takes the form of organized notations of natural language concepts. Introduction and creation of language metamodel and ontology are efficient however empirical solutions. An explicit formalization of natural language semantics without confusions with implicit assumptions such as closed-world assumption (CWA) vs. open-world assumption, or subjective Yes/No vs. objective True/False is expected for the construction of a basis of semantics formalization.\\nQuestion answering\\nGiven a human-language question, determine its answer. Typical questions have a specific right answer (such as \"What is the capital of Canada?\"), but sometimes open-ended questions are also considered (such as \"What is the meaning of life?\").\\nText-to-image generation\\nGiven a description of an image, generate an image that matches the description.\\nText-to-scene generation\\nGiven a description of a scene, generate a 3D model of the scene.\\n\\n\\n== General tendencies and (possible) future directions ==\\nBased on long-standing trends in the field, it is possible to extrapolate future directions of NLP. As of 2020, three trends among the topics of the long-standing series of CoNLL Shared Tasks can be observed:\\nInterest on increasingly abstract, \"cognitive\" aspects of natural language (1999–2001: shallow parsing, 2002–03: named entity recognition, 2006–09/2017–18: dependency syntax, 2004–05/2008–09 semantic role labelling, 2011–12 coreference, 2015–16: discourse parsing, 2019: semantic parsing).\\nIncreasing interest in multilinguality, and, potentially, multimodality (English since 1999; Spanish, Dutch since 2002; German since 2003; Bulgarian, Danish, Japanese, Portuguese, Slovenian, Swedish, Turkish since 2006; Basque, Catalan, Chinese, Greek, Hungarian, Italian, Turkish since 2007; Czech since 2009; Arabic since 2012; 2017: 40+ languages; 2018: 60+/100+ languages)\\nElimination of symbolic representations (rule-based over supervised towards weakly supervised methods, representation learning and end-to-end systems)\\n\\n\\n=== Cognition and NLP ===\\nMost higher-level NLP applications involve aspects that emulate intelligent behaviour and apparent comprehension of natural language. More broadly speaking, the technical operationalization of increasingly advanced aspects of cognitive behaviour represents one of the developmental trajectories of NLP (see trends among CoNLL shared tasks above).\\nCognition refers to \"the mental action or process of acquiring knowledge and understanding through thought, experience, and the senses.\" Cognitive science is the interdisciplinary, scientific study of the mind and its processes. Cognitive linguistics is an interdisciplinary branch of linguistics, combining knowledge and research from both psychology and linguistics. Especially during the age of symbolic NLP, the area of computational linguistics maintained strong ties with cognitive studies.\\nAs an example, George Lakoff offers a methodology to build natural language processing (NLP) algorithms through the perspective of cognitive science, along with the findings of cognitive linguistics, with two defining aspects:\\n\\nApply the theory of conceptual metaphor, explained by Lakoff as \"the understanding of one idea, in terms of another\" which provides an idea of the intent of the author. For example, consider the English word big. When used in a comparison (\"That is a big tree\"), the author\\'s intent is to imply that the tree is physically large relative to other trees or the authors experience.  When used metaphorically (\"Tomorrow is a big day\"), the author\\'s intent to imply importance.  The intent behind other usages, like in \"She is a big person\", will remain somewhat ambiguous to a person and a cognitive NLP algorithm alike without additional information.\\nAssign relative measures of meaning to a word, phrase, sentence or piece of text based on the information presented before and after the piece of text being analyzed, e.g., by means of a probabilistic context-free grammar (PCFG). The mathematical equation for such algorithms is presented in US patent 9269353 :\\n  \\n    \\n      \\n        \\n          R\\n          M\\n          M\\n          (\\n          t\\n          o\\n          k\\n          e\\n          \\n            n\\n            \\n              N\\n            \\n          \\n          )\\n        \\n        =\\n        \\n          P\\n          M\\n          M\\n          (\\n          t\\n          o\\n          k\\n          e\\n          \\n            n\\n            \\n              N\\n            \\n          \\n          )\\n        \\n        ×\\n        \\n          \\n            1\\n            \\n              2\\n              d\\n            \\n          \\n        \\n        \\n          (\\n          \\n            \\n              ∑\\n              \\n                i\\n                =\\n                −\\n                d\\n              \\n              \\n                d\\n              \\n            \\n            \\n              (\\n              (\\n              P\\n              M\\n              M\\n              (\\n              t\\n              o\\n              k\\n              e\\n              \\n                n\\n                \\n                  N\\n                  −\\n                  1\\n                \\n              \\n              )\\n            \\n            ×\\n            \\n              P\\n              F\\n              (\\n              t\\n              o\\n              k\\n              e\\n              \\n                n\\n                \\n                  N\\n                \\n              \\n              ,\\n              t\\n              o\\n              k\\n              e\\n              \\n                n\\n                \\n                  N\\n                  −\\n                  1\\n                \\n              \\n              )\\n              \\n                )\\n                \\n                  i\\n                \\n              \\n            \\n          \\n          )\\n        \\n      \\n    \\n    {\\\\displaystyle {RMM(token_{N})}={PMM(token_{N})}\\\\times {\\\\frac {1}{2d}}\\\\left(\\\\sum _{i=-d}^{d}{((PMM(token_{N-1})}\\\\times {PF(token_{N},token_{N-1}))_{i}}\\\\right)}\\n  Where,\\nRMM, is the Relative Measure of Meaning\\ntoken, is any block of text, sentence, phrase or word\\nN, is the number of tokens being analyzed\\nPMM, is the Probable Measure of Meaning based on a corpora\\nd, is the location of the token along the sequence of N-1 tokens\\nPF, is the Probability Function specific to a languageTies with cognitive linguistics are part of the historical heritage of NLP, but they have been less frequently addressed since the statistical turn during the 1990s. Nevertheless, approaches to develop cognitive models towards technically operationalizable frameworks have been pursued in the context of various frameworks, e.g., of cognitive grammar, functional grammar, construction grammar, computational psycholinguistics and cognitive neuroscience (e.g., ACT-R), however, with limited uptake in mainstream NLP (as measured by presence on major conferences of the ACL). More recently, ideas of cognitive NLP have been revived as an approach to achieve explainability, e.g., under the notion of \"cognitive AI\". Likewise, ideas of cognitive NLP are inherent to neural models multimodal NLP (although rarely made explicit).\\n\\n\\n== See also ==\\n\\n\\n== References ==\\n\\n\\n== Further reading ==\\n\\n\\n== External links ==\\n Media related to Natural language processing at Wikimedia Commons'"
            ],
            "application/vnd.google.colaboratory.intrinsic+json": {
              "type": "string"
            }
          },
          "metadata": {},
          "execution_count": 12
        }
      ]
    },
    {
      "cell_type": "code",
      "source": [
        "#display length of training data\n",
        "len(train_data)"
      ],
      "metadata": {
        "colab": {
          "base_uri": "https://localhost:8080/"
        },
        "id": "UAo5GadwPxUN",
        "outputId": "416d3e23-8a86-45ff-a79b-0d4931358559"
      },
      "execution_count": null,
      "outputs": [
        {
          "output_type": "execute_result",
          "data": {
            "text/plain": [
              "33137"
            ]
          },
          "metadata": {},
          "execution_count": 13
        }
      ]
    },
    {
      "cell_type": "code",
      "source": [
        "#lexical richness\n",
        "len(set(train_data))/len(train_data)"
      ],
      "metadata": {
        "colab": {
          "base_uri": "https://localhost:8080/"
        },
        "id": "_coJ1M4DP8hH",
        "outputId": "1a35f590-fccc-40df-db14-355692fe3090"
      },
      "execution_count": null,
      "outputs": [
        {
          "output_type": "execute_result",
          "data": {
            "text/plain": [
              "0.002534930742070797"
            ]
          },
          "metadata": {},
          "execution_count": 14
        }
      ]
    },
    {
      "cell_type": "code",
      "source": [
        "#corpus"
      ],
      "metadata": {
        "id": "5PHLmAEThfrO"
      },
      "execution_count": null,
      "outputs": []
    },
    {
      "cell_type": "code",
      "source": [
        "# example1 = \"/content/cleaned_merged_fairy_tales_without_eos.txt\"\n",
        "# file1 = open(example1, \"r\")\n",
        "# Read the file\n",
        "\n",
        "# FileContent = file1.read()\n",
        "# FileContent"
      ],
      "metadata": {
        "id": "boV9HH8aXqyN"
      },
      "execution_count": null,
      "outputs": []
    },
    {
      "cell_type": "markdown",
      "source": [
        "### Preprocessing training data"
      ],
      "metadata": {
        "id": "1EK5p2UYQ781"
      }
    },
    {
      "cell_type": "code",
      "source": [
        "#convert to lowercase\n",
        "train_lower = train_data.lower()"
      ],
      "metadata": {
        "id": "0BJkZEI-S-Qt"
      },
      "execution_count": null,
      "outputs": []
    },
    {
      "cell_type": "code",
      "source": [
        "#add preprocessing, remove punctuation and brackets\n",
        "train_text = re.sub(r\"\\[.*\\]|\\{.*\\}\", \"\", train_lower)\n",
        "train_text = re.sub(r'[^\\w\\s]', \"\", train_text)"
      ],
      "metadata": {
        "id": "ukAUjqSfTBOM"
      },
      "execution_count": null,
      "outputs": []
    },
    {
      "cell_type": "code",
      "source": [
        "#stopwords initialize\n",
        "nltk.download('stopwords')\n",
        "stop_words_nltk = set(stopwords.words('english'))\n",
        "print(stop_words_nltk)"
      ],
      "metadata": {
        "colab": {
          "base_uri": "https://localhost:8080/"
        },
        "id": "ajxpll2TaHES",
        "outputId": "5796383d-84e3-41da-fe89-77dc90a54251"
      },
      "execution_count": null,
      "outputs": [
        {
          "output_type": "stream",
          "name": "stdout",
          "text": [
            "{'he', \"that'll\", 'at', 'and', 'to', 'itself', 'as', 'each', 'after', 'for', 'ain', 'their', 'only', 'aren', 'yours', 'the', 'some', 'am', \"won't\", 'me', 'him', 'theirs', 'these', 'any', 't', 'all', 'yourself', 'yourselves', 'ma', \"shan't\", 'against', 'in', 'was', \"you'd\", \"hasn't\", \"weren't\", 'won', 'didn', 'more', \"isn't\", 'having', 'can', 'our', 'it', 's', \"needn't\", 'have', \"don't\", 'are', \"didn't\", 'under', 'whom', 'been', 'you', 'about', 'too', \"aren't\", 'hadn', 'needn', 'when', 'from', 'while', 'had', 'mustn', \"hadn't\", \"should've\", 'there', 'but', 'your', 'a', 'same', 'than', 'my', 'or', 'off', 'both', 'how', \"wouldn't\", 'of', 'until', 'shan', 'wasn', 'just', \"wasn't\", 'where', \"you'll\", 'now', 'few', \"couldn't\", 'wouldn', 'because', 'through', 'no', 'if', 'were', 'we', 'ourselves', \"doesn't\", 'themselves', 'such', 'down', 'with', 'into', 'what', 'not', 'hasn', 'then', 'herself', 'before', \"shouldn't\", 'so', 'this', 'up', 'will', 'be', 'weren', 'myself', 'those', 'an', 'does', 'over', 'd', 'very', 'do', 'further', 'by', 'himself', 'its', 'why', 'haven', 'i', 'below', 'should', \"it's\", 'on', \"you're\", 'above', 'don', 'isn', 'out', 'll', 'who', 'again', 'mightn', 've', 'being', 'her', 'which', 'hers', \"you've\", 'once', 'o', 'she', 'y', 'm', 'his', 'them', 'during', 'is', \"mustn't\", 'nor', 'own', 'that', 'most', 're', \"she's\", 'shouldn', 'has', 'doesn', 'ours', 'they', 'other', 'between', \"haven't\", 'did', 'doing', \"mightn't\", 'couldn', 'here'}\n"
          ]
        },
        {
          "output_type": "stream",
          "name": "stderr",
          "text": [
            "[nltk_data] Downloading package stopwords to /root/nltk_data...\n",
            "[nltk_data]   Unzipping corpora/stopwords.zip.\n"
          ]
        }
      ]
    },
    {
      "cell_type": "code",
      "source": [
        "#tokenize file\n",
        "nltk.download('punkt')\n",
        "tokenized_text = word_tokenize(train_text)"
      ],
      "metadata": {
        "colab": {
          "base_uri": "https://localhost:8080/"
        },
        "id": "memoUoqDae4t",
        "outputId": "2c58e4c0-a5ba-46ba-d89d-e5a7f5543e7b"
      },
      "execution_count": null,
      "outputs": [
        {
          "output_type": "stream",
          "name": "stderr",
          "text": [
            "[nltk_data] Downloading package punkt to /root/nltk_data...\n",
            "[nltk_data]   Unzipping tokenizers/punkt.zip.\n"
          ]
        }
      ]
    },
    {
      "cell_type": "code",
      "source": [
        "#remove stopwords from file\n",
        "tokenized_text_without_stopwords = [i for i in tokenized_text if not i in stop_words_nltk]"
      ],
      "metadata": {
        "id": "rdHByAb-agkr"
      },
      "execution_count": null,
      "outputs": []
    },
    {
      "cell_type": "code",
      "source": [
        "tokenized_text_without_stopwords"
      ],
      "metadata": {
        "id": "IqlKf1iRqFyS",
        "colab": {
          "base_uri": "https://localhost:8080/"
        },
        "outputId": "8bf190b9-bcf9-4303-e7c3-b27a6403580f"
      },
      "execution_count": null,
      "outputs": [
        {
          "output_type": "execute_result",
          "data": {
            "text/plain": [
              "['natural',\n",
              " 'language',\n",
              " 'processing',\n",
              " 'nlp',\n",
              " 'subfield',\n",
              " 'linguistics',\n",
              " 'computer',\n",
              " 'science',\n",
              " 'artificial',\n",
              " 'intelligence',\n",
              " 'concerned',\n",
              " 'interactions',\n",
              " 'computers',\n",
              " 'human',\n",
              " 'language',\n",
              " 'particular',\n",
              " 'program',\n",
              " 'computers',\n",
              " 'process',\n",
              " 'analyze',\n",
              " 'large',\n",
              " 'amounts',\n",
              " 'natural',\n",
              " 'language',\n",
              " 'data',\n",
              " 'goal',\n",
              " 'computer',\n",
              " 'capable',\n",
              " 'understanding',\n",
              " 'contents',\n",
              " 'documents',\n",
              " 'including',\n",
              " 'contextual',\n",
              " 'nuances',\n",
              " 'language',\n",
              " 'within',\n",
              " 'technology',\n",
              " 'accurately',\n",
              " 'extract',\n",
              " 'information',\n",
              " 'insights',\n",
              " 'contained',\n",
              " 'documents',\n",
              " 'well',\n",
              " 'categorize',\n",
              " 'organize',\n",
              " 'documents',\n",
              " 'challenges',\n",
              " 'natural',\n",
              " 'language',\n",
              " 'processing',\n",
              " 'frequently',\n",
              " 'involve',\n",
              " 'speech',\n",
              " 'recognition',\n",
              " 'naturallanguage',\n",
              " 'understanding',\n",
              " 'naturallanguage',\n",
              " 'generation',\n",
              " 'history',\n",
              " 'natural',\n",
              " 'language',\n",
              " 'processing',\n",
              " 'roots',\n",
              " '1950s',\n",
              " 'already',\n",
              " '1950',\n",
              " 'alan',\n",
              " 'turing',\n",
              " 'published',\n",
              " 'article',\n",
              " 'titled',\n",
              " 'computing',\n",
              " 'machinery',\n",
              " 'intelligence',\n",
              " 'proposed',\n",
              " 'called',\n",
              " 'turing',\n",
              " 'test',\n",
              " 'criterion',\n",
              " 'intelligence',\n",
              " 'though',\n",
              " 'time',\n",
              " 'articulated',\n",
              " 'problem',\n",
              " 'separate',\n",
              " 'artificial',\n",
              " 'intelligence',\n",
              " 'proposed',\n",
              " 'test',\n",
              " 'includes',\n",
              " 'task',\n",
              " 'involves',\n",
              " 'automated',\n",
              " 'interpretation',\n",
              " 'generation',\n",
              " 'natural',\n",
              " 'language',\n",
              " 'symbolic',\n",
              " 'nlp',\n",
              " '1950s',\n",
              " 'early',\n",
              " '1990s',\n",
              " 'premise',\n",
              " 'symbolic',\n",
              " 'nlp',\n",
              " 'wellsummarized',\n",
              " 'john',\n",
              " 'searles',\n",
              " 'chinese',\n",
              " 'room',\n",
              " 'experiment',\n",
              " 'given',\n",
              " 'collection',\n",
              " 'rules',\n",
              " 'eg',\n",
              " 'chinese',\n",
              " 'phrasebook',\n",
              " 'questions',\n",
              " 'matching',\n",
              " 'answers',\n",
              " 'computer',\n",
              " 'emulates',\n",
              " 'natural',\n",
              " 'language',\n",
              " 'understanding',\n",
              " 'nlp',\n",
              " 'tasks',\n",
              " 'applying',\n",
              " 'rules',\n",
              " 'data',\n",
              " 'confronts',\n",
              " '1950s',\n",
              " 'georgetown',\n",
              " 'experiment',\n",
              " '1954',\n",
              " 'involved',\n",
              " 'fully',\n",
              " 'automatic',\n",
              " 'translation',\n",
              " 'sixty',\n",
              " 'russian',\n",
              " 'sentences',\n",
              " 'english',\n",
              " 'authors',\n",
              " 'claimed',\n",
              " 'within',\n",
              " 'three',\n",
              " 'five',\n",
              " 'years',\n",
              " 'machine',\n",
              " 'translation',\n",
              " 'would',\n",
              " 'solved',\n",
              " 'problem',\n",
              " 'however',\n",
              " 'real',\n",
              " 'progress',\n",
              " 'much',\n",
              " 'slower',\n",
              " 'alpac',\n",
              " 'report',\n",
              " '1966',\n",
              " 'found',\n",
              " 'tenyearlong',\n",
              " 'research',\n",
              " 'failed',\n",
              " 'fulfill',\n",
              " 'expectations',\n",
              " 'funding',\n",
              " 'machine',\n",
              " 'translation',\n",
              " 'dramatically',\n",
              " 'reduced',\n",
              " 'little',\n",
              " 'research',\n",
              " 'machine',\n",
              " 'translation',\n",
              " 'conducted',\n",
              " 'late',\n",
              " '1980s',\n",
              " 'first',\n",
              " 'statistical',\n",
              " 'machine',\n",
              " 'translation',\n",
              " 'systems',\n",
              " 'developed',\n",
              " '1960s',\n",
              " 'notably',\n",
              " 'successful',\n",
              " 'natural',\n",
              " 'language',\n",
              " 'processing',\n",
              " 'systems',\n",
              " 'developed',\n",
              " '1960s',\n",
              " 'shrdlu',\n",
              " 'natural',\n",
              " 'language',\n",
              " 'system',\n",
              " 'working',\n",
              " 'restricted',\n",
              " 'blocks',\n",
              " 'worlds',\n",
              " 'restricted',\n",
              " 'vocabularies',\n",
              " 'eliza',\n",
              " 'simulation',\n",
              " 'rogerian',\n",
              " 'psychotherapist',\n",
              " 'written',\n",
              " 'joseph',\n",
              " 'weizenbaum',\n",
              " '1964',\n",
              " '1966',\n",
              " 'using',\n",
              " 'almost',\n",
              " 'information',\n",
              " 'human',\n",
              " 'thought',\n",
              " 'emotion',\n",
              " 'eliza',\n",
              " 'sometimes',\n",
              " 'provided',\n",
              " 'startlingly',\n",
              " 'humanlike',\n",
              " 'interaction',\n",
              " 'patient',\n",
              " 'exceeded',\n",
              " 'small',\n",
              " 'knowledge',\n",
              " 'base',\n",
              " 'eliza',\n",
              " 'might',\n",
              " 'provide',\n",
              " 'generic',\n",
              " 'response',\n",
              " 'example',\n",
              " 'responding',\n",
              " 'head',\n",
              " 'hurts',\n",
              " 'say',\n",
              " 'head',\n",
              " 'hurts',\n",
              " '1970s',\n",
              " '1970s',\n",
              " 'many',\n",
              " 'programmers',\n",
              " 'began',\n",
              " 'write',\n",
              " 'conceptual',\n",
              " 'ontologies',\n",
              " 'structured',\n",
              " 'realworld',\n",
              " 'information',\n",
              " 'computerunderstandable',\n",
              " 'data',\n",
              " 'examples',\n",
              " 'margie',\n",
              " 'schank',\n",
              " '1975',\n",
              " 'sam',\n",
              " 'cullingford',\n",
              " '1978',\n",
              " 'pam',\n",
              " 'wilensky',\n",
              " '1978',\n",
              " 'talespin',\n",
              " 'meehan',\n",
              " '1976',\n",
              " 'qualm',\n",
              " 'lehnert',\n",
              " '1977',\n",
              " 'politics',\n",
              " 'carbonell',\n",
              " '1979',\n",
              " 'plot',\n",
              " 'units',\n",
              " 'lehnert',\n",
              " '1981',\n",
              " 'time',\n",
              " 'first',\n",
              " 'chatterbots',\n",
              " 'written',\n",
              " 'eg',\n",
              " 'parry',\n",
              " '1980s',\n",
              " '1980s',\n",
              " 'early',\n",
              " '1990s',\n",
              " 'mark',\n",
              " 'heyday',\n",
              " 'symbolic',\n",
              " 'methods',\n",
              " 'nlp',\n",
              " 'focus',\n",
              " 'areas',\n",
              " 'time',\n",
              " 'included',\n",
              " 'research',\n",
              " 'rulebased',\n",
              " 'parsing',\n",
              " 'eg',\n",
              " 'development',\n",
              " 'hpsg',\n",
              " 'computational',\n",
              " 'operationalization',\n",
              " 'generative',\n",
              " 'grammar',\n",
              " 'morphology',\n",
              " 'eg',\n",
              " 'twolevel',\n",
              " 'morphology',\n",
              " 'semantics',\n",
              " 'eg',\n",
              " 'lesk',\n",
              " 'algorithm',\n",
              " 'reference',\n",
              " 'eg',\n",
              " 'within',\n",
              " 'centering',\n",
              " 'theory',\n",
              " 'areas',\n",
              " 'natural',\n",
              " 'language',\n",
              " 'understanding',\n",
              " 'eg',\n",
              " 'rhetorical',\n",
              " 'structure',\n",
              " 'theory',\n",
              " 'lines',\n",
              " 'research',\n",
              " 'continued',\n",
              " 'eg',\n",
              " 'development',\n",
              " 'chatterbots',\n",
              " 'racter',\n",
              " 'jabberwacky',\n",
              " 'important',\n",
              " 'development',\n",
              " 'eventually',\n",
              " 'led',\n",
              " 'statistical',\n",
              " 'turn',\n",
              " '1990s',\n",
              " 'rising',\n",
              " 'importance',\n",
              " 'quantitative',\n",
              " 'evaluation',\n",
              " 'period',\n",
              " 'statistical',\n",
              " 'nlp',\n",
              " '1990s2010s',\n",
              " '1980s',\n",
              " 'natural',\n",
              " 'language',\n",
              " 'processing',\n",
              " 'systems',\n",
              " 'based',\n",
              " 'complex',\n",
              " 'sets',\n",
              " 'handwritten',\n",
              " 'rules',\n",
              " 'starting',\n",
              " 'late',\n",
              " '1980s',\n",
              " 'however',\n",
              " 'revolution',\n",
              " 'natural',\n",
              " 'language',\n",
              " 'processing',\n",
              " 'introduction',\n",
              " 'machine',\n",
              " 'learning',\n",
              " 'algorithms',\n",
              " 'language',\n",
              " 'processing',\n",
              " 'due',\n",
              " 'steady',\n",
              " 'increase',\n",
              " 'computational',\n",
              " 'power',\n",
              " 'see',\n",
              " 'moores',\n",
              " 'law',\n",
              " 'gradual',\n",
              " 'lessening',\n",
              " 'dominance',\n",
              " 'chomskyan',\n",
              " 'theories',\n",
              " 'linguistics',\n",
              " 'eg',\n",
              " 'transformational',\n",
              " 'grammar',\n",
              " 'whose',\n",
              " 'theoretical',\n",
              " 'underpinnings',\n",
              " 'discouraged',\n",
              " 'sort',\n",
              " 'corpus',\n",
              " 'linguistics',\n",
              " 'underlies',\n",
              " 'machinelearning',\n",
              " 'approach',\n",
              " 'language',\n",
              " 'processing',\n",
              " '1990s',\n",
              " 'many',\n",
              " 'notable',\n",
              " 'early',\n",
              " 'successes',\n",
              " 'statistical',\n",
              " 'methods',\n",
              " 'nlp',\n",
              " 'occurred',\n",
              " 'field',\n",
              " 'machine',\n",
              " 'translation',\n",
              " 'due',\n",
              " 'especially',\n",
              " 'work',\n",
              " 'ibm',\n",
              " 'research',\n",
              " 'systems',\n",
              " 'able',\n",
              " 'take',\n",
              " 'advantage',\n",
              " 'existing',\n",
              " 'multilingual',\n",
              " 'textual',\n",
              " 'corpora',\n",
              " 'produced',\n",
              " 'parliament',\n",
              " 'canada',\n",
              " 'european',\n",
              " 'union',\n",
              " 'result',\n",
              " 'laws',\n",
              " 'calling',\n",
              " 'translation',\n",
              " 'governmental',\n",
              " 'proceedings',\n",
              " 'official',\n",
              " 'languages',\n",
              " 'corresponding',\n",
              " 'systems',\n",
              " 'government',\n",
              " 'however',\n",
              " 'systems',\n",
              " 'depended',\n",
              " 'corpora',\n",
              " 'specifically',\n",
              " 'developed',\n",
              " 'tasks',\n",
              " 'implemented',\n",
              " 'systems',\n",
              " 'often',\n",
              " 'continues',\n",
              " 'major',\n",
              " 'limitation',\n",
              " 'success',\n",
              " 'systems',\n",
              " 'result',\n",
              " 'great',\n",
              " 'deal',\n",
              " 'research',\n",
              " 'gone',\n",
              " 'methods',\n",
              " 'effectively',\n",
              " 'learning',\n",
              " 'limited',\n",
              " 'amounts',\n",
              " 'data',\n",
              " '2000s',\n",
              " 'growth',\n",
              " 'web',\n",
              " 'increasing',\n",
              " 'amounts',\n",
              " 'raw',\n",
              " 'unannotated',\n",
              " 'language',\n",
              " 'data',\n",
              " 'become',\n",
              " 'available',\n",
              " 'since',\n",
              " 'mid1990s',\n",
              " 'research',\n",
              " 'thus',\n",
              " 'increasingly',\n",
              " 'focused',\n",
              " 'unsupervised',\n",
              " 'semisupervised',\n",
              " 'learning',\n",
              " 'algorithms',\n",
              " 'algorithms',\n",
              " 'learn',\n",
              " 'data',\n",
              " 'handannotated',\n",
              " 'desired',\n",
              " 'answers',\n",
              " 'using',\n",
              " 'combination',\n",
              " 'annotated',\n",
              " 'nonannotated',\n",
              " 'data',\n",
              " 'generally',\n",
              " 'task',\n",
              " 'much',\n",
              " 'difficult',\n",
              " 'supervised',\n",
              " 'learning',\n",
              " 'typically',\n",
              " 'produces',\n",
              " 'less',\n",
              " 'accurate',\n",
              " 'results',\n",
              " 'given',\n",
              " 'amount',\n",
              " 'input',\n",
              " 'data',\n",
              " 'however',\n",
              " 'enormous',\n",
              " 'amount',\n",
              " 'nonannotated',\n",
              " 'data',\n",
              " 'available',\n",
              " 'including',\n",
              " 'among',\n",
              " 'things',\n",
              " 'entire',\n",
              " 'content',\n",
              " 'world',\n",
              " 'wide',\n",
              " 'web',\n",
              " 'often',\n",
              " 'make',\n",
              " 'inferior',\n",
              " 'results',\n",
              " 'algorithm',\n",
              " 'used',\n",
              " 'low',\n",
              " 'enough',\n",
              " 'time',\n",
              " 'complexity',\n",
              " 'practical',\n",
              " 'neural',\n",
              " 'nlp',\n",
              " 'present',\n",
              " '2010s',\n",
              " 'representation',\n",
              " 'learning',\n",
              " 'deep',\n",
              " 'neural',\n",
              " 'networkstyle',\n",
              " 'machine',\n",
              " 'learning',\n",
              " 'methods',\n",
              " 'became',\n",
              " 'widespread',\n",
              " 'natural',\n",
              " 'language',\n",
              " 'processing',\n",
              " 'popularity',\n",
              " 'due',\n",
              " 'partly',\n",
              " 'flurry',\n",
              " 'results',\n",
              " 'showing',\n",
              " 'techniques',\n",
              " 'achieve',\n",
              " 'stateoftheart',\n",
              " 'results',\n",
              " 'many',\n",
              " 'natural',\n",
              " 'language',\n",
              " 'tasks',\n",
              " 'eg',\n",
              " 'language',\n",
              " 'modeling',\n",
              " 'parsing',\n",
              " 'increasingly',\n",
              " 'important',\n",
              " 'medicine',\n",
              " 'healthcare',\n",
              " 'nlp',\n",
              " 'helps',\n",
              " 'analyze',\n",
              " 'notes',\n",
              " 'text',\n",
              " 'electronic',\n",
              " 'health',\n",
              " 'records',\n",
              " 'would',\n",
              " 'otherwise',\n",
              " 'inaccessible',\n",
              " 'study',\n",
              " 'seeking',\n",
              " 'improve',\n",
              " 'care',\n",
              " 'methods',\n",
              " 'rules',\n",
              " 'statistics',\n",
              " 'neural',\n",
              " 'networks',\n",
              " 'early',\n",
              " 'days',\n",
              " 'many',\n",
              " 'languageprocessing',\n",
              " 'systems',\n",
              " 'designed',\n",
              " 'symbolic',\n",
              " 'methods',\n",
              " 'ie',\n",
              " 'handcoding',\n",
              " 'set',\n",
              " 'rules',\n",
              " 'coupled',\n",
              " 'dictionary',\n",
              " 'lookup',\n",
              " 'writing',\n",
              " 'grammars',\n",
              " 'devising',\n",
              " 'heuristic',\n",
              " 'rules',\n",
              " 'stemming',\n",
              " 'recent',\n",
              " 'systems',\n",
              " 'based',\n",
              " 'machinelearning',\n",
              " 'algorithms',\n",
              " 'many',\n",
              " 'advantages',\n",
              " 'handproduced',\n",
              " 'rules',\n",
              " 'learning',\n",
              " 'procedures',\n",
              " 'used',\n",
              " 'machine',\n",
              " 'learning',\n",
              " 'automatically',\n",
              " 'focus',\n",
              " 'common',\n",
              " 'cases',\n",
              " 'whereas',\n",
              " 'writing',\n",
              " 'rules',\n",
              " 'hand',\n",
              " 'often',\n",
              " 'obvious',\n",
              " 'effort',\n",
              " 'directed',\n",
              " 'automatic',\n",
              " 'learning',\n",
              " 'procedures',\n",
              " 'make',\n",
              " 'use',\n",
              " 'statistical',\n",
              " 'inference',\n",
              " 'algorithms',\n",
              " 'produce',\n",
              " 'models',\n",
              " 'robust',\n",
              " 'unfamiliar',\n",
              " 'input',\n",
              " 'eg',\n",
              " 'containing',\n",
              " 'words',\n",
              " 'structures',\n",
              " 'seen',\n",
              " 'erroneous',\n",
              " 'input',\n",
              " 'eg',\n",
              " 'misspelled',\n",
              " 'words',\n",
              " 'words',\n",
              " 'accidentally',\n",
              " 'omitted',\n",
              " 'generally',\n",
              " 'handling',\n",
              " 'input',\n",
              " 'gracefully',\n",
              " 'handwritten',\n",
              " 'rules',\n",
              " 'generally',\n",
              " 'creating',\n",
              " 'systems',\n",
              " 'handwritten',\n",
              " 'rules',\n",
              " 'make',\n",
              " 'soft',\n",
              " 'decisions',\n",
              " 'extremely',\n",
              " 'difficult',\n",
              " 'errorprone',\n",
              " 'timeconsuming',\n",
              " 'systems',\n",
              " 'based',\n",
              " 'automatically',\n",
              " 'learning',\n",
              " 'rules',\n",
              " 'made',\n",
              " 'accurate',\n",
              " 'simply',\n",
              " 'supplying',\n",
              " 'input',\n",
              " 'data',\n",
              " 'however',\n",
              " 'systems',\n",
              " 'based',\n",
              " 'handwritten',\n",
              " 'rules',\n",
              " 'made',\n",
              " 'accurate',\n",
              " 'increasing',\n",
              " 'complexity',\n",
              " 'rules',\n",
              " 'much',\n",
              " 'difficult',\n",
              " 'task',\n",
              " 'particular',\n",
              " 'limit',\n",
              " 'complexity',\n",
              " 'systems',\n",
              " 'based',\n",
              " 'handwritten',\n",
              " 'rules',\n",
              " 'beyond',\n",
              " 'systems',\n",
              " 'become',\n",
              " 'unmanageable',\n",
              " 'however',\n",
              " 'creating',\n",
              " 'data',\n",
              " 'input',\n",
              " 'machinelearning',\n",
              " 'systems',\n",
              " 'simply',\n",
              " 'requires',\n",
              " 'corresponding',\n",
              " 'increase',\n",
              " 'number',\n",
              " 'manhours',\n",
              " 'worked',\n",
              " 'generally',\n",
              " 'without',\n",
              " 'significant',\n",
              " 'increases',\n",
              " 'complexity',\n",
              " 'annotation',\n",
              " 'processdespite',\n",
              " 'popularity',\n",
              " 'machine',\n",
              " 'learning',\n",
              " 'nlp',\n",
              " 'research',\n",
              " 'symbolic',\n",
              " 'methods',\n",
              " 'still',\n",
              " '2020',\n",
              " 'commonly',\n",
              " 'used',\n",
              " 'amount',\n",
              " 'training',\n",
              " 'data',\n",
              " 'insufficient',\n",
              " 'successfully',\n",
              " 'apply',\n",
              " 'machine',\n",
              " 'learning',\n",
              " 'methods',\n",
              " 'eg',\n",
              " 'machine',\n",
              " 'translation',\n",
              " 'lowresource',\n",
              " 'languages',\n",
              " 'provided',\n",
              " 'apertium',\n",
              " 'system',\n",
              " 'preprocessing',\n",
              " 'nlp',\n",
              " 'pipelines',\n",
              " 'eg',\n",
              " 'tokenization',\n",
              " 'postprocessing',\n",
              " 'transforming',\n",
              " 'output',\n",
              " 'nlp',\n",
              " 'pipelines',\n",
              " 'eg',\n",
              " 'knowledge',\n",
              " 'extraction',\n",
              " 'syntactic',\n",
              " 'parses',\n",
              " 'statistical',\n",
              " 'methods',\n",
              " 'since',\n",
              " 'socalled',\n",
              " 'statistical',\n",
              " 'revolution',\n",
              " 'late',\n",
              " '1980s',\n",
              " 'mid1990s',\n",
              " 'much',\n",
              " 'natural',\n",
              " 'language',\n",
              " 'processing',\n",
              " 'research',\n",
              " 'relied',\n",
              " 'heavily',\n",
              " 'machine',\n",
              " 'learning',\n",
              " 'machinelearning',\n",
              " 'paradigm',\n",
              " 'calls',\n",
              " 'instead',\n",
              " 'using',\n",
              " 'statistical',\n",
              " 'inference',\n",
              " 'automatically',\n",
              " 'learn',\n",
              " 'rules',\n",
              " 'analysis',\n",
              " 'large',\n",
              " 'corpora',\n",
              " 'plural',\n",
              " 'form',\n",
              " 'corpus',\n",
              " 'set',\n",
              " 'documents',\n",
              " 'possibly',\n",
              " 'human',\n",
              " 'computer',\n",
              " 'annotations',\n",
              " 'typical',\n",
              " 'realworld',\n",
              " 'examples',\n",
              " 'many',\n",
              " 'different',\n",
              " 'classes',\n",
              " 'machinelearning',\n",
              " 'algorithms',\n",
              " 'applied',\n",
              " 'naturallanguageprocessing',\n",
              " 'tasks',\n",
              " 'algorithms',\n",
              " 'take',\n",
              " 'input',\n",
              " 'large',\n",
              " 'set',\n",
              " 'features',\n",
              " 'generated',\n",
              " 'input',\n",
              " 'data',\n",
              " 'increasingly',\n",
              " 'however',\n",
              " 'research',\n",
              " 'focused',\n",
              " 'statistical',\n",
              " 'models',\n",
              " 'make',\n",
              " 'soft',\n",
              " 'probabilistic',\n",
              " 'decisions',\n",
              " 'based',\n",
              " 'attaching',\n",
              " 'realvalued',\n",
              " 'weights',\n",
              " 'input',\n",
              " 'feature',\n",
              " 'complexvalued',\n",
              " 'embeddings',\n",
              " 'neural',\n",
              " 'networks',\n",
              " 'general',\n",
              " 'also',\n",
              " 'proposed',\n",
              " 'eg',\n",
              " 'speech',\n",
              " 'models',\n",
              " 'advantage',\n",
              " 'express',\n",
              " 'relative',\n",
              " 'certainty',\n",
              " 'many',\n",
              " 'different',\n",
              " 'possible',\n",
              " 'answers',\n",
              " 'rather',\n",
              " 'one',\n",
              " 'producing',\n",
              " 'reliable',\n",
              " 'results',\n",
              " 'model',\n",
              " 'included',\n",
              " 'component',\n",
              " 'larger',\n",
              " 'system',\n",
              " 'earliestused',\n",
              " 'machine',\n",
              " 'learning',\n",
              " 'algorithms',\n",
              " 'decision',\n",
              " 'trees',\n",
              " 'produced',\n",
              " 'systems',\n",
              " 'hard',\n",
              " 'ifthen',\n",
              " 'rules',\n",
              " 'similar',\n",
              " 'existing',\n",
              " 'handwritten',\n",
              " 'rules',\n",
              " 'however',\n",
              " 'partofspeech',\n",
              " 'tagging',\n",
              " 'introduced',\n",
              " 'use',\n",
              " 'hidden',\n",
              " 'markov',\n",
              " 'models',\n",
              " 'natural',\n",
              " 'language',\n",
              " 'processing',\n",
              " 'increasingly',\n",
              " 'research',\n",
              " 'focused',\n",
              " 'statistical',\n",
              " 'models',\n",
              " 'make',\n",
              " 'soft',\n",
              " 'probabilistic',\n",
              " 'decisions',\n",
              " 'based',\n",
              " 'attaching',\n",
              " 'realvalued',\n",
              " 'weights',\n",
              " 'features',\n",
              " 'making',\n",
              " 'input',\n",
              " 'data',\n",
              " 'cache',\n",
              " 'language',\n",
              " 'models',\n",
              " 'upon',\n",
              " 'many',\n",
              " 'speech',\n",
              " 'recognition',\n",
              " 'systems',\n",
              " 'rely',\n",
              " 'examples',\n",
              " 'statistical',\n",
              " 'models',\n",
              " 'models',\n",
              " 'generally',\n",
              " 'robust',\n",
              " 'given',\n",
              " 'unfamiliar',\n",
              " 'input',\n",
              " 'especially',\n",
              " 'input',\n",
              " 'contains',\n",
              " 'errors',\n",
              " 'common',\n",
              " 'realworld',\n",
              " 'data',\n",
              " 'produce',\n",
              " 'reliable',\n",
              " 'results',\n",
              " 'integrated',\n",
              " 'larger',\n",
              " 'system',\n",
              " 'comprising',\n",
              " 'multiple',\n",
              " 'subtasks',\n",
              " 'since',\n",
              " 'neural',\n",
              " 'turn',\n",
              " 'statistical',\n",
              " 'methods',\n",
              " 'nlp',\n",
              " 'research',\n",
              " 'largely',\n",
              " 'replaced',\n",
              " 'neural',\n",
              " 'networks',\n",
              " 'however',\n",
              " 'continue',\n",
              " 'relevant',\n",
              " 'contexts',\n",
              " 'statistical',\n",
              " 'interpretability',\n",
              " 'transparency',\n",
              " 'required',\n",
              " 'neural',\n",
              " 'networks',\n",
              " 'major',\n",
              " 'drawback',\n",
              " 'statistical',\n",
              " 'methods',\n",
              " 'require',\n",
              " ...]"
            ]
          },
          "metadata": {},
          "execution_count": 22
        }
      ]
    },
    {
      "cell_type": "code",
      "source": [
        "#stemming\n",
        "from nltk.stem import PorterStemmer\n",
        "from nltk.tokenize import word_tokenize\n",
        "stemmer= PorterStemmer()\n",
        "print(\"Before Stemming:\")\n",
        "print(tokenized_text_without_stopwords)\n",
        "print(\"After Stemming:\")\n",
        "l = ' '\n",
        "for word in tokenized_text_without_stopwords:\n",
        "  l = l + stemmer.stem(word) + ' '\n",
        "print(l)"
      ],
      "metadata": {
        "id": "wIOtCl9Nar9M",
        "colab": {
          "base_uri": "https://localhost:8080/"
        },
        "outputId": "d120f6df-3edb-4545-f06d-263391f26940"
      },
      "execution_count": null,
      "outputs": [
        {
          "output_type": "stream",
          "name": "stdout",
          "text": [
            "Before Stemming:\n",
            "['natural', 'language', 'processing', 'nlp', 'subfield', 'linguistics', 'computer', 'science', 'artificial', 'intelligence', 'concerned', 'interactions', 'computers', 'human', 'language', 'particular', 'program', 'computers', 'process', 'analyze', 'large', 'amounts', 'natural', 'language', 'data', 'goal', 'computer', 'capable', 'understanding', 'contents', 'documents', 'including', 'contextual', 'nuances', 'language', 'within', 'technology', 'accurately', 'extract', 'information', 'insights', 'contained', 'documents', 'well', 'categorize', 'organize', 'documents', 'challenges', 'natural', 'language', 'processing', 'frequently', 'involve', 'speech', 'recognition', 'naturallanguage', 'understanding', 'naturallanguage', 'generation', 'history', 'natural', 'language', 'processing', 'roots', '1950s', 'already', '1950', 'alan', 'turing', 'published', 'article', 'titled', 'computing', 'machinery', 'intelligence', 'proposed', 'called', 'turing', 'test', 'criterion', 'intelligence', 'though', 'time', 'articulated', 'problem', 'separate', 'artificial', 'intelligence', 'proposed', 'test', 'includes', 'task', 'involves', 'automated', 'interpretation', 'generation', 'natural', 'language', 'symbolic', 'nlp', '1950s', 'early', '1990s', 'premise', 'symbolic', 'nlp', 'wellsummarized', 'john', 'searles', 'chinese', 'room', 'experiment', 'given', 'collection', 'rules', 'eg', 'chinese', 'phrasebook', 'questions', 'matching', 'answers', 'computer', 'emulates', 'natural', 'language', 'understanding', 'nlp', 'tasks', 'applying', 'rules', 'data', 'confronts', '1950s', 'georgetown', 'experiment', '1954', 'involved', 'fully', 'automatic', 'translation', 'sixty', 'russian', 'sentences', 'english', 'authors', 'claimed', 'within', 'three', 'five', 'years', 'machine', 'translation', 'would', 'solved', 'problem', 'however', 'real', 'progress', 'much', 'slower', 'alpac', 'report', '1966', 'found', 'tenyearlong', 'research', 'failed', 'fulfill', 'expectations', 'funding', 'machine', 'translation', 'dramatically', 'reduced', 'little', 'research', 'machine', 'translation', 'conducted', 'late', '1980s', 'first', 'statistical', 'machine', 'translation', 'systems', 'developed', '1960s', 'notably', 'successful', 'natural', 'language', 'processing', 'systems', 'developed', '1960s', 'shrdlu', 'natural', 'language', 'system', 'working', 'restricted', 'blocks', 'worlds', 'restricted', 'vocabularies', 'eliza', 'simulation', 'rogerian', 'psychotherapist', 'written', 'joseph', 'weizenbaum', '1964', '1966', 'using', 'almost', 'information', 'human', 'thought', 'emotion', 'eliza', 'sometimes', 'provided', 'startlingly', 'humanlike', 'interaction', 'patient', 'exceeded', 'small', 'knowledge', 'base', 'eliza', 'might', 'provide', 'generic', 'response', 'example', 'responding', 'head', 'hurts', 'say', 'head', 'hurts', '1970s', '1970s', 'many', 'programmers', 'began', 'write', 'conceptual', 'ontologies', 'structured', 'realworld', 'information', 'computerunderstandable', 'data', 'examples', 'margie', 'schank', '1975', 'sam', 'cullingford', '1978', 'pam', 'wilensky', '1978', 'talespin', 'meehan', '1976', 'qualm', 'lehnert', '1977', 'politics', 'carbonell', '1979', 'plot', 'units', 'lehnert', '1981', 'time', 'first', 'chatterbots', 'written', 'eg', 'parry', '1980s', '1980s', 'early', '1990s', 'mark', 'heyday', 'symbolic', 'methods', 'nlp', 'focus', 'areas', 'time', 'included', 'research', 'rulebased', 'parsing', 'eg', 'development', 'hpsg', 'computational', 'operationalization', 'generative', 'grammar', 'morphology', 'eg', 'twolevel', 'morphology', 'semantics', 'eg', 'lesk', 'algorithm', 'reference', 'eg', 'within', 'centering', 'theory', 'areas', 'natural', 'language', 'understanding', 'eg', 'rhetorical', 'structure', 'theory', 'lines', 'research', 'continued', 'eg', 'development', 'chatterbots', 'racter', 'jabberwacky', 'important', 'development', 'eventually', 'led', 'statistical', 'turn', '1990s', 'rising', 'importance', 'quantitative', 'evaluation', 'period', 'statistical', 'nlp', '1990s2010s', '1980s', 'natural', 'language', 'processing', 'systems', 'based', 'complex', 'sets', 'handwritten', 'rules', 'starting', 'late', '1980s', 'however', 'revolution', 'natural', 'language', 'processing', 'introduction', 'machine', 'learning', 'algorithms', 'language', 'processing', 'due', 'steady', 'increase', 'computational', 'power', 'see', 'moores', 'law', 'gradual', 'lessening', 'dominance', 'chomskyan', 'theories', 'linguistics', 'eg', 'transformational', 'grammar', 'whose', 'theoretical', 'underpinnings', 'discouraged', 'sort', 'corpus', 'linguistics', 'underlies', 'machinelearning', 'approach', 'language', 'processing', '1990s', 'many', 'notable', 'early', 'successes', 'statistical', 'methods', 'nlp', 'occurred', 'field', 'machine', 'translation', 'due', 'especially', 'work', 'ibm', 'research', 'systems', 'able', 'take', 'advantage', 'existing', 'multilingual', 'textual', 'corpora', 'produced', 'parliament', 'canada', 'european', 'union', 'result', 'laws', 'calling', 'translation', 'governmental', 'proceedings', 'official', 'languages', 'corresponding', 'systems', 'government', 'however', 'systems', 'depended', 'corpora', 'specifically', 'developed', 'tasks', 'implemented', 'systems', 'often', 'continues', 'major', 'limitation', 'success', 'systems', 'result', 'great', 'deal', 'research', 'gone', 'methods', 'effectively', 'learning', 'limited', 'amounts', 'data', '2000s', 'growth', 'web', 'increasing', 'amounts', 'raw', 'unannotated', 'language', 'data', 'become', 'available', 'since', 'mid1990s', 'research', 'thus', 'increasingly', 'focused', 'unsupervised', 'semisupervised', 'learning', 'algorithms', 'algorithms', 'learn', 'data', 'handannotated', 'desired', 'answers', 'using', 'combination', 'annotated', 'nonannotated', 'data', 'generally', 'task', 'much', 'difficult', 'supervised', 'learning', 'typically', 'produces', 'less', 'accurate', 'results', 'given', 'amount', 'input', 'data', 'however', 'enormous', 'amount', 'nonannotated', 'data', 'available', 'including', 'among', 'things', 'entire', 'content', 'world', 'wide', 'web', 'often', 'make', 'inferior', 'results', 'algorithm', 'used', 'low', 'enough', 'time', 'complexity', 'practical', 'neural', 'nlp', 'present', '2010s', 'representation', 'learning', 'deep', 'neural', 'networkstyle', 'machine', 'learning', 'methods', 'became', 'widespread', 'natural', 'language', 'processing', 'popularity', 'due', 'partly', 'flurry', 'results', 'showing', 'techniques', 'achieve', 'stateoftheart', 'results', 'many', 'natural', 'language', 'tasks', 'eg', 'language', 'modeling', 'parsing', 'increasingly', 'important', 'medicine', 'healthcare', 'nlp', 'helps', 'analyze', 'notes', 'text', 'electronic', 'health', 'records', 'would', 'otherwise', 'inaccessible', 'study', 'seeking', 'improve', 'care', 'methods', 'rules', 'statistics', 'neural', 'networks', 'early', 'days', 'many', 'languageprocessing', 'systems', 'designed', 'symbolic', 'methods', 'ie', 'handcoding', 'set', 'rules', 'coupled', 'dictionary', 'lookup', 'writing', 'grammars', 'devising', 'heuristic', 'rules', 'stemming', 'recent', 'systems', 'based', 'machinelearning', 'algorithms', 'many', 'advantages', 'handproduced', 'rules', 'learning', 'procedures', 'used', 'machine', 'learning', 'automatically', 'focus', 'common', 'cases', 'whereas', 'writing', 'rules', 'hand', 'often', 'obvious', 'effort', 'directed', 'automatic', 'learning', 'procedures', 'make', 'use', 'statistical', 'inference', 'algorithms', 'produce', 'models', 'robust', 'unfamiliar', 'input', 'eg', 'containing', 'words', 'structures', 'seen', 'erroneous', 'input', 'eg', 'misspelled', 'words', 'words', 'accidentally', 'omitted', 'generally', 'handling', 'input', 'gracefully', 'handwritten', 'rules', 'generally', 'creating', 'systems', 'handwritten', 'rules', 'make', 'soft', 'decisions', 'extremely', 'difficult', 'errorprone', 'timeconsuming', 'systems', 'based', 'automatically', 'learning', 'rules', 'made', 'accurate', 'simply', 'supplying', 'input', 'data', 'however', 'systems', 'based', 'handwritten', 'rules', 'made', 'accurate', 'increasing', 'complexity', 'rules', 'much', 'difficult', 'task', 'particular', 'limit', 'complexity', 'systems', 'based', 'handwritten', 'rules', 'beyond', 'systems', 'become', 'unmanageable', 'however', 'creating', 'data', 'input', 'machinelearning', 'systems', 'simply', 'requires', 'corresponding', 'increase', 'number', 'manhours', 'worked', 'generally', 'without', 'significant', 'increases', 'complexity', 'annotation', 'processdespite', 'popularity', 'machine', 'learning', 'nlp', 'research', 'symbolic', 'methods', 'still', '2020', 'commonly', 'used', 'amount', 'training', 'data', 'insufficient', 'successfully', 'apply', 'machine', 'learning', 'methods', 'eg', 'machine', 'translation', 'lowresource', 'languages', 'provided', 'apertium', 'system', 'preprocessing', 'nlp', 'pipelines', 'eg', 'tokenization', 'postprocessing', 'transforming', 'output', 'nlp', 'pipelines', 'eg', 'knowledge', 'extraction', 'syntactic', 'parses', 'statistical', 'methods', 'since', 'socalled', 'statistical', 'revolution', 'late', '1980s', 'mid1990s', 'much', 'natural', 'language', 'processing', 'research', 'relied', 'heavily', 'machine', 'learning', 'machinelearning', 'paradigm', 'calls', 'instead', 'using', 'statistical', 'inference', 'automatically', 'learn', 'rules', 'analysis', 'large', 'corpora', 'plural', 'form', 'corpus', 'set', 'documents', 'possibly', 'human', 'computer', 'annotations', 'typical', 'realworld', 'examples', 'many', 'different', 'classes', 'machinelearning', 'algorithms', 'applied', 'naturallanguageprocessing', 'tasks', 'algorithms', 'take', 'input', 'large', 'set', 'features', 'generated', 'input', 'data', 'increasingly', 'however', 'research', 'focused', 'statistical', 'models', 'make', 'soft', 'probabilistic', 'decisions', 'based', 'attaching', 'realvalued', 'weights', 'input', 'feature', 'complexvalued', 'embeddings', 'neural', 'networks', 'general', 'also', 'proposed', 'eg', 'speech', 'models', 'advantage', 'express', 'relative', 'certainty', 'many', 'different', 'possible', 'answers', 'rather', 'one', 'producing', 'reliable', 'results', 'model', 'included', 'component', 'larger', 'system', 'earliestused', 'machine', 'learning', 'algorithms', 'decision', 'trees', 'produced', 'systems', 'hard', 'ifthen', 'rules', 'similar', 'existing', 'handwritten', 'rules', 'however', 'partofspeech', 'tagging', 'introduced', 'use', 'hidden', 'markov', 'models', 'natural', 'language', 'processing', 'increasingly', 'research', 'focused', 'statistical', 'models', 'make', 'soft', 'probabilistic', 'decisions', 'based', 'attaching', 'realvalued', 'weights', 'features', 'making', 'input', 'data', 'cache', 'language', 'models', 'upon', 'many', 'speech', 'recognition', 'systems', 'rely', 'examples', 'statistical', 'models', 'models', 'generally', 'robust', 'given', 'unfamiliar', 'input', 'especially', 'input', 'contains', 'errors', 'common', 'realworld', 'data', 'produce', 'reliable', 'results', 'integrated', 'larger', 'system', 'comprising', 'multiple', 'subtasks', 'since', 'neural', 'turn', 'statistical', 'methods', 'nlp', 'research', 'largely', 'replaced', 'neural', 'networks', 'however', 'continue', 'relevant', 'contexts', 'statistical', 'interpretability', 'transparency', 'required', 'neural', 'networks', 'major', 'drawback', 'statistical', 'methods', 'require', 'elaborate', 'feature', 'engineering', 'since', '2015', 'field', 'thus', 'largely', 'abandoned', 'statistical', 'methods', 'shifted', 'neural', 'networks', 'machine', 'learning', 'popular', 'techniques', 'include', 'use', 'word', 'embeddings', 'capture', 'semantic', 'properties', 'words', 'increase', 'endtoend', 'learning', 'higherlevel', 'task', 'eg', 'question', 'answering', 'instead', 'relying', 'pipeline', 'separate', 'intermediate', 'tasks', 'eg', 'partofspeech', 'tagging', 'dependency', 'parsing', 'areas', 'shift', 'entailed', 'substantial', 'changes', 'nlp', 'systems', 'designed', 'deep', 'neural', 'networkbased', 'approaches', 'may', 'viewed', 'new', 'paradigm', 'distinct', 'statistical', 'natural', 'language', 'processing', 'instance', 'term', 'neural', 'machine', 'translation', 'nmt', 'emphasizes', 'fact', 'deep', 'learningbased', 'approaches', 'machine', 'translation', 'directly', 'learn', 'sequencetosequence', 'transformations', 'obviating', 'need', 'intermediate', 'steps', 'word', 'alignment', 'language', 'modeling', 'used', 'statistical', 'machine', 'translation', 'smt', 'common', 'nlp', 'tasks', 'following', 'list', 'commonly', 'researched', 'tasks', 'natural', 'language', 'processing', 'tasks', 'direct', 'realworld', 'applications', 'others', 'commonly', 'serve', 'subtasks', 'used', 'aid', 'solving', 'larger', 'tasks', 'though', 'natural', 'language', 'processing', 'tasks', 'closely', 'intertwined', 'subdivided', 'categories', 'convenience', 'coarse', 'division', 'given', 'text', 'speech', 'processing', 'optical', 'character', 'recognition', 'ocr', 'given', 'image', 'representing', 'printed', 'text', 'determine', 'corresponding', 'textspeech', 'recognition', 'given', 'sound', 'clip', 'person', 'people', 'speaking', 'determine', 'textual', 'representation', 'speech', 'opposite', 'text', 'speech', 'one', 'extremely', 'difficult', 'problems', 'colloquially', 'termed', 'aicomplete', 'see', 'natural', 'speech', 'hardly', 'pauses', 'successive', 'words', 'thus', 'speech', 'segmentation', 'necessary', 'subtask', 'speech', 'recognition', 'see', 'spoken', 'languages', 'sounds', 'representing', 'successive', 'letters', 'blend', 'process', 'termed', 'coarticulation', 'conversion', 'analog', 'signal', 'discrete', 'characters', 'difficult', 'process', 'also', 'given', 'words', 'language', 'spoken', 'people', 'different', 'accents', 'speech', 'recognition', 'software', 'must', 'able', 'recognize', 'wide', 'variety', 'input', 'identical', 'terms', 'textual', 'equivalent', 'speech', 'segmentation', 'given', 'sound', 'clip', 'person', 'people', 'speaking', 'separate', 'words', 'subtask', 'speech', 'recognition', 'typically', 'grouped', 'ittexttospeech', 'given', 'text', 'transform', 'units', 'produce', 'spoken', 'representation', 'texttospeech', 'used', 'aid', 'visually', 'impairedword', 'segmentation', 'tokenization', 'separate', 'chunk', 'continuous', 'text', 'separate', 'words', 'language', 'like', 'english', 'fairly', 'trivial', 'since', 'words', 'usually', 'separated', 'spaces', 'however', 'written', 'languages', 'like', 'chinese', 'japanese', 'thai', 'mark', 'word', 'boundaries', 'fashion', 'languages', 'text', 'segmentation', 'significant', 'task', 'requiring', 'knowledge', 'vocabulary', 'morphology', 'words', 'language', 'sometimes', 'process', 'also', 'used', 'cases', 'like', 'bag', 'words', 'bow', 'creation', 'data', 'mining', 'morphological', 'analysis', 'lemmatization', 'task', 'removing', 'inflectional', 'endings', 'return', 'base', 'dictionary', 'form', 'word', 'also', 'known', 'lemma', 'lemmatization', 'another', 'technique', 'reducing', 'words', 'normalized', 'form', 'case', 'transformation', 'actually', 'uses', 'dictionary', 'map', 'words', 'actual', 'form', 'morphological', 'segmentation', 'separate', 'words', 'individual', 'morphemes', 'identify', 'class', 'morphemes', 'difficulty', 'task', 'depends', 'greatly', 'complexity', 'morphology', 'ie', 'structure', 'words', 'language', 'considered', 'english', 'fairly', 'simple', 'morphology', 'especially', 'inflectional', 'morphology', 'thus', 'often', 'possible', 'ignore', 'task', 'entirely', 'simply', 'model', 'possible', 'forms', 'word', 'eg', 'open', 'opens', 'opened', 'opening', 'separate', 'words', 'languages', 'turkish', 'meitei', 'highly', 'agglutinated', 'indian', 'language', 'however', 'approach', 'possible', 'dictionary', 'entry', 'thousands', 'possible', 'word', 'forms', 'partofspeech', 'tagging', 'given', 'sentence', 'determine', 'part', 'speech', 'pos', 'word', 'many', 'words', 'especially', 'common', 'ones', 'serve', 'multiple', 'parts', 'speech', 'example', 'book', 'noun', 'book', 'table', 'verb', 'book', 'flight', 'set', 'noun', 'verb', 'adjective', 'least', 'five', 'different', 'parts', 'speechstemming', 'process', 'reducing', 'inflected', 'sometimes', 'derived', 'words', 'base', 'form', 'eg', 'close', 'root', 'closed', 'closing', 'close', 'closer', 'etc', 'stemming', 'yields', 'similar', 'results', 'lemmatization', 'grounds', 'rules', 'dictionary', 'syntactic', 'analysis', 'grammar', 'induction', 'generate', 'formal', 'grammar', 'describes', 'languages', 'syntax', 'sentence', 'breaking', 'also', 'known', 'sentence', 'boundary', 'disambiguation', 'given', 'chunk', 'text', 'find', 'sentence', 'boundaries', 'sentence', 'boundaries', 'often', 'marked', 'periods', 'punctuation', 'marks', 'characters', 'serve', 'purposes', 'eg', 'marking', 'abbreviations', 'parsing', 'determine', 'parse', 'tree', 'grammatical', 'analysis', 'given', 'sentence', 'grammar', 'natural', 'languages', 'ambiguous', 'typical', 'sentences', 'multiple', 'possible', 'analyses', 'perhaps', 'surprisingly', 'typical', 'sentence', 'may', 'thousands', 'potential', 'parses', 'seem', 'completely', 'nonsensical', 'human', 'two', 'primary', 'types', 'parsing', 'dependency', 'parsing', 'constituency', 'parsing', 'dependency', 'parsing', 'focuses', 'relationships', 'words', 'sentence', 'marking', 'things', 'like', 'primary', 'objects', 'predicates', 'whereas', 'constituency', 'parsing', 'focuses', 'building', 'parse', 'tree', 'using', 'probabilistic', 'contextfree', 'grammar', 'pcfg', 'see', 'also', 'stochastic', 'grammar', 'lexical', 'semantics', 'individual', 'words', 'context', 'lexical', 'semantics', 'computational', 'meaning', 'individual', 'words', 'context', 'distributional', 'semantics', 'learn', 'semantic', 'representations', 'data', 'named', 'entity', 'recognition', 'ner', 'given', 'stream', 'text', 'determine', 'items', 'text', 'map', 'proper', 'names', 'people', 'places', 'type', 'name', 'eg', 'person', 'location', 'organization', 'although', 'capitalization', 'aid', 'recognizing', 'named', 'entities', 'languages', 'english', 'information', 'aid', 'determining', 'type', 'named', 'entity', 'case', 'often', 'inaccurate', 'insufficient', 'example', 'first', 'letter', 'sentence', 'also', 'capitalized', 'named', 'entities', 'often', 'span', 'several', 'words', 'capitalized', 'furthermore', 'many', 'languages', 'nonwestern', 'scripts', 'eg', 'chinese', 'arabic', 'capitalization', 'even', 'languages', 'capitalization', 'may', 'consistently', 'use', 'distinguish', 'names', 'example', 'german', 'capitalizes', 'nouns', 'regardless', 'whether', 'names', 'french', 'spanish', 'capitalize', 'names', 'serve', 'adjectivessentiment', 'analysis', 'see', 'also', 'multimodal', 'sentiment', 'analysis', 'extract', 'subjective', 'information', 'usually', 'set', 'documents', 'often', 'using', 'online', 'reviews', 'determine', 'polarity', 'specific', 'objects', 'especially', 'useful', 'identifying', 'trends', 'public', 'opinion', 'social', 'media', 'marketing', 'terminology', 'extraction', 'goal', 'terminology', 'extraction', 'automatically', 'extract', 'relevant', 'terms', 'given', 'corpus', 'wordsense', 'disambiguation', 'wsd', 'many', 'words', 'one', 'meaning', 'select', 'meaning', 'makes', 'sense', 'context', 'problem', 'typically', 'given', 'list', 'words', 'associated', 'word', 'senses', 'eg', 'dictionary', 'online', 'resource', 'wordnet', 'entity', 'linking', 'many', 'wordstypically', 'proper', 'namesrefer', 'named', 'entities', 'select', 'entity', 'famous', 'individual', 'location', 'company', 'etc', 'referred', 'context', 'relational', 'semantics', 'semantics', 'individual', 'sentences', 'relationship', 'extraction', 'given', 'chunk', 'text', 'identify', 'relationships', 'among', 'named', 'entities', 'eg', 'married', 'semantic', 'parsing', 'given', 'piece', 'text', 'typically', 'sentence', 'produce', 'formal', 'representation', 'semantics', 'either', 'graph', 'eg', 'amr', 'parsing', 'accordance', 'logical', 'formalism', 'eg', 'drt', 'parsing', 'challenge', 'typically', 'includes', 'aspects', 'several', 'elementary', 'nlp', 'tasks', 'semantics', 'eg', 'semantic', 'role', 'labelling', 'wordsense', 'disambiguation', 'extended', 'include', 'fullfledged', 'discourse', 'analysis', 'eg', 'discourse', 'analysis', 'coreference', 'see', 'natural', 'language', 'understanding', 'semantic', 'role', 'labelling', 'see', 'also', 'implicit', 'semantic', 'role', 'labelling', 'given', 'single', 'sentence', 'identify', 'disambiguate', 'semantic', 'predicates', 'eg', 'verbal', 'frames', 'identify', 'classify', 'frame', 'elements', 'semantic', 'roles', 'discourse', 'semantics', 'beyond', 'individual', 'sentences', 'coreference', 'resolution', 'given', 'sentence', 'larger', 'chunk', 'text', 'determine', 'words', 'mentions', 'refer', 'objects', 'entities', 'anaphora', 'resolution', 'specific', 'example', 'task', 'specifically', 'concerned', 'matching', 'pronouns', 'nouns', 'names', 'refer', 'general', 'task', 'coreference', 'resolution', 'also', 'includes', 'identifying', 'socalled', 'bridging', 'relationships', 'involving', 'referring', 'expressions', 'example', 'sentence', 'entered', 'johns', 'house', 'front', 'door', 'front', 'door', 'referring', 'expression', 'bridging', 'relationship', 'identified', 'fact', 'door', 'referred', 'front', 'door', 'johns', 'house', 'rather', 'structure', 'might', 'also', 'referred', 'discourse', 'analysis', 'rubric', 'includes', 'several', 'related', 'tasks', 'one', 'task', 'discourse', 'parsing', 'ie', 'identifying', 'discourse', 'structure', 'connected', 'text', 'ie', 'nature', 'discourse', 'relationships', 'sentences', 'eg', 'elaboration', 'explanation', 'contrast', 'another', 'possible', 'task', 'recognizing', 'classifying', 'speech', 'acts', 'chunk', 'text', 'eg', 'yesno', 'question', 'content', 'question', 'statement', 'assertion', 'etcimplicit', 'semantic', 'role', 'labelling', 'given', 'single', 'sentence', 'identify', 'disambiguate', 'semantic', 'predicates', 'eg', 'verbal', 'frames', 'explicit', 'semantic', 'roles', 'current', 'sentence', 'see', 'semantic', 'role', 'labelling', 'identify', 'semantic', 'roles', 'explicitly', 'realized', 'current', 'sentence', 'classify', 'arguments', 'explicitly', 'realized', 'elsewhere', 'text', 'specified', 'resolve', 'former', 'local', 'text', 'closely', 'related', 'task', 'zero', 'anaphora', 'resolution', 'ie', 'extension', 'coreference', 'resolution', 'prodrop', 'languagesrecognizing', 'textual', 'entailment', 'given', 'two', 'text', 'fragments', 'determine', 'one', 'true', 'entails', 'entails', 'others', 'negation', 'allows', 'either', 'true', 'falsetopic', 'segmentation', 'recognition', 'given', 'chunk', 'text', 'separate', 'segments', 'devoted', 'topic', 'identify', 'topic', 'segmentargument', 'mining', 'goal', 'argument', 'mining', 'automatic', 'extraction', 'identification', 'argumentative', 'structures', 'natural', 'language', 'text', 'aid', 'computer', 'programs', 'argumentative', 'structures', 'include', 'premise', 'conclusions', 'argument', 'scheme', 'relationship', 'main', 'subsidiary', 'argument', 'main', 'counterargument', 'within', 'discourse', 'higherlevel', 'nlp', 'applications', 'automatic', 'summarization', 'text', 'summarization', 'produce', 'readable', 'summary', 'chunk', 'text', 'often', 'used', 'provide', 'summaries', 'text', 'known', 'type', 'research', 'papers', 'articles', 'financial', 'section', 'newspaper', 'book', 'generation', 'nlp', 'task', 'proper', 'extension', 'natural', 'language', 'generation', 'nlp', 'tasks', 'creation', 'fullfledged', 'books', 'first', 'machinegenerated', 'book', 'created', 'rulebased', 'system', '1984', 'racter', 'policemans', 'beard', 'halfconstructed', 'first', 'published', 'work', 'neural', 'network', 'published', '2018', '1', 'road', 'marketed', 'novel', 'contains', 'sixty', 'million', 'words', 'systems', 'basically', 'elaborate', 'nonsensical', 'semanticsfree', 'language', 'models', 'first', 'machinegenerated', 'science', 'book', 'published', '2019', 'beta', 'writer', 'lithiumion', 'batteries', 'springer', 'cham', 'unlike', 'racter', '1', 'road', 'grounded', 'factual', 'knowledge', 'based', 'text', 'summarization', 'dialogue', 'management', 'computer', 'systems', 'intended', 'converse', 'human', 'document', 'ai', 'document', 'ai', 'platform', 'sits', 'top', 'nlp', 'technology', 'enabling', 'users', 'prior', 'experience', 'artificial', 'intelligence', 'machine', 'learning', 'nlp', 'quickly', 'train', 'computer', 'extract', 'specific', 'data', 'need', 'different', 'document', 'types', 'nlppowered', 'document', 'ai', 'enables', 'nontechnical', 'teams', 'quickly', 'access', 'information', 'hidden', 'documents', 'example', 'lawyers', 'business', 'analysts', 'accountants', 'grammatical', 'error', 'correction', 'grammatical', 'error', 'detection', 'correction', 'involves', 'great', 'bandwidth', 'problems', 'levels', 'linguistic', 'analysis', 'phonologyorthography', 'morphology', 'syntax', 'semantics', 'pragmatics', 'grammatical', 'error', 'correction', 'impactful', 'since', 'affects', 'hundreds', 'millions', 'people', 'use', 'acquire', 'english', 'second', 'language', 'thus', 'subject', 'number', 'shared', 'tasks', 'since', '2011', 'far', 'orthography', 'morphology', 'syntax', 'certain', 'aspects', 'semantics', 'concerned', 'due', 'development', 'powerful', 'neural', 'language', 'models', 'gpt2', '2019', 'considered', 'largely', 'solved', 'problem', 'marketed', 'various', 'commercial', 'applications', 'machine', 'translation', 'automatically', 'translate', 'text', 'one', 'human', 'language', 'another', 'one', 'difficult', 'problems', 'member', 'class', 'problems', 'colloquially', 'termed', 'aicomplete', 'ie', 'requiring', 'different', 'types', 'knowledge', 'humans', 'possess', 'grammar', 'semantics', 'facts', 'real', 'world', 'etc', 'solve', 'properly', 'naturallanguage', 'generation', 'nlg', 'convert', 'information', 'computer', 'databases', 'semantic', 'intents', 'readable', 'human', 'language', 'naturallanguage', 'understanding', 'nlu', 'convert', 'chunks', 'text', 'formal', 'representations', 'firstorder', 'logic', 'structures', 'easier', 'computer', 'programs', 'manipulate', 'natural', 'language', 'understanding', 'involves', 'identification', 'intended', 'semantic', 'multiple', 'possible', 'semantics', 'derived', 'natural', 'language', 'expression', 'usually', 'takes', 'form', 'organized', 'notations', 'natural', 'language', 'concepts', 'introduction', 'creation', 'language', 'metamodel', 'ontology', 'efficient', 'however', 'empirical', 'solutions', 'explicit', 'formalization', 'natural', 'language', 'semantics', 'without', 'confusions', 'implicit', 'assumptions', 'closedworld', 'assumption', 'cwa', 'vs', 'openworld', 'assumption', 'subjective', 'yesno', 'vs', 'objective', 'truefalse', 'expected', 'construction', 'basis', 'semantics', 'formalization', 'question', 'answering', 'given', 'humanlanguage', 'question', 'determine', 'answer', 'typical', 'questions', 'specific', 'right', 'answer', 'capital', 'canada', 'sometimes', 'openended', 'questions', 'also', 'considered', 'meaning', 'life', 'texttoimage', 'generation', 'given', 'description', 'image', 'generate', 'image', 'matches', 'description', 'texttoscene', 'generation', 'given', 'description', 'scene', 'generate', '3d', 'model', 'scene', 'general', 'tendencies', 'possible', 'future', 'directions', 'based', 'longstanding', 'trends', 'field', 'possible', 'extrapolate', 'future', 'directions', 'nlp', '2020', 'three', 'trends', 'among', 'topics', 'longstanding', 'series', 'conll', 'shared', 'tasks', 'observed', 'interest', 'increasingly', 'abstract', 'cognitive', 'aspects', 'natural', 'language', '19992001', 'shallow', 'parsing', '200203', 'named', 'entity', 'recognition', '200609201718', 'dependency', 'syntax', '200405200809', 'semantic', 'role', 'labelling', '201112', 'coreference', '201516', 'discourse', 'parsing', '2019', 'semantic', 'parsing', 'increasing', 'interest', 'multilinguality', 'potentially', 'multimodality', 'english', 'since', '1999', 'spanish', 'dutch', 'since', '2002', 'german', 'since', '2003', 'bulgarian', 'danish', 'japanese', 'portuguese', 'slovenian', 'swedish', 'turkish', 'since', '2006', 'basque', 'catalan', 'chinese', 'greek', 'hungarian', 'italian', 'turkish', 'since', '2007', 'czech', 'since', '2009', 'arabic', 'since', '2012', '2017', '40', 'languages', '2018', '60100', 'languages', 'elimination', 'symbolic', 'representations', 'rulebased', 'supervised', 'towards', 'weakly', 'supervised', 'methods', 'representation', 'learning', 'endtoend', 'systems', 'cognition', 'nlp', 'higherlevel', 'nlp', 'applications', 'involve', 'aspects', 'emulate', 'intelligent', 'behaviour', 'apparent', 'comprehension', 'natural', 'language', 'broadly', 'speaking', 'technical', 'operationalization', 'increasingly', 'advanced', 'aspects', 'cognitive', 'behaviour', 'represents', 'one', 'developmental', 'trajectories', 'nlp', 'see', 'trends', 'among', 'conll', 'shared', 'tasks', 'cognition', 'refers', 'mental', 'action', 'process', 'acquiring', 'knowledge', 'understanding', 'thought', 'experience', 'senses', 'cognitive', 'science', 'interdisciplinary', 'scientific', 'study', 'mind', 'processes', 'cognitive', 'linguistics', 'interdisciplinary', 'branch', 'linguistics', 'combining', 'knowledge', 'research', 'psychology', 'linguistics', 'especially', 'age', 'symbolic', 'nlp', 'area', 'computational', 'linguistics', 'maintained', 'strong', 'ties', 'cognitive', 'studies', 'example', 'george', 'lakoff', 'offers', 'methodology', 'build', 'natural', 'language', 'processing', 'nlp', 'algorithms', 'perspective', 'cognitive', 'science', 'along', 'findings', 'cognitive', 'linguistics', 'two', 'defining', 'aspects', 'apply', 'theory', 'conceptual', 'metaphor', 'explained', 'lakoff', 'understanding', 'one', 'idea', 'terms', 'another', 'provides', 'idea', 'intent', 'author', 'example', 'consider', 'english', 'word', 'big', 'used', 'comparison', 'big', 'tree', 'authors', 'intent', 'imply', 'tree', 'physically', 'large', 'relative', 'trees', 'authors', 'experience', 'used', 'metaphorically', 'tomorrow', 'big', 'day', 'authors', 'intent', 'imply', 'importance', 'intent', 'behind', 'usages', 'like', 'big', 'person', 'remain', 'somewhat', 'ambiguous', 'person', 'cognitive', 'nlp', 'algorithm', 'alike', 'without', 'additional', 'information', 'assign', 'relative', 'measures', 'meaning', 'word', 'phrase', 'sentence', 'piece', 'text', 'based', 'information', 'presented', 'piece', 'text', 'analyzed', 'eg', 'means', 'probabilistic', 'contextfree', 'grammar', 'pcfg', 'mathematical', 'equation', 'algorithms', 'presented', 'us', 'patent', '9269353', 'r', 'k', 'e', 'n', 'n', 'p', 'k', 'e', 'n', 'n', '1', '2', 'p', 'k', 'e', 'n', 'n', '1', 'p', 'f', 'k', 'e', 'n', 'n', 'k', 'e', 'n', 'n', '1', 'rmm', 'relative', 'measure', 'meaning', 'token', 'block', 'text', 'sentence', 'phrase', 'word', 'n', 'number', 'tokens', 'analyzed', 'pmm', 'probable', 'measure', 'meaning', 'based', 'corpora', 'location', 'token', 'along', 'sequence', 'n1', 'tokens', 'pf', 'probability', 'function', 'specific', 'languageties', 'cognitive', 'linguistics', 'part', 'historical', 'heritage', 'nlp', 'less', 'frequently', 'addressed', 'since', 'statistical', 'turn', '1990s', 'nevertheless', 'approaches', 'develop', 'cognitive', 'models', 'towards', 'technically', 'operationalizable', 'frameworks', 'pursued', 'context', 'various', 'frameworks', 'eg', 'cognitive', 'grammar', 'functional', 'grammar', 'construction', 'grammar', 'computational', 'psycholinguistics', 'cognitive', 'neuroscience', 'eg', 'actr', 'however', 'limited', 'uptake', 'mainstream', 'nlp', 'measured', 'presence', 'major', 'conferences', 'acl', 'recently', 'ideas', 'cognitive', 'nlp', 'revived', 'approach', 'achieve', 'explainability', 'eg', 'notion', 'cognitive', 'ai', 'likewise', 'ideas', 'cognitive', 'nlp', 'inherent', 'neural', 'models', 'multimodal', 'nlp', 'although', 'rarely', 'made', 'explicit', 'see', 'also', 'references', 'reading', 'external', 'links', 'media', 'related', 'natural', 'language', 'processing', 'wikimedia', 'commons']\n",
            "After Stemming:\n",
            " natur languag process nlp subfield linguist comput scienc artifici intellig concern interact comput human languag particular program comput process analyz larg amount natur languag data goal comput capabl understand content document includ contextu nuanc languag within technolog accur extract inform insight contain document well categor organ document challeng natur languag process frequent involv speech recognit naturallanguag understand naturallanguag gener histori natur languag process root 1950 alreadi 1950 alan ture publish articl titl comput machineri intellig propos call ture test criterion intellig though time articul problem separ artifici intellig propos test includ task involv autom interpret gener natur languag symbol nlp 1950 earli 1990 premis symbol nlp wellsummar john searl chines room experi given collect rule eg chines phrasebook question match answer comput emul natur languag understand nlp task appli rule data confront 1950 georgetown experi 1954 involv fulli automat translat sixti russian sentenc english author claim within three five year machin translat would solv problem howev real progress much slower alpac report 1966 found tenyearlong research fail fulfil expect fund machin translat dramat reduc littl research machin translat conduct late 1980 first statist machin translat system develop 1960 notabl success natur languag process system develop 1960 shrdlu natur languag system work restrict block world restrict vocabulari eliza simul rogerian psychotherapist written joseph weizenbaum 1964 1966 use almost inform human thought emot eliza sometim provid startlingli humanlik interact patient exceed small knowledg base eliza might provid gener respons exampl respond head hurt say head hurt 1970 1970 mani programm began write conceptu ontolog structur realworld inform computerunderstand data exampl margi schank 1975 sam cullingford 1978 pam wilenski 1978 talespin meehan 1976 qualm lehnert 1977 polit carbonel 1979 plot unit lehnert 1981 time first chatterbot written eg parri 1980 1980 earli 1990 mark heyday symbol method nlp focu area time includ research rulebas pars eg develop hpsg comput operation gener grammar morpholog eg twolevel morpholog semant eg lesk algorithm refer eg within center theori area natur languag understand eg rhetor structur theori line research continu eg develop chatterbot racter jabberwacki import develop eventu led statist turn 1990 rise import quantit evalu period statist nlp 1990s2010 1980 natur languag process system base complex set handwritten rule start late 1980 howev revolut natur languag process introduct machin learn algorithm languag process due steadi increas comput power see moor law gradual lessen domin chomskyan theori linguist eg transform grammar whose theoret underpin discourag sort corpu linguist underli machinelearn approach languag process 1990 mani notabl earli success statist method nlp occur field machin translat due especi work ibm research system abl take advantag exist multilingu textual corpora produc parliament canada european union result law call translat government proceed offici languag correspond system govern howev system depend corpora specif develop task implement system often continu major limit success system result great deal research gone method effect learn limit amount data 2000 growth web increas amount raw unannot languag data becom avail sinc mid1990 research thu increasingli focus unsupervis semisupervis learn algorithm algorithm learn data handannot desir answer use combin annot nonannot data gener task much difficult supervis learn typic produc less accur result given amount input data howev enorm amount nonannot data avail includ among thing entir content world wide web often make inferior result algorithm use low enough time complex practic neural nlp present 2010 represent learn deep neural networkstyl machin learn method becam widespread natur languag process popular due partli flurri result show techniqu achiev stateoftheart result mani natur languag task eg languag model pars increasingli import medicin healthcar nlp help analyz note text electron health record would otherwis inaccess studi seek improv care method rule statist neural network earli day mani languageprocess system design symbol method ie handcod set rule coupl dictionari lookup write grammar devis heurist rule stem recent system base machinelearn algorithm mani advantag handproduc rule learn procedur use machin learn automat focu common case wherea write rule hand often obviou effort direct automat learn procedur make use statist infer algorithm produc model robust unfamiliar input eg contain word structur seen erron input eg misspel word word accident omit gener handl input grace handwritten rule gener creat system handwritten rule make soft decis extrem difficult errorpron timeconsum system base automat learn rule made accur simpli suppli input data howev system base handwritten rule made accur increas complex rule much difficult task particular limit complex system base handwritten rule beyond system becom unmanag howev creat data input machinelearn system simpli requir correspond increas number manhour work gener without signific increas complex annot processdespit popular machin learn nlp research symbol method still 2020 commonli use amount train data insuffici success appli machin learn method eg machin translat lowresourc languag provid apertium system preprocess nlp pipelin eg token postprocess transform output nlp pipelin eg knowledg extract syntact pars statist method sinc socal statist revolut late 1980 mid1990 much natur languag process research reli heavili machin learn machinelearn paradigm call instead use statist infer automat learn rule analysi larg corpora plural form corpu set document possibl human comput annot typic realworld exampl mani differ class machinelearn algorithm appli naturallanguageprocess task algorithm take input larg set featur gener input data increasingli howev research focus statist model make soft probabilist decis base attach realvalu weight input featur complexvalu embed neural network gener also propos eg speech model advantag express rel certainti mani differ possibl answer rather one produc reliabl result model includ compon larger system earliestus machin learn algorithm decis tree produc system hard ifthen rule similar exist handwritten rule howev partofspeech tag introduc use hidden markov model natur languag process increasingli research focus statist model make soft probabilist decis base attach realvalu weight featur make input data cach languag model upon mani speech recognit system reli exampl statist model model gener robust given unfamiliar input especi input contain error common realworld data produc reliabl result integr larger system compris multipl subtask sinc neural turn statist method nlp research larg replac neural network howev continu relev context statist interpret transpar requir neural network major drawback statist method requir elabor featur engin sinc 2015 field thu larg abandon statist method shift neural network machin learn popular techniqu includ use word embed captur semant properti word increas endtoend learn higherlevel task eg question answer instead reli pipelin separ intermedi task eg partofspeech tag depend pars area shift entail substanti chang nlp system design deep neural networkbas approach may view new paradigm distinct statist natur languag process instanc term neural machin translat nmt emphas fact deep learningbas approach machin translat directli learn sequencetosequ transform obviat need intermedi step word align languag model use statist machin translat smt common nlp task follow list commonli research task natur languag process task direct realworld applic other commonli serv subtask use aid solv larger task though natur languag process task close intertwin subdivid categori conveni coars divis given text speech process optic charact recognit ocr given imag repres print text determin correspond textspeech recognit given sound clip person peopl speak determin textual represent speech opposit text speech one extrem difficult problem colloqui term aicomplet see natur speech hardli paus success word thu speech segment necessari subtask speech recognit see spoken languag sound repres success letter blend process term coarticul convers analog signal discret charact difficult process also given word languag spoken peopl differ accent speech recognit softwar must abl recogn wide varieti input ident term textual equival speech segment given sound clip person peopl speak separ word subtask speech recognit typic group ittexttospeech given text transform unit produc spoken represent texttospeech use aid visual impairedword segment token separ chunk continu text separ word languag like english fairli trivial sinc word usual separ space howev written languag like chines japanes thai mark word boundari fashion languag text segment signific task requir knowledg vocabulari morpholog word languag sometim process also use case like bag word bow creation data mine morpholog analysi lemmat task remov inflect end return base dictionari form word also known lemma lemmat anoth techniqu reduc word normal form case transform actual use dictionari map word actual form morpholog segment separ word individu morphem identifi class morphem difficulti task depend greatli complex morpholog ie structur word languag consid english fairli simpl morpholog especi inflect morpholog thu often possibl ignor task entir simpli model possibl form word eg open open open open separ word languag turkish meitei highli agglutin indian languag howev approach possibl dictionari entri thousand possibl word form partofspeech tag given sentenc determin part speech po word mani word especi common one serv multipl part speech exampl book noun book tabl verb book flight set noun verb adject least five differ part speechstem process reduc inflect sometim deriv word base form eg close root close close close closer etc stem yield similar result lemmat ground rule dictionari syntact analysi grammar induct gener formal grammar describ languag syntax sentenc break also known sentenc boundari disambigu given chunk text find sentenc boundari sentenc boundari often mark period punctuat mark charact serv purpos eg mark abbrevi pars determin pars tree grammat analysi given sentenc grammar natur languag ambigu typic sentenc multipl possibl analys perhap surprisingli typic sentenc may thousand potenti pars seem complet nonsens human two primari type pars depend pars constitu pars depend pars focus relationship word sentenc mark thing like primari object predic wherea constitu pars focus build pars tree use probabilist contextfre grammar pcfg see also stochast grammar lexic semant individu word context lexic semant comput mean individu word context distribut semant learn semant represent data name entiti recognit ner given stream text determin item text map proper name peopl place type name eg person locat organ although capit aid recogn name entiti languag english inform aid determin type name entiti case often inaccur insuffici exampl first letter sentenc also capit name entiti often span sever word capit furthermor mani languag nonwestern script eg chines arab capit even languag capit may consist use distinguish name exampl german capit noun regardless whether name french spanish capit name serv adjectivessenti analysi see also multimod sentiment analysi extract subject inform usual set document often use onlin review determin polar specif object especi use identifi trend public opinion social media market terminolog extract goal terminolog extract automat extract relev term given corpu wordsens disambigu wsd mani word one mean select mean make sens context problem typic given list word associ word sens eg dictionari onlin resourc wordnet entiti link mani wordstyp proper namesref name entiti select entiti famou individu locat compani etc refer context relat semant semant individu sentenc relationship extract given chunk text identifi relationship among name entiti eg marri semant pars given piec text typic sentenc produc formal represent semant either graph eg amr pars accord logic formal eg drt pars challeng typic includ aspect sever elementari nlp task semant eg semant role label wordsens disambigu extend includ fullfledg discours analysi eg discours analysi corefer see natur languag understand semant role label see also implicit semant role label given singl sentenc identifi disambigu semant predic eg verbal frame identifi classifi frame element semant role discours semant beyond individu sentenc corefer resolut given sentenc larger chunk text determin word mention refer object entiti anaphora resolut specif exampl task specif concern match pronoun noun name refer gener task corefer resolut also includ identifi socal bridg relationship involv refer express exampl sentenc enter john hous front door front door refer express bridg relationship identifi fact door refer front door john hous rather structur might also refer discours analysi rubric includ sever relat task one task discours pars ie identifi discours structur connect text ie natur discours relationship sentenc eg elabor explan contrast anoth possibl task recogn classifi speech act chunk text eg yesno question content question statement assert etcimplicit semant role label given singl sentenc identifi disambigu semant predic eg verbal frame explicit semant role current sentenc see semant role label identifi semant role explicitli realiz current sentenc classifi argument explicitli realiz elsewher text specifi resolv former local text close relat task zero anaphora resolut ie extens corefer resolut prodrop languagesrecogn textual entail given two text fragment determin one true entail entail other negat allow either true falsetop segment recognit given chunk text separ segment devot topic identifi topic segmentargu mine goal argument mine automat extract identif argument structur natur languag text aid comput program argument structur includ premis conclus argument scheme relationship main subsidiari argument main counterargu within discours higherlevel nlp applic automat summar text summar produc readabl summari chunk text often use provid summari text known type research paper articl financi section newspap book gener nlp task proper extens natur languag gener nlp task creation fullfledg book first machinegener book creat rulebas system 1984 racter policeman beard halfconstruct first publish work neural network publish 2018 1 road market novel contain sixti million word system basic elabor nonsens semanticsfre languag model first machinegener scienc book publish 2019 beta writer lithiumion batteri springer cham unlik racter 1 road ground factual knowledg base text summar dialogu manag comput system intend convers human document ai document ai platform sit top nlp technolog enabl user prior experi artifici intellig machin learn nlp quickli train comput extract specif data need differ document type nlppower document ai enabl nontechn team quickli access inform hidden document exampl lawyer busi analyst account grammat error correct grammat error detect correct involv great bandwidth problem level linguist analysi phonologyorthographi morpholog syntax semant pragmat grammat error correct impact sinc affect hundr million peopl use acquir english second languag thu subject number share task sinc 2011 far orthographi morpholog syntax certain aspect semant concern due develop power neural languag model gpt2 2019 consid larg solv problem market variou commerci applic machin translat automat translat text one human languag anoth one difficult problem member class problem colloqui term aicomplet ie requir differ type knowledg human possess grammar semant fact real world etc solv properli naturallanguag gener nlg convert inform comput databas semant intent readabl human languag naturallanguag understand nlu convert chunk text formal represent firstord logic structur easier comput program manipul natur languag understand involv identif intend semant multipl possibl semant deriv natur languag express usual take form organ notat natur languag concept introduct creation languag metamodel ontolog effici howev empir solut explicit formal natur languag semant without confus implicit assumpt closedworld assumpt cwa vs openworld assumpt subject yesno vs object truefals expect construct basi semant formal question answer given humanlanguag question determin answer typic question specif right answer capit canada sometim openend question also consid mean life texttoimag gener given descript imag gener imag match descript texttoscen gener given descript scene gener 3d model scene gener tendenc possibl futur direct base longstand trend field possibl extrapol futur direct nlp 2020 three trend among topic longstand seri conll share task observ interest increasingli abstract cognit aspect natur languag 19992001 shallow pars 200203 name entiti recognit 200609201718 depend syntax 200405200809 semant role label 201112 corefer 201516 discours pars 2019 semant pars increas interest multilingu potenti multimod english sinc 1999 spanish dutch sinc 2002 german sinc 2003 bulgarian danish japanes portugues slovenian swedish turkish sinc 2006 basqu catalan chines greek hungarian italian turkish sinc 2007 czech sinc 2009 arab sinc 2012 2017 40 languag 2018 60100 languag elimin symbol represent rulebas supervis toward weakli supervis method represent learn endtoend system cognit nlp higherlevel nlp applic involv aspect emul intellig behaviour appar comprehens natur languag broadli speak technic operation increasingli advanc aspect cognit behaviour repres one development trajectori nlp see trend among conll share task cognit refer mental action process acquir knowledg understand thought experi sens cognit scienc interdisciplinari scientif studi mind process cognit linguist interdisciplinari branch linguist combin knowledg research psycholog linguist especi age symbol nlp area comput linguist maintain strong tie cognit studi exampl georg lakoff offer methodolog build natur languag process nlp algorithm perspect cognit scienc along find cognit linguist two defin aspect appli theori conceptu metaphor explain lakoff understand one idea term anoth provid idea intent author exampl consid english word big use comparison big tree author intent impli tree physic larg rel tree author experi use metaphor tomorrow big day author intent impli import intent behind usag like big person remain somewhat ambigu person cognit nlp algorithm alik without addit inform assign rel measur mean word phrase sentenc piec text base inform present piec text analyz eg mean probabilist contextfre grammar pcfg mathemat equat algorithm present us patent 9269353 r k e n n p k e n n 1 2 p k e n n 1 p f k e n n k e n n 1 rmm rel measur mean token block text sentenc phrase word n number token analyz pmm probabl measur mean base corpora locat token along sequenc n1 token pf probabl function specif languageti cognit linguist part histor heritag nlp less frequent address sinc statist turn 1990 nevertheless approach develop cognit model toward technic operationaliz framework pursu context variou framework eg cognit grammar function grammar construct grammar comput psycholinguist cognit neurosci eg actr howev limit uptak mainstream nlp measur presenc major confer acl recent idea cognit nlp reviv approach achiev explain eg notion cognit ai likewis idea cognit nlp inher neural model multimod nlp although rare made explicit see also refer read extern link media relat natur languag process wikimedia common \n"
          ]
        }
      ]
    },
    {
      "cell_type": "code",
      "source": [
        "training_data = l"
      ],
      "metadata": {
        "id": "R4nH5udZSD6a"
      },
      "execution_count": null,
      "outputs": []
    },
    {
      "cell_type": "markdown",
      "source": [
        "### Testing data uploading and preprocessing"
      ],
      "metadata": {
        "id": "9MZaSwG2RA_d"
      }
    },
    {
      "cell_type": "code",
      "source": [
        "#testing data file\n",
        "test_file = \"/content/examplenlpcutphrased.txt\"\n",
        "test_open = open(test_file, \"r\")\n",
        "#read test data file\n",
        "test_data = test_open.read()"
      ],
      "metadata": {
        "id": "LoFPP3PPaa9x"
      },
      "execution_count": null,
      "outputs": []
    },
    {
      "cell_type": "code",
      "source": [
        "test_data"
      ],
      "metadata": {
        "colab": {
          "base_uri": "https://localhost:8080/",
          "height": 178
        },
        "id": "sqbs4x6fbDuJ",
        "outputId": "7561e703-0d0d-470c-e709-65b0acf4320f"
      },
      "execution_count": null,
      "outputs": [
        {
          "output_type": "execute_result",
          "data": {
            "text/plain": [
              "'Natural language processing (NLP) is a branch of linguistics, computer science and artificial intelligence that deals with the interaction between computers and human language, specifically programming computers to process and analyze large amounts of natural language data. The goal is a computer that can \"understand\" the content of documents, including the contextual nuances of their language. The technology can then accurately extract information and insights from the documents and categorize and organize the documents themselves. \\n Highly successful natural language processing systems developed in the 1960s were SHRDLU, a natural language system operating in limited \"block worlds\" with a limited vocabulary, and ELIZA, a Rogerian psychotherapist simulation  written by Joseph Weizenbaum between 196\\n and 1966. Unaware of the thoughts or feelings of human, ELIZA sometimes offered surprisingly human interactions. If the \"patient\" crossed a very small database, ELIZA could give a general answer, for example answering \"My head hurts\"  \"Why do you say my head hurts?\". \\n 1970s: In the 1970s, many programmers began writing \"conceptual ontologies\" that structured real-world information into computer-understandable information. Examples include MARGIE (Schank, 1975), SAM (Cullingford, 1978), PAM (Wilensky, 1978), TaleSpin (Meehan, 1976), QUALM (Lehnert, 1977), Politics (Carbonell, 1979), and Plot Units (Lehner) . 1979). ). During this time, the first chatbots (eg PARRY) were written. \\n 1980s: The 1980s and early 1990s mark the heyday of the symbolic methods of NLP. Areas of focus at the time were rule-based parsing (e.g., the development of HPSG as a computational implementation of generative grammar), morphology (e.g., two-level morphology), semantics (e.g., Leski\\'s algorithm), reference (e.g., in central theory), and other areas of natural language understanding (eg, in rhetorical structure theory). Other lines of research  continued, such as the development of chatbots with Racter and Jabberwacky. An important development (which later led to the statistical turn in the 1990s) was the growing importance of quantitative assessment during this period. Operating systems were based on complex handwritten rules. However, since the late 1980s,  there was a revolution in natural language processing when machine learning algorithms were introduced to process language. This was due to both the continuous growth of computing power (see Moore\\'s Law) and the gradual weakening of the dominance of Chomsky\\'s linguistic theories  (e.g. transformational grammar), whose theoretical background discourages the  corpus linguistics underlying machine learning. for language processing. \\n 1990s: Many of the  early advances in NLP statistical methods  occurred in the field of machine translation, particularly through the work of IBM Research. These systems were able to take advantage of existing multilingual text corrections from the Canadian Parliament  and the European Union, resulting from laws that require all administrative procedures to be translated into all official languages \\u200b\\u200bof the respective administrative systems. However, most other systems depended on specially developed cases for the tasks of those systems, which was (and often continues to be) the main limitation to the success of those systems. As a result, there are many researched methods to learn more effectively  from limited  data. \\n 21st century: With the growth of the web since the mid-1990s, more and more raw (unlabeled) language data has become available. Therefore, research is increasingly focused on unsupervised and semi-supervised learning algorithms. Such algorithms can learn from data that has not been manually annotated with the desired responses, or by using a combination of annotated and unannotated data. In general, this task is much more complex than supervised learning and usually produces less accurate results for a given set of input data. However, there is a huge amount of unexplained data available (including, among other things, the entire content of the World Wide Web), which can often compensate for poor results if the time complexity of the algorithm used is low enough. be practical. \\n === Neural NLP (Today) === \\n In the 2010s, representational learning and deep neural network-style machine learning methods became commonplace in natural language processing. This popularity was due in part to a flood of results showing that such techniques can achieve state-of-the-art performance in many natural language tasks, such as language modeling and parsing. This is increasingly important in medicine and healthcare, where NLP helps analyze notes and text in electronic health records that would otherwise go unexamined to improve care. \\n == Methods: Rules, Statistics, Neural networks == \\n In the early days, many language processing systems were designed by symbolic methods, that is, by hand coding rules with  dictionary lookups: for example, by writing or. drawing grammars. heuristic rules of the stem. \\n The latest systems based on machine learning algorithms have many advantages over manually created rules: \\n The learning procedures used during machine learning automatically focus on the most common cases, while when you write rules by hand, it is often not at all clear where to try. . should be directed. \\n Machine learning procedures can  use  statistical inference algorithms to create models that are robust to unknown input (eg, containing words or structures  not  seen before) and  erroneous input (eg, misspelled  or  accidentally omitted words). In general, handling such inputs gracefully with handwritten rules, or more generally creating  handwritten rules that make soft decisions, is very difficult, error-prone, and time-consuming. \\n Systems based on automatic learning of rules can be refined simply by entering additional input data. However, systems based on handwritten rules can only be improved by increasing the complexity of the rules, which is a much more difficult task. In particular, there is a limit to the complexity of systems based on handwritten rules, after which the systems become increasingly unmanageable. However, adding data to machine learning systems  requires a corresponding increase in human hours, usually without a significant increase in the complexity of the annotation process. Despite the popularity of machine learning in NLP research, symbolic methods are still (2020)'"
            ],
            "application/vnd.google.colaboratory.intrinsic+json": {
              "type": "string"
            }
          },
          "metadata": {},
          "execution_count": 27
        }
      ]
    },
    {
      "cell_type": "code",
      "source": [
        "#convert to lowercase\n",
        "test_lower = test_data.lower()"
      ],
      "metadata": {
        "id": "280barFgbBLO"
      },
      "execution_count": null,
      "outputs": []
    },
    {
      "cell_type": "code",
      "source": [
        "#add preprocessing, remove punctuation and brackets\n",
        "test_text = re.sub(r\"\\[.*\\]|\\{.*\\}\", \"\", test_lower)\n",
        "test_text = re.sub(r'[^\\w\\s]', \"\", test_text)"
      ],
      "metadata": {
        "id": "uxQfyp3PbGn4"
      },
      "execution_count": null,
      "outputs": []
    },
    {
      "cell_type": "code",
      "source": [
        "#tokenize\n",
        "tokenized_text_test = word_tokenize(test_text)"
      ],
      "metadata": {
        "id": "69NlxB6ecOzZ"
      },
      "execution_count": null,
      "outputs": []
    },
    {
      "cell_type": "code",
      "source": [
        "#stopwords implementation\n",
        "tokenized_text_without_stopwords_test = [i for i in tokenized_text_test if not i in stop_words_nltk]"
      ],
      "metadata": {
        "id": "HW2sAcd2cJRN"
      },
      "execution_count": null,
      "outputs": []
    },
    {
      "cell_type": "code",
      "source": [
        "#stemming\n",
        "from nltk.stem import PorterStemmer\n",
        "from nltk.tokenize import word_tokenize\n",
        "stemmer= PorterStemmer()\n",
        "print(\"Before Stemming:\")\n",
        "print(tokenized_text_without_stopwords_test)\n",
        "print(\"After Stemming:\")\n",
        "lt = ' '\n",
        "for word in tokenized_text_without_stopwords_test:\n",
        "  lt = lt + stemmer.stem(word) + ' '\n",
        "print(lt)"
      ],
      "metadata": {
        "colab": {
          "base_uri": "https://localhost:8080/"
        },
        "id": "tOxMKWzWcwbB",
        "outputId": "eba33779-7f5c-486b-a701-83946c0a725a"
      },
      "execution_count": null,
      "outputs": [
        {
          "output_type": "stream",
          "name": "stdout",
          "text": [
            "Before Stemming:\n",
            "['natural', 'language', 'processing', 'nlp', 'branch', 'linguistics', 'computer', 'science', 'artificial', 'intelligence', 'deals', 'interaction', 'computers', 'human', 'language', 'specifically', 'programming', 'computers', 'process', 'analyze', 'large', 'amounts', 'natural', 'language', 'data', 'goal', 'computer', 'understand', 'content', 'documents', 'including', 'contextual', 'nuances', 'language', 'technology', 'accurately', 'extract', 'information', 'insights', 'documents', 'categorize', 'organize', 'documents', 'highly', 'successful', 'natural', 'language', 'processing', 'systems', 'developed', '1960s', 'shrdlu', 'natural', 'language', 'system', 'operating', 'limited', 'block', 'worlds', 'limited', 'vocabulary', 'eliza', 'rogerian', 'psychotherapist', 'simulation', 'written', 'joseph', 'weizenbaum', '196', '1966', 'unaware', 'thoughts', 'feelings', 'human', 'eliza', 'sometimes', 'offered', 'surprisingly', 'human', 'interactions', 'patient', 'crossed', 'small', 'database', 'eliza', 'could', 'give', 'general', 'answer', 'example', 'answering', 'head', 'hurts', 'say', 'head', 'hurts', '1970s', '1970s', 'many', 'programmers', 'began', 'writing', 'conceptual', 'ontologies', 'structured', 'realworld', 'information', 'computerunderstandable', 'information', 'examples', 'include', 'margie', 'schank', '1975', 'sam', 'cullingford', '1978', 'pam', 'wilensky', '1978', 'talespin', 'meehan', '1976', 'qualm', 'lehnert', '1977', 'politics', 'carbonell', '1979', 'plot', 'units', 'lehner', '1979', 'time', 'first', 'chatbots', 'eg', 'parry', 'written', '1980s', '1980s', 'early', '1990s', 'mark', 'heyday', 'symbolic', 'methods', 'nlp', 'areas', 'focus', 'time', 'rulebased', 'parsing', 'eg', 'development', 'hpsg', 'computational', 'implementation', 'generative', 'grammar', 'morphology', 'eg', 'twolevel', 'morphology', 'semantics', 'eg', 'leskis', 'algorithm', 'reference', 'eg', 'central', 'theory', 'areas', 'natural', 'language', 'understanding', 'eg', 'rhetorical', 'structure', 'theory', 'lines', 'research', 'continued', 'development', 'chatbots', 'racter', 'jabberwacky', 'important', 'development', 'later', 'led', 'statistical', 'turn', '1990s', 'growing', 'importance', 'quantitative', 'assessment', 'period', 'operating', 'systems', 'based', 'complex', 'handwritten', 'rules', 'however', 'since', 'late', '1980s', 'revolution', 'natural', 'language', 'processing', 'machine', 'learning', 'algorithms', 'introduced', 'process', 'language', 'due', 'continuous', 'growth', 'computing', 'power', 'see', 'moores', 'law', 'gradual', 'weakening', 'dominance', 'chomskys', 'linguistic', 'theories', 'eg', 'transformational', 'grammar', 'whose', 'theoretical', 'background', 'discourages', 'corpus', 'linguistics', 'underlying', 'machine', 'learning', 'language', 'processing', '1990s', 'many', 'early', 'advances', 'nlp', 'statistical', 'methods', 'occurred', 'field', 'machine', 'translation', 'particularly', 'work', 'ibm', 'research', 'systems', 'able', 'take', 'advantage', 'existing', 'multilingual', 'text', 'corrections', 'canadian', 'parliament', 'european', 'union', 'resulting', 'laws', 'require', 'administrative', 'procedures', 'translated', 'official', 'languages', 'respective', 'administrative', 'systems', 'however', 'systems', 'depended', 'specially', 'developed', 'cases', 'tasks', 'systems', 'often', 'continues', 'main', 'limitation', 'success', 'systems', 'result', 'many', 'researched', 'methods', 'learn', 'effectively', 'limited', 'data', '21st', 'century', 'growth', 'web', 'since', 'mid1990s', 'raw', 'unlabeled', 'language', 'data', 'become', 'available', 'therefore', 'research', 'increasingly', 'focused', 'unsupervised', 'semisupervised', 'learning', 'algorithms', 'algorithms', 'learn', 'data', 'manually', 'annotated', 'desired', 'responses', 'using', 'combination', 'annotated', 'unannotated', 'data', 'general', 'task', 'much', 'complex', 'supervised', 'learning', 'usually', 'produces', 'less', 'accurate', 'results', 'given', 'set', 'input', 'data', 'however', 'huge', 'amount', 'unexplained', 'data', 'available', 'including', 'among', 'things', 'entire', 'content', 'world', 'wide', 'web', 'often', 'compensate', 'poor', 'results', 'time', 'complexity', 'algorithm', 'used', 'low', 'enough', 'practical', 'neural', 'nlp', 'today', '2010s', 'representational', 'learning', 'deep', 'neural', 'networkstyle', 'machine', 'learning', 'methods', 'became', 'commonplace', 'natural', 'language', 'processing', 'popularity', 'due', 'part', 'flood', 'results', 'showing', 'techniques', 'achieve', 'stateoftheart', 'performance', 'many', 'natural', 'language', 'tasks', 'language', 'modeling', 'parsing', 'increasingly', 'important', 'medicine', 'healthcare', 'nlp', 'helps', 'analyze', 'notes', 'text', 'electronic', 'health', 'records', 'would', 'otherwise', 'go', 'unexamined', 'improve', 'care', 'methods', 'rules', 'statistics', 'neural', 'networks', 'early', 'days', 'many', 'language', 'processing', 'systems', 'designed', 'symbolic', 'methods', 'hand', 'coding', 'rules', 'dictionary', 'lookups', 'example', 'writing', 'drawing', 'grammars', 'heuristic', 'rules', 'stem', 'latest', 'systems', 'based', 'machine', 'learning', 'algorithms', 'many', 'advantages', 'manually', 'created', 'rules', 'learning', 'procedures', 'used', 'machine', 'learning', 'automatically', 'focus', 'common', 'cases', 'write', 'rules', 'hand', 'often', 'clear', 'try', 'directed', 'machine', 'learning', 'procedures', 'use', 'statistical', 'inference', 'algorithms', 'create', 'models', 'robust', 'unknown', 'input', 'eg', 'containing', 'words', 'structures', 'seen', 'erroneous', 'input', 'eg', 'misspelled', 'accidentally', 'omitted', 'words', 'general', 'handling', 'inputs', 'gracefully', 'handwritten', 'rules', 'generally', 'creating', 'handwritten', 'rules', 'make', 'soft', 'decisions', 'difficult', 'errorprone', 'timeconsuming', 'systems', 'based', 'automatic', 'learning', 'rules', 'refined', 'simply', 'entering', 'additional', 'input', 'data', 'however', 'systems', 'based', 'handwritten', 'rules', 'improved', 'increasing', 'complexity', 'rules', 'much', 'difficult', 'task', 'particular', 'limit', 'complexity', 'systems', 'based', 'handwritten', 'rules', 'systems', 'become', 'increasingly', 'unmanageable', 'however', 'adding', 'data', 'machine', 'learning', 'systems', 'requires', 'corresponding', 'increase', 'human', 'hours', 'usually', 'without', 'significant', 'increase', 'complexity', 'annotation', 'process', 'despite', 'popularity', 'machine', 'learning', 'nlp', 'research', 'symbolic', 'methods', 'still', '2020']\n",
            "After Stemming:\n",
            " natur languag process nlp branch linguist comput scienc artifici intellig deal interact comput human languag specif program comput process analyz larg amount natur languag data goal comput understand content document includ contextu nuanc languag technolog accur extract inform insight document categor organ document highli success natur languag process system develop 1960 shrdlu natur languag system oper limit block world limit vocabulari eliza rogerian psychotherapist simul written joseph weizenbaum 196 1966 unawar thought feel human eliza sometim offer surprisingli human interact patient cross small databas eliza could give gener answer exampl answer head hurt say head hurt 1970 1970 mani programm began write conceptu ontolog structur realworld inform computerunderstand inform exampl includ margi schank 1975 sam cullingford 1978 pam wilenski 1978 talespin meehan 1976 qualm lehnert 1977 polit carbonel 1979 plot unit lehner 1979 time first chatbot eg parri written 1980 1980 earli 1990 mark heyday symbol method nlp area focu time rulebas pars eg develop hpsg comput implement gener grammar morpholog eg twolevel morpholog semant eg leski algorithm refer eg central theori area natur languag understand eg rhetor structur theori line research continu develop chatbot racter jabberwacki import develop later led statist turn 1990 grow import quantit assess period oper system base complex handwritten rule howev sinc late 1980 revolut natur languag process machin learn algorithm introduc process languag due continu growth comput power see moor law gradual weaken domin chomski linguist theori eg transform grammar whose theoret background discourag corpu linguist underli machin learn languag process 1990 mani earli advanc nlp statist method occur field machin translat particularli work ibm research system abl take advantag exist multilingu text correct canadian parliament european union result law requir administr procedur translat offici languag respect administr system howev system depend special develop case task system often continu main limit success system result mani research method learn effect limit data 21st centuri growth web sinc mid1990 raw unlabel languag data becom avail therefor research increasingli focus unsupervis semisupervis learn algorithm algorithm learn data manual annot desir respons use combin annot unannot data gener task much complex supervis learn usual produc less accur result given set input data howev huge amount unexplain data avail includ among thing entir content world wide web often compens poor result time complex algorithm use low enough practic neural nlp today 2010 represent learn deep neural networkstyl machin learn method becam commonplac natur languag process popular due part flood result show techniqu achiev stateoftheart perform mani natur languag task languag model pars increasingli import medicin healthcar nlp help analyz note text electron health record would otherwis go unexamin improv care method rule statist neural network earli day mani languag process system design symbol method hand code rule dictionari lookup exampl write draw grammar heurist rule stem latest system base machin learn algorithm mani advantag manual creat rule learn procedur use machin learn automat focu common case write rule hand often clear tri direct machin learn procedur use statist infer algorithm creat model robust unknown input eg contain word structur seen erron input eg misspel accident omit word gener handl input grace handwritten rule gener creat handwritten rule make soft decis difficult errorpron timeconsum system base automat learn rule refin simpli enter addit input data howev system base handwritten rule improv increas complex rule much difficult task particular limit complex system base handwritten rule system becom increasingli unmanag howev ad data machin learn system requir correspond increas human hour usual without signific increas complex annot process despit popular machin learn nlp research symbol method still 2020 \n"
          ]
        }
      ]
    },
    {
      "cell_type": "markdown",
      "source": [
        "### NGRAM model"
      ],
      "metadata": {
        "id": "qsoG6Uw5RYqi"
      }
    },
    {
      "cell_type": "code",
      "source": [
        "#ngrams\n",
        "n = 3\n",
        "\n",
        "ngrams = list(everygrams(training_data, max_len=n))\n",
        "print(\"Number of ngrams:\", len(ngrams))"
      ],
      "metadata": {
        "id": "A6HNqhqYTYYC",
        "colab": {
          "base_uri": "https://localhost:8080/"
        },
        "outputId": "68861bcc-0b26-4703-f9b8-e5e34e81bcc4"
      },
      "execution_count": null,
      "outputs": [
        {
          "output_type": "stream",
          "name": "stdout",
          "text": [
            "Number of ngrams: 58950\n"
          ]
        }
      ]
    },
    {
      "cell_type": "code",
      "source": [
        "from nltk.lm import WittenBellInterpolated"
      ],
      "metadata": {
        "id": "8e5vNflkZp7e"
      },
      "execution_count": null,
      "outputs": []
    },
    {
      "cell_type": "code",
      "source": [
        "#ngram language model\n",
        "model = WittenBellInterpolated(n)\n",
        "model.fit([ngrams], vocabulary_text=training_data)\n",
        "print(model.vocab)"
      ],
      "metadata": {
        "id": "Dqp-Sbw0aj9z",
        "colab": {
          "base_uri": "https://localhost:8080/"
        },
        "outputId": "46dca915-599e-43be-9ba4-adfe258417d5"
      },
      "execution_count": null,
      "outputs": [
        {
          "output_type": "stream",
          "name": "stdout",
          "text": [
            "<Vocabulary with cutoff=1 unk_label='<UNK>' and 38 items>\n"
          ]
        }
      ]
    },
    {
      "cell_type": "code",
      "source": [
        "len(l)"
      ],
      "metadata": {
        "id": "u2jfC9BIdGf-",
        "colab": {
          "base_uri": "https://localhost:8080/"
        },
        "outputId": "e9be15e7-56a9-4ebd-d7cb-b1a3344580cd"
      },
      "execution_count": null,
      "outputs": [
        {
          "output_type": "execute_result",
          "data": {
            "text/plain": [
              "19651"
            ]
          },
          "metadata": {},
          "execution_count": 36
        }
      ]
    },
    {
      "cell_type": "code",
      "source": [
        "len(lt)"
      ],
      "metadata": {
        "id": "tyedKbscdE38",
        "colab": {
          "base_uri": "https://localhost:8080/"
        },
        "outputId": "1f773f58-610a-4878-ea72-05178ef0dba8"
      },
      "execution_count": null,
      "outputs": [
        {
          "output_type": "execute_result",
          "data": {
            "text/plain": [
              "4022"
            ]
          },
          "metadata": {},
          "execution_count": 37
        }
      ]
    },
    {
      "cell_type": "code",
      "source": [
        "# assign scores\n",
        "scores = []\n",
        "for i, item in enumerate(lt[n-1:]):\n",
        "    s = model.score(item, lt[i:i+n-1])\n",
        "    scores.append(s)"
      ],
      "metadata": {
        "id": "rvkQc5z5dR2j"
      },
      "execution_count": null,
      "outputs": []
    },
    {
      "cell_type": "code",
      "source": [
        "scores_np = np.array(scores)"
      ],
      "metadata": {
        "id": "Rb1sndVBdeMR"
      },
      "execution_count": null,
      "outputs": []
    },
    {
      "cell_type": "code",
      "source": [
        "scores_np"
      ],
      "metadata": {
        "colab": {
          "base_uri": "https://localhost:8080/"
        },
        "id": "5Gred9bOdmob",
        "outputId": "7a288b3a-5188-46c6-8acc-aa52c8a872f1"
      },
      "execution_count": null,
      "outputs": [
        {
          "output_type": "execute_result",
          "data": {
            "text/plain": [
              "array([0.07124319, 0.06930945, 0.03414584, ..., 0.00183197, 0.00371482,\n",
              "       0.14543789])"
            ]
          },
          "metadata": {},
          "execution_count": 40
        }
      ]
    },
    {
      "cell_type": "code",
      "source": [
        "scoresavg_np = np.average(scores_np)"
      ],
      "metadata": {
        "id": "k4_MAs6H_yf6"
      },
      "execution_count": null,
      "outputs": []
    },
    {
      "cell_type": "code",
      "source": [
        "scoresavg_np"
      ],
      "metadata": {
        "colab": {
          "base_uri": "https://localhost:8080/"
        },
        "id": "lnrA0q9S_I1a",
        "outputId": "c3cc7cf1-f4ee-450d-9059-24ee3421e8b4"
      },
      "execution_count": null,
      "outputs": [
        {
          "output_type": "execute_result",
          "data": {
            "text/plain": [
              "0.06541226491834755"
            ]
          },
          "metadata": {},
          "execution_count": 46
        }
      ]
    },
    {
      "cell_type": "markdown",
      "source": [
        "### Visualising results"
      ],
      "metadata": {
        "id": "0ddgov3-Rd8J"
      }
    },
    {
      "cell_type": "code",
      "source": [
        "# set width and height\n",
        "width = 8\n",
        "height = np.ceil(len(lt)/width).astype(\"int32\")\n",
        "print(\"Width, Height:\", width, \",\", height)"
      ],
      "metadata": {
        "id": "GneuGyD6fNFN"
      },
      "execution_count": null,
      "outputs": []
    },
    {
      "cell_type": "code",
      "source": [
        "# copy scores to rectangular blank array\n",
        "a = np.zeros(width*height)\n",
        "a[:len(scores_np)] = scores_np\n",
        "diff = len(a) - len(scores_np)"
      ],
      "metadata": {
        "id": "VytS9WuIfYJZ"
      },
      "execution_count": null,
      "outputs": []
    },
    {
      "cell_type": "code",
      "source": [
        "from scipy.ndimage import gaussian_filter"
      ],
      "metadata": {
        "id": "QMSZQol_gXuk"
      },
      "execution_count": null,
      "outputs": []
    },
    {
      "cell_type": "code",
      "source": [
        "# apply gaussian smoothing for aesthetics\n",
        "a = gaussian_filter(a, sigma=1.0)\n",
        "\n",
        "# reshape to fit rectangle\n",
        "a = a.reshape(-1, width)"
      ],
      "metadata": {
        "id": "iVIgAXd6gTM0"
      },
      "execution_count": null,
      "outputs": []
    },
    {
      "cell_type": "code",
      "source": [
        "# format labels\n",
        "labels = [\" \".join(lt[i:i+width]) for i in range(n-1, len(lt), width)]\n",
        "labels_individual = [x.split() for x in labels]\n",
        "labels_individual[-1] += [\"\"]*diff\n",
        "labels = [f\"{x:60.60}\" for x in labels]"
      ],
      "metadata": {
        "id": "VbfH6udXfiHm"
      },
      "execution_count": null,
      "outputs": []
    },
    {
      "cell_type": "code",
      "source": [
        "import plotly.graph_objects as go"
      ],
      "metadata": {
        "id": "WrfADNywfpoy"
      },
      "execution_count": null,
      "outputs": []
    },
    {
      "cell_type": "code",
      "source": [
        "# create heatmap\n",
        "fig = go.Figure(data=go.Heatmap(\n",
        "                z=a, x0=0, dx=1,\n",
        "                y=labels, zmin=0, zmax=1,\n",
        "                customdata=labels_individual,\n",
        "                hovertemplate='%{customdata} <br><b>Score:%{z:.3f}<extra></extra>',\n",
        "                colorscale=\"burg\"))\n",
        "fig.update_layout({\"height\":height*28, \"width\":1000, \"font\":{\"family\":\"Courier New\"}})\n",
        "fig['layout']['yaxis']['autorange'] = \"reversed\"\n",
        "fig.show()"
      ],
      "metadata": {
        "id": "mpzXopfgfjiH"
      },
      "execution_count": null,
      "outputs": []
    },
    {
      "cell_type": "markdown",
      "source": [
        "### Using Word embedding, TF-IDF, Cosine Distance"
      ],
      "metadata": {
        "id": "Ut4JCxb9wTE-"
      }
    },
    {
      "cell_type": "code",
      "source": [
        "dataset = nltk.sent_tokenize(train_data)\n",
        "for i in range(len(dataset)):\n",
        "    dataset[i] = dataset[i].lower()\n",
        "    dataset[i] = re.sub(r'\\W', ' ', dataset[i])\n",
        "    dataset[i] = re.sub(r'\\s+', ' ', dataset[i])"
      ],
      "metadata": {
        "id": "flCve4ifOotQ"
      },
      "execution_count": null,
      "outputs": []
    },
    {
      "cell_type": "code",
      "source": [
        "# Creating the Bag of Words model\n",
        "word2count = {}\n",
        "for data in dataset:\n",
        "    words = nltk.word_tokenize(data)\n",
        "    for word in words:\n",
        "        if word not in word2count.keys():\n",
        "            word2count[word] = 1\n",
        "        else:\n",
        "            word2count[word] += 1"
      ],
      "metadata": {
        "id": "tRi44MtmSfth"
      },
      "execution_count": null,
      "outputs": []
    },
    {
      "cell_type": "code",
      "source": [
        "import heapq\n",
        "freq_words = heapq.nlargest(100, word2count, key=word2count.get)"
      ],
      "metadata": {
        "id": "2zm0qREjSkiD"
      },
      "execution_count": null,
      "outputs": []
    },
    {
      "cell_type": "code",
      "source": [
        "XL = []\n",
        "for data in dataset:\n",
        "    vector = []\n",
        "    for word in freq_words:\n",
        "        if word in nltk.word_tokenize(data):\n",
        "            vector.append(1)\n",
        "        else:\n",
        "            vector.append(0)\n",
        "    XL.append(vector)\n",
        "XL = np.asarray(XL)"
      ],
      "metadata": {
        "id": "sOMfnb32SndO"
      },
      "execution_count": null,
      "outputs": []
    },
    {
      "cell_type": "code",
      "source": [
        "XL"
      ],
      "metadata": {
        "colab": {
          "base_uri": "https://localhost:8080/"
        },
        "id": "7Sau4sGuSwje",
        "outputId": "dfb7a362-9c96-4438-883e-4e59ee857ce8"
      },
      "execution_count": null,
      "outputs": [
        {
          "output_type": "execute_result",
          "data": {
            "text/plain": [
              "array([[1, 1, 1, ..., 0, 1, 0],\n",
              "       [1, 1, 1, ..., 0, 0, 0],\n",
              "       [1, 0, 0, ..., 0, 0, 0],\n",
              "       ...,\n",
              "       [1, 1, 0, ..., 0, 0, 0],\n",
              "       [0, 1, 0, ..., 0, 0, 0],\n",
              "       [0, 0, 0, ..., 0, 0, 0]])"
            ]
          },
          "metadata": {},
          "execution_count": 51
        }
      ]
    },
    {
      "cell_type": "code",
      "source": [
        "pip install tflearn"
      ],
      "metadata": {
        "colab": {
          "base_uri": "https://localhost:8080/"
        },
        "id": "uo4bRbHeTsSW",
        "outputId": "4205821b-46dc-40ef-9cbc-411fb0de0591"
      },
      "execution_count": null,
      "outputs": [
        {
          "output_type": "stream",
          "name": "stdout",
          "text": [
            "Looking in indexes: https://pypi.org/simple, https://us-python.pkg.dev/colab-wheels/public/simple/\n",
            "Collecting tflearn\n",
            "  Downloading tflearn-0.5.0.tar.gz (107 kB)\n",
            "\u001b[K     |████████████████████████████████| 107 kB 13.3 MB/s \n",
            "\u001b[?25hRequirement already satisfied: numpy in /usr/local/lib/python3.7/dist-packages (from tflearn) (1.21.6)\n",
            "Requirement already satisfied: six in /usr/local/lib/python3.7/dist-packages (from tflearn) (1.15.0)\n",
            "Requirement already satisfied: Pillow in /usr/local/lib/python3.7/dist-packages (from tflearn) (7.1.2)\n",
            "Building wheels for collected packages: tflearn\n",
            "  Building wheel for tflearn (setup.py) ... \u001b[?25l\u001b[?25hdone\n",
            "  Created wheel for tflearn: filename=tflearn-0.5.0-py3-none-any.whl size=127299 sha256=40a4a58b8e88d48c12355650826e01ca8104599c49a67f9a67d719dc605a6080\n",
            "  Stored in directory: /root/.cache/pip/wheels/5f/14/2e/1d8e28cc47a5a931a2fb82438c9e37ef9246cc6a3774520271\n",
            "Successfully built tflearn\n",
            "Installing collected packages: tflearn\n",
            "Successfully installed tflearn-0.5.0\n"
          ]
        }
      ]
    },
    {
      "cell_type": "code",
      "source": [
        "import tflearn as tf"
      ],
      "metadata": {
        "colab": {
          "base_uri": "https://localhost:8080/"
        },
        "id": "21FBQ2s3TkGP",
        "outputId": "2836dced-73e3-46fe-cb49-10950004507a"
      },
      "execution_count": null,
      "outputs": [
        {
          "output_type": "stream",
          "name": "stderr",
          "text": [
            "WARNING:tensorflow:From /usr/local/lib/python3.7/dist-packages/tensorflow/python/compat/v2_compat.py:107: disable_resource_variables (from tensorflow.python.ops.variable_scope) is deprecated and will be removed in a future version.\n",
            "Instructions for updating:\n",
            "non-resource variables are not supported in the long term\n"
          ]
        }
      ]
    },
    {
      "cell_type": "code",
      "source": [
        "import os\n",
        "from sklearn.feature_extraction.text import TfidfVectorizer\n",
        "from sklearn.metrics.pairwise import cosine_similarity"
      ],
      "metadata": {
        "id": "Hct6VKAAXJrI"
      },
      "execution_count": null,
      "outputs": []
    },
    {
      "cell_type": "code",
      "source": [
        "ls = l"
      ],
      "metadata": {
        "id": "1-mahWP8ajIu"
      },
      "execution_count": null,
      "outputs": []
    },
    {
      "cell_type": "code",
      "source": [
        "with open('testprocessed.txt', 'w') as f:\n",
        "  f.write(train_data)\n",
        "\n",
        "files.download('testprocessed.txt')"
      ],
      "metadata": {
        "colab": {
          "base_uri": "https://localhost:8080/",
          "height": 17
        },
        "id": "Ih9StvMRZCov",
        "outputId": "1d342e93-3178-43ac-bb3f-28345ca2eb08"
      },
      "execution_count": null,
      "outputs": [
        {
          "output_type": "display_data",
          "data": {
            "text/plain": [
              "<IPython.core.display.Javascript object>"
            ],
            "application/javascript": [
              "\n",
              "    async function download(id, filename, size) {\n",
              "      if (!google.colab.kernel.accessAllowed) {\n",
              "        return;\n",
              "      }\n",
              "      const div = document.createElement('div');\n",
              "      const label = document.createElement('label');\n",
              "      label.textContent = `Downloading \"${filename}\": `;\n",
              "      div.appendChild(label);\n",
              "      const progress = document.createElement('progress');\n",
              "      progress.max = size;\n",
              "      div.appendChild(progress);\n",
              "      document.body.appendChild(div);\n",
              "\n",
              "      const buffers = [];\n",
              "      let downloaded = 0;\n",
              "\n",
              "      const channel = await google.colab.kernel.comms.open(id);\n",
              "      // Send a message to notify the kernel that we're ready.\n",
              "      channel.send({})\n",
              "\n",
              "      for await (const message of channel.messages) {\n",
              "        // Send a message to notify the kernel that we're ready.\n",
              "        channel.send({})\n",
              "        if (message.buffers) {\n",
              "          for (const buffer of message.buffers) {\n",
              "            buffers.push(buffer);\n",
              "            downloaded += buffer.byteLength;\n",
              "            progress.value = downloaded;\n",
              "          }\n",
              "        }\n",
              "      }\n",
              "      const blob = new Blob(buffers, {type: 'application/binary'});\n",
              "      const a = document.createElement('a');\n",
              "      a.href = window.URL.createObjectURL(blob);\n",
              "      a.download = filename;\n",
              "      div.appendChild(a);\n",
              "      a.click();\n",
              "      div.remove();\n",
              "    }\n",
              "  "
            ]
          },
          "metadata": {}
        },
        {
          "output_type": "display_data",
          "data": {
            "text/plain": [
              "<IPython.core.display.Javascript object>"
            ],
            "application/javascript": [
              "download(\"download_247fcdcf-f3a1-45ed-92cb-b38559da3fe3\", \"testprocessed.txt\", 33171)"
            ]
          },
          "metadata": {}
        }
      ]
    },
    {
      "cell_type": "code",
      "source": [
        "with open('trprocessed.txt', 'w') as f:\n",
        "  f.write(test_data)\n",
        "\n",
        "files.download('trprocessed.txt')"
      ],
      "metadata": {
        "colab": {
          "base_uri": "https://localhost:8080/",
          "height": 17
        },
        "id": "eQfJ4iLkal7O",
        "outputId": "3407b797-cc75-40b9-cd42-fccbfc516598"
      },
      "execution_count": null,
      "outputs": [
        {
          "output_type": "display_data",
          "data": {
            "text/plain": [
              "<IPython.core.display.Javascript object>"
            ],
            "application/javascript": [
              "\n",
              "    async function download(id, filename, size) {\n",
              "      if (!google.colab.kernel.accessAllowed) {\n",
              "        return;\n",
              "      }\n",
              "      const div = document.createElement('div');\n",
              "      const label = document.createElement('label');\n",
              "      label.textContent = `Downloading \"${filename}\": `;\n",
              "      div.appendChild(label);\n",
              "      const progress = document.createElement('progress');\n",
              "      progress.max = size;\n",
              "      div.appendChild(progress);\n",
              "      document.body.appendChild(div);\n",
              "\n",
              "      const buffers = [];\n",
              "      let downloaded = 0;\n",
              "\n",
              "      const channel = await google.colab.kernel.comms.open(id);\n",
              "      // Send a message to notify the kernel that we're ready.\n",
              "      channel.send({})\n",
              "\n",
              "      for await (const message of channel.messages) {\n",
              "        // Send a message to notify the kernel that we're ready.\n",
              "        channel.send({})\n",
              "        if (message.buffers) {\n",
              "          for (const buffer of message.buffers) {\n",
              "            buffers.push(buffer);\n",
              "            downloaded += buffer.byteLength;\n",
              "            progress.value = downloaded;\n",
              "          }\n",
              "        }\n",
              "      }\n",
              "      const blob = new Blob(buffers, {type: 'application/binary'});\n",
              "      const a = document.createElement('a');\n",
              "      a.href = window.URL.createObjectURL(blob);\n",
              "      a.download = filename;\n",
              "      div.appendChild(a);\n",
              "      a.click();\n",
              "      div.remove();\n",
              "    }\n",
              "  "
            ]
          },
          "metadata": {}
        },
        {
          "output_type": "display_data",
          "data": {
            "text/plain": [
              "<IPython.core.display.Javascript object>"
            ],
            "application/javascript": [
              "download(\"download_0bcb88bf-2f00-46db-bf60-ca1acf219c33\", \"trprocessed.txt\", 6477)"
            ]
          },
          "metadata": {}
        }
      ]
    },
    {
      "cell_type": "code",
      "source": [
        "obj_files = [doc for doc in os.listdir() if doc.endswith('.txt')]"
      ],
      "metadata": {
        "id": "qt9dLL4RYFVs"
      },
      "execution_count": null,
      "outputs": []
    },
    {
      "cell_type": "code",
      "source": [
        "vectorize = lambda Text: TfidfVectorizer().fit_transform(Text).toarray()\n",
        "similarity = lambda doc1, doc2: cosine_similarity([doc1, doc2])"
      ],
      "metadata": {
        "id": "F_yBoUPKXG1G"
      },
      "execution_count": null,
      "outputs": []
    },
    {
      "cell_type": "code",
      "source": [
        "obj_notes =[open(File).read() for File in  obj_files]"
      ],
      "metadata": {
        "id": "leserimuYUKA"
      },
      "execution_count": null,
      "outputs": []
    },
    {
      "cell_type": "code",
      "source": [
        "vectors = vectorize(obj_notes)\n",
        "s_vectors = list(zip(obj_files, vectors))"
      ],
      "metadata": {
        "id": "Z0-y8nNrXkXx"
      },
      "execution_count": null,
      "outputs": []
    },
    {
      "cell_type": "code",
      "source": [
        "def check_plagiarism():\n",
        "    plagiarism_results = set()\n",
        "    global s_vectors\n",
        "    for obj_a, text_vector_a in s_vectors:\n",
        "        new_vectors =s_vectors.copy()\n",
        "        current_index = new_vectors.index((obj_a, text_vector_a))\n",
        "        del new_vectors[current_index]\n",
        "        for obj_b , text_vector_b in new_vectors:\n",
        "            sim_score = similarity(text_vector_a, text_vector_b)[0][1]\n",
        "            obj_pair = sorted((obj_a, obj_b))\n",
        "            score = (obj_pair[0], obj_pair[1],sim_score)\n",
        "            plagiarism_results.add(score)\n",
        "    return plagiarism_results\n",
        "\n",
        "for data in check_plagiarism():\n",
        "    print(data)"
      ],
      "metadata": {
        "colab": {
          "base_uri": "https://localhost:8080/"
        },
        "id": "zG9lyQreXsK6",
        "outputId": "b373ba1a-c075-4f27-90d5-c42c90f90d94"
      },
      "execution_count": null,
      "outputs": [
        {
          "output_type": "stream",
          "name": "stdout",
          "text": [
            "('testprocessed.txt', 'trprocessed.txt', 0.8943503977222678)\n",
            "('examplenlpcutphrased.txt', 'trprocessed.txt', 0.9999999999999996)\n",
            "('examplenlp.txt', 'testprocessed.txt', 1.0000000000000038)\n",
            "('examplenlp.txt', 'examplenlpcutphrased.txt', 0.8943503977222678)\n",
            "('examplenlp.txt', 'trprocessed.txt', 0.8943503977222678)\n",
            "('examplenlpcutphrased.txt', 'testprocessed.txt', 0.8943503977222678)\n"
          ]
        }
      ]
    }
  ]
}